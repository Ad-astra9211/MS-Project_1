{
 "cells": [
  {
   "cell_type": "code",
   "execution_count": 0,
   "metadata": {
    "application/vnd.databricks.v1+cell": {
     "cellMetadata": {
      "byteLimit": 2048000,
      "rowLimit": 10000
     },
     "inputWidgets": {},
     "nuid": "4aac56bc-3d50-4d57-a1f0-f2dbf3a63d6c",
     "showTitle": false,
     "tableResultSettingsMap": {},
     "title": ""
    }
   },
   "outputs": [],
   "source": [
    "# NVIDIA GPU 정보 확인\n",
    "!nvidia-smi"
   ]
  },
  {
   "cell_type": "code",
   "execution_count": 0,
   "metadata": {
    "application/vnd.databricks.v1+cell": {
     "cellMetadata": {
      "byteLimit": 2048000,
      "rowLimit": 10000
     },
     "inputWidgets": {},
     "nuid": "08d06b70-62f9-465c-8a6f-6cb25366fe74",
     "showTitle": false,
     "tableResultSettingsMap": {},
     "title": ""
    }
   },
   "outputs": [],
   "source": [
    "# 먼저 설치 (클러스터 재시작 시 휘발될 수 있으므로 클러스터 라이브러리로 설치 권장)\n",
    "# %pip install pynvml\n",
    "\n",
    "# NVML_TEMP_GPU 상수를 pynvml에서 직접 임포트합니다.\n",
    "from pynvml import * # 또는 from pynvml import nvmlInit, nvmlDeviceGetCount, nvmlDeviceGetHandleByIndex, nvmlDeviceGetName, nvmlDeviceGetUtilizationRates, nvmlDeviceGetMemoryInfo, nvmlDeviceGetTemperature, NVML_TEMP_GPU, NVMLError, nvmlShutdown\n",
    "\n",
    "try:\n",
    "    nvmlInit()\n",
    "    deviceCount = nvmlDeviceGetCount()\n",
    "    print(f\"발견된 GPU 개수: {deviceCount}\")\n",
    "\n",
    "    for i in range(deviceCount):\n",
    "        handle = nvmlDeviceGetHandleByIndex(i)\n",
    "        deviceName = nvmlDeviceGetName(handle)\n",
    "        utilization = nvmlDeviceGetUtilizationRates(handle)\n",
    "        memory = nvmlDeviceGetMemoryInfo(handle)\n",
    "        \n",
    "        # NVML_TEMP_GPU 상수를 사용하여 온도 정보를 가져옵니다.\n",
    "        #temperature = nvmlDeviceGetTemperature(handle, NVML_TEMP_GPU)\n",
    "\n",
    "        #print(f\"\\n--- GPU {i}: {deviceName.decode('utf-8')} ---\")\n",
    "        print(f\"  활용률: {utilization.gpu}%\")\n",
    "        print(f\"  메모리 사용률: {memory.used / memory.total * 100:.2f}% ({memory.used / (1024**3):.2f} / {memory.total / (1024**3):.2f} GB)\")\n",
    "        #print(f\"  온도: {temperature} C\")\n",
    "\n",
    "except NVMLError as error:\n",
    "    print(f\"NVML 에러: {error}\")\n",
    "finally:\n",
    "    try:\n",
    "        nvmlShutdown()\n",
    "    except NVMLError as error:\n",
    "        print(f\"NVML 종료 에러: {error}\")\n"
   ]
  },
  {
   "cell_type": "code",
   "execution_count": 0,
   "metadata": {
    "application/vnd.databricks.v1+cell": {
     "cellMetadata": {
      "byteLimit": 2048000,
      "rowLimit": 10000
     },
     "inputWidgets": {},
     "nuid": "99df326b-f699-44e7-9880-431794dbc127",
     "showTitle": false,
     "tableResultSettingsMap": {},
     "title": ""
    }
   },
   "outputs": [],
   "source": [
    "# CUDA 버전 확인\n",
    "!nvcc --version\n",
    "\n",
    "# 또는 Python에서\n",
    "import torch\n",
    "print(f\"CUDA available: {torch.cuda.is_available()}\")\n",
    "print(f\"CUDA version: {torch.version.cuda}\")\n",
    "print(f\"GPU count: {torch.cuda.device_count()}\")\n",
    "if torch.cuda.is_available():\n",
    "    print(f\"GPU name: {torch.cuda.get_device_name(0)}\")"
   ]
  },
  {
   "cell_type": "code",
   "execution_count": 0,
   "metadata": {
    "application/vnd.databricks.v1+cell": {
     "cellMetadata": {
      "byteLimit": 2048000,
      "rowLimit": 10000
     },
     "inputWidgets": {},
     "nuid": "1d5b3295-aeae-494f-9681-0ec858cccdd3",
     "showTitle": false,
     "tableResultSettingsMap": {},
     "title": ""
    }
   },
   "outputs": [],
   "source": [
    "# cuDF 설치 및 작동 확인\n",
    "try:\n",
    "    import cudf\n",
    "    import cuml\n",
    "    print(\"✅ RAPIDS cuDF/cuML 사용 가능\")\n",
    "    \n",
    "    # 간단한 GPU 연산 테스트\n",
    "    test_df = cudf.DataFrame({'a': [1, 2, 3], 'b': [4, 5, 6]})\n",
    "    print(f\"cuDF 테스트: {test_df.sum()}\")\n",
    "    \n",
    "except ImportError as e:\n",
    "    print(f\"❌ RAPIDS 라이브러리 없음: {e}\")\n",
    "    print(\"설치 필요: %pip install cudf-cu11 cuml-cu11\")"
   ]
  },
  {
   "cell_type": "code",
   "execution_count": 0,
   "metadata": {
    "application/vnd.databricks.v1+cell": {
     "cellMetadata": {
      "byteLimit": 2048000,
      "rowLimit": 10000
     },
     "inputWidgets": {},
     "nuid": "2d11e40c-32ed-499f-ab83-2a9b1db53458",
     "showTitle": false,
     "tableResultSettingsMap": {},
     "title": ""
    }
   },
   "outputs": [],
   "source": [
    "import cudf\n",
    "gdf = cudf.DataFrame({\"a\":[1,2,3],\"b\":[4,5,6]})\n",
    "print(gdf)\n"
   ]
  },
  {
   "cell_type": "code",
   "execution_count": 0,
   "metadata": {
    "application/vnd.databricks.v1+cell": {
     "cellMetadata": {
      "byteLimit": 2048000,
      "rowLimit": 10000
     },
     "inputWidgets": {},
     "nuid": "26614904-95f1-410c-9363-cdcf4a60f962",
     "showTitle": false,
     "tableResultSettingsMap": {},
     "title": ""
    }
   },
   "outputs": [],
   "source": [
    "# 기본 설치된 GPU 라이브러리 확인\n",
    "import pkg_resources\n",
    "gpu_packages = [pkg for pkg in pkg_resources.working_set \n",
    "                if any(keyword in pkg.project_name.lower() \n",
    "                      for keyword in ['cuda', 'cudf', 'cuml', 'rapids'])]\n",
    "\n",
    "print(\"설치된 GPU 관련 패키지:\")\n",
    "for pkg in gpu_packages:\n",
    "    print(f\"  {pkg.project_name}: {pkg.version}\")"
   ]
  },
  {
   "cell_type": "code",
   "execution_count": 0,
   "metadata": {
    "application/vnd.databricks.v1+cell": {
     "cellMetadata": {
      "byteLimit": 2048000,
      "rowLimit": 10000
     },
     "inputWidgets": {},
     "nuid": "0b77d413-62d6-4c1f-a5b0-ccc2ebe93a1b",
     "showTitle": false,
     "tableResultSettingsMap": {},
     "title": ""
    }
   },
   "outputs": [],
   "source": [
    "# 현재 Spark 설정 확인\n",
    "spark_configs = spark.sparkContext.getConf().getAll()\n",
    "gpu_configs = [config for config in spark_configs if 'gpu' in config[0].lower() or 'rapids' in config[0].lower()]\n",
    "\n",
    "print(\"GPU 관련 Spark 설정:\")\n",
    "for key, value in gpu_configs:\n",
    "    print(f\"{key}: {value}\")"
   ]
  },
  {
   "cell_type": "code",
   "execution_count": 0,
   "metadata": {
    "application/vnd.databricks.v1+cell": {
     "cellMetadata": {
      "byteLimit": 2048000,
      "rowLimit": 10000
     },
     "inputWidgets": {},
     "nuid": "5aa36295-9201-4db8-8bee-40c72b2054af",
     "showTitle": false,
     "tableResultSettingsMap": {},
     "title": ""
    }
   },
   "outputs": [],
   "source": [
    "# 클러스터 정보 확인\n",
    "print(\"Spark 버전:\", spark.version)\n",
    "print(\"Python 버전:\", sys.version)\n",
    "\n",
    "# 드라이버와 워커 정보\n",
    "#print(\"드라이버 메모리:\", spark.conf.get(\"spark.driver.memory\"))\n",
    "print(\"실행자 메모리:\", spark.conf.get(\"spark.executor.memory\"))"
   ]
  },
  {
   "cell_type": "code",
   "execution_count": 0,
   "metadata": {
    "application/vnd.databricks.v1+cell": {
     "cellMetadata": {
      "byteLimit": 2048000,
      "rowLimit": 10000
     },
     "inputWidgets": {},
     "nuid": "bc1bff36-c309-48dc-832c-5e97c71d5ea5",
     "showTitle": false,
     "tableResultSettingsMap": {},
     "title": ""
    }
   },
   "outputs": [],
   "source": [
    "!pip list"
   ]
  },
  {
   "cell_type": "code",
   "execution_count": 0,
   "metadata": {
    "application/vnd.databricks.v1+cell": {
     "cellMetadata": {
      "byteLimit": 2048000,
      "rowLimit": 10000
     },
     "inputWidgets": {},
     "nuid": "87ab5cf5-8941-4d11-a65b-ee75048552a6",
     "showTitle": false,
     "tableResultSettingsMap": {},
     "title": ""
    }
   },
   "outputs": [],
   "source": [
    "# PyTorch 설치 여부 확인\n",
    "try:\n",
    "    import torch\n",
    "    print(f\"✅ PyTorch 이미 설치됨: {torch.__version__}\")\n",
    "    print(f\"CUDA 사용 가능: {torch.cuda.is_available()}\")\n",
    "    if torch.cuda.is_available():\n",
    "        print(f\"CUDA 버전: {torch.version.cuda}\")\n",
    "        print(f\"GPU 개수: {torch.cuda.device_count()}\")\n",
    "except ImportError:\n",
    "    print(\"❌ PyTorch 설치되지 않음\")"
   ]
  }
 ],
 "metadata": {
  "application/vnd.databricks.v1+notebook": {
   "computePreferences": null,
   "dashboards": [],
   "environmentMetadata": {
    "base_environment": "",
    "environment_version": "2"
   },
   "inputWidgetPreferences": null,
   "language": "python",
   "notebookMetadata": {
    "pythonIndentUnit": 4
   },
   "notebookName": "021 - Library",
   "widgets": {}
  },
  "language_info": {
   "name": "python"
  }
 },
 "nbformat": 4,
 "nbformat_minor": 0
}
