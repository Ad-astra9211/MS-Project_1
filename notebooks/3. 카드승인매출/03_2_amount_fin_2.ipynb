{
 "cells": [
  {
   "cell_type": "markdown",
   "metadata": {
    "application/vnd.databricks.v1+cell": {
     "cellMetadata": {
      "byteLimit": 2048000,
      "rowLimit": 10000
     },
     "inputWidgets": {},
     "nuid": "d9d18c7c-2e83-42d5-950b-0c4191be6024",
     "showTitle": false,
     "tableResultSettingsMap": {},
     "title": ""
    }
   },
   "source": [
    "# 라이브러리 및 데이터 불러오기"
   ]
  },
  {
   "cell_type": "code",
   "execution_count": 0,
   "metadata": {
    "application/vnd.databricks.v1+cell": {
     "cellMetadata": {
      "byteLimit": 2048000,
      "rowLimit": 10000
     },
     "inputWidgets": {},
     "nuid": "f823eb32-dcd8-4b4c-8d77-ddf39cb0451f",
     "showTitle": false,
     "tableResultSettingsMap": {},
     "title": ""
    }
   },
   "outputs": [],
   "source": [
    "!apt-get update -qq\n",
    "!apt-get install -y fonts-nanum"
   ]
  },
  {
   "cell_type": "code",
   "execution_count": 0,
   "metadata": {
    "application/vnd.databricks.v1+cell": {
     "cellMetadata": {
      "byteLimit": 2048000,
      "rowLimit": 10000
     },
     "inputWidgets": {},
     "nuid": "18bc46ab-10d7-4880-b2cf-66721a926cd7",
     "showTitle": false,
     "tableResultSettingsMap": {},
     "title": ""
    }
   },
   "outputs": [],
   "source": [
    "from pyspark.sql.functions import when, col, to_date\n",
    "from pyspark.sql import functions as F\n",
    "from pyspark.ml.stat import Correlation\n",
    "from pyspark.ml.feature import VectorAssembler\n",
    "\n",
    "import matplotlib.pyplot as plt\n",
    "import matplotlib as mpl\n",
    "import warnings\n",
    "import seaborn as sns\n",
    "import pandas as pd\n",
    "import numpy as np\n",
    "import math\n",
    "import re"
   ]
  },
  {
   "cell_type": "code",
   "execution_count": 0,
   "metadata": {
    "application/vnd.databricks.v1+cell": {
     "cellMetadata": {
      "byteLimit": 2048000,
      "rowLimit": 10000
     },
     "inputWidgets": {},
     "nuid": "80ce7b84-61bb-4fb3-8f0e-219a1b804a35",
     "showTitle": false,
     "tableResultSettingsMap": {},
     "title": ""
    }
   },
   "outputs": [],
   "source": [
    "# from matplotlib import font_manager as fm\n",
    "\n",
    "# # 한글 글꼴 설정\n",
    "# plt.rcParams['font.family'] = 'Malgun Gothic'  # 윈도우에서 일반적으로 지원되는 한글 글꼴 (Mac의 경우 'AppleGothic' 등 사용)\n",
    "# plt.rcParams['font.family'] = 'NanumGothic'  # 또는 'NanumGothic'\n",
    "# plt.rcParams['axes.unicode_minus'] = False  # 마이너스 기호가 깨지는 문제 해결\n",
    "# font_name = fm.FontProperties(fname=\"c:/Windows/Fonts/malgun.ttf\")\n",
    "# font_path = \"/usr/share/fonts/truetype/nanum/NanumGothic.ttf\"\n",
    "# font_prop = fm.FontProperties(fname=font_path)\n",
    "\n",
    "\n",
    "# font_dirs = [\"/usr/share/fonts/truetype/nanum/\"]\n",
    "# # font_path = \"/usr/share/fonts/truetype/nanum/NanumGothic.ttf\"\n",
    "\n",
    "# font_prop = fm.FontProperties(fname=font_dirs)\n",
    " \n",
    "# plt.rc('font', family='NanumGothic')\n",
    "# plt.rc('axes', unicode_minus=False)\n",
    " \n",
    "# pd.Series([-1,2,3]).plot(title='테스트', figsize=(3,2))\n",
    "# pass"
   ]
  },
  {
   "cell_type": "markdown",
   "metadata": {
    "application/vnd.databricks.v1+cell": {
     "cellMetadata": {
      "byteLimit": 2048000,
      "rowLimit": 10000
     },
     "inputWidgets": {},
     "nuid": "430b34c7-4057-4c02-944d-ea675316ecaa",
     "showTitle": false,
     "tableResultSettingsMap": {},
     "title": ""
    }
   },
   "source": [
    "# 0. 공통"
   ]
  },
  {
   "cell_type": "markdown",
   "metadata": {
    "application/vnd.databricks.v1+cell": {
     "cellMetadata": {
      "byteLimit": 2048000,
      "rowLimit": 10000
     },
     "inputWidgets": {},
     "nuid": "6f35219d-c886-420f-ac3f-b4470fbc5d46",
     "showTitle": false,
     "tableResultSettingsMap": {},
     "title": ""
    }
   },
   "source": [
    "## 1) 유의미한 샘플 수"
   ]
  },
  {
   "cell_type": "code",
   "execution_count": 0,
   "metadata": {
    "application/vnd.databricks.v1+cell": {
     "cellMetadata": {
      "byteLimit": 2048000,
      "rowLimit": 10000
     },
     "inputWidgets": {},
     "nuid": "4107cf8e-cf5e-4a3b-864b-1415a2ce41b2",
     "showTitle": false,
     "tableResultSettingsMap": {},
     "title": ""
    }
   },
   "outputs": [],
   "source": [
    "# # 전체 레코드 수 = raw는 항상 \"18000000\"\n",
    "# total_count = amount_period_df.count()\n",
    "# total_count"
   ]
  },
  {
   "cell_type": "code",
   "execution_count": 0,
   "metadata": {
    "application/vnd.databricks.v1+cell": {
     "cellMetadata": {
      "byteLimit": 2048000,
      "rowLimit": 10000
     },
     "inputWidgets": {},
     "nuid": "dd55d203-4504-4bbe-ba8d-842ba7bed04d",
     "showTitle": false,
     "tableResultSettingsMap": {},
     "title": ""
    }
   },
   "outputs": [],
   "source": [
    "# 통계적으로 유의한 샘플 크기 계산\n",
    "def calculate_sample_size(population_size, confidence_level=0.95, margin_error=0.05):\n",
    "    \"\"\"\n",
    "    통계적으로 유의한 샘플 크기 계산\n",
    "    \"\"\"\n",
    "    z_score = 2.576  # 99% 신뢰도\n",
    "    p = 0.5  # 최대 분산\n",
    "    \n",
    "    n = (z_score**2 * p * (1-p)) / (margin_error**2)\n",
    "    n_adjusted = n / (1 + (n-1)/population_size)\n",
    "    \n",
    "    return int(n_adjusted)"
   ]
  },
  {
   "cell_type": "code",
   "execution_count": 0,
   "metadata": {
    "application/vnd.databricks.v1+cell": {
     "cellMetadata": {
      "byteLimit": 2048000,
      "rowLimit": 10000
     },
     "inputWidgets": {},
     "nuid": "40159eca-9685-478f-9fcc-c5b85128d5d9",
     "showTitle": false,
     "tableResultSettingsMap": {},
     "title": ""
    }
   },
   "outputs": [],
   "source": [
    "total_count = 18000000\n",
    "print(f\"전체 데이터: {total_count:,}\")\n",
    "\n",
    "\n",
    "# 통계적 샘플 크기 계산\n",
    "sample_size = calculate_sample_size(total_count)\n",
    "sample_fraction = sample_size / total_count\n",
    "\n",
    "print(f\"필요 샘플 크기: {sample_size:,}\")\n",
    "print(f\"샘플링 비율: {sample_fraction:.7f}\")"
   ]
  },
  {
   "cell_type": "markdown",
   "metadata": {
    "application/vnd.databricks.v1+cell": {
     "cellMetadata": {
      "byteLimit": 2048000,
      "rowLimit": 10000
     },
     "inputWidgets": {},
     "nuid": "02ea3bd9-6df5-4235-9c14-4c981ff43e3c",
     "showTitle": false,
     "tableResultSettingsMap": {},
     "title": ""
    }
   },
   "source": [
    "# 1. 기간 포함 컬럼"
   ]
  },
  {
   "cell_type": "code",
   "execution_count": 0,
   "metadata": {
    "application/vnd.databricks.v1+cell": {
     "cellMetadata": {
      "byteLimit": 2048000,
      "rowLimit": 10000
     },
     "inputWidgets": {},
     "nuid": "28e94960-c195-420a-ab5e-bfc09c1b2226",
     "showTitle": false,
     "tableResultSettingsMap": {},
     "title": ""
    }
   },
   "outputs": [],
   "source": [
    "# 112개 컬럼\n",
    "amount_period_df = spark.read.table(\"database_03_cache.amount_period_df\")"
   ]
  },
  {
   "cell_type": "code",
   "execution_count": 0,
   "metadata": {
    "application/vnd.databricks.v1+cell": {
     "cellMetadata": {
      "byteLimit": 2048000,
      "rowLimit": 10000
     },
     "inputWidgets": {},
     "nuid": "4ec28720-219c-452d-a486-a444e44ea449",
     "showTitle": false,
     "tableResultSettingsMap": {},
     "title": ""
    }
   },
   "outputs": [
    {
     "output_type": "display_data",
     "data": {
      "text/plain": [
       "Databricks data profile. Run in Databricks to view."
      ]
     },
     "metadata": {
      "application/vnd.databricks.v1.subcommand+json": {
       "baseErrorDetails": null,
       "bindings": {},
       "collapsed": false,
       "command": "%python\nif hasattr(dbutils, \"data\") and hasattr(dbutils.data, \"summarize\"):\n  # setup\n  __data_summary_display_orig = display\n  __data_summary_dfs = []\n  def __data_summary_display_new(df):\n    # add only when result is going to be table type\n    __data_summary_df_modules = [\"pandas.core.frame\", \"databricks.koalas.frame\", \"pyspark.sql.dataframe\", \"pyspark.pandas.frame\", \"pyspark.sql.connect.dataframe\", \"pyspark.sql.classic.dataframe\"]\n    if (type(df).__module__ in __data_summary_df_modules and type(df).__name__ == 'DataFrame') or isinstance(df, list):\n      __data_summary_dfs.append(df)\n  display = __data_summary_display_new\n\n  def __data_summary_user_code_fn():\n    import base64\n    exec(base64.standard_b64decode(\"IyAxMTLqsJwg7Lus65+8CmRpc3BsYXkoYW1vdW50X3BlcmlvZF9kZik=\").decode())\n\n  try:\n    # run user code\n    __data_summary_user_code_fn()\n\n    # run on valid tableResultIndex\n    if len(__data_summary_dfs) > 0:\n      # run summarize\n      if type(__data_summary_dfs[0]).__module__ == \"databricks.koalas.frame\":\n        # koalas dataframe\n        dbutils.data.summarize(__data_summary_dfs[0].to_spark())\n      elif type(__data_summary_dfs[0]).__module__ == \"pandas.core.frame\":\n        # pandas dataframe\n        dbutils.data.summarize(spark.createDataFrame(__data_summary_dfs[0]))\n      else:\n        dbutils.data.summarize(__data_summary_dfs[0])\n    else:\n        displayHTML(\"dataframe no longer exists. If you're using dataframe.display(), use display(dataframe) instead.\")\n\n  finally:\n    display = __data_summary_display_orig\n    del __data_summary_display_new\n    del __data_summary_display_orig\n    del __data_summary_dfs\n    del __data_summary_user_code_fn\nelse:\n  print(\"This DBR version does not support data profiles.\")",
       "commandTitle": "데이터 프로필 1",
       "commandType": "auto",
       "commandVersion": 0,
       "commentThread": [],
       "commentsVisible": false,
       "contentSha256Hex": null,
       "customPlotOptions": {},
       "datasetPreviewNameToCmdIdMap": {},
       "diffDeletes": [],
       "diffInserts": [],
       "displayType": "table",
       "error": null,
       "errorDetails": null,
       "errorSummary": null,
       "errorTraceType": null,
       "finishTime": 1749603600499,
       "globalVars": {},
       "guid": "",
       "height": "auto",
       "hideCommandCode": false,
       "hideCommandResult": false,
       "iPythonMetadata": null,
       "inputWidgets": {},
       "isLockedInExamMode": false,
       "latestUser": "a user",
       "latestUserId": null,
       "listResultMetadata": [
        [
         "mimeBundle",
         null
        ]
       ],
       "metadata": {
        "byteLimit": 2048000,
        "rowLimit": 10000
       },
       "nuid": "5b40b8c9-1434-41fd-93a5-ddbffd22221d",
       "origId": 0,
       "parentHierarchy": [],
       "pivotAggregation": null,
       "pivotColumns": null,
       "position": 1.0,
       "resultDbfsErrorMessage": null,
       "resultDbfsStatus": "INLINED_IN_TREE",
       "results": null,
       "showCommandTitle": false,
       "startTime": 1749603525918,
       "state": "input",
       "streamStates": {},
       "subcommandOptions": null,
       "submitTime": 1749603501590,
       "subtype": "tableResultSubCmd.dataSummary",
       "tableResultIndex": 0,
       "tableResultSettingsMap": {},
       "useConsistentColors": false,
       "version": "CommandV1",
       "width": "auto",
       "workflows": null,
       "xColumns": null,
       "yColumns": null
      }
     },
     "output_type": "display_data"
    }
   ],
   "source": [
    "# 112개 컬럼\n",
    "display(amount_period_df)"
   ]
  },
  {
   "cell_type": "code",
   "execution_count": 0,
   "metadata": {
    "application/vnd.databricks.v1+cell": {
     "cellMetadata": {
      "byteLimit": 2048000,
      "rowLimit": 10000
     },
     "inputWidgets": {},
     "nuid": "05c6b3da-235c-4384-ae67-1b9385b433ad",
     "showTitle": false,
     "tableResultSettingsMap": {},
     "title": ""
    }
   },
   "outputs": [],
   "source": [
    "# 수치형 컬럼\n",
    "period_numeric_cols = [c for c, t in amount_period_df.dtypes if t in (\"int\", \"bigint\", \"float\", \"double\")]\n",
    "\n",
    "len(period_numeric_cols)"
   ]
  },
  {
   "cell_type": "code",
   "execution_count": 0,
   "metadata": {
    "application/vnd.databricks.v1+cell": {
     "cellMetadata": {
      "byteLimit": 2048000,
      "rowLimit": 10000
     },
     "inputWidgets": {},
     "nuid": "19bc11c3-8dc9-42ad-8774-dbe9ad5a8db9",
     "showTitle": false,
     "tableResultSettingsMap": {},
     "title": ""
    }
   },
   "outputs": [],
   "source": [
    "# 전체 레코드 수\n",
    "total_count = amount_period_df.count()\n",
    "total_count"
   ]
  },
  {
   "cell_type": "markdown",
   "metadata": {
    "application/vnd.databricks.v1+cell": {
     "cellMetadata": {
      "byteLimit": 2048000,
      "rowLimit": 10000
     },
     "inputWidgets": {},
     "nuid": "4ef821d8-1d98-4907-86b5-77adebd2d4e3",
     "showTitle": false,
     "tableResultSettingsMap": {},
     "title": ""
    }
   },
   "source": [
    "## 1) 희소(sparse)한 컬럼 처리"
   ]
  },
  {
   "cell_type": "code",
   "execution_count": 0,
   "metadata": {
    "application/vnd.databricks.v1+cell": {
     "cellMetadata": {
      "byteLimit": 2048000,
      "rowLimit": 10000
     },
     "inputWidgets": {},
     "nuid": "efe99f6a-d07d-414c-b7e7-2b6cf365f9f0",
     "showTitle": false,
     "tableResultSettingsMap": {},
     "title": ""
    }
   },
   "outputs": [],
   "source": [
    "# 최종 목표 \n",
    "# 112(기존 컬럼 개수) - 8 (0이 100%인 컬럼 수) + 1 (0이 0.7%이상, 1미만인 컬럼을 이진화 후 컬럼 하나로 압축)\n",
    "112 - 8 + 1 - 68"
   ]
  },
  {
   "cell_type": "code",
   "execution_count": 0,
   "metadata": {
    "application/vnd.databricks.v1+cell": {
     "cellMetadata": {
      "byteLimit": 2048000,
      "rowLimit": 10000
     },
     "inputWidgets": {},
     "nuid": "f38ba628-e002-4939-9eae-f497fd4c9e7e",
     "showTitle": false,
     "tableResultSettingsMap": {},
     "title": ""
    }
   },
   "outputs": [],
   "source": [
    "from pyspark.sql.functions import col, when, sum as Fsum\n",
    "from pyspark.ml.feature import VectorAssembler\n",
    "\n",
    "# 1. 전체 수치형 컬럼 중 0 비율 기준으로 나누기\n",
    "period_zero_only_cols = []      # 전부 0인 컬럼\n",
    "period_zero_ratio_cols = []     # 0이 70% 이상, 100% 미만인 컬럼\n",
    "\n",
    "\n",
    "# 전부 0인 컬럼 탐지\n",
    "sum_df = amount_period_df.select([Fsum(col(c)).alias(c) for c in period_numeric_cols])\n",
    "for c in sum_df.columns:\n",
    "    if sum_df.select(c).collect()[0][0] == 0:\n",
    "        period_zero_only_cols.append(c)\n",
    "print(len(period_zero_only_cols))\n",
    "\n",
    "# 일부만 0인 희소 컬럼 탐지\n",
    "for c in period_numeric_cols:\n",
    "    if c not in period_zero_only_cols:\n",
    "        zero_count = amount_period_df.filter(col(c) == 0).count()\n",
    "        ratio = zero_count / total_count\n",
    "        if 0.7 <= ratio < 1.0:\n",
    "            period_zero_ratio_cols.append(c)\n",
    "print(len(period_zero_ratio_cols))"
   ]
  },
  {
   "cell_type": "code",
   "execution_count": 0,
   "metadata": {
    "application/vnd.databricks.v1+cell": {
     "cellMetadata": {
      "byteLimit": 2048000,
      "rowLimit": 10000
     },
     "inputWidgets": {},
     "nuid": "14c7c734-d9c0-48d6-ac46-e5ea63a79c4e",
     "showTitle": false,
     "tableResultSettingsMap": {},
     "title": ""
    }
   },
   "outputs": [],
   "source": [
    "import matplotlib.pyplot as plt\n",
    "\n",
    "# 데이터\n",
    "num_zero_only = 8\n",
    "num_zero_ratio = 68     #112 - 8 + 1 - 68 = 45\n",
    "num_total = 112\n",
    "num_remaining = num_total - num_zero_only - num_zero_ratio\n",
    "\n",
    "labels = ['0이 100%인 컬럼', '0이 70~99%인 컬럼', '그 외 컬럼']\n",
    "sizes = [num_zero_only, num_zero_ratio, num_remaining]\n",
    "colors = ['#15A2DB', '#065B9C', '#999999']\n",
    "\n",
    "# 시각화\n",
    "plt.figure(figsize=(6, 6))\n",
    "wedges, texts, autotexts = plt.pie(\n",
    "    sizes,\n",
    "    labels=labels,\n",
    "    autopct='%1.1f%%',\n",
    "    startangle=140,\n",
    "    colors=colors\n",
    ")\n",
    "\n",
    "# 내부 텍스트(비율 텍스트) 스타일 조정\n",
    "for autotext in autotexts:\n",
    "    autotext.set_fontsize(15)\n",
    "    autotext.set_color('white')\n",
    "    autotext.set_fontweight('bold')\n",
    "\n",
    "# 외부 라벨 텍스트 스타일 조정\n",
    "for text in texts:\n",
    "    text.set_fontsize(13)\n",
    "    text.set_color('black')\n",
    "\n",
    "plt.title('0 비율 기준 컬럼 구성 비율', fontsize=15)\n",
    "plt.tight_layout()\n",
    "plt.show()\n"
   ]
  },
  {
   "cell_type": "code",
   "execution_count": 0,
   "metadata": {
    "application/vnd.databricks.v1+cell": {
     "cellMetadata": {
      "byteLimit": 2048000,
      "rowLimit": 10000
     },
     "inputWidgets": {},
     "nuid": "a2c6acf0-4786-4386-ba47-a4000e259ead",
     "showTitle": false,
     "tableResultSettingsMap": {},
     "title": ""
    }
   },
   "outputs": [],
   "source": [
    "# 2. 전부 0인 컬럼 제거\n",
    "ap_df = amount_period_df.drop(*period_zero_only_cols)\n",
    "print(len(ap_df.columns))  # 112-8 = 104\n",
    "\n",
    "# 3. 이진화된 컬럼 추가\n",
    "for zcol in period_zero_ratio_cols:\n",
    "    ap_df = ap_df.withColumn(f\"{zcol}_사용여부\", when(col(zcol) > 0, 1).otherwise(0))\n",
    "print(len(ap_df.columns))  # 104 + 68 = 172\n",
    "\n",
    "# 4. 벡터화\n",
    "assembler = VectorAssembler(\n",
    "    inputCols=[f\"{z}_사용여부\" for z in period_zero_ratio_cols],\n",
    "    outputCol=\"사용패턴벡터\"\n",
    ")\n",
    "ap_df = assembler.transform(ap_df)\n",
    "print(len(ap_df.columns))\n",
    "\n",
    "# 5. 이진화된 컬럼 제거하고 벡터만 남김\n",
    "ap_df = ap_df.drop(*[f\"{z}_사용여부\" for z in period_zero_ratio_cols])\n",
    "\n",
    "# 6. 0이 70% 이상인 기존 컬럼도 삭제\n",
    "ap_df = ap_df.drop(*period_zero_ratio_cols)\n",
    "\n",
    "\n",
    "print(len(ap_df.columns))  #112 - 8 + 1 - 68 = 45"
   ]
  },
  {
   "cell_type": "code",
   "execution_count": 0,
   "metadata": {
    "application/vnd.databricks.v1+cell": {
     "cellMetadata": {
      "byteLimit": 2048000,
      "rowLimit": 10000
     },
     "inputWidgets": {},
     "nuid": "4bec123e-d9bc-450e-ae15-1c03d05032af",
     "showTitle": false,
     "tableResultSettingsMap": {},
     "title": ""
    }
   },
   "outputs": [
    {
     "output_type": "display_data",
     "data": {
      "text/plain": [
       "Databricks data profile. Run in Databricks to view."
      ]
     },
     "metadata": {
      "application/vnd.databricks.v1.subcommand+json": {
       "baseErrorDetails": null,
       "bindings": {},
       "collapsed": false,
       "command": "%python\nif hasattr(dbutils, \"data\") and hasattr(dbutils.data, \"summarize\"):\n  # setup\n  __data_summary_display_orig = display\n  __data_summary_dfs = []\n  def __data_summary_display_new(df):\n    # add only when result is going to be table type\n    __data_summary_df_modules = [\"pandas.core.frame\", \"databricks.koalas.frame\", \"pyspark.sql.dataframe\", \"pyspark.pandas.frame\", \"pyspark.sql.connect.dataframe\", \"pyspark.sql.classic.dataframe\"]\n    if (type(df).__module__ in __data_summary_df_modules and type(df).__name__ == 'DataFrame') or isinstance(df, list):\n      __data_summary_dfs.append(df)\n  display = __data_summary_display_new\n\n  def __data_summary_user_code_fn():\n    import base64\n    exec(base64.standard_b64decode(\"ZGlzcGxheShhcF9kZik=\").decode())\n\n  try:\n    # run user code\n    __data_summary_user_code_fn()\n\n    # run on valid tableResultIndex\n    if len(__data_summary_dfs) > 0:\n      # run summarize\n      if type(__data_summary_dfs[0]).__module__ == \"databricks.koalas.frame\":\n        # koalas dataframe\n        dbutils.data.summarize(__data_summary_dfs[0].to_spark())\n      elif type(__data_summary_dfs[0]).__module__ == \"pandas.core.frame\":\n        # pandas dataframe\n        dbutils.data.summarize(spark.createDataFrame(__data_summary_dfs[0]))\n      else:\n        dbutils.data.summarize(__data_summary_dfs[0])\n    else:\n        displayHTML(\"dataframe no longer exists. If you're using dataframe.display(), use display(dataframe) instead.\")\n\n  finally:\n    display = __data_summary_display_orig\n    del __data_summary_display_new\n    del __data_summary_display_orig\n    del __data_summary_dfs\n    del __data_summary_user_code_fn\nelse:\n  print(\"This DBR version does not support data profiles.\")",
       "commandTitle": "데이터 프로필 1",
       "commandType": "auto",
       "commandVersion": 0,
       "commentThread": [],
       "commentsVisible": false,
       "contentSha256Hex": null,
       "customPlotOptions": {},
       "datasetPreviewNameToCmdIdMap": {},
       "diffDeletes": [],
       "diffInserts": [],
       "displayType": "table",
       "error": null,
       "errorDetails": null,
       "errorSummary": null,
       "errorTraceType": null,
       "finishTime": 1749603747855,
       "globalVars": {},
       "guid": "",
       "height": "auto",
       "hideCommandCode": false,
       "hideCommandResult": false,
       "iPythonMetadata": null,
       "inputWidgets": {},
       "isLockedInExamMode": false,
       "latestUser": "a user",
       "latestUserId": null,
       "listResultMetadata": [
        [
         "mimeBundle",
         null
        ]
       ],
       "metadata": {
        "byteLimit": 2048000,
        "rowLimit": 10000
       },
       "nuid": "8b4bd2b7-82fd-449c-80e2-9929f3e12c6d",
       "origId": 0,
       "parentHierarchy": [],
       "pivotAggregation": null,
       "pivotColumns": null,
       "position": 7.01443744164332,
       "resultDbfsErrorMessage": null,
       "resultDbfsStatus": "INLINED_IN_TREE",
       "results": null,
       "showCommandTitle": false,
       "startTime": 1749603702983,
       "state": "input",
       "streamStates": {},
       "subcommandOptions": null,
       "submitTime": 1749603502528,
       "subtype": "tableResultSubCmd.dataSummary",
       "tableResultIndex": 0,
       "tableResultSettingsMap": {},
       "useConsistentColors": false,
       "version": "CommandV1",
       "width": "auto",
       "workflows": null,
       "xColumns": null,
       "yColumns": null
      }
     },
     "output_type": "display_data"
    }
   ],
   "source": [
    "display(ap_df)"
   ]
  },
  {
   "cell_type": "markdown",
   "metadata": {
    "application/vnd.databricks.v1+cell": {
     "cellMetadata": {
      "byteLimit": 2048000,
      "rowLimit": 10000
     },
     "inputWidgets": {},
     "nuid": "7895ff8c-0f09-4b94-b9ed-bee4afe11b30",
     "showTitle": false,
     "tableResultSettingsMap": {},
     "title": ""
    }
   },
   "source": [
    "## 2) 이상치 처리/스케일링 - 로그 변환\n",
    "테이블 분석에서 box plot 확인 결과 대부분 positive skew로 이상치 많은 분포임. 따라서 로그 변환"
   ]
  },
  {
   "cell_type": "code",
   "execution_count": 0,
   "metadata": {
    "application/vnd.databricks.v1+cell": {
     "cellMetadata": {
      "byteLimit": 2048000,
      "rowLimit": 10000
     },
     "inputWidgets": {},
     "nuid": "5a8280da-689e-4a98-8e8f-668d4161c05a",
     "showTitle": false,
     "tableResultSettingsMap": {},
     "title": ""
    }
   },
   "outputs": [],
   "source": [
    "print(len(ap_df.columns))"
   ]
  },
  {
   "cell_type": "code",
   "execution_count": 0,
   "metadata": {
    "application/vnd.databricks.v1+cell": {
     "cellMetadata": {
      "byteLimit": 2048000,
      "rowLimit": 10000
     },
     "inputWidgets": {},
     "nuid": "0ab691ee-220d-4c02-916a-ac104bffec81",
     "showTitle": false,
     "tableResultSettingsMap": {},
     "title": ""
    }
   },
   "outputs": [],
   "source": [
    "# 수치형 컬럼 - 컬럼 바뀌었으므로, 업데이트\n",
    "ap_numeric_cols = [c for c, t in ap_df.dtypes if t in (\"int\", \"bigint\", \"float\", \"double\")]\n",
    "\n",
    "len(ap_numeric_cols)"
   ]
  },
  {
   "cell_type": "markdown",
   "metadata": {
    "application/vnd.databricks.v1+cell": {
     "cellMetadata": {
      "byteLimit": 2048000,
      "rowLimit": 10000
     },
     "inputWidgets": {},
     "nuid": "d2b02076-2868-4f82-a60a-ac7c6b5dee3c",
     "showTitle": false,
     "tableResultSettingsMap": {},
     "title": ""
    }
   },
   "source": [
    "주의!! 그냥 하면, 음수값이 null 처리됨"
   ]
  },
  {
   "cell_type": "code",
   "execution_count": 0,
   "metadata": {
    "application/vnd.databricks.v1+cell": {
     "cellMetadata": {
      "byteLimit": 2048000,
      "rowLimit": 10000
     },
     "inputWidgets": {},
     "nuid": "41162498-a297-492f-8608-e38a5ad8b04d",
     "showTitle": false,
     "tableResultSettingsMap": {},
     "title": ""
    }
   },
   "outputs": [],
   "source": [
    "# from pyspark.sql.functions import log1p, col\n",
    "# # 로그 변환\n",
    "# for col_name in ap_numeric_cols:\n",
    "#     ap_df = ap_df.withColumn(col_name, log1p(col(col_name)))\n",
    "\n",
    "from pyspark.sql.functions import log1p, col, when\n",
    "\n",
    "# 로그 변환 (음수값은 0으로 대체 후 log1p 적용)\n",
    "for col_name in ap_numeric_cols:\n",
    "    ap_log_df = ap_df.withColumn(\n",
    "        col_name,\n",
    "        log1p(when(col(col_name) < 0, 0).otherwise(col(col_name)))\n",
    "    )"
   ]
  },
  {
   "cell_type": "code",
   "execution_count": 0,
   "metadata": {
    "application/vnd.databricks.v1+cell": {
     "cellMetadata": {
      "byteLimit": 2048000,
      "rowLimit": 10000
     },
     "inputWidgets": {},
     "nuid": "75b16c18-e0f4-4332-a23c-0e08dc7abfbb",
     "showTitle": false,
     "tableResultSettingsMap": {},
     "title": ""
    }
   },
   "outputs": [
    {
     "output_type": "display_data",
     "data": {
      "text/plain": [
       "Databricks data profile. Run in Databricks to view."
      ]
     },
     "metadata": {
      "application/vnd.databricks.v1.subcommand+json": {
       "baseErrorDetails": null,
       "bindings": {},
       "collapsed": false,
       "command": "%python\nif hasattr(dbutils, \"data\") and hasattr(dbutils.data, \"summarize\"):\n  # setup\n  __data_summary_display_orig = display\n  __data_summary_dfs = []\n  def __data_summary_display_new(df):\n    # add only when result is going to be table type\n    __data_summary_df_modules = [\"pandas.core.frame\", \"databricks.koalas.frame\", \"pyspark.sql.dataframe\", \"pyspark.pandas.frame\", \"pyspark.sql.connect.dataframe\", \"pyspark.sql.classic.dataframe\"]\n    if (type(df).__module__ in __data_summary_df_modules and type(df).__name__ == 'DataFrame') or isinstance(df, list):\n      __data_summary_dfs.append(df)\n  display = __data_summary_display_new\n\n  def __data_summary_user_code_fn():\n    import base64\n    exec(base64.standard_b64decode(\"ZGlzcGxheShhcF9sb2dfZGYp\").decode())\n\n  try:\n    # run user code\n    __data_summary_user_code_fn()\n\n    # run on valid tableResultIndex\n    if len(__data_summary_dfs) > 0:\n      # run summarize\n      if type(__data_summary_dfs[0]).__module__ == \"databricks.koalas.frame\":\n        # koalas dataframe\n        dbutils.data.summarize(__data_summary_dfs[0].to_spark())\n      elif type(__data_summary_dfs[0]).__module__ == \"pandas.core.frame\":\n        # pandas dataframe\n        dbutils.data.summarize(spark.createDataFrame(__data_summary_dfs[0]))\n      else:\n        dbutils.data.summarize(__data_summary_dfs[0])\n    else:\n        displayHTML(\"dataframe no longer exists. If you're using dataframe.display(), use display(dataframe) instead.\")\n\n  finally:\n    display = __data_summary_display_orig\n    del __data_summary_display_new\n    del __data_summary_display_orig\n    del __data_summary_dfs\n    del __data_summary_user_code_fn\nelse:\n  print(\"This DBR version does not support data profiles.\")",
       "commandTitle": "데이터 프로필 1",
       "commandType": "auto",
       "commandVersion": 0,
       "commentThread": [],
       "commentsVisible": false,
       "contentSha256Hex": null,
       "customPlotOptions": {},
       "datasetPreviewNameToCmdIdMap": {},
       "diffDeletes": [],
       "diffInserts": [],
       "displayType": "table",
       "error": null,
       "errorDetails": null,
       "errorSummary": null,
       "errorTraceType": null,
       "finishTime": 1749603797231,
       "globalVars": {},
       "guid": "",
       "height": "auto",
       "hideCommandCode": false,
       "hideCommandResult": false,
       "iPythonMetadata": null,
       "inputWidgets": {},
       "isLockedInExamMode": false,
       "latestUser": "a user",
       "latestUserId": null,
       "listResultMetadata": [
        [
         "mimeBundle",
         null
        ]
       ],
       "metadata": {
        "byteLimit": 2048000,
        "rowLimit": 10000
       },
       "nuid": "19390342-e7d4-4f71-b87e-8e9b3d5c09a3",
       "origId": 0,
       "parentHierarchy": [],
       "pivotAggregation": null,
       "pivotColumns": null,
       "position": 1.0,
       "resultDbfsErrorMessage": null,
       "resultDbfsStatus": "INLINED_IN_TREE",
       "results": null,
       "showCommandTitle": false,
       "startTime": 1749603750890,
       "state": "input",
       "streamStates": {},
       "subcommandOptions": null,
       "submitTime": 1749603501596,
       "subtype": "tableResultSubCmd.dataSummary",
       "tableResultIndex": 0,
       "tableResultSettingsMap": {},
       "useConsistentColors": false,
       "version": "CommandV1",
       "width": "auto",
       "workflows": null,
       "xColumns": null,
       "yColumns": null
      }
     },
     "output_type": "display_data"
    }
   ],
   "source": [
    "display(ap_log_df)"
   ]
  },
  {
   "cell_type": "markdown",
   "metadata": {
    "application/vnd.databricks.v1+cell": {
     "cellMetadata": {
      "byteLimit": 2048000,
      "rowLimit": 10000
     },
     "inputWidgets": {},
     "nuid": "ede07a57-e60e-413c-8eb5-80a0af2160ad",
     "showTitle": false,
     "tableResultSettingsMap": {},
     "title": ""
    }
   },
   "source": [
    "\n",
    "## 3) 상관관계 분석"
   ]
  },
  {
   "cell_type": "markdown",
   "metadata": {
    "application/vnd.databricks.v1+cell": {
     "cellMetadata": {
      "byteLimit": 2048000,
      "rowLimit": 10000
     },
     "inputWidgets": {},
     "nuid": "fd4bba9f-574b-4a6e-9c1b-47caee8c731b",
     "showTitle": false,
     "tableResultSettingsMap": {},
     "title": ""
    }
   },
   "source": [
    "- 전체 데이터: 18,000,000\n",
    "- 필요 샘플 크기 (sample_size): 663\n",
    "- 샘플링 비율 (sample_fraction): 0.0000368"
   ]
  },
  {
   "cell_type": "markdown",
   "metadata": {
    "application/vnd.databricks.v1+cell": {
     "cellMetadata": {
      "byteLimit": 2048000,
      "rowLimit": 10000
     },
     "inputWidgets": {},
     "nuid": "f1ee75f9-7d7d-4efb-9951-9a1df5ab591b",
     "showTitle": false,
     "tableResultSettingsMap": {},
     "title": ""
    }
   },
   "source": [
    "#### 상관관계 함수 - 전체"
   ]
  },
  {
   "cell_type": "code",
   "execution_count": 0,
   "metadata": {
    "application/vnd.databricks.v1+cell": {
     "cellMetadata": {
      "byteLimit": 2048000,
      "rowLimit": 10000
     },
     "inputWidgets": {},
     "nuid": "f2ab6cfb-88fb-423f-867c-62050be43824",
     "showTitle": false,
     "tableResultSettingsMap": {},
     "title": ""
    }
   },
   "outputs": [],
   "source": [
    "%run /Workspace/Shared/utils"
   ]
  },
  {
   "cell_type": "code",
   "execution_count": 0,
   "metadata": {
    "application/vnd.databricks.v1+cell": {
     "cellMetadata": {
      "byteLimit": 2048000,
      "rowLimit": 10000
     },
     "inputWidgets": {},
     "nuid": "8f9f966d-d674-4cd3-af0f-b3a514b55035",
     "showTitle": false,
     "tableResultSettingsMap": {},
     "title": ""
    }
   },
   "outputs": [],
   "source": [
    "ap_corr_matrix, ap_corr_array, ap_cols_names = correlation_func(ap_log_df)"
   ]
  },
  {
   "cell_type": "code",
   "execution_count": 0,
   "metadata": {
    "application/vnd.databricks.v1+cell": {
     "cellMetadata": {
      "byteLimit": 2048000,
      "rowLimit": 10000
     },
     "inputWidgets": {},
     "nuid": "0b914986-3767-40ab-9819-879771e220ce",
     "showTitle": false,
     "tableResultSettingsMap": {},
     "title": ""
    }
   },
   "outputs": [],
   "source": [
    "import numpy as np\n",
    "import pandas as pd\n",
    "\n",
    "def get_correlated_groups(corr_matrix, col_names, threshold=0.9):\n",
    "    n = len(col_names)\n",
    "    to_remove = set()\n",
    "    groups = []\n",
    "\n",
    "    visited = set()\n",
    "    for i in range(n):\n",
    "        if col_names[i] in visited:\n",
    "            continue\n",
    "        group = set()\n",
    "        for j in range(i + 1, n):\n",
    "            if abs(corr_matrix[i, j]) > threshold:\n",
    "                group.add(col_names[i])\n",
    "                group.add(col_names[j])\n",
    "        if group:\n",
    "            groups.append(group)\n",
    "            visited.update(group)\n",
    "\n",
    "    return groups"
   ]
  },
  {
   "cell_type": "code",
   "execution_count": 0,
   "metadata": {
    "application/vnd.databricks.v1+cell": {
     "cellMetadata": {
      "byteLimit": 2048000,
      "rowLimit": 10000
     },
     "inputWidgets": {},
     "nuid": "e37b69cc-43a4-4edd-8f18-ebf7c40bf0dd",
     "showTitle": false,
     "tableResultSettingsMap": {},
     "title": ""
    }
   },
   "outputs": [],
   "source": [
    "groups = get_correlated_groups(ap_corr_array, ap_cols_names, threshold=0.9)\n",
    "for idx, g in enumerate(groups):\n",
    "    print(f\"[Group {idx+1}] {g}\")"
   ]
  },
  {
   "cell_type": "code",
   "execution_count": 0,
   "metadata": {
    "application/vnd.databricks.v1+cell": {
     "cellMetadata": {
      "byteLimit": 2048000,
      "rowLimit": 10000
     },
     "inputWidgets": {},
     "nuid": "c5b7286c-3f04-42fb-abd7-a9b606441be6",
     "showTitle": false,
     "tableResultSettingsMap": {},
     "title": ""
    }
   },
   "outputs": [],
   "source": [
    "groups"
   ]
  },
  {
   "cell_type": "code",
   "execution_count": 0,
   "metadata": {
    "application/vnd.databricks.v1+cell": {
     "cellMetadata": {
      "byteLimit": 2048000,
      "rowLimit": 10000
     },
     "inputWidgets": {},
     "nuid": "8dae0857-cdec-4e52-b846-792cfc8b2dff",
     "showTitle": false,
     "tableResultSettingsMap": {},
     "title": ""
    }
   },
   "outputs": [],
   "source": [
    "!apt-get -y install fonts-nanum\n",
    "import matplotlib.font_manager as fm\n",
    "plt.rcParams['font.family'] = 'NanumGothic'\n"
   ]
  },
  {
   "cell_type": "code",
   "execution_count": 0,
   "metadata": {
    "application/vnd.databricks.v1+cell": {
     "cellMetadata": {
      "byteLimit": 2048000,
      "rowLimit": 10000
     },
     "inputWidgets": {},
     "nuid": "bc33098a-f22d-4eed-a802-f7aa03b61e3b",
     "showTitle": false,
     "tableResultSettingsMap": {},
     "title": ""
    }
   },
   "outputs": [],
   "source": [
    "# NanumGothic (Linux 환경 기준)\n",
    "font_path = \"/usr/share/fonts/truetype/nanum/NanumGothic.ttf\"  # 경로는 환경에 따라 수정\n",
    "font_prop = fm.FontProperties(fname=font_path)\n",
    "plt.rc('font', family= font_prop.get_name())\n",
    "plt.rcParams['axes.unicode_minus'] = False"
   ]
  },
  {
   "cell_type": "code",
   "execution_count": 0,
   "metadata": {
    "application/vnd.databricks.v1+cell": {
     "cellMetadata": {
      "byteLimit": 2048000,
      "rowLimit": 10000
     },
     "inputWidgets": {},
     "nuid": "e09b1d10-c012-421c-a0ab-a71e215d0bc9",
     "showTitle": false,
     "tableResultSettingsMap": {},
     "title": ""
    }
   },
   "outputs": [],
   "source": [
    "import networkx as nx\n",
    "import matplotlib.pyplot as plt\n",
    "plt.rcParams['font.family'] = 'NanumGothic'\n",
    "\n",
    "def visualize_highly_correlated_columns(corr_array, col_names, threshold=0.9, figsize=(16, 12)):\n",
    "    \"\"\"\n",
    "    상관계수 행렬과 컬럼 이름 리스트를 받아 상관계수 기반 네트워크 그래프 시각화.\n",
    "    \n",
    "    \"\"\"\n",
    "    G = nx.Graph()\n",
    "    n = len(col_names)\n",
    "\n",
    "    # 엣지 생성\n",
    "    for i in range(n):\n",
    "        for j in range(i + 1, n):\n",
    "            if abs(corr_array[i, j]) >= threshold:\n",
    "                G.add_edge(col_names[i], col_names[j])\n",
    "\n",
    "    # 라벨 줄바꿈 함수\n",
    "    def format_label(label):\n",
    "        parts = label.split('_')\n",
    "        if len(parts) >= 3:\n",
    "            return f\"{parts[0]}_{parts[1]}\\n{parts[-1]}\"\n",
    "        return label\n",
    "\n",
    "    labels = {node: format_label(node) for node in G.nodes}\n",
    "\n",
    "    # 시각화\n",
    "    plt.figure(figsize=figsize)\n",
    "    pos = nx.spring_layout(G, seed=42, k=0.6)\n",
    "\n",
    "    nx.draw_networkx_nodes(G, pos, node_color=\"#065B9C\", node_size=2200)\n",
    "    nx.draw_networkx_edges(G, pos, edge_color=\"#AAAAAA\", width=2)\n",
    "    nx.draw_networkx_labels(G, pos, labels=labels, font_color=\"white\",\n",
    "                                                    font_family=font_prop.get_name(),  # 핵심!\n",
    "                                                    font_size=11)\n",
    "    \n",
    "    plt.title(\"상관계수 {:.2f} 이상 컬럼 네트워크 시각화\".format(threshold), fontsize=16, fontproperties=font_prop.get_name())\n",
    "    plt.axis(\"off\")\n",
    "    plt.tight_layout()\n",
    "    plt.show()\n",
    "\n",
    "# 예시 실행\n",
    "visualize_highly_correlated_columns(ap_corr_matrix, ap_cols_names, threshold=0.9)\n"
   ]
  },
  {
   "cell_type": "code",
   "execution_count": 0,
   "metadata": {
    "application/vnd.databricks.v1+cell": {
     "cellMetadata": {
      "byteLimit": 2048000,
      "rowLimit": 10000
     },
     "inputWidgets": {},
     "nuid": "004d271b-5e10-4339-9749-2084e35aebb3",
     "showTitle": false,
     "tableResultSettingsMap": {},
     "title": ""
    }
   },
   "outputs": [],
   "source": [
    "import matplotlib.pyplot as plt\n",
    "import networkx as nx\n",
    "import numpy as np\n",
    "\n",
    "# 상관계수가 0.9 이상인 컬럼쌍으로 엣지 구성\n",
    "threshold = 0.9\n",
    "edges = []\n",
    "for i in range(len(ap_cols_names)):\n",
    "    for j in range(i + 1, len(ap_cols_names)):\n",
    "        if abs(ap_corr_matrix[i, j]) >= threshold:\n",
    "            edges.append((ap_cols_names[i], ap_cols_names[j]))\n",
    "\n",
    "# 네트워크 그래프 생성\n",
    "G = nx.Graph()\n",
    "G.add_edges_from(edges)\n",
    "\n",
    "plt.figure(figsize=(8, 6))\n",
    "pos = nx.spring_layout(G, seed=42, k=1.5)  # k 값 키우면 노드 간 거리 넓어짐\n",
    "pos = nx.spring_layout(G, seed=42)  # 노드 위치 고정\n",
    "nx.draw(G, pos, with_labels=True, node_color=\"#065B9C\", font_color=\"white\",\n",
    "        node_size=1500, edge_color=\"#999999\", width=2, font_size=12)\n",
    "plt.title(\"상관계수 0.9 이상인 컬럼 간 관계 그래프\")\n",
    "plt.tight_layout()\n",
    "plt.show()\n"
   ]
  },
  {
   "cell_type": "markdown",
   "metadata": {
    "application/vnd.databricks.v1+cell": {
     "cellMetadata": {
      "byteLimit": 2048000,
      "rowLimit": 10000
     },
     "inputWidgets": {},
     "nuid": "723a87fb-b0f7-4494-8c58-e5cbb72d7c98",
     "showTitle": false,
     "tableResultSettingsMap": {},
     "title": ""
    }
   },
   "source": [
    "\n",
    "상관관계 - 특정 컬럼 포함된 경우 출력"
   ]
  },
  {
   "cell_type": "code",
   "execution_count": 0,
   "metadata": {
    "application/vnd.databricks.v1+cell": {
     "cellMetadata": {
      "byteLimit": 2048000,
      "rowLimit": 10000
     },
     "collapsed": true,
     "inputWidgets": {},
     "nuid": "a2a8d330-70b0-4dd6-ab1d-99722eda76e4",
     "showTitle": false,
     "tableResultSettingsMap": {},
     "title": ""
    }
   },
   "outputs": [],
   "source": [
    "# 특정 컬럼 포함된 경우 찾기\n",
    "def find_high_corr_pairs_for_feature(high_corrs_list, feature_name):\n",
    "    \"\"\"\n",
    "    특정 feature가 포함된 높은 상관관계 쌍만 필터링하여 출력\n",
    "\n",
    "    Parameters:\n",
    "        high_corrs_list (List[Dict]): get_high_correlations() 함수 결과 리스트\n",
    "        feature_name (str): 검색할 피처 이름\n",
    "\n",
    "    Returns:\n",
    "        List[Dict]: 해당 feature가 포함된 상관쌍 리스트\n",
    "    \"\"\"\n",
    "    related_corrs = [pair for pair in high_corrs_list \n",
    "                     if feature_name in [pair['feature1'], pair['feature2']]]\n",
    "\n",
    "    if not related_corrs:\n",
    "        print(f\"'{feature_name}'은(는) 높은 상관관계 쌍에 포함되지 않았습니다.\")\n",
    "    else:\n",
    "        print(f\"\\n'{feature_name}' 관련 높은 상관관계 쌍 ({len(related_corrs)}개):\")\n",
    "        for pair in related_corrs:\n",
    "            print(f\"{pair['feature1']} ↔ {pair['feature2']}: {pair['correlation']:.3f}\")\n",
    "    \n",
    "    return related_corrs\n"
   ]
  },
  {
   "cell_type": "code",
   "execution_count": 0,
   "metadata": {
    "application/vnd.databricks.v1+cell": {
     "cellMetadata": {
      "byteLimit": 2048000,
      "rowLimit": 10000
     },
     "inputWidgets": {},
     "nuid": "01157aa4-319a-497f-80d2-c22181e98fa4",
     "showTitle": false,
     "tableResultSettingsMap": {},
     "title": ""
    }
   },
   "outputs": [],
   "source": [
    "# find_high_corr_pairs_for_feature(ap_high_corrs, '이용금액_온라인_R3M')"
   ]
  },
  {
   "cell_type": "code",
   "execution_count": 0,
   "metadata": {
    "application/vnd.databricks.v1+cell": {
     "cellMetadata": {
      "byteLimit": 2048000,
      "rowLimit": 10000
     },
     "inputWidgets": {},
     "nuid": "1570b9d9-f164-4ae4-92a0-764ff4b38f5e",
     "showTitle": false,
     "tableResultSettingsMap": {},
     "title": ""
    }
   },
   "outputs": [],
   "source": [
    "plot_correlation_heatmaps(corr_array=ap_corr_array,\n",
    "                          feature_names=ap_cols_names, threshold=0.9)\n"
   ]
  },
  {
   "cell_type": "code",
   "execution_count": 0,
   "metadata": {
    "application/vnd.databricks.v1+cell": {
     "cellMetadata": {
      "byteLimit": 2048000,
      "rowLimit": 10000
     },
     "collapsed": true,
     "inputWidgets": {},
     "nuid": "8648542b-6ddc-47f1-89e8-c3581592e805",
     "showTitle": false,
     "tableResultSettingsMap": {},
     "title": ""
    }
   },
   "outputs": [],
   "source": [
    "plot_correlation_heatmaps(corr_array=ap_corr_array,\n",
    "                          feature_names=ap_cols_names)\n"
   ]
  },
  {
   "cell_type": "markdown",
   "metadata": {
    "application/vnd.databricks.v1+cell": {
     "cellMetadata": {
      "byteLimit": 2048000,
      "rowLimit": 10000
     },
     "inputWidgets": {},
     "nuid": "84a3adc0-1f0f-4774-bcbe-a550c2032fd3",
     "showTitle": false,
     "tableResultSettingsMap": {},
     "title": ""
    }
   },
   "source": [
    "### 3-1) 기간별 상관관계 분석\n",
    "\n",
    "- **층화 샘플링 함수 : stratified_sampling** <br>\n",
    "    `ap_sampled_df = stratified_sampling(ap_df, sample_fraction)`\n",
    "- **상관관계 분석 함수 (피쳐 수 제한 없음) : fast_correlation_analysis** <br>\n",
    "    `    correlation_matrix, feature_names = fast_correlation_analysis(period_df, period_columns)`\n",
    "- **높은 상관관계 분석 함수 : get_high_correlations** <br>\n",
    "    `ap_high_corrs, ap_corr_array = get_high_correlations(ap_corr_matrix, ap_cols_names)`\n",
    "- **전체 및 높은 상관관계 시각화 : plot_correlation_heatmaps** <br>\n",
    "    `plot_correlation_heatmaps(corr_array=ap_corr_array,\n",
    "                          feature_names=ap_cols_names)`\n",
    "- **다중공선성 검사 함수 : check_multicollinearity** <br>\n",
    "    `ap_multicollinear = check_multicollinearity(ap_corr_matrix, ap_cols_names, 0.9)`"
   ]
  },
  {
   "cell_type": "code",
   "execution_count": 0,
   "metadata": {
    "application/vnd.databricks.v1+cell": {
     "cellMetadata": {
      "byteLimit": 2048000,
      "rowLimit": 10000
     },
     "inputWidgets": {},
     "nuid": "9bfaac1f-15eb-4d81-9039-2443ca7b0061",
     "showTitle": false,
     "tableResultSettingsMap": {},
     "title": ""
    }
   },
   "outputs": [],
   "source": [
    "### 기간별 메인 분석 함수\n",
    "def analyze_correlation_by_period(period_columns, period_name, full_df):\n",
    "    \"\"\"\n",
    "    특정 기간의 컬럼들에 대해 상관관계 분석을 수행하는 함수들을 한 데 모은 함수\n",
    "    (stratified_sampling, fast_correlation_analysis, get_high_correlations, check_multicollinearity)\n",
    "    \"\"\"\n",
    "    print(f\"\\n{'='*10}\")\n",
    "    print(f\"=== {period_name} 기간 상관관계 분석 ===\")\n",
    "    print(f\"{'='*10}\")\n",
    "    print(f\"분석 대상 컬럼 수: {len(period_columns)}\")\n",
    "\n",
    "    # 1. 층화 샘플링\n",
    "    sampled_df = stratified_sampling(full_df, sample_fraction)\n",
    "    print(f\"샘플 데이터: {sampled_df.count():,}\")\n",
    "\n",
    "    # 2. 기간 컬럼만 선택\n",
    "    period_df = sampled_df.select(period_columns)\n",
    "\n",
    "    # 3. 상관관계 분석\n",
    "    correlation_matrix, feature_names = fast_correlation_analysis(period_df, period_columns)\n",
    "    print(\"상관관계 계산 완료!\")\n",
    "\n",
    "    # 4. 높은 상관관계 추출 및 출력\n",
    "    high_corrs = high_correlations(correlation_matrix, feature_names)\n",
    "    print(f\"\\n==높은 상관관계(|r| > 0.7) : {len(high_corrs)}개\")\n",
    "\n",
    "    return correlation_matrix, feature_names"
   ]
  },
  {
   "cell_type": "code",
   "execution_count": 0,
   "metadata": {
    "application/vnd.databricks.v1+cell": {
     "cellMetadata": {
      "byteLimit": 2048000,
      "rowLimit": 10000
     },
     "inputWidgets": {},
     "nuid": "3ffecc7e-c2a8-4d81-8466-4fb3e13f12b6",
     "showTitle": false,
     "tableResultSettingsMap": {},
     "title": ""
    }
   },
   "outputs": [],
   "source": [
    "# ✔ 사용된 기간들: ['B0M', 'B1M', 'B2M', 'R3M', 'R6M', 'R12M']"
   ]
  },
  {
   "cell_type": "code",
   "execution_count": 0,
   "metadata": {
    "application/vnd.databricks.v1+cell": {
     "cellMetadata": {
      "byteLimit": 2048000,
      "rowLimit": 10000
     },
     "inputWidgets": {},
     "nuid": "5a3dccb8-199f-46d6-9ea2-eafa8c78a3d5",
     "showTitle": false,
     "tableResultSettingsMap": {},
     "title": ""
    }
   },
   "outputs": [],
   "source": [
    "import re\n",
    "from collections import defaultdict\n",
    "import pandas as pd\n",
    "\n",
    "# 1. 기간 목록 정의\n",
    "period_list = ['B0M', 'B1M', 'B2M', 'R3M', 'R6M', 'R12M']\n",
    "\n",
    "# 2. 기간별 컬럼 분류 함수 리팩토링\n",
    "def classify_columns_by_period(df_columns):\n",
    "    \"\"\"\n",
    "    컬럼명을 주어진 period_list에 따라 분류하는 함수\n",
    "    \"\"\"\n",
    "    period_groups = {period: [] for period in period_list}\n",
    "    \n",
    "    for col_name in df_columns:\n",
    "        # 제외할 컬럼들\n",
    "        if col_name in ['기준년월', '발급회원번호']:\n",
    "            continue\n",
    "            \n",
    "        # 각 기간 패턴에 매칭되는지 확인\n",
    "        for period in period_list:\n",
    "            if col_name.endswith(f\"_{period}\"):\n",
    "                period_groups[period].append(col_name)\n",
    "                break\n",
    "    \n",
    "    return period_groups"
   ]
  },
  {
   "cell_type": "code",
   "execution_count": 0,
   "metadata": {
    "application/vnd.databricks.v1+cell": {
     "cellMetadata": {
      "byteLimit": 2048000,
      "rowLimit": 10000
     },
     "inputWidgets": {},
     "nuid": "04a73df8-59f6-49e3-a940-83f0ef3972bd",
     "showTitle": false,
     "tableResultSettingsMap": {},
     "title": ""
    }
   },
   "outputs": [],
   "source": [
    "# 함수 실행\n",
    "classified_columns = classify_columns_by_period(ap_df.columns)\n",
    "display(classified_columns)\n",
    "\n",
    "# 결과 확인\n",
    "classified_df = pd.DataFrame([(k, len(v), v[:3]) for k, v in               \n",
    "                              classified_columns.items()],\n",
    "                              columns=[\"기간\", \"컬럼 수\", \"예시 컬럼(최대 3개)\"])\n",
    "classified_df"
   ]
  },
  {
   "cell_type": "code",
   "execution_count": 0,
   "metadata": {
    "application/vnd.databricks.v1+cell": {
     "cellMetadata": {
      "byteLimit": 2048000,
      "rowLimit": 10000
     },
     "inputWidgets": {},
     "nuid": "8e6f7ee9-fd31-4dcb-9675-ba6767bbb888",
     "showTitle": false,
     "tableResultSettingsMap": {},
     "title": ""
    }
   },
   "outputs": [],
   "source": [
    "correlation_results = {}\n",
    "\n",
    "# period_list = ['B0M', 'B1M', 'B2M', 'R3M', 'R6M', 'R12M']\n",
    "for period, cols in classified_columns.items():\n",
    "    if period in period_list:\n",
    "        corr_matrix, feature_names = analyze_correlation_by_period(cols, period, ap_df)\n",
    "        if corr_matrix is not None:\n",
    "            correlation_results[period] = {'matrix': corr_matrix, 'features': feature_names}\n"
   ]
  },
  {
   "cell_type": "markdown",
   "metadata": {
    "application/vnd.databricks.v1+cell": {
     "cellMetadata": {
      "byteLimit": 2048000,
      "rowLimit": 10000
     },
     "inputWidgets": {},
     "nuid": "2bbf0330-576c-4bb0-ad3d-ca01aa5d5510",
     "showTitle": false,
     "tableResultSettingsMap": {},
     "title": ""
    }
   },
   "source": [
    "- 전체_다중공선성 위험 : 59개\n",
    "- 각각_다중공선성 위험 : 5 + 0 + 0 + 5 + 4 + 25 = 39개 <br>\n",
    "⇒ 기간 외 제거해야 하는 것 : 20개"
   ]
  },
  {
   "cell_type": "code",
   "execution_count": 0,
   "metadata": {
    "application/vnd.databricks.v1+cell": {
     "cellMetadata": {
      "byteLimit": 2048000,
      "rowLimit": 10000
     },
     "inputWidgets": {},
     "nuid": "e27b9ebf-809b-4657-a208-357de47c3f5f",
     "showTitle": false,
     "tableResultSettingsMap": {},
     "title": ""
    }
   },
   "outputs": [],
   "source": [
    "# correlation_results"
   ]
  },
  {
   "cell_type": "code",
   "execution_count": 0,
   "metadata": {
    "application/vnd.databricks.v1+cell": {
     "cellMetadata": {
      "byteLimit": 2048000,
      "rowLimit": 10000
     },
     "inputWidgets": {},
     "nuid": "0ced2f35-eab6-43d2-bed3-e0eb1ea1ee86",
     "showTitle": false,
     "tableResultSettingsMap": {},
     "title": ""
    }
   },
   "outputs": [],
   "source": [
    "multicollinear_all = []\n",
    "\n",
    "for period, result in correlation_results.items():\n",
    "    matrix = result[\"matrix\"]\n",
    "    features = result[\"features\"]\n",
    "    corr_array = matrix.toArray()\n",
    "    \n",
    "    for i in range(len(features)):\n",
    "        for j in range(i+1, len(features)):\n",
    "            corr_value = corr_array[i][j]\n",
    "            if abs(corr_value) > 0.9:\n",
    "                multicollinear_all.append({\n",
    "                    'feature1': features[i],\n",
    "                    'feature2': features[j],\n",
    "                    'correlation': corr_value,\n",
    "                    'period': period\n",
    "                })\n",
    "\n",
    "print(f\"총 다중공선성 쌍: {len(multicollinear_all)}\")\n",
    "multicollinear_all"
   ]
  },
  {
   "cell_type": "code",
   "execution_count": 0,
   "metadata": {
    "application/vnd.databricks.v1+cell": {
     "cellMetadata": {
      "byteLimit": 2048000,
      "rowLimit": 10000
     },
     "inputWidgets": {},
     "nuid": "06466e92-e738-4c02-93f1-18d1445ef874",
     "showTitle": false,
     "tableResultSettingsMap": {},
     "title": ""
    }
   },
   "outputs": [],
   "source": [
    "# 중복 컬럼 포함된 쌍\n",
    "\n",
    "from collections import Counter\n",
    "\n",
    "flat = [item for pair in multicollinear_all for item in [pair[\"feature1\"], pair[\"feature2\"]]]\n",
    "Counter(flat).most_common()\n"
   ]
  },
  {
   "cell_type": "markdown",
   "metadata": {
    "application/vnd.databricks.v1+cell": {
     "cellMetadata": {
      "byteLimit": 2048000,
      "rowLimit": 10000
     },
     "inputWidgets": {},
     "nuid": "fda177f2-4500-4be2-af70-2658f9682167",
     "showTitle": false,
     "tableResultSettingsMap": {},
     "title": ""
    }
   },
   "source": [
    "### 3-2) 상관계수 기반_ 컬럼 처리"
   ]
  },
  {
   "cell_type": "markdown",
   "metadata": {
    "application/vnd.databricks.v1+cell": {
     "cellMetadata": {
      "byteLimit": 2048000,
      "rowLimit": 10000
     },
     "inputWidgets": {},
     "nuid": "14b13136-0263-4bc3-a555-c3aeb4694be4",
     "showTitle": false,
     "tableResultSettingsMap": {},
     "title": ""
    }
   },
   "source": [
    "#### 기간 내 다중공선성 쌍 필터링"
   ]
  },
  {
   "cell_type": "code",
   "execution_count": 0,
   "metadata": {
    "application/vnd.databricks.v1+cell": {
     "cellMetadata": {
      "byteLimit": 2048000,
      "rowLimit": 10000
     },
     "inputWidgets": {},
     "nuid": "85c29d57-74a9-4542-89c9-b0fe0633e7e9",
     "showTitle": false,
     "tableResultSettingsMap": {},
     "title": ""
    }
   },
   "outputs": [],
   "source": [
    "import re\n",
    "from collections import defaultdict\n",
    "\n",
    "# 우선순위 정의\n",
    "priority_order = [\"신용\", \"신판\", \"일시불\", \"최대이용금액\"]\n",
    "\n",
    "# 동일 기간 내 다중공선성 제거 대상 추출\n",
    "def extract_period(colname):\n",
    "    \"\"\"컬럼명에서 기간 추출\"\"\"\n",
    "    match = re.search(r'_R\\d+M|_B\\d+M', colname)\n",
    "    return match.group() if match else ''\n",
    "\n",
    "def extract_type(colname):\n",
    "    \"\"\"컬럼명에서 타입(신용/신판/일시불 등) 추출\"\"\"\n",
    "    for p in priority_order:\n",
    "        if p in colname:\n",
    "            return p\n",
    "    return colname  # 매칭 안 될 경우 그대로 반환"
   ]
  },
  {
   "cell_type": "code",
   "execution_count": 0,
   "metadata": {
    "application/vnd.databricks.v1+cell": {
     "cellMetadata": {
      "byteLimit": 2048000,
      "rowLimit": 10000
     },
     "inputWidgets": {},
     "nuid": "6f827de3-997b-405f-a365-d3eec15d0853",
     "showTitle": false,
     "tableResultSettingsMap": {},
     "title": ""
    }
   },
   "outputs": [],
   "source": [
    "# 제거 대상\n",
    "remove_candidates = set()\n",
    "grouped_by_period = defaultdict(list)\n",
    "\n",
    "# 1. 기간별로 쌍 그룹화\n",
    "for pair in multicollinear_all:\n",
    "    grouped_by_period[pair[\"period\"]].append((pair[\"feature1\"], pair[\"feature2\"]))\n",
    "\n",
    "# 2. 우선순위 기반 제거\n",
    "for period, pairs in grouped_by_period.items():\n",
    "    for f1, f2 in pairs:\n",
    "        t1, t2 = extract_type(f1), extract_type(f2)\n",
    "        \n",
    "        if t1 in priority_order and t2 in priority_order:\n",
    "            if priority_order.index(t1) < priority_order.index(t2):\n",
    "                remove_candidates.add(f2)\n",
    "            else:\n",
    "                remove_candidates.add(f1)\n",
    "        elif t1 in priority_order:\n",
    "            remove_candidates.add(f2)\n",
    "        elif t2 in priority_order:\n",
    "            remove_candidates.add(f1)\n",
    "        else:\n",
    "            remove_candidates.add(f2)  # 임의 제거\n",
    "\n",
    "remove_candidates = sorted(remove_candidates)\n",
    "print(f\"제거할 컬럼 수: {len(remove_candidates)}\")\n",
    "for col in remove_candidates:\n",
    "    print(\" -\", col)\n"
   ]
  },
  {
   "cell_type": "code",
   "execution_count": 0,
   "metadata": {
    "application/vnd.databricks.v1+cell": {
     "cellMetadata": {
      "byteLimit": 2048000,
      "rowLimit": 10000
     },
     "inputWidgets": {},
     "nuid": "17f42467-e054-4943-8725-c1cfd73981bd",
     "showTitle": false,
     "tableResultSettingsMap": {},
     "title": ""
    }
   },
   "outputs": [],
   "source": [
    "# 검증: 제거 대상 컬럼이 각 쌍에서 적어도 하나는 포함되었는지?\n",
    "unresolved_pairs = []\n",
    "\n",
    "for pair in multicollinear_all:\n",
    "    if pair[\"feature1\"] not in remove_candidates and pair[\"feature2\"] not in remove_candidates:\n",
    "        unresolved_pairs.append(pair)\n",
    "\n",
    "print(f\"⚠️ 제거되지 않은 위험한 쌍 수: {len(unresolved_pairs)}\")"
   ]
  },
  {
   "cell_type": "markdown",
   "metadata": {
    "application/vnd.databricks.v1+cell": {
     "cellMetadata": {
      "byteLimit": 2048000,
      "rowLimit": 10000
     },
     "inputWidgets": {},
     "nuid": "1746cec7-4910-43bb-adb4-84e5b73103ca",
     "showTitle": false,
     "tableResultSettingsMap": {},
     "title": ""
    }
   },
   "source": [
    "**제거**"
   ]
  },
  {
   "cell_type": "code",
   "execution_count": 0,
   "metadata": {
    "application/vnd.databricks.v1+cell": {
     "cellMetadata": {
      "byteLimit": 2048000,
      "rowLimit": 10000
     },
     "inputWidgets": {},
     "nuid": "52bd3183-6381-4b21-932c-4ae555e26c94",
     "showTitle": false,
     "tableResultSettingsMap": {},
     "title": ""
    }
   },
   "outputs": [],
   "source": [
    "# 다중공선성 제거된 최종 데이터\n",
    "ap_reduced_df = ap_df.drop(*remove_candidates)\n",
    "\n",
    "print(f\"원본 컬럼 수: {len(ap_df.columns)}\")\n",
    "print(f\"최종 컬럼 수: {len(ap_reduced_df.columns)}\")\n"
   ]
  },
  {
   "cell_type": "code",
   "execution_count": 0,
   "metadata": {
    "application/vnd.databricks.v1+cell": {
     "cellMetadata": {
      "byteLimit": 2048000,
      "rowLimit": 10000
     },
     "inputWidgets": {},
     "nuid": "4102c18d-ec00-4cf3-826f-30b70eb34325",
     "showTitle": false,
     "tableResultSettingsMap": {},
     "title": ""
    }
   },
   "outputs": [],
   "source": [
    "105-27"
   ]
  },
  {
   "cell_type": "code",
   "execution_count": 0,
   "metadata": {
    "application/vnd.databricks.v1+cell": {
     "cellMetadata": {
      "byteLimit": 2048000,
      "rowLimit": 10000
     },
     "inputWidgets": {},
     "nuid": "d4fdc07c-a26e-4bd5-83ee-5c8f50f0726d",
     "showTitle": false,
     "tableResultSettingsMap": {},
     "title": ""
    }
   },
   "outputs": [
    {
     "output_type": "display_data",
     "data": {
      "text/plain": [
       "Databricks data profile. Run in Databricks to view."
      ]
     },
     "metadata": {
      "application/vnd.databricks.v1.subcommand+json": {
       "baseErrorDetails": null,
       "bindings": {},
       "collapsed": false,
       "command": "%python\nif hasattr(dbutils, \"data\") and hasattr(dbutils.data, \"summarize\"):\n  # setup\n  __data_summary_display_orig = display\n  __data_summary_dfs = []\n  def __data_summary_display_new(df):\n    # add only when result is going to be table type\n    __data_summary_df_modules = [\"pandas.core.frame\", \"databricks.koalas.frame\", \"pyspark.sql.dataframe\", \"pyspark.pandas.frame\", \"pyspark.sql.connect.dataframe\", \"pyspark.sql.classic.dataframe\"]\n    if (type(df).__module__ in __data_summary_df_modules and type(df).__name__ == 'DataFrame') or isinstance(df, list):\n      __data_summary_dfs.append(df)\n  display = __data_summary_display_new\n\n  def __data_summary_user_code_fn():\n    import base64\n    exec(base64.standard_b64decode(\"ZGlzcGxheShhcF9yZWR1Y2VkX2RmKQ==\").decode())\n\n  try:\n    # run user code\n    __data_summary_user_code_fn()\n\n    # run on valid tableResultIndex\n    if len(__data_summary_dfs) > 0:\n      # run summarize\n      if type(__data_summary_dfs[0]).__module__ == \"databricks.koalas.frame\":\n        # koalas dataframe\n        dbutils.data.summarize(__data_summary_dfs[0].to_spark())\n      elif type(__data_summary_dfs[0]).__module__ == \"pandas.core.frame\":\n        # pandas dataframe\n        dbutils.data.summarize(spark.createDataFrame(__data_summary_dfs[0]))\n      else:\n        dbutils.data.summarize(__data_summary_dfs[0])\n    else:\n        displayHTML(\"dataframe no longer exists. If you're using dataframe.display(), use display(dataframe) instead.\")\n\n  finally:\n    display = __data_summary_display_orig\n    del __data_summary_display_new\n    del __data_summary_display_orig\n    del __data_summary_dfs\n    del __data_summary_user_code_fn\nelse:\n  print(\"This DBR version does not support data profiles.\")",
       "commandTitle": "데이터 프로필 1",
       "commandType": "auto",
       "commandVersion": 0,
       "commentThread": [],
       "commentsVisible": false,
       "contentSha256Hex": null,
       "customPlotOptions": {},
       "datasetPreviewNameToCmdIdMap": {},
       "diffDeletes": [],
       "diffInserts": [],
       "displayType": "table",
       "error": null,
       "errorDetails": null,
       "errorSummary": null,
       "errorTraceType": null,
       "finishTime": 1749603841900,
       "globalVars": {},
       "guid": "",
       "height": "auto",
       "hideCommandCode": false,
       "hideCommandResult": false,
       "iPythonMetadata": null,
       "inputWidgets": {},
       "isLockedInExamMode": false,
       "latestUser": "a user",
       "latestUserId": null,
       "listResultMetadata": null,
       "metadata": {
        "byteLimit": 2048000,
        "rowLimit": 10000
       },
       "nuid": "79b9bae4-6b03-41fa-83e8-de57bf0d15f0",
       "origId": 0,
       "parentHierarchy": [],
       "pivotAggregation": null,
       "pivotColumns": null,
       "position": 7.03919529240338,
       "resultDbfsErrorMessage": null,
       "resultDbfsStatus": "INLINED_IN_TREE",
       "results": null,
       "showCommandTitle": false,
       "startTime": 1749603841900,
       "state": "input",
       "streamStates": {},
       "subcommandOptions": null,
       "submitTime": 1749603502533,
       "subtype": "tableResultSubCmd.dataSummary",
       "tableResultIndex": 0,
       "tableResultSettingsMap": {},
       "useConsistentColors": false,
       "version": "CommandV1",
       "width": "auto",
       "workflows": null,
       "xColumns": null,
       "yColumns": null
      }
     },
     "output_type": "display_data"
    }
   ],
   "source": [
    "display(ap_reduced_df)"
   ]
  },
  {
   "cell_type": "markdown",
   "metadata": {
    "application/vnd.databricks.v1+cell": {
     "cellMetadata": {
      "byteLimit": 2048000,
      "rowLimit": 10000
     },
     "inputWidgets": {},
     "nuid": "560483d1-2e8e-4c3d-98c0-f1e0c268e554",
     "showTitle": false,
     "tableResultSettingsMap": {},
     "title": ""
    }
   },
   "source": [
    "#### 기간 외 다중공선성 쌍 필터링"
   ]
  },
  {
   "cell_type": "code",
   "execution_count": 0,
   "metadata": {
    "application/vnd.databricks.v1+cell": {
     "cellMetadata": {
      "byteLimit": 2048000,
      "rowLimit": 10000
     },
     "inputWidgets": {},
     "nuid": "c726c233-ecc3-4ee6-8c69-019d4c0fc802",
     "showTitle": false,
     "tableResultSettingsMap": {},
     "title": ""
    }
   },
   "outputs": [],
   "source": [
    "from pyspark.sql.functions import col\n",
    "\n",
    "# 층화 샘플링 실행\n",
    "print(\"=== 층화 샘플링 실행 ===\")\n",
    "apr_sampled_df = stratified_sampling(ap_reduced_df, sample_fraction)\n",
    "apr_sampled_count = apr_sampled_df.count()\n",
    "print(f\"샘플 데이터: {apr_sampled_count:,}\")\n",
    "\n",
    "# 빠른 분석 실행 (모든 피처 사용)\n",
    "apr_corr_matrix, apr_cols_names = fast_correlation_analysis(apr_sampled_df)\n",
    "print(\"상관관계 계산 완료!\")\n",
    "\n",
    "# 높은 상관관계 분석\n",
    "apr_high_corrs, apr_corr_array = get_high_correlations(apr_corr_matrix, apr_cols_names)\n",
    "\n",
    "apr_high_corrs"
   ]
  },
  {
   "cell_type": "code",
   "execution_count": 0,
   "metadata": {
    "application/vnd.databricks.v1+cell": {
     "cellMetadata": {
      "byteLimit": 2048000,
      "rowLimit": 10000
     },
     "inputWidgets": {},
     "nuid": "26f02c5f-b58b-44af-9fee-04ef340c2d6e",
     "showTitle": false,
     "tableResultSettingsMap": {},
     "title": ""
    }
   },
   "outputs": [],
   "source": [
    "# 다중공선성 검사\n",
    "apr_multicollinear = check_multicollinearity(apr_corr_matrix, apr_cols_names, 0.9)\n",
    "\n",
    "print(f\"\\n=== 다중공선성 위험 ({len(apr_multicollinear)}개) ===\")\n",
    "for pair in apr_multicollinear:\n",
    "    print(f\"⚠️ {pair['feature1']} ↔ {pair['feature2']}: {pair['correlation']:.3f}\")"
   ]
  },
  {
   "cell_type": "markdown",
   "metadata": {
    "application/vnd.databricks.v1+cell": {
     "cellMetadata": {
      "byteLimit": 2048000,
      "rowLimit": 10000
     },
     "inputWidgets": {},
     "nuid": "4225a304-31ef-4037-9b5a-bd1389f08ef0",
     "showTitle": false,
     "tableResultSettingsMap": {},
     "title": ""
    }
   },
   "source": [
    "⇒ 모두 동일 컬럼 내용에, 기간만 다른 경우임\n",
    "- R12M 기준으로 대표 기간 컬럼 유지\n",
    "  - → 장기 소비 패턴 기반으로 고객군 구분에 적합"
   ]
  },
  {
   "cell_type": "code",
   "execution_count": 0,
   "metadata": {
    "application/vnd.databricks.v1+cell": {
     "cellMetadata": {
      "byteLimit": 2048000,
      "rowLimit": 10000
     },
     "inputWidgets": {},
     "nuid": "7cc44d00-55b5-4eef-8f4e-aad586ae37ec",
     "showTitle": false,
     "tableResultSettingsMap": {},
     "title": ""
    }
   },
   "outputs": [],
   "source": [
    "apr_multicollinear"
   ]
  },
  {
   "cell_type": "code",
   "execution_count": 0,
   "metadata": {
    "application/vnd.databricks.v1+cell": {
     "cellMetadata": {
      "byteLimit": 2048000,
      "rowLimit": 10000
     },
     "inputWidgets": {},
     "nuid": "9bfecbbb-c957-492c-8923-6d8ddec32af9",
     "showTitle": false,
     "tableResultSettingsMap": {},
     "title": ""
    }
   },
   "outputs": [],
   "source": [
    "import re\n",
    "\n",
    "# 우선순위 매핑\n",
    "period_priority = ['R12M', 'R6M', 'R3M', 'B0M', 'B1M', 'B2M']\n",
    "period_rank = {p: i for i, p in enumerate(period_priority)}\n",
    "\n",
    "# 제거 대상 저장\n",
    "drop_cols = set()\n",
    "\n",
    "# 각 공선성 쌍에 대해 비교\n",
    "for pair in apr_multicollinear:\n",
    "    f1, f2 = pair[\"feature1\"], pair[\"feature2\"]\n",
    "\n",
    "    # 기간 추출\n",
    "    m1 = re.search(r'(B\\d+M|R\\d+M)', f1)\n",
    "    m2 = re.search(r'(B\\d+M|R\\d+M)', f2)\n",
    "\n",
    "    # 둘 다 기간을 가진 경우만 처리\n",
    "    if m1 and m2:\n",
    "        p1, p2 = m1.group(), m2.group()\n",
    "\n",
    "        # 우선순위 비교\n",
    "        if period_rank.get(p1, 999) < period_rank.get(p2, 999):\n",
    "            drop_cols.add(f2)\n",
    "        else:\n",
    "            drop_cols.add(f1)\n",
    "\n",
    "# 결과 확인\n",
    "print(f\"🔍 공선성 기반 제거 대상 수: {len(drop_cols)}\")\n",
    "print(f\"🧹 제거할 컬럼 리스트:\\n{sorted(drop_cols)}\")\n"
   ]
  },
  {
   "cell_type": "code",
   "execution_count": 0,
   "metadata": {
    "application/vnd.databricks.v1+cell": {
     "cellMetadata": {
      "byteLimit": 2048000,
      "rowLimit": 10000
     },
     "inputWidgets": {},
     "nuid": "b802399f-c1af-4e3c-996b-a12201e5c28e",
     "showTitle": false,
     "tableResultSettingsMap": {},
     "title": ""
    }
   },
   "outputs": [],
   "source": [
    "drop_cols"
   ]
  },
  {
   "cell_type": "code",
   "execution_count": 0,
   "metadata": {
    "application/vnd.databricks.v1+cell": {
     "cellMetadata": {
      "byteLimit": 2048000,
      "rowLimit": 10000
     },
     "inputWidgets": {},
     "nuid": "a792b8d1-9f38-4993-9042-404d05166ae2",
     "showTitle": false,
     "tableResultSettingsMap": {},
     "title": ""
    }
   },
   "outputs": [],
   "source": [
    "# 제거 실행\n",
    "ap_rr_df = ap_reduced_df.drop(*drop_cols)\n",
    "\n",
    "print(f\"최종 컬럼 수 (클러스터링용): {len(ap_rr_df.columns)}\")\n"
   ]
  },
  {
   "cell_type": "markdown",
   "metadata": {
    "application/vnd.databricks.v1+cell": {
     "cellMetadata": {
      "byteLimit": 2048000,
      "rowLimit": 10000
     },
     "inputWidgets": {},
     "nuid": "3c6c737a-ed28-4232-ad09-73869d07a9d7",
     "showTitle": false,
     "tableResultSettingsMap": {},
     "title": ""
    }
   },
   "source": [
    "### 💡 데이터 추출"
   ]
  },
  {
   "cell_type": "code",
   "execution_count": 0,
   "metadata": {
    "application/vnd.databricks.v1+cell": {
     "cellMetadata": {
      "byteLimit": 2048000,
      "rowLimit": 10000
     },
     "inputWidgets": {},
     "nuid": "7824e431-5704-4424-a99b-bb6085d1705a",
     "showTitle": false,
     "tableResultSettingsMap": {},
     "title": ""
    }
   },
   "outputs": [],
   "source": [
    "### 데이터 베이스 사용 설정\n",
    "ap_rr_df = ap_rr_df.cache()\n",
    "spark.sql(\"USE database_pjt\")\n",
    "print(\"현재 데이터베이스를 'database_pjt'로 설정\")\n",
    "\n",
    "ap_rr_df.write.mode(\"overwrite\").saveAsTable(\"3_amount_period\")\n",
    "print(\"이용금액(기간 포함) 관련 테이블 생성 완료\")"
   ]
  },
  {
   "cell_type": "code",
   "execution_count": 0,
   "metadata": {
    "application/vnd.databricks.v1+cell": {
     "cellMetadata": {
      "byteLimit": 2048000,
      "rowLimit": 10000
     },
     "inputWidgets": {},
     "nuid": "427c5db3-7dbe-4da9-a344-2a9b07242553",
     "showTitle": false,
     "tableResultSettingsMap": {},
     "title": ""
    }
   },
   "outputs": [],
   "source": [
    "### 데이터 베이스 사용 설정\n",
    "ap_rr_df = ap_rr_df.cache()\n",
    "spark.sql(\"USE database_03_cache\")\n",
    "print(\"현재 데이터베이스를 'database_03_cache'로 설정\")\n",
    "\n",
    "ap_rr_df.write.mode(\"overwrite\").saveAsTable(\"amount_period_df_fin\")\n",
    "print(\"이용금액(기간 포함) 관련 테이블 생성 완료\")"
   ]
  },
  {
   "cell_type": "code",
   "execution_count": 0,
   "metadata": {
    "application/vnd.databricks.v1+cell": {
     "cellMetadata": {
      "byteLimit": 2048000,
      "rowLimit": 10000
     },
     "inputWidgets": {},
     "nuid": "9d471827-c77a-4e14-9fed-93033364d3b3",
     "showTitle": false,
     "tableResultSettingsMap": {},
     "title": ""
    }
   },
   "outputs": [],
   "source": [
    "### 확인\n",
    "df1 = spark.read.table(\"database_03_cache.amount_period_df_fin\")\n",
    "\n",
    "print(len(df1.columns))\n",
    "df1.printSchema()"
   ]
  },
  {
   "cell_type": "markdown",
   "metadata": {
    "application/vnd.databricks.v1+cell": {
     "cellMetadata": {
      "byteLimit": 2048000,
      "rowLimit": 10000
     },
     "inputWidgets": {},
     "nuid": "1bb58a07-93fe-45cd-8060-7ffdef65025b",
     "showTitle": false,
     "tableResultSettingsMap": {},
     "title": ""
    }
   },
   "source": [
    "---"
   ]
  },
  {
   "cell_type": "markdown",
   "metadata": {
    "application/vnd.databricks.v1+cell": {
     "cellMetadata": {
      "byteLimit": 2048000,
      "rowLimit": 10000
     },
     "inputWidgets": {},
     "nuid": "c42f9617-05cd-4d52-9d6f-b7b617b893d2",
     "showTitle": false,
     "tableResultSettingsMap": {},
     "title": ""
    }
   },
   "source": [
    "# 2. 기간 불포함 컬럼"
   ]
  },
  {
   "cell_type": "code",
   "execution_count": 0,
   "metadata": {
    "application/vnd.databricks.v1+cell": {
     "cellMetadata": {
      "byteLimit": 2048000,
      "rowLimit": 10000
     },
     "inputWidgets": {},
     "nuid": "adb6ff99-9afe-4845-bd6c-b1fb8727b8a4",
     "showTitle": false,
     "tableResultSettingsMap": {},
     "title": ""
    }
   },
   "outputs": [],
   "source": [
    "amount_nonperiod_df = spark.read.table(\"database_03_cache.amount_nonperiod_df\")"
   ]
  },
  {
   "cell_type": "code",
   "execution_count": 0,
   "metadata": {
    "application/vnd.databricks.v1+cell": {
     "cellMetadata": {
      "byteLimit": 2048000,
      "rowLimit": 10000
     },
     "inputWidgets": {},
     "nuid": "e0f3b83d-a323-4dbf-9a16-45caba49ff19",
     "showTitle": false,
     "tableResultSettingsMap": {},
     "title": ""
    }
   },
   "outputs": [],
   "source": [
    "amount_nonperiod_df = amount_nonperiod_df.drop('이용금액대')"
   ]
  },
  {
   "cell_type": "code",
   "execution_count": 0,
   "metadata": {
    "application/vnd.databricks.v1+cell": {
     "cellMetadata": {
      "byteLimit": 2048000,
      "rowLimit": 10000
     },
     "inputWidgets": {},
     "nuid": "1a0af7da-f595-43f1-8f63-635e4bf4e82c",
     "showTitle": false,
     "tableResultSettingsMap": {},
     "title": ""
    }
   },
   "outputs": [],
   "source": [
    "amount_nonperiod_columns = amount_nonperiod_df.columns\n",
    "len(amount_nonperiod_columns)"
   ]
  },
  {
   "cell_type": "code",
   "execution_count": 0,
   "metadata": {
    "application/vnd.databricks.v1+cell": {
     "cellMetadata": {
      "byteLimit": 2048000,
      "rowLimit": 10000
     },
     "inputWidgets": {},
     "nuid": "25558888-105c-4501-8027-ad35491ea91b",
     "showTitle": false,
     "tableResultSettingsMap": {},
     "title": ""
    }
   },
   "outputs": [
    {
     "output_type": "display_data",
     "data": {
      "text/plain": [
       "Databricks data profile. Run in Databricks to view."
      ]
     },
     "metadata": {
      "application/vnd.databricks.v1.subcommand+json": {
       "baseErrorDetails": null,
       "bindings": {},
       "collapsed": false,
       "command": "%python\nif hasattr(dbutils, \"data\") and hasattr(dbutils.data, \"summarize\"):\n  # setup\n  __data_summary_display_orig = display\n  __data_summary_dfs = []\n  def __data_summary_display_new(df):\n    # add only when result is going to be table type\n    __data_summary_df_modules = [\"pandas.core.frame\", \"databricks.koalas.frame\", \"pyspark.sql.dataframe\", \"pyspark.pandas.frame\", \"pyspark.sql.connect.dataframe\", \"pyspark.sql.classic.dataframe\"]\n    if (type(df).__module__ in __data_summary_df_modules and type(df).__name__ == 'DataFrame') or isinstance(df, list):\n      __data_summary_dfs.append(df)\n  display = __data_summary_display_new\n\n  def __data_summary_user_code_fn():\n    import base64\n    exec(base64.standard_b64decode(\"IyA2NeqwnCDsu6zrn7wKZGlzcGxheShhbW91bnRfbm9ucGVyaW9kX2RmKQ==\").decode())\n\n  try:\n    # run user code\n    __data_summary_user_code_fn()\n\n    # run on valid tableResultIndex\n    if len(__data_summary_dfs) > 0:\n      # run summarize\n      if type(__data_summary_dfs[0]).__module__ == \"databricks.koalas.frame\":\n        # koalas dataframe\n        dbutils.data.summarize(__data_summary_dfs[0].to_spark())\n      elif type(__data_summary_dfs[0]).__module__ == \"pandas.core.frame\":\n        # pandas dataframe\n        dbutils.data.summarize(spark.createDataFrame(__data_summary_dfs[0]))\n      else:\n        dbutils.data.summarize(__data_summary_dfs[0])\n    else:\n        displayHTML(\"dataframe no longer exists. If you're using dataframe.display(), use display(dataframe) instead.\")\n\n  finally:\n    display = __data_summary_display_orig\n    del __data_summary_display_new\n    del __data_summary_display_orig\n    del __data_summary_dfs\n    del __data_summary_user_code_fn\nelse:\n  print(\"This DBR version does not support data profiles.\")",
       "commandTitle": "데이터 프로필 1",
       "commandType": "auto",
       "commandVersion": 0,
       "commentThread": [],
       "commentsVisible": false,
       "contentSha256Hex": null,
       "customPlotOptions": {},
       "datasetPreviewNameToCmdIdMap": {},
       "diffDeletes": [],
       "diffInserts": [],
       "displayType": "table",
       "error": null,
       "errorDetails": null,
       "errorSummary": null,
       "errorTraceType": null,
       "finishTime": 1749603841900,
       "globalVars": {},
       "guid": "",
       "height": "auto",
       "hideCommandCode": false,
       "hideCommandResult": false,
       "iPythonMetadata": null,
       "inputWidgets": {},
       "isLockedInExamMode": false,
       "latestUser": "a user",
       "latestUserId": null,
       "listResultMetadata": null,
       "metadata": {
        "byteLimit": 2048000,
        "rowLimit": 10000
       },
       "nuid": "b7b7cdab-0f16-47ed-a6b6-863c9b2310ec",
       "origId": 0,
       "parentHierarchy": [],
       "pivotAggregation": null,
       "pivotColumns": null,
       "position": 8.483455882352935,
       "resultDbfsErrorMessage": null,
       "resultDbfsStatus": "INLINED_IN_TREE",
       "results": null,
       "showCommandTitle": false,
       "startTime": 1749603841900,
       "state": "input",
       "streamStates": {},
       "subcommandOptions": null,
       "submitTime": 1749603502736,
       "subtype": "tableResultSubCmd.dataSummary",
       "tableResultIndex": 0,
       "tableResultSettingsMap": {},
       "useConsistentColors": false,
       "version": "CommandV1",
       "width": "auto",
       "workflows": null,
       "xColumns": null,
       "yColumns": null
      }
     },
     "output_type": "display_data"
    }
   ],
   "source": [
    "# 65개 컬럼\n",
    "display(amount_nonperiod_df)"
   ]
  },
  {
   "cell_type": "code",
   "execution_count": 0,
   "metadata": {
    "application/vnd.databricks.v1+cell": {
     "cellMetadata": {
      "byteLimit": 2048000,
      "rowLimit": 10000
     },
     "inputWidgets": {},
     "nuid": "c468fbd3-fe2d-4f7f-b463-0b1227bc1861",
     "showTitle": false,
     "tableResultSettingsMap": {},
     "title": ""
    }
   },
   "outputs": [],
   "source": [
    "# 수치형 컬럼\n",
    "nonperiod_numeric_cols = [c for c, t in amount_nonperiod_df.dtypes if t in (\"int\", \"bigint\", \"float\", \"double\")]\n",
    "\n",
    "len(nonperiod_numeric_cols)"
   ]
  },
  {
   "cell_type": "code",
   "execution_count": 0,
   "metadata": {
    "application/vnd.databricks.v1+cell": {
     "cellMetadata": {
      "byteLimit": 2048000,
      "rowLimit": 10000
     },
     "inputWidgets": {},
     "nuid": "65a97069-d007-4a4e-acfc-490b4ae2af41",
     "showTitle": false,
     "tableResultSettingsMap": {},
     "title": ""
    }
   },
   "outputs": [],
   "source": [
    "# 전체 레코드 수\n",
    "total_count = amount_nonperiod_df.count()\n",
    "total_count"
   ]
  },
  {
   "cell_type": "markdown",
   "metadata": {
    "application/vnd.databricks.v1+cell": {
     "cellMetadata": {
      "byteLimit": 2048000,
      "rowLimit": 10000
     },
     "inputWidgets": {},
     "nuid": "b7f96ec3-e650-4383-999b-0274f5099744",
     "showTitle": false,
     "tableResultSettingsMap": {},
     "title": ""
    }
   },
   "source": [
    "## 1) 희소(sparse)한 컬럼 처리_"
   ]
  },
  {
   "cell_type": "code",
   "execution_count": 0,
   "metadata": {
    "application/vnd.databricks.v1+cell": {
     "cellMetadata": {
      "byteLimit": 2048000,
      "rowLimit": 10000
     },
     "inputWidgets": {},
     "nuid": "859e0d88-395c-4270-8d59-9a3e31a10872",
     "showTitle": false,
     "tableResultSettingsMap": {},
     "title": ""
    }
   },
   "outputs": [],
   "source": [
    "# 최종 목표 \n",
    "# 64(기존 컬럼 개수) - 3 (0이 100%인 컬럼 수) + 1 (0이 0.7%이상, 1미만인 컬럼을 이진화 후 컬럼 하나로 압축)\n",
    "64 -3 + 1 - 37     #25"
   ]
  },
  {
   "cell_type": "code",
   "execution_count": 0,
   "metadata": {
    "application/vnd.databricks.v1+cell": {
     "cellMetadata": {
      "byteLimit": 2048000,
      "rowLimit": 10000
     },
     "inputWidgets": {},
     "nuid": "6beebe17-46b4-4853-b0e9-3a1aaefee74e",
     "showTitle": false,
     "tableResultSettingsMap": {},
     "title": ""
    }
   },
   "outputs": [],
   "source": [
    "from pyspark.sql.functions import col, when, sum as Fsum\n",
    "from pyspark.ml.feature import VectorAssembler\n",
    "\n",
    "# 1. 전체 수치형 컬럼 중 0 비율 기준으로 나누기\n",
    "zero_ratio_cols = []     # 0이 70% 이상, 100% 미만인 컬럼\n",
    "zero_only_cols = []      # 전부 0인 컬럼\n",
    "\n",
    "\n",
    "# 전부 0인 컬럼 탐지\n",
    "sum_df = amount_nonperiod_df.select([Fsum(col(c)).alias(c) for c in nonperiod_numeric_cols])\n",
    "for c in sum_df.columns:\n",
    "    if sum_df.select(c).collect()[0][0] == 0:\n",
    "        zero_only_cols.append(c)\n",
    "print(len(zero_only_cols))\n",
    "\n",
    "# 일부만 0인 희소 컬럼 탐지\n",
    "for c in nonperiod_numeric_cols:\n",
    "    if c not in zero_only_cols:\n",
    "        zero_count = amount_nonperiod_df.filter(col(c) == 0).count()\n",
    "        ratio = zero_count / total_count\n",
    "        if 0.7 <= ratio < 1.0:\n",
    "            zero_ratio_cols.append(c)\n",
    "print(len(zero_ratio_cols))"
   ]
  },
  {
   "cell_type": "code",
   "execution_count": 0,
   "metadata": {
    "application/vnd.databricks.v1+cell": {
     "cellMetadata": {
      "byteLimit": 2048000,
      "rowLimit": 10000
     },
     "inputWidgets": {},
     "nuid": "51f39eaa-0cd6-42b0-92cb-9b29cab9f79d",
     "showTitle": false,
     "tableResultSettingsMap": {},
     "title": ""
    }
   },
   "outputs": [],
   "source": [
    "import matplotlib.pyplot as plt\n",
    "import matplotlib.pyplot as plt\n",
    "\n",
    "# 사용자 코드 실행 이후 결과값 예시 (실제 값은 사용자 환경에서 가져와야 함)\n",
    "num_zero_only = len(zero_ratio_cols)\n",
    "num_zero_ratio = len(zero_only_cols)\n",
    "num_total = len(amount_nonperiod_columns)\n",
    "\n",
    "num_remaining = num_total - num_zero_only - num_zero_ratio\n",
    "\n",
    "# 라벨과 값\n",
    "labels = ['0이 100%인 컬럼', '0이 70~99%인 컬럼', '그 외 컬럼']\n",
    "sizes = [num_zero_only, num_zero_ratio, num_remaining]\n",
    "colors = ['#15A2DB', '#065B9C', '#999999']\n",
    "\n",
    "# 시각화\n",
    "plt.figure(figsize=(6, 6))\n",
    "wedges, texts, autotexts = plt.pie(\n",
    "    sizes,\n",
    "    labels=labels,\n",
    "    autopct='%1.1f%%',\n",
    "    startangle=140,\n",
    "    colors=colors\n",
    ")\n",
    "\n",
    "# 내부 텍스트(비율 텍스트) 스타일 조정\n",
    "for autotext in autotexts:\n",
    "    autotext.set_fontsize(15)\n",
    "    autotext.set_color('white')\n",
    "    autotext.set_fontweight('bold')\n",
    "\n",
    "# 외부 라벨 텍스트 스타일 조정\n",
    "for text in texts:\n",
    "    text.set_fontsize(13)\n",
    "    text.set_color('black')\n",
    "\n",
    "plt.title('0 비율 기준 컬럼 구성 비율', fontsize=15)\n",
    "plt.tight_layout()\n",
    "plt.show()"
   ]
  },
  {
   "cell_type": "code",
   "execution_count": 0,
   "metadata": {
    "application/vnd.databricks.v1+cell": {
     "cellMetadata": {
      "byteLimit": 2048000,
      "rowLimit": 10000
     },
     "inputWidgets": {},
     "nuid": "1ca0db5a-75d9-4805-a97a-3cb70465a477",
     "showTitle": false,
     "tableResultSettingsMap": {},
     "title": ""
    }
   },
   "outputs": [],
   "source": [
    "# 2. 전부 0인 컬럼 제거\n",
    "anp_df = amount_nonperiod_df.drop(*zero_only_cols)\n",
    "print(len(anp_df.columns))  # 64-3 =61\n",
    "\n",
    "# 3. 이진화된 컬럼 추가\n",
    "for zcol in zero_ratio_cols:\n",
    "    anp_df = anp_df.withColumn(f\"{zcol}_사용여부\", when(col(zcol) > 0, 1).otherwise(0))\n",
    "print(len(anp_df.columns))  # 61 + 37 = 98\n",
    "\n",
    "# 4. 벡터화\n",
    "assembler = VectorAssembler(\n",
    "    inputCols=[f\"{z}_사용여부\" for z in zero_ratio_cols],\n",
    "    outputCol=\"사용패턴벡터\"    # 98+1 = 99\n",
    ")\n",
    "anp_df = assembler.transform(anp_df)\n",
    "print(len(anp_df.columns))\n",
    "\n",
    "# 5. 이진화된 컬럼 제거하고 벡터만 남김\n",
    "anp_df = anp_df.drop(*[f\"{z}_사용여부\" for z in zero_ratio_cols])\n",
    "print(len(anp_df.columns))   # 99-37 = 62\n",
    "\n",
    "# 6. 0이 70% 이상인 기존 컬럼도 삭제\n",
    "anp_df = anp_df.drop(*zero_ratio_cols)\n",
    "\n",
    "print(len(ap_df.columns))  # 64 -3 + 1 - 37     #25\n",
    "display(ap_df)"
   ]
  },
  {
   "cell_type": "code",
   "execution_count": 0,
   "metadata": {
    "application/vnd.databricks.v1+cell": {
     "cellMetadata": {
      "byteLimit": 2048000,
      "rowLimit": 10000
     },
     "inputWidgets": {},
     "nuid": "7f89c396-f4f6-448e-8e8b-801a4b911389",
     "showTitle": false,
     "tableResultSettingsMap": {},
     "title": ""
    }
   },
   "outputs": [
    {
     "output_type": "display_data",
     "data": {
      "text/plain": [
       "Databricks data profile. Run in Databricks to view."
      ]
     },
     "metadata": {
      "application/vnd.databricks.v1.subcommand+json": {
       "baseErrorDetails": null,
       "bindings": {},
       "collapsed": false,
       "command": "%python\nif hasattr(dbutils, \"data\") and hasattr(dbutils.data, \"summarize\"):\n  # setup\n  __data_summary_display_orig = display\n  __data_summary_dfs = []\n  def __data_summary_display_new(df):\n    # add only when result is going to be table type\n    __data_summary_df_modules = [\"pandas.core.frame\", \"databricks.koalas.frame\", \"pyspark.sql.dataframe\", \"pyspark.pandas.frame\", \"pyspark.sql.connect.dataframe\", \"pyspark.sql.classic.dataframe\"]\n    if (type(df).__module__ in __data_summary_df_modules and type(df).__name__ == 'DataFrame') or isinstance(df, list):\n      __data_summary_dfs.append(df)\n  display = __data_summary_display_new\n\n  def __data_summary_user_code_fn():\n    import base64\n    exec(base64.standard_b64decode(\"ZGlzcGxheShhbnBfZGYp\").decode())\n\n  try:\n    # run user code\n    __data_summary_user_code_fn()\n\n    # run on valid tableResultIndex\n    if len(__data_summary_dfs) > 0:\n      # run summarize\n      if type(__data_summary_dfs[0]).__module__ == \"databricks.koalas.frame\":\n        # koalas dataframe\n        dbutils.data.summarize(__data_summary_dfs[0].to_spark())\n      elif type(__data_summary_dfs[0]).__module__ == \"pandas.core.frame\":\n        # pandas dataframe\n        dbutils.data.summarize(spark.createDataFrame(__data_summary_dfs[0]))\n      else:\n        dbutils.data.summarize(__data_summary_dfs[0])\n    else:\n        displayHTML(\"dataframe no longer exists. If you're using dataframe.display(), use display(dataframe) instead.\")\n\n  finally:\n    display = __data_summary_display_orig\n    del __data_summary_display_new\n    del __data_summary_display_orig\n    del __data_summary_dfs\n    del __data_summary_user_code_fn\nelse:\n  print(\"This DBR version does not support data profiles.\")",
       "commandTitle": "데이터 프로필 1",
       "commandType": "auto",
       "commandVersion": 0,
       "commentThread": [],
       "commentsVisible": false,
       "contentSha256Hex": null,
       "customPlotOptions": {},
       "datasetPreviewNameToCmdIdMap": {},
       "diffDeletes": [],
       "diffInserts": [],
       "displayType": "table",
       "error": null,
       "errorDetails": null,
       "errorSummary": null,
       "errorTraceType": null,
       "finishTime": 1749603841900,
       "globalVars": {},
       "guid": "",
       "height": "auto",
       "hideCommandCode": false,
       "hideCommandResult": false,
       "iPythonMetadata": null,
       "inputWidgets": {},
       "isLockedInExamMode": false,
       "latestUser": "a user",
       "latestUserId": null,
       "listResultMetadata": null,
       "metadata": {
        "byteLimit": 2048000,
        "rowLimit": 10000
       },
       "nuid": "8db851ca-1f61-4245-b11d-df09e83eece2",
       "origId": 0,
       "parentHierarchy": [],
       "pivotAggregation": null,
       "pivotColumns": null,
       "position": 1.0,
       "resultDbfsErrorMessage": null,
       "resultDbfsStatus": "INLINED_IN_TREE",
       "results": null,
       "showCommandTitle": false,
       "startTime": 1749603841900,
       "state": "input",
       "streamStates": {},
       "subcommandOptions": null,
       "submitTime": 1749603501601,
       "subtype": "tableResultSubCmd.dataSummary",
       "tableResultIndex": 0,
       "tableResultSettingsMap": {},
       "useConsistentColors": false,
       "version": "CommandV1",
       "width": "auto",
       "workflows": null,
       "xColumns": null,
       "yColumns": null
      }
     },
     "output_type": "display_data"
    }
   ],
   "source": [
    "display(anp_df)"
   ]
  },
  {
   "cell_type": "markdown",
   "metadata": {
    "application/vnd.databricks.v1+cell": {
     "cellMetadata": {
      "byteLimit": 2048000,
      "rowLimit": 10000
     },
     "inputWidgets": {},
     "nuid": "e044a1ae-6ad5-4bf6-9e50-e89cded05e4c",
     "showTitle": false,
     "tableResultSettingsMap": {},
     "title": ""
    }
   },
   "source": [
    "## 2) 이상치 처리/스케일링 - 로그 변환\n",
    "테이블 분석에서 box plot 확인 결과 대부분 positive skew로 이상치 많은 분포임. 따라서 로그 변환"
   ]
  },
  {
   "cell_type": "code",
   "execution_count": 0,
   "metadata": {
    "application/vnd.databricks.v1+cell": {
     "cellMetadata": {
      "byteLimit": 2048000,
      "rowLimit": 10000
     },
     "inputWidgets": {},
     "nuid": "a953b422-dc6e-4ccf-ac24-06db8688e211",
     "showTitle": false,
     "tableResultSettingsMap": {},
     "title": ""
    }
   },
   "outputs": [],
   "source": [
    "# 수치형 컬럼\n",
    "anp_numeric_cols = [c for c, t in anp_df.dtypes if t in (\"int\", \"bigint\", \"float\", \"double\")]\n",
    "\n",
    "len(anp_numeric_cols)\n",
    "anp_numeric_cols"
   ]
  },
  {
   "cell_type": "code",
   "execution_count": 0,
   "metadata": {
    "application/vnd.databricks.v1+cell": {
     "cellMetadata": {
      "byteLimit": 2048000,
      "rowLimit": 10000
     },
     "inputWidgets": {},
     "nuid": "fef6687a-8a83-4d74-a4a2-d9276a40263f",
     "showTitle": false,
     "tableResultSettingsMap": {},
     "title": ""
    }
   },
   "outputs": [],
   "source": [
    "from pyspark.sql.functions import log1p, col\n",
    "# anp = anp_df.copy()\n",
    "\n",
    "# 로그 변환\n",
    "for col_name in anp_numeric_cols:\n",
    "    anp_df = anp_df.withColumn(col_name, log1p(col(col_name)))\n",
    "# 음수 없는 듯"
   ]
  },
  {
   "cell_type": "code",
   "execution_count": 0,
   "metadata": {
    "application/vnd.databricks.v1+cell": {
     "cellMetadata": {
      "byteLimit": 2048000,
      "rowLimit": 10000
     },
     "inputWidgets": {},
     "nuid": "17f65037-a89f-45fa-b583-0d7a6f32b4b4",
     "showTitle": false,
     "tableResultSettingsMap": {},
     "title": ""
    }
   },
   "outputs": [
    {
     "output_type": "display_data",
     "data": {
      "text/plain": [
       "Databricks data profile. Run in Databricks to view."
      ]
     },
     "metadata": {
      "application/vnd.databricks.v1.subcommand+json": {
       "baseErrorDetails": null,
       "bindings": {},
       "collapsed": false,
       "command": "%python\nif hasattr(dbutils, \"data\") and hasattr(dbutils.data, \"summarize\"):\n  # setup\n  __data_summary_display_orig = display\n  __data_summary_dfs = []\n  def __data_summary_display_new(df):\n    # add only when result is going to be table type\n    __data_summary_df_modules = [\"pandas.core.frame\", \"databricks.koalas.frame\", \"pyspark.sql.dataframe\", \"pyspark.pandas.frame\", \"pyspark.sql.connect.dataframe\", \"pyspark.sql.classic.dataframe\"]\n    if (type(df).__module__ in __data_summary_df_modules and type(df).__name__ == 'DataFrame') or isinstance(df, list):\n      __data_summary_dfs.append(df)\n  display = __data_summary_display_new\n\n  def __data_summary_user_code_fn():\n    import base64\n    exec(base64.standard_b64decode(\"ZGlzcGxheShhbnBfZGYp\").decode())\n\n  try:\n    # run user code\n    __data_summary_user_code_fn()\n\n    # run on valid tableResultIndex\n    if len(__data_summary_dfs) > 0:\n      # run summarize\n      if type(__data_summary_dfs[0]).__module__ == \"databricks.koalas.frame\":\n        # koalas dataframe\n        dbutils.data.summarize(__data_summary_dfs[0].to_spark())\n      elif type(__data_summary_dfs[0]).__module__ == \"pandas.core.frame\":\n        # pandas dataframe\n        dbutils.data.summarize(spark.createDataFrame(__data_summary_dfs[0]))\n      else:\n        dbutils.data.summarize(__data_summary_dfs[0])\n    else:\n        displayHTML(\"dataframe no longer exists. If you're using dataframe.display(), use display(dataframe) instead.\")\n\n  finally:\n    display = __data_summary_display_orig\n    del __data_summary_display_new\n    del __data_summary_display_orig\n    del __data_summary_dfs\n    del __data_summary_user_code_fn\nelse:\n  print(\"This DBR version does not support data profiles.\")",
       "commandTitle": "데이터 프로필 1",
       "commandType": "auto",
       "commandVersion": 0,
       "commentThread": [],
       "commentsVisible": false,
       "contentSha256Hex": null,
       "customPlotOptions": {},
       "datasetPreviewNameToCmdIdMap": {},
       "diffDeletes": [],
       "diffInserts": [],
       "displayType": "table",
       "error": null,
       "errorDetails": null,
       "errorSummary": null,
       "errorTraceType": null,
       "finishTime": 1749603841900,
       "globalVars": {},
       "guid": "",
       "height": "auto",
       "hideCommandCode": false,
       "hideCommandResult": false,
       "iPythonMetadata": null,
       "inputWidgets": {},
       "isLockedInExamMode": false,
       "latestUser": "a user",
       "latestUserId": null,
       "listResultMetadata": null,
       "metadata": {
        "byteLimit": 2048000,
        "rowLimit": 10000
       },
       "nuid": "6abccc6f-e2ca-4cd7-a214-5b377c0fb3ba",
       "origId": 0,
       "parentHierarchy": [],
       "pivotAggregation": null,
       "pivotColumns": null,
       "position": 8.555721507352935,
       "resultDbfsErrorMessage": null,
       "resultDbfsStatus": "INLINED_IN_TREE",
       "results": null,
       "showCommandTitle": false,
       "startTime": 1749603841900,
       "state": "input",
       "streamStates": {},
       "subcommandOptions": null,
       "submitTime": 1749603502742,
       "subtype": "tableResultSubCmd.dataSummary",
       "tableResultIndex": 0,
       "tableResultSettingsMap": {},
       "useConsistentColors": false,
       "version": "CommandV1",
       "width": "auto",
       "workflows": null,
       "xColumns": null,
       "yColumns": null
      }
     },
     "output_type": "display_data"
    }
   ],
   "source": [
    "display(anp_df)"
   ]
  },
  {
   "cell_type": "markdown",
   "metadata": {
    "application/vnd.databricks.v1+cell": {
     "cellMetadata": {
      "byteLimit": 2048000,
      "rowLimit": 10000
     },
     "inputWidgets": {},
     "nuid": "cad78702-a1c7-4852-ba88-11ca7e0f3f37",
     "showTitle": false,
     "tableResultSettingsMap": {},
     "title": ""
    }
   },
   "source": [
    "## 3) 상관관계 분석 -\n",
    "pyspark.ml.stat.Correlation은 **벡터 열**(아래 코드에서 features변수)에에서만 작동하므로<br>\n",
    "→ 반드시 VectorAssembler 사용해야 함"
   ]
  },
  {
   "cell_type": "code",
   "execution_count": 0,
   "metadata": {
    "application/vnd.databricks.v1+cell": {
     "cellMetadata": {
      "byteLimit": 2048000,
      "rowLimit": 10000
     },
     "inputWidgets": {},
     "nuid": "a23bf4bd-e90d-4f01-87d6-e142ab1210a4",
     "showTitle": false,
     "tableResultSettingsMap": {},
     "title": ""
    }
   },
   "outputs": [],
   "source": [
    "# 1. 층화 샘플링 실행\n",
    "print(\"=== 층화 샘플링 실행 ===\")\n",
    "anp_sampled_df = stratified_sampling(anp_df, sample_fraction)\n",
    "anp_sampled_count = anp_sampled_df.count()\n",
    "print(f\"샘플 데이터: {anp_sampled_count:,}\")\n"
   ]
  },
  {
   "cell_type": "code",
   "execution_count": 0,
   "metadata": {
    "application/vnd.databricks.v1+cell": {
     "cellMetadata": {
      "byteLimit": 2048000,
      "rowLimit": 10000
     },
     "inputWidgets": {},
     "nuid": "44370d23-e9ec-4d5e-be3c-64145e68a33c",
     "showTitle": false,
     "tableResultSettingsMap": {},
     "title": ""
    }
   },
   "outputs": [],
   "source": [
    "# 2. 빠른 분석 실행 (모든 피처 사용)\n",
    "anp_corr_matrix, anp_cols_names = fast_correlation_analysis(anp_sampled_df)\n",
    "print(\"상관관계 계산 완료!\")"
   ]
  },
  {
   "cell_type": "code",
   "execution_count": 0,
   "metadata": {
    "application/vnd.databricks.v1+cell": {
     "cellMetadata": {
      "byteLimit": 2048000,
      "rowLimit": 10000
     },
     "inputWidgets": {},
     "nuid": "c054bd80-d273-48d8-a5ca-7e9bcc0b9027",
     "showTitle": false,
     "tableResultSettingsMap": {},
     "title": ""
    }
   },
   "outputs": [],
   "source": [
    "# 3. 높은 상관관계 분석\n",
    "anp_high_corrs, anp_corr_array = get_high_correlations(anp_corr_matrix, anp_cols_names)\n",
    "\n",
    "# anp_high_corrs"
   ]
  },
  {
   "cell_type": "markdown",
   "metadata": {
    "application/vnd.databricks.v1+cell": {
     "cellMetadata": {
      "byteLimit": 2048000,
      "rowLimit": 10000
     },
     "inputWidgets": {},
     "nuid": "328dad2f-55b0-4aeb-b103-e60165ad8321",
     "showTitle": false,
     "tableResultSettingsMap": {},
     "title": ""
    }
   },
   "source": [
    "- 이용금액_교통 ↔ 교통_전체이용금액: 1.000  \n",
    "- 이용금액_교통 ↔ _1순위교통업종_이용금액: 0.967  \n",
    "- 교통_전체이용금액 ↔ _1순위교통업종_이용금액: 0.967  \n",
    "- 교통_주유이용금액 ↔ _1순위교통업종_이용금액: 0.951\n",
    "- 이용금액_교통 ↔ 교통_주유이용금액: 0.916  \n",
    "- 교통_주유이용금액 ↔ 교통_전체이용금액: 0.916\n",
    "- 이용금액_교통 ↔ _3순위업종_이용금액: 0.821\n",
    "- 교통_전체이용금액 ↔ _3순위업종_이용금액: 0.821\n",
    "- 이용금액_교통 ↔ _2순위교통업종_이용금액: 0.812\n",
    "- 교통_전체이용금액 ↔ _2순위교통업종_이용금액: 0.812\n",
    "- _3순위업종_이용금액 ↔ _1순위교통업종_이용금액: 0.777\n",
    "- 교통_주유이용금액 ↔ _3순위업종_이용금액: 0.724\n",
    "- _2순위교통업종_이용금액 ↔ _3순위교통업종_이용금액: 0.720\n",
    "- 이용금액_교통 ↔ 이용금액_사교활동: 0.711\n",
    "- 이용금액_사교활동 ↔ 교통_전체이용금액: 0.711\n",
    "- 이용금액_교통 ↔ _2순위업종_이용금액: 0.705\n",
    "- 교통_전체이용금액 ↔ _2순위업종_이용금액: 0.705"
   ]
  },
  {
   "cell_type": "code",
   "execution_count": 0,
   "metadata": {
    "application/vnd.databricks.v1+cell": {
     "cellMetadata": {
      "byteLimit": 2048000,
      "rowLimit": 10000
     },
     "inputWidgets": {},
     "nuid": "0b018b9d-01bd-448d-8871-592d5535b743",
     "showTitle": false,
     "tableResultSettingsMap": {},
     "title": ""
    }
   },
   "outputs": [],
   "source": [
    "# 4. 다중공선성 검사 (0.9 이상)\n",
    "anp_multicollinear = check_multicollinearity(anp_corr_matrix, anp_cols_names, 0.9)\n",
    "\n",
    "print(f\"\\n=== 다중공선성 위험 ({len(anp_multicollinear)}개) ===\")\n",
    "for pair in anp_multicollinear:\n",
    "    print(f\"⚠️ {pair['feature1']} ↔ {pair['feature2']}: {pair['correlation']:.3f}\")"
   ]
  },
  {
   "cell_type": "code",
   "execution_count": 0,
   "metadata": {
    "application/vnd.databricks.v1+cell": {
     "cellMetadata": {
      "byteLimit": 2048000,
      "rowLimit": 10000
     },
     "inputWidgets": {},
     "nuid": "f2050c40-8c8d-4b7e-8f7b-f30cf79ca677",
     "showTitle": false,
     "tableResultSettingsMap": {},
     "title": ""
    }
   },
   "outputs": [],
   "source": [
    "# 5. 시각화\n",
    "plot_correlation_heatmaps(corr_array = anp_corr_array,\n",
    "                          feature_names = anp_cols_names)\n"
   ]
  },
  {
   "cell_type": "markdown",
   "metadata": {
    "application/vnd.databricks.v1+cell": {
     "cellMetadata": {
      "byteLimit": 2048000,
      "rowLimit": 10000
     },
     "inputWidgets": {},
     "nuid": "bf0a3cfe-c2a6-497f-8775-d7f34a38bbf3",
     "showTitle": false,
     "tableResultSettingsMap": {},
     "title": ""
    }
   },
   "source": [
    "### 3-1) 상관계수 기반_ 컬럼 처리"
   ]
  },
  {
   "cell_type": "code",
   "execution_count": 0,
   "metadata": {
    "application/vnd.databricks.v1+cell": {
     "cellMetadata": {
      "byteLimit": 2048000,
      "rowLimit": 10000
     },
     "inputWidgets": {},
     "nuid": "cf6bd3c7-7ffb-4445-9218-f7f34b7bf8b6",
     "showTitle": false,
     "tableResultSettingsMap": {},
     "title": ""
    }
   },
   "outputs": [],
   "source": [
    "drop_nonperiod_cols = [\n",
    "    '이용금액_쇼핑',\n",
    "    '_1순위업종_이용금액',\n",
    "\n",
    "    '이용금액_교통',\n",
    "    '교통_주유이용금액',\n",
    "    '_1순위교통업종_이용금액',\n",
    "\n",
    "    '이용금액_납부',\n",
    "    '_1순위납부업종_이용금액',\n",
    "\n",
    "    '이용금액_여유생활',\n",
    "    '여유_전체이용금액',\n",
    "    '_1순위여유업종_이용금액',\n",
    "\n",
    "    '쇼핑_온라인_이용금액',\n",
    "    '_3순위쇼핑업종_이용금액'\n",
    "]\n",
    "len(drop_nonperiod_cols)\n"
   ]
  },
  {
   "cell_type": "code",
   "execution_count": 0,
   "metadata": {
    "application/vnd.databricks.v1+cell": {
     "cellMetadata": {
      "byteLimit": 2048000,
      "rowLimit": 10000
     },
     "inputWidgets": {},
     "nuid": "d6af5058-a829-44a4-92fc-d3e234450a5a",
     "showTitle": false,
     "tableResultSettingsMap": {},
     "title": ""
    }
   },
   "outputs": [],
   "source": [
    "# rename_dict = {\n",
    "#     \"교통_주유이용금액\": \"교통_주유이용금액(1순위교통_전체)\",\n",
    "#     \"이용후경과월_일시불\": \"일시불_경과월\",\n",
    "#     \"이용후경과월_할부\": \"할부_경과월\"\n",
    "# }\n",
    "\n",
    "# for old_col, new_col in rename_dict.items():\n",
    "#     df = df.withColumnRenamed(old_col, new_col)\n"
   ]
  },
  {
   "cell_type": "code",
   "execution_count": 0,
   "metadata": {
    "application/vnd.databricks.v1+cell": {
     "cellMetadata": {
      "byteLimit": 2048000,
      "rowLimit": 10000
     },
     "inputWidgets": {},
     "nuid": "e258d8c1-6ed9-42b5-9945-cee59a2aebf5",
     "showTitle": false,
     "tableResultSettingsMap": {},
     "title": ""
    }
   },
   "outputs": [],
   "source": [
    "from collections import Counter\n",
    "\n",
    "# 각 쌍에서 등장한 모든 변수 리스트 생성\n",
    "flat = [item for pair in anp_multicollinear for item in [pair[\"feature1\"], pair[\"feature2\"]]]\n",
    "col_counts = Counter(flat)\n",
    "\n",
    "# 많이 중복된 변수 상위 출력\n",
    "print(\"🔁 중복 등장한 변수 (빈도순):\")\n",
    "for col, count in col_counts.most_common():\n",
    "    print(f\"{col}: {count}회\")"
   ]
  },
  {
   "cell_type": "code",
   "execution_count": 0,
   "metadata": {
    "application/vnd.databricks.v1+cell": {
     "cellMetadata": {
      "byteLimit": 2048000,
      "rowLimit": 10000
     },
     "inputWidgets": {},
     "nuid": "f2f55970-1d2a-469a-8c05-1091c8ca3a8f",
     "showTitle": false,
     "tableResultSettingsMap": {},
     "title": ""
    }
   },
   "outputs": [],
   "source": [
    "# 검증: 제거 대상 컬럼이 각 쌍에서 적어도 하나는 포함되었는지?\n",
    "unresolved_pairs_np = []\n",
    "\n",
    "for pair in anp_multicollinear:\n",
    "    if pair[\"feature1\"] not in drop_nonperiod_cols and pair[\"feature2\"] not in drop_nonperiod_cols:\n",
    "        unresolved_pairs_np.append(pair)\n",
    "\n",
    "print(f\"⚠️ 제거되지 않은 위험한 쌍 수: {len(unresolved_pairs_np)}\")"
   ]
  },
  {
   "cell_type": "code",
   "execution_count": 0,
   "metadata": {
    "application/vnd.databricks.v1+cell": {
     "cellMetadata": {
      "byteLimit": 2048000,
      "rowLimit": 10000
     },
     "inputWidgets": {},
     "nuid": "069dbf53-a26b-496a-89cf-1388b6d198f8",
     "showTitle": false,
     "tableResultSettingsMap": {},
     "title": ""
    }
   },
   "outputs": [],
   "source": [
    "print(f\"제거 전 컬럼 수: {len(anp_df.columns)}\")"
   ]
  },
  {
   "cell_type": "code",
   "execution_count": 0,
   "metadata": {
    "application/vnd.databricks.v1+cell": {
     "cellMetadata": {
      "byteLimit": 2048000,
      "rowLimit": 10000
     },
     "inputWidgets": {},
     "nuid": "8b145732-ab0e-4e07-b842-c894cf57b870",
     "showTitle": false,
     "tableResultSettingsMap": {},
     "title": ""
    }
   },
   "outputs": [],
   "source": [
    "# 제거 실행\n",
    "anp_reduced_df = anp_df.drop(*drop_nonperiod_cols)\n",
    "\n",
    "print(f\"최종 컬럼 수 (클러스터링용): {len(anp_reduced_df.columns)}\")"
   ]
  },
  {
   "cell_type": "code",
   "execution_count": 0,
   "metadata": {
    "application/vnd.databricks.v1+cell": {
     "cellMetadata": {
      "byteLimit": 2048000,
      "rowLimit": 10000
     },
     "inputWidgets": {},
     "nuid": "a6a2dc62-6737-4969-8c96-81aa8aab6f77",
     "showTitle": false,
     "tableResultSettingsMap": {},
     "title": ""
    }
   },
   "outputs": [],
   "source": [
    "anp_reduced_df = anp_reduced_df.drop(\"이용금액_업종기준\")\n",
    "print(f\"최종 컬럼 수 (클러스터링용): {len(anp_reduced_df.columns)}\")"
   ]
  },
  {
   "cell_type": "markdown",
   "metadata": {
    "application/vnd.databricks.v1+cell": {
     "cellMetadata": {
      "byteLimit": 2048000,
      "rowLimit": 10000
     },
     "inputWidgets": {},
     "nuid": "bd2dd95b-68ea-458a-b0de-b35659e2970c",
     "showTitle": false,
     "tableResultSettingsMap": {},
     "title": ""
    }
   },
   "source": [
    "### 💡 데이터 추출"
   ]
  },
  {
   "cell_type": "code",
   "execution_count": 0,
   "metadata": {
    "application/vnd.databricks.v1+cell": {
     "cellMetadata": {
      "byteLimit": 2048000,
      "rowLimit": 10000
     },
     "inputWidgets": {},
     "nuid": "23946098-ab44-442f-b49f-25a528ec54da",
     "showTitle": false,
     "tableResultSettingsMap": {},
     "title": ""
    }
   },
   "outputs": [],
   "source": [
    "# spark.sql(\"DROP TABLE IF EXISTS database_pjt.3_amount_nonperiod\")\n",
    "spark.sql(\"DROP TABLE IF EXISTS database_03_cache.amount_nonperiod_df_fin\")\n"
   ]
  },
  {
   "cell_type": "code",
   "execution_count": 0,
   "metadata": {
    "application/vnd.databricks.v1+cell": {
     "cellMetadata": {
      "byteLimit": 2048000,
      "rowLimit": 10000
     },
     "inputWidgets": {},
     "nuid": "19368180-5b56-44b5-9e98-3b27ddcb7aa7",
     "showTitle": false,
     "tableResultSettingsMap": {},
     "title": ""
    }
   },
   "outputs": [],
   "source": [
    "### 데이터 베이스 사용 설정\n",
    "anp_reduced_df = anp_reduced_df.cache()\n",
    "spark.sql(\"USE database_pjt\")\n",
    "print(\"현재 데이터베이스를 'database_pjt'로 설정\")\n",
    "\n",
    "anp_reduced_df.write.mode(\"overwrite\").saveAsTable(\"3_amount_nonperiod\")\n",
    "print(\"이용금액(기간 포함) 관련 테이블 생성 완료\")"
   ]
  },
  {
   "cell_type": "code",
   "execution_count": 0,
   "metadata": {
    "application/vnd.databricks.v1+cell": {
     "cellMetadata": {
      "byteLimit": 2048000,
      "rowLimit": 10000
     },
     "inputWidgets": {},
     "nuid": "a1683560-5761-43a5-9f8e-f2abf27dfae9",
     "showTitle": false,
     "tableResultSettingsMap": {},
     "title": ""
    }
   },
   "outputs": [],
   "source": [
    "### 데이터 베이스 사용 설정\n",
    "anp_reduced_df = anp_reduced_df.cache()\n",
    "spark.sql(\"USE database_03_cache\")\n",
    "print(\"현재 데이터베이스를 'database_03_cache'로 설정\")\n",
    "\n",
    "anp_reduced_df.write.mode(\"overwrite\").saveAsTable(\"amount_nonperiod_df_fin\")\n",
    "print(\"이용금액(기간 포함) 관련 테이블 생성 완료\")"
   ]
  },
  {
   "cell_type": "code",
   "execution_count": 0,
   "metadata": {
    "application/vnd.databricks.v1+cell": {
     "cellMetadata": {
      "byteLimit": 2048000,
      "rowLimit": 10000
     },
     "inputWidgets": {},
     "nuid": "a3e909d7-3988-4d64-bfd4-a6ad2763cec6",
     "showTitle": false,
     "tableResultSettingsMap": {},
     "title": ""
    }
   },
   "outputs": [],
   "source": [
    "### 확인\n",
    "df2 = spark.read.table(\"database_03_cache.amount_nonperiod_df_fin\")\n",
    "\n",
    "print(len(df2.columns))\n",
    "df2.printSchema()"
   ]
  }
 ],
 "metadata": {
  "application/vnd.databricks.v1+notebook": {
   "computePreferences": null,
   "dashboards": [
    {
     "elements": [
      {
       "dashboardResultIndex": null,
       "elementNUID": "19390342-e7d4-4f71-b87e-8e9b3d5c09a3",
       "elementType": "command",
       "guid": "116c793a-7627-4f00-b478-d816ce74859f",
       "options": null,
       "position": {
        "height": 6,
        "width": 12,
        "x": 0,
        "y": 0,
        "z": null
       },
       "resultIndex": null
      },
      {
       "dashboardResultIndex": null,
       "elementNUID": "5b40b8c9-1434-41fd-93a5-ddbffd22221d",
       "elementType": "command",
       "guid": "2c194039-8182-48d6-909e-5c9f3eb60723",
       "options": null,
       "position": {
        "height": 6,
        "width": 12,
        "x": 0,
        "y": 6,
        "z": null
       },
       "resultIndex": null
      },
      {
       "dashboardResultIndex": null,
       "elementNUID": "6abccc6f-e2ca-4cd7-a214-5b377c0fb3ba",
       "elementType": "command",
       "guid": "2d443798-4368-421f-a80f-292495a65e2a",
       "options": null,
       "position": {
        "height": 9,
        "width": 12,
        "x": 0,
        "y": 12,
        "z": null
       },
       "resultIndex": null
      }
     ],
     "globalVars": {},
     "guid": "",
     "layoutOption": {
      "grid": true,
      "stack": false
     },
     "nuid": "46ef278e-af8b-4845-a8f4-990babf3c9f6",
     "origId": 3681968784558650,
     "title": "컬럼별 분포",
     "version": "DashboardViewV1",
     "width": 2048
    },
    {
     "elements": [],
     "globalVars": {},
     "guid": "",
     "layoutOption": {
      "grid": true,
      "stack": true
     },
     "nuid": "8c5f5205-874b-40ef-bce8-4d087f5e3b32",
     "origId": 6947757997903632,
     "title": "Untitled",
     "version": "DashboardViewV1",
     "width": 1024
    }
   ],
   "environmentMetadata": {
    "base_environment": "",
    "environment_version": "2"
   },
   "inputWidgetPreferences": null,
   "language": "python",
   "notebookMetadata": {
    "pythonIndentUnit": 4
   },
   "notebookName": "03_2_amount_fin_2",
   "widgets": {}
  },
  "language_info": {
   "name": "python"
  }
 },
 "nbformat": 4,
 "nbformat_minor": 0
}
