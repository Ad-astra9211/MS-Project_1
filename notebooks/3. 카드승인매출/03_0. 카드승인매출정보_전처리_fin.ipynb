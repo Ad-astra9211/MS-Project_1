{
 "cells": [
  {
   "cell_type": "markdown",
   "metadata": {
    "application/vnd.databricks.v1+cell": {
     "cellMetadata": {
      "byteLimit": 2048000,
      "rowLimit": 10000
     },
     "inputWidgets": {},
     "nuid": "93e8d179-219a-4bbb-8a41-42dfe310eca1",
     "showTitle": false,
     "tableResultSettingsMap": {},
     "title": ""
    }
   },
   "source": [
    "# 03_카드승인매출정보"
   ]
  },
  {
   "cell_type": "code",
   "execution_count": 0,
   "metadata": {
    "application/vnd.databricks.v1+cell": {
     "cellMetadata": {
      "byteLimit": 2048000,
      "rowLimit": 10000
     },
     "inputWidgets": {},
     "nuid": "31fe5d3f-de94-43a6-91dd-5a0c9d3be9c4",
     "showTitle": false,
     "tableResultSettingsMap": {},
     "title": ""
    }
   },
   "outputs": [],
   "source": [
    "from pyspark.sql.functions import when, col, to_date\n",
    "from pyspark.sql import functions as F\n",
    "import matplotlib.pyplot as plt\n",
    "import seaborn as sns\n",
    "import pandas as pd\n",
    "import numpy as np\n",
    "import math\n",
    "import re\n",
    "\n",
    "# 한글 글꼴 설정\n",
    "plt.rcParams['font.family'] = 'Malgun Gothic'  # 윈도우에서 일반적으로 지원되는 한글 글꼴 (Mac의 경우 'AppleGothic' 등 사용)\n",
    "plt.rcParams['axes.unicode_minus'] = False  # 마이너스 기호가 깨지는 문제 해결\n"
   ]
  },
  {
   "cell_type": "markdown",
   "metadata": {
    "application/vnd.databricks.v1+cell": {
     "cellMetadata": {
      "byteLimit": 2048000,
      "rowLimit": 10000
     },
     "inputWidgets": {},
     "nuid": "cd6ea1ad-789e-44ab-8fa4-d09d2a5af098",
     "showTitle": false,
     "tableResultSettingsMap": {},
     "title": ""
    }
   },
   "source": [
    "---"
   ]
  },
  {
   "cell_type": "code",
   "execution_count": 0,
   "metadata": {
    "application/vnd.databricks.v1+cell": {
     "cellMetadata": {
      "byteLimit": 2048000,
      "rowLimit": 10000
     },
     "inputWidgets": {},
     "nuid": "1d707f61-46df-452f-8e5a-1bd69bfaaed3",
     "showTitle": false,
     "tableResultSettingsMap": {},
     "title": ""
    }
   },
   "outputs": [],
   "source": [
    "df = spark.read.option(\"multiLine\", \"true\").csv(\"/mnt/raw-data/03.카드 승인매출정보/*.csv\",header = True, encoding='UTF-8')\n",
    "all_columns = df.columns\n",
    "len(all_columns)"
   ]
  },
  {
   "cell_type": "code",
   "execution_count": 0,
   "metadata": {
    "application/vnd.databricks.v1+cell": {
     "cellMetadata": {
      "byteLimit": 2048000,
      "rowLimit": 10000
     },
     "inputWidgets": {},
     "nuid": "0065d5a8-4a1a-4090-976f-0cc7c3038f1c",
     "showTitle": false,
     "tableResultSettingsMap": {},
     "title": ""
    }
   },
   "outputs": [
    {
     "output_type": "display_data",
     "data": {
      "text/plain": [
       "Databricks data profile. Run in Databricks to view."
      ]
     },
     "metadata": {
      "application/vnd.databricks.v1.subcommand+json": {
       "baseErrorDetails": null,
       "bindings": {},
       "collapsed": false,
       "command": "%python\nif hasattr(dbutils, \"data\") and hasattr(dbutils.data, \"summarize\"):\n  # setup\n  __data_summary_display_orig = display\n  __data_summary_dfs = []\n  def __data_summary_display_new(df):\n    # add only when result is going to be table type\n    __data_summary_df_modules = [\"pandas.core.frame\", \"databricks.koalas.frame\", \"pyspark.sql.dataframe\", \"pyspark.pandas.frame\", \"pyspark.sql.connect.dataframe\", \"pyspark.sql.classic.dataframe\"]\n    if (type(df).__module__ in __data_summary_df_modules and type(df).__name__ == 'DataFrame') or isinstance(df, list):\n      __data_summary_dfs.append(df)\n  display = __data_summary_display_new\n\n  def __data_summary_user_code_fn():\n    import base64\n    exec(base64.standard_b64decode(\"ZGlzcGxheShkZik=\").decode())\n\n  try:\n    # run user code\n    __data_summary_user_code_fn()\n\n    # run on valid tableResultIndex\n    if len(__data_summary_dfs) > 0:\n      # run summarize\n      if type(__data_summary_dfs[0]).__module__ == \"databricks.koalas.frame\":\n        # koalas dataframe\n        dbutils.data.summarize(__data_summary_dfs[0].to_spark())\n      elif type(__data_summary_dfs[0]).__module__ == \"pandas.core.frame\":\n        # pandas dataframe\n        dbutils.data.summarize(spark.createDataFrame(__data_summary_dfs[0]))\n      else:\n        dbutils.data.summarize(__data_summary_dfs[0])\n    else:\n        displayHTML(\"dataframe no longer exists. If you're using dataframe.display(), use display(dataframe) instead.\")\n\n  finally:\n    display = __data_summary_display_orig\n    del __data_summary_display_new\n    del __data_summary_display_orig\n    del __data_summary_dfs\n    del __data_summary_user_code_fn\nelse:\n  print(\"This DBR version does not support data profiles.\")",
       "commandTitle": "데이터 프로필 1",
       "commandType": "auto",
       "commandVersion": 0,
       "commentThread": [],
       "commentsVisible": false,
       "contentSha256Hex": null,
       "customPlotOptions": {},
       "datasetPreviewNameToCmdIdMap": {},
       "diffDeletes": [],
       "diffInserts": [],
       "displayType": "table",
       "error": null,
       "errorDetails": null,
       "errorSummary": null,
       "errorTraceType": null,
       "finishTime": 0,
       "globalVars": {},
       "guid": "",
       "height": "auto",
       "hideCommandCode": false,
       "hideCommandResult": false,
       "iPythonMetadata": null,
       "inputWidgets": {},
       "isLockedInExamMode": false,
       "latestUser": "a user",
       "latestUserId": null,
       "listResultMetadata": [],
       "metadata": {
        "byteLimit": 2048000,
        "rowLimit": 10000
       },
       "nuid": "11c66666-146d-4795-9573-e6b1006694f7",
       "origId": 0,
       "parentHierarchy": [],
       "pivotAggregation": null,
       "pivotColumns": null,
       "position": 2.46875,
       "resultDbfsErrorMessage": null,
       "resultDbfsStatus": "INLINED_IN_TREE",
       "results": null,
       "showCommandTitle": false,
       "startTime": 0,
       "state": "input",
       "streamStates": {},
       "subcommandOptions": null,
       "submitTime": 1748967520966,
       "subtype": "tableResultSubCmd.dataSummary",
       "tableResultIndex": 0,
       "tableResultSettingsMap": {},
       "useConsistentColors": false,
       "version": "CommandV1",
       "width": "auto",
       "workflows": null,
       "xColumns": null,
       "yColumns": null
      }
     },
     "output_type": "display_data"
    }
   ],
   "source": [
    "display(df)"
   ]
  },
  {
   "cell_type": "code",
   "execution_count": 0,
   "metadata": {
    "application/vnd.databricks.v1+cell": {
     "cellMetadata": {
      "byteLimit": 2048000,
      "rowLimit": 10000
     },
     "inputWidgets": {},
     "nuid": "31e40a07-c9d8-475d-8c40-8bed05bb296c",
     "showTitle": false,
     "tableResultSettingsMap": {},
     "title": ""
    }
   },
   "outputs": [],
   "source": [
    "df.printSchema()"
   ]
  },
  {
   "cell_type": "markdown",
   "metadata": {
    "application/vnd.databricks.v1+cell": {
     "cellMetadata": {
      "byteLimit": 2048000,
      "rowLimit": 10000
     },
     "inputWidgets": {},
     "nuid": "91e69ca1-2117-416c-95d9-2bbd608a1b80",
     "showTitle": false,
     "tableResultSettingsMap": {},
     "title": ""
    }
   },
   "source": [
    "# 컬럼 그룹화 (대분류)\n",
    "---"
   ]
  },
  {
   "cell_type": "code",
   "execution_count": 0,
   "metadata": {
    "application/vnd.databricks.v1+cell": {
     "cellMetadata": {
      "byteLimit": 2048000,
      "rowLimit": 10000
     },
     "inputWidgets": {},
     "nuid": "92330a06-992e-432f-a85f-d2c02e519a9d",
     "showTitle": false,
     "tableResultSettingsMap": {},
     "title": ""
    }
   },
   "outputs": [],
   "source": [
    "all_columns = df.columns\n",
    "print(f'전체 컬럼 :{len(all_columns)}\\n')\n",
    "\n",
    "key_columns = [\"기준년월\", \"발급회원번호\"]\n",
    "\n",
    "\n",
    "# 날짜 관련 컬럼 (컬럼명에 '일자'가 포함된 컬럼)\n",
    "date_columns = [col for col in all_columns if \"일자\" in col]\n",
    "print(f'날짜 관련 컬럼 :{len(date_columns)}')\n",
    "date_columns += key_columns\n",
    "print(f'날짜 관련 컬럼 :{len(date_columns)}\\n')\n",
    "\n",
    "# 금액 관련 컬럼 (컬럼명에 '금액'이 포함된 컬럼)\n",
    "amount_columns = [col for col in all_columns if \"금액\" in col]\n",
    "print(f'금액 관련 컬럼 :{len(amount_columns)}')\n",
    "amount_columns += key_columns\n",
    "print(f'금액 관련 컬럼 :{len(amount_columns)}\\n')\n",
    "\n",
    "# 건수 관련 컬럼 (컬럼명에 '건수'가 포함된 컬럼)\n",
    "count_columns = [col for col in all_columns if \"건수\" in col]\n",
    "print(f'건수 관련 컬럼 :{len(count_columns)}')\n",
    "count_columns += key_columns\n",
    "print(f'건수 관련 컬럼 :{len(count_columns)}\\n')\n",
    "\n",
    "# 이용후경과월 관련 컬럼\n",
    "use_after_month_columns = [col for col in all_columns if \"이용후경과월\" in col]\n",
    "print(f'경과 관련 컬럼 :{len(use_after_month_columns)}')\n",
    "use_after_month_columns += key_columns\n",
    "print(f'경과 관련 컬럼 :{len(use_after_month_columns)}\\n')\n",
    "\n",
    "# 이용개월수 관련 컬럼\n",
    "use_month_columns = [col for col in all_columns if \"이용개월수\" in col]\n",
    "print(f'이용개월 관련 컬럼 :{len(use_month_columns)}')\n",
    "use_month_columns += key_columns\n",
    "print(f'이용개월 관련 컬럼 :{len(use_month_columns)}\\n')\n"
   ]
  },
  {
   "cell_type": "code",
   "execution_count": 0,
   "metadata": {
    "application/vnd.databricks.v1+cell": {
     "cellMetadata": {
      "byteLimit": 2048000,
      "rowLimit": 10000
     },
     "inputWidgets": {},
     "nuid": "8cfc1d87-68ac-4f73-8150-741fff6e0e84",
     "showTitle": false,
     "tableResultSettingsMap": {},
     "title": ""
    }
   },
   "outputs": [],
   "source": [
    "# 기타 컬럼 (위 리스트들에 포함되지 않은 나머지 컬럼들)\n",
    "other_columns = [col for col in all_columns if col not in (date_columns + amount_columns + count_columns + use_after_month_columns + use_month_columns)]\n",
    "print(f'기타 컬럼 :{len(other_columns)}')\n",
    "other_columns += key_columns\n",
    "print(f'기타 컬럼 :{len(other_columns)}\\n')"
   ]
  },
  {
   "cell_type": "code",
   "execution_count": 0,
   "metadata": {
    "application/vnd.databricks.v1+cell": {
     "cellMetadata": {
      "byteLimit": 2048000,
      "rowLimit": 10000
     },
     "inputWidgets": {},
     "nuid": "fee3fe5c-77b7-400a-83fa-2380c72c1a8b",
     "showTitle": false,
     "tableResultSettingsMap": {},
     "title": ""
    }
   },
   "outputs": [],
   "source": [
    "# 빠진 컬럼 없는지 확인 # 440이어야 함\n",
    "len(date_columns + amount_columns + count_columns + use_after_month_columns + use_month_columns+ other_columns)"
   ]
  },
  {
   "cell_type": "markdown",
   "metadata": {
    "application/vnd.databricks.v1+cell": {
     "cellMetadata": {
      "byteLimit": 2048000,
      "rowLimit": 10000
     },
     "inputWidgets": {},
     "nuid": "595e63fe-1ee4-471c-b9e7-d106ddf8dbc0",
     "showTitle": false,
     "tableResultSettingsMap": {},
     "title": ""
    }
   },
   "source": [
    "## ✅ 날짜 관련 데이터\n",
    "---\n",
    "10101은 결측치로 대체해도 좋을 듯?\n",
    "\n",
    " ㄴ 찾아보니 일반적으로 쓰는 더미데이터 중 하나라네요 (1901년 1월 1일) 결측치로 처리하면 될 것 같습니다.\n",
    "\n",
    "df[date_columns] = df[date_columns].replace(10101, np.nan)"
   ]
  },
  {
   "cell_type": "code",
   "execution_count": 0,
   "metadata": {
    "application/vnd.databricks.v1+cell": {
     "cellMetadata": {
      "byteLimit": 2048000,
      "rowLimit": 10000
     },
     "inputWidgets": {},
     "nuid": "e434ff4f-fc2e-468a-9742-c12f99789e03",
     "showTitle": false,
     "tableResultSettingsMap": {},
     "title": ""
    }
   },
   "outputs": [],
   "source": [
    "# 1. 날짜 관련 테이블 생성\n",
    "date_df = df.select(*date_columns)"
   ]
  },
  {
   "cell_type": "code",
   "execution_count": 0,
   "metadata": {
    "application/vnd.databricks.v1+cell": {
     "cellMetadata": {
      "byteLimit": 2048000,
      "rowLimit": 10000
     },
     "inputWidgets": {},
     "nuid": "5b23b7c9-a19c-4a00-8670-18e301c62a8f",
     "showTitle": false,
     "tableResultSettingsMap": {},
     "title": ""
    }
   },
   "outputs": [],
   "source": [
    "# 1. 키 컬럼들\n",
    "key_columns = [\"기준년월\", \"발급회원번호\"]\n",
    "\n",
    "# 2. 전체 date_columns에서 키 컬럼 제외\n",
    "date_only_columns = [col for col in date_columns if col not in key_columns]\n",
    "\n",
    "# 3. 최종 컬럼 순서: 키 컬럼 먼저, 그 다음 날짜 컬럼들\n",
    "ordered_columns = key_columns + date_only_columns\n",
    "\n",
    "# 4. 원하는 순서로 DataFrame 생성\n",
    "final_df = df.select(*ordered_columns)\n",
    "\n",
    "print(\"컬럼 순서:\")\n",
    "for i, col_name in enumerate(ordered_columns):\n",
    "    print(f\"{i+1}. {col_name}\")\n",
    "\n",
    "display(final_df)"
   ]
  },
  {
   "cell_type": "code",
   "execution_count": 0,
   "metadata": {
    "application/vnd.databricks.v1+cell": {
     "cellMetadata": {
      "byteLimit": 2048000,
      "rowLimit": 10000
     },
     "inputWidgets": {},
     "nuid": "75aa1482-1c45-4bfe-ad16-53ad0f09e26b",
     "showTitle": false,
     "tableResultSettingsMap": {},
     "title": ""
    }
   },
   "outputs": [],
   "source": [
    "from pyspark.sql import SparkSession\n",
    "from pyspark.sql.functions import col, when, to_date\n",
    "\n",
    "# 원본 DataFrame 로드 (ps_df로 가정)\n",
    "# ps_df = spark.read.table(\"your_table_name\")  # 실제 테이블 이름으로 교체\n",
    "\n",
    "# 1. 변경하지 않을 컬럼 리스트\n",
    "exclude_columns = [\"기준년월\", \"발급회원번호\"]\n",
    "\n",
    "# 2. DateType으로 변경할 컬럼 리스트\n",
    "columns_to_convert_to_date = [\n",
    "    \"최종이용일자_기본\",\n",
    "    \"최종이용일자_신판\",\n",
    "    \"최종이용일자_CA\",\n",
    "    \"최종이용일자_카드론\",\n",
    "    \"최종이용일자_체크\",\n",
    "    \"최종이용일자_일시불\",\n",
    "    \"최종이용일자_할부\",\n",
    "    \"최종카드론_대출일자\"\n",
    "]\n",
    "\n",
    "print(\"=== 날짜 컬럼 타입 변환 시작 ===\")\n",
    "print(f\"변환할 컬럼 수: {len(columns_to_convert_to_date)}개\")\n",
    "print(f\"변환 대상 컬럼: {columns_to_convert_to_date}\")\n",
    "\n",
    "# 변환된 DataFrame을 저장할 변수\n",
    "df_converted = final_df\n",
    "\n",
    "# 각 날짜 컬럼을 순회하며 '10101'를 '19000101'로 변경한 후 DateType으로 변환\n",
    "for col_name in columns_to_convert_to_date:\n",
    "    df_converted = df_converted.withColumn(\n",
    "        col_name,\n",
    "        when(col(col_name).isNull() | (col(col_name) == \"10101\"), \"19000101\")  # '10101'를 '19000101'로 변경\n",
    "        .otherwise(col(col_name))  # 다른 값은 그대로\n",
    "        .cast(\"string\")  # 문자열로 캐스팅 후 DateType 변환\n",
    "    )\n",
    "    \n",
    "    df_converted = df_converted.withColumn(\n",
    "        col_name,\n",
    "        to_date(col(col_name), \"yyyyMMdd\")  # '19000101' 또는 원래 날짜를 DateType으로 변환\n",
    "    )\n",
    "    \n",
    "    print(f\"'{col_name}' 컬럼 변환 완료.\")\n",
    "\n",
    "print(\"\\n=== 변환 결과 확인 ===\")\n",
    "print(\"변환 후 스키마:\")\n",
    "df_converted.printSchema()\n",
    "\n",
    "print(\"\\n변환된 날짜 컬럼 데이터 예시:\")\n",
    "df_converted.select(exclude_columns + columns_to_convert_to_date).show(5, truncate=False)\n",
    "\n",
    "print(\"\\n변환 후 NULL 값 개수 (날짜 컬럼):\")\n",
    "df_converted.select([F.sum(F.col(c).isNull().cast(\"int\")).alias(f\"{c}_null_count\") \n",
    "                     for c in columns_to_convert_to_date]).show()"
   ]
  },
  {
   "cell_type": "code",
   "execution_count": 0,
   "metadata": {
    "application/vnd.databricks.v1+cell": {
     "cellMetadata": {
      "byteLimit": 2048000,
      "rowLimit": 10000
     },
     "inputWidgets": {},
     "nuid": "4beb60f5-3fc5-4605-96da-34085146f6fd",
     "showTitle": false,
     "tableResultSettingsMap": {},
     "title": ""
    }
   },
   "outputs": [],
   "source": [
    "display(df_converted)"
   ]
  },
  {
   "cell_type": "code",
   "execution_count": 0,
   "metadata": {
    "application/vnd.databricks.v1+cell": {
     "cellMetadata": {
      "byteLimit": 2048000,
      "rowLimit": 10000
     },
     "inputWidgets": {},
     "nuid": "646a2683-6033-4c31-8729-45f3031843c4",
     "showTitle": false,
     "tableResultSettingsMap": {},
     "title": ""
    }
   },
   "outputs": [],
   "source": [
    "spark.sql(\"\"\"\n",
    "          DROP table IF EXISTS database_pjt.3_date\n",
    "          \"\"\")"
   ]
  },
  {
   "cell_type": "code",
   "execution_count": 0,
   "metadata": {
    "application/vnd.databricks.v1+cell": {
     "cellMetadata": {
      "byteLimit": 2048000,
      "rowLimit": 10000
     },
     "inputWidgets": {},
     "nuid": "10953df1-33d5-45a7-b42b-a32a7fbada24",
     "showTitle": false,
     "tableResultSettingsMap": {},
     "title": ""
    }
   },
   "outputs": [],
   "source": [
    "### 데이터 베이스 사용 설정\n",
    "spark.sql(\"USE database_pjt\")\n",
    "print(\"현재 데이터베이스를 'database_pjt'로 설정\")\n",
    "\n",
    "df_converted.write.mode(\"overwrite\").saveAsTable(\"3_date\")"
   ]
  },
  {
   "cell_type": "code",
   "execution_count": 0,
   "metadata": {
    "application/vnd.databricks.v1+cell": {
     "cellMetadata": {
      "byteLimit": 2048000,
      "rowLimit": 10000
     },
     "inputWidgets": {},
     "nuid": "06c554a1-a916-46f3-96e2-dcc5a54cc56e",
     "showTitle": false,
     "tableResultSettingsMap": {},
     "title": ""
    }
   },
   "outputs": [],
   "source": [
    "# from pyspark.sql.functions import when, col, to_date\n",
    "\n",
    "# for c in date_df.columns:\n",
    "#     date_df = date_df.withColumn(c, when(col(c) == \"10101\", None).otherwise(col(c)))\n",
    "#     date_df = date_df.withColumn(c, to_date(col(c), \"yyyyMMdd\"))"
   ]
  },
  {
   "cell_type": "code",
   "execution_count": 0,
   "metadata": {
    "application/vnd.databricks.v1+cell": {
     "cellMetadata": {
      "byteLimit": 2048000,
      "rowLimit": 10000
     },
     "inputWidgets": {},
     "nuid": "67bd7634-4be1-4cd2-a71a-9f4f495300da",
     "showTitle": false,
     "tableResultSettingsMap": {},
     "title": ""
    }
   },
   "outputs": [],
   "source": [
    "# # database_3_cache 데이터베이스에 테이블 저장\n",
    "# date_df.write.mode(\"overwrite\").saveAsTable(\"database_03_cache.date_df\")\n",
    "# print(\"날짜 관련 테이블 생성 완료\")"
   ]
  },
  {
   "cell_type": "markdown",
   "metadata": {
    "application/vnd.databricks.v1+cell": {
     "cellMetadata": {
      "byteLimit": 2048000,
      "rowLimit": 10000
     },
     "inputWidgets": {},
     "nuid": "085f3666-61dc-4ce7-9ea5-d9dca35c7811",
     "showTitle": false,
     "tableResultSettingsMap": {},
     "title": ""
    }
   },
   "source": [
    "## ✅ 금액 관련 컬럼\n",
    "---\n",
    "date_columns, **amount_columns**, count_columns, use_after_month_column, use_month_columns, other_columns"
   ]
  },
  {
   "cell_type": "code",
   "execution_count": 0,
   "metadata": {
    "application/vnd.databricks.v1+cell": {
     "cellMetadata": {
      "byteLimit": 2048000,
      "rowLimit": 10000
     },
     "inputWidgets": {},
     "nuid": "762b7761-32bd-44e6-8cc5-71c9ce8ca0d9",
     "showTitle": false,
     "tableResultSettingsMap": {},
     "title": ""
    }
   },
   "outputs": [],
   "source": [
    "# # 금액 관련 컬럼 (컬럼명에 '금액'이 포함된 컬럼)\n",
    "# amount_columns = [col for col in all_columns if \"금액\" in col]\n",
    "print(f'금액 관련 컬럼 :{len(amount_columns)}\\n')"
   ]
  },
  {
   "cell_type": "code",
   "execution_count": 0,
   "metadata": {
    "application/vnd.databricks.v1+cell": {
     "cellMetadata": {
      "byteLimit": 2048000,
      "rowLimit": 10000
     },
     "inputWidgets": {},
     "nuid": "9050cc78-26a4-4a5f-a851-6cb3efd63a0b",
     "showTitle": false,
     "tableResultSettingsMap": {},
     "title": ""
    }
   },
   "outputs": [],
   "source": [
    "# 2. 금액 관련 테이블 생성\n",
    "\n",
    "amount_df = df.select(*amount_columns)"
   ]
  },
  {
   "cell_type": "markdown",
   "metadata": {
    "application/vnd.databricks.v1+cell": {
     "cellMetadata": {
      "byteLimit": 2048000,
      "rowLimit": 10000
     },
     "inputWidgets": {},
     "nuid": "cefeb62f-882e-49c2-a831-9d11569ad2cd",
     "showTitle": false,
     "tableResultSettingsMap": {},
     "title": ""
    }
   },
   "source": [
    "### 2-1. 데이터형 변환"
   ]
  },
  {
   "cell_type": "code",
   "execution_count": 0,
   "metadata": {
    "application/vnd.databricks.v1+cell": {
     "cellMetadata": {
      "byteLimit": 2048000,
      "rowLimit": 10000
     },
     "inputWidgets": {},
     "nuid": "22eb8740-2a78-4bbc-90fa-2b7d0d337ccb",
     "showTitle": false,
     "tableResultSettingsMap": {},
     "title": ""
    }
   },
   "outputs": [],
   "source": [
    "from pyspark.sql.functions import when, col, to_date\n",
    "\n",
    "for c in amount_df.columns[:-2]:\n",
    "    amount_df = amount_df.withColumn(c, col(c).cast(\"float\"))"
   ]
  },
  {
   "cell_type": "code",
   "execution_count": 0,
   "metadata": {
    "application/vnd.databricks.v1+cell": {
     "cellMetadata": {
      "byteLimit": 2048000,
      "rowLimit": 10000
     },
     "inputWidgets": {},
     "nuid": "59b4d263-1c00-4edd-9116-8eedb57bcb94",
     "showTitle": false,
     "tableResultSettingsMap": {},
     "title": ""
    }
   },
   "outputs": [
    {
     "output_type": "display_data",
     "data": {
      "text/plain": [
       "Databricks data profile. Run in Databricks to view."
      ]
     },
     "metadata": {
      "application/vnd.databricks.v1.subcommand+json": {
       "baseErrorDetails": null,
       "bindings": {},
       "collapsed": false,
       "command": "%python\nif hasattr(dbutils, \"data\") and hasattr(dbutils.data, \"summarize\"):\n  # setup\n  __data_summary_display_orig = display\n  __data_summary_dfs = []\n  def __data_summary_display_new(df):\n    # add only when result is going to be table type\n    __data_summary_df_modules = [\"pandas.core.frame\", \"databricks.koalas.frame\", \"pyspark.sql.dataframe\", \"pyspark.pandas.frame\", \"pyspark.sql.connect.dataframe\", \"pyspark.sql.classic.dataframe\"]\n    if (type(df).__module__ in __data_summary_df_modules and type(df).__name__ == 'DataFrame') or isinstance(df, list):\n      __data_summary_dfs.append(df)\n  display = __data_summary_display_new\n\n  def __data_summary_user_code_fn():\n    import base64\n    exec(base64.standard_b64decode(\"ZGlzcGxheShhbW91bnRfZGYpCiMg642w7J207YSwIO2UhOuhnO2VhCDroZzrk5ztlZjripTrjbAg7Iuc6rCE7J20IOyYpOuemOqxuOumvCAoKQ==\").decode())\n\n  try:\n    # run user code\n    __data_summary_user_code_fn()\n\n    # run on valid tableResultIndex\n    if len(__data_summary_dfs) > 0:\n      # run summarize\n      if type(__data_summary_dfs[0]).__module__ == \"databricks.koalas.frame\":\n        # koalas dataframe\n        dbutils.data.summarize(__data_summary_dfs[0].to_spark())\n      elif type(__data_summary_dfs[0]).__module__ == \"pandas.core.frame\":\n        # pandas dataframe\n        dbutils.data.summarize(spark.createDataFrame(__data_summary_dfs[0]))\n      else:\n        dbutils.data.summarize(__data_summary_dfs[0])\n    else:\n        displayHTML(\"dataframe no longer exists. If you're using dataframe.display(), use display(dataframe) instead.\")\n\n  finally:\n    display = __data_summary_display_orig\n    del __data_summary_display_new\n    del __data_summary_display_orig\n    del __data_summary_dfs\n    del __data_summary_user_code_fn\nelse:\n  print(\"This DBR version does not support data profiles.\")",
       "commandTitle": "데이터 프로필 1",
       "commandType": "auto",
       "commandVersion": 0,
       "commentThread": [],
       "commentsVisible": false,
       "contentSha256Hex": null,
       "customPlotOptions": {},
       "datasetPreviewNameToCmdIdMap": {},
       "diffDeletes": [],
       "diffInserts": [],
       "displayType": "table",
       "error": null,
       "errorDetails": null,
       "errorSummary": null,
       "errorTraceType": null,
       "finishTime": 1748970112411,
       "globalVars": {},
       "guid": "",
       "height": "auto",
       "hideCommandCode": false,
       "hideCommandResult": false,
       "iPythonMetadata": null,
       "inputWidgets": {},
       "isLockedInExamMode": false,
       "latestUser": "a user",
       "latestUserId": null,
       "listResultMetadata": [
        [
         "mimeBundle",
         null
        ]
       ],
       "metadata": {
        "byteLimit": 2048000,
        "rowLimit": 10000
       },
       "nuid": "b95f5e95-3bc4-45d6-9098-43641d2c7117",
       "origId": 0,
       "parentHierarchy": [],
       "pivotAggregation": null,
       "pivotColumns": null,
       "position": 1.0,
       "resultDbfsErrorMessage": null,
       "resultDbfsStatus": "INLINED_IN_TREE",
       "results": null,
       "showCommandTitle": false,
       "startTime": 1748969305845,
       "state": "input",
       "streamStates": {},
       "subcommandOptions": null,
       "submitTime": 1748969305850,
       "subtype": "tableResultSubCmd.dataSummary",
       "tableResultIndex": 0,
       "tableResultSettingsMap": {},
       "useConsistentColors": false,
       "version": "CommandV1",
       "width": "auto",
       "workflows": null,
       "xColumns": null,
       "yColumns": null
      }
     },
     "output_type": "display_data"
    }
   ],
   "source": [
    "display(amount_df)\n",
    "# 데이터 프로필 로드하는데 시간이 오래걸림 ()"
   ]
  },
  {
   "cell_type": "markdown",
   "metadata": {
    "application/vnd.databricks.v1+cell": {
     "cellMetadata": {},
     "inputWidgets": {},
     "nuid": "ed64ad3b-27a7-4844-bf0c-dfecbbe4100c",
     "showTitle": false,
     "tableResultSettingsMap": {},
     "title": ""
    }
   },
   "source": [
    "#### 💡 데이터 추출 (amount_df_)"
   ]
  },
  {
   "cell_type": "code",
   "execution_count": 0,
   "metadata": {
    "application/vnd.databricks.v1+cell": {
     "cellMetadata": {
      "byteLimit": 2048000,
      "rowLimit": 10000
     },
     "inputWidgets": {},
     "nuid": "958822ca-e4ce-47a0-807e-4b29244553c5",
     "showTitle": false,
     "tableResultSettingsMap": {},
     "title": ""
    }
   },
   "outputs": [],
   "source": [
    "# database_3_cache 데이터베이스에 테이블 저장\n",
    "amount_df.write.mode(\"overwrite\").saveAsTable(\"database_03_cache.amount_df_\")\n",
    "print(\"금액(ALL) 관련 테이블 생성 완료\")"
   ]
  },
  {
   "cell_type": "markdown",
   "metadata": {
    "application/vnd.databricks.v1+cell": {
     "cellMetadata": {
      "byteLimit": 2048000,
      "rowLimit": 10000
     },
     "inputWidgets": {},
     "nuid": "66a5c3a2-36ba-4d98-86d2-c1e25be34d6b",
     "showTitle": false,
     "tableResultSettingsMap": {},
     "title": ""
    }
   },
   "source": [
    "### 2-2. 컬럼 세분화"
   ]
  },
  {
   "cell_type": "markdown",
   "metadata": {
    "application/vnd.databricks.v1+cell": {
     "cellMetadata": {},
     "inputWidgets": {},
     "nuid": "89494e0e-b105-43cc-88de-1523b578cf4e",
     "showTitle": false,
     "tableResultSettingsMap": {},
     "title": ""
    }
   },
   "source": [
    "#### ▶️ 데이터 불러오기 (a_df)"
   ]
  },
  {
   "cell_type": "code",
   "execution_count": 0,
   "metadata": {
    "application/vnd.databricks.v1+cell": {
     "cellMetadata": {
      "byteLimit": 2048000,
      "rowLimit": 10000
     },
     "inputWidgets": {},
     "nuid": "b6e1c805-e15a-4f3f-84be-51da6f5831e1",
     "showTitle": false,
     "tableResultSettingsMap": {},
     "title": ""
    }
   },
   "outputs": [],
   "source": [
    "a_df = spark.read.table(\"database_03_cache.amount_df_\")"
   ]
  },
  {
   "cell_type": "markdown",
   "metadata": {
    "application/vnd.databricks.v1+cell": {
     "cellMetadata": {
      "byteLimit": 2048000,
      "rowLimit": 10000
     },
     "inputWidgets": {},
     "nuid": "873b939a-6354-4c3a-98dc-937cab11c166",
     "showTitle": false,
     "tableResultSettingsMap": {},
     "title": ""
    }
   },
   "source": [
    "#### 2.0 기간 포함/불포함 구분\n",
    "\n",
    "- 전체 : 175개\n",
    "- 분류 : 기간 포함된 컬럼 (110개) / 불포함된 컬럼 (65개)"
   ]
  },
  {
   "cell_type": "code",
   "execution_count": 0,
   "metadata": {
    "application/vnd.databricks.v1+cell": {
     "cellMetadata": {
      "byteLimit": 2048000,
      "rowLimit": 10000
     },
     "inputWidgets": {},
     "nuid": "d5e9c36a-4523-40cb-82fc-d822494d6cc5",
     "showTitle": false,
     "tableResultSettingsMap": {},
     "title": ""
    }
   },
   "outputs": [],
   "source": [
    "amount_columns = a_df.columns\n",
    "len(amount_columns)"
   ]
  },
  {
   "cell_type": "code",
   "execution_count": 0,
   "metadata": {
    "application/vnd.databricks.v1+cell": {
     "cellMetadata": {
      "byteLimit": 2048000,
      "rowLimit": 10000
     },
     "inputWidgets": {},
     "nuid": "294ac567-e501-449b-bbda-63ffa1c8d0c1",
     "showTitle": false,
     "tableResultSettingsMap": {},
     "title": ""
    }
   },
   "outputs": [],
   "source": [
    "### Step 1: 기간이 포함된 컬럼 정규표현식\n",
    "period_pattern = re.compile(r'^(.*)_(B\\d+M|R\\d+M)$') # B나 R기간\n",
    "\n",
    "### Step 2: prefix-period 딕셔너리 만들기\n",
    "period_map = {}  # 기간별로 prefix를 저장할 딕셔너리\n",
    "non_period_cols = []  # 기간이 포함되지 않은 컬럼\n",
    "\n",
    "for col in amount_columns:\n",
    "    match = period_pattern.match(col)\n",
    "    # prefix(ex.'이용금액_신용')와 기간(ex.'R12M')을 따로 저장\n",
    "    if match:\n",
    "        prefix = match.group(1) # ex. '이용금액_신용'\n",
    "        period = match.group(2) # ex. 'R12M'\n",
    "        if prefix not in period_map:\n",
    "            period_map[prefix] = {}\n",
    "        period_map[prefix][period] = col\n",
    "    else:\n",
    "        non_period_cols.append(col)\n",
    "\n",
    "print(175 - len(non_period_cols), period_map)\n",
    "print()\n",
    "print(len(non_period_cols), non_period_cols)    # 110 + 65(기준년월, 발급회원번호 포함)"
   ]
  },
  {
   "cell_type": "code",
   "execution_count": 0,
   "metadata": {
    "application/vnd.databricks.v1+cell": {
     "cellMetadata": {
      "byteLimit": 2048000,
      "rowLimit": 10000
     },
     "inputWidgets": {},
     "nuid": "e63952fe-b7e6-45c1-aef5-682092e09915",
     "showTitle": false,
     "tableResultSettingsMap": {},
     "title": ""
    }
   },
   "outputs": [],
   "source": [
    "# 모든 prefix에 대해 period key만 모아서 set으로 중복 제거\n",
    "all_periods = set()\n",
    "\n",
    "for periods in period_map.values():\n",
    "    all_periods.update(periods.keys())\n",
    "\n",
    "# 보기 좋게 숫자 정렬 (예: B0M, B1M, ..., R3M, R6M, R12M)\n",
    "sorted_periods = sorted(\n",
    "    list(all_periods),\n",
    "    key=lambda x: (x[0], int(re.search(r'\\d+', x).group()))\n",
    ")\n",
    "\n",
    "print(\"✔ 사용된 기간들:\", sorted_periods)"
   ]
  },
  {
   "cell_type": "markdown",
   "metadata": {
    "application/vnd.databricks.v1+cell": {
     "cellMetadata": {
      "byteLimit": 2048000,
      "rowLimit": 10000
     },
     "inputWidgets": {},
     "nuid": "6e8c8bbd-b658-4ccd-a7fb-a18bbeec44a2",
     "showTitle": false,
     "tableResultSettingsMap": {},
     "title": ""
    }
   },
   "source": [
    "**기간 unique 정리**\n",
    "| 기간코드   | 의미                                               |\n",
    "| ------ | ------------------------------------------------ |\n",
    "| `B0M`  | **현재 기준 시점** (예: 분석 기준이 2025년 5월이면 → 2025년 5월)   |\n",
    "| `B1M`  | **1개월 전** 기준 (예: 2025년 4월)                       |\n",
    "| `B2M`  | **2개월 전** 기준 (예: 2025년 3월)                       |\n",
    "| `R3M`  | **최근 3개월 평균치** (예: 2025년 3\\~5월의 평균 이용금액)         |\n",
    "| `R6M`  | **최근 6개월 평균치** (예: 2024년 12월\\~2025년 5월의 평균 이용금액) |\n",
    "| `R12M` | **최근 12개월 평균치** (예: 2024년 6월\\~2025년 5월의 평균 이용금액) |\n"
   ]
  },
  {
   "cell_type": "markdown",
   "metadata": {
    "application/vnd.databricks.v1+cell": {
     "cellMetadata": {
      "byteLimit": 2048000,
      "rowLimit": 10000
     },
     "inputWidgets": {},
     "nuid": "e4e0e3d1-0c01-46ce-9082-9781e5e78012",
     "showTitle": false,
     "tableResultSettingsMap": {},
     "title": ""
    }
   },
   "source": [
    "#### 2.1 기간 포함 컬럼\n",
    "(prefix_period_map 에 담겨져 있음)"
   ]
  },
  {
   "cell_type": "code",
   "execution_count": 0,
   "metadata": {
    "application/vnd.databricks.v1+cell": {
     "cellMetadata": {
      "byteLimit": 2048000,
      "rowLimit": 10000
     },
     "inputWidgets": {},
     "nuid": "e3a31afb-cd29-428d-8aeb-ef87e5297e8e",
     "showTitle": false,
     "tableResultSettingsMap": {},
     "title": ""
    }
   },
   "outputs": [],
   "source": [
    "amount_period_columns = [col for col in amount_columns if col not in non_period_cols]"
   ]
  },
  {
   "cell_type": "code",
   "execution_count": 0,
   "metadata": {
    "application/vnd.databricks.v1+cell": {
     "cellMetadata": {
      "byteLimit": 2048000,
      "rowLimit": 10000
     },
     "inputWidgets": {},
     "nuid": "4dc0022e-333e-4acd-98fe-6e030650accf",
     "showTitle": false,
     "tableResultSettingsMap": {},
     "title": ""
    }
   },
   "outputs": [],
   "source": [
    "# 2. 금액 관련 (기간 포함) 테이블 생성\n",
    "\n",
    "# 공통 키 컬럼 추가 (기준년월, 발급회원번호)\n",
    "key_columns = [\"기준년월\", \"발급회원번호\"]\n",
    "\n",
    "amount_period_columns += key_columns\n",
    "amount_period_columns"
   ]
  },
  {
   "cell_type": "code",
   "execution_count": 0,
   "metadata": {
    "application/vnd.databricks.v1+cell": {
     "cellMetadata": {
      "byteLimit": 2048000,
      "rowLimit": 10000
     },
     "inputWidgets": {},
     "nuid": "750322f5-7408-4535-8bef-ae7ce910e864",
     "showTitle": false,
     "tableResultSettingsMap": {},
     "title": ""
    }
   },
   "outputs": [],
   "source": [
    "ap_df = a_df.select(*amount_period_columns)"
   ]
  },
  {
   "cell_type": "markdown",
   "metadata": {
    "application/vnd.databricks.v1+cell": {
     "cellMetadata": {},
     "inputWidgets": {},
     "nuid": "a45cc7bd-3f11-4f84-8f52-655e9d9e4cba",
     "showTitle": false,
     "tableResultSettingsMap": {},
     "title": ""
    }
   },
   "source": [
    "##### 💡 데이터 추출 (amount_period_df)"
   ]
  },
  {
   "cell_type": "code",
   "execution_count": 0,
   "metadata": {
    "application/vnd.databricks.v1+cell": {
     "cellMetadata": {
      "byteLimit": 2048000,
      "rowLimit": 10000
     },
     "inputWidgets": {},
     "nuid": "5d93ec58-f4fe-4897-a14f-fa6f52101530",
     "showTitle": false,
     "tableResultSettingsMap": {},
     "title": ""
    }
   },
   "outputs": [],
   "source": [
    "### 데이터 베이스 사용 설정\n",
    "ap_df = ap_df.cache()\n",
    "spark.sql(\"USE database_03_cache\")\n",
    "print(\"현재 데이터베이스를 'database_03_cache'로 설정\")\n",
    "\n",
    "ap_df.write.mode(\"overwrite\").saveAsTable(\"amount_period_df\")\n",
    "print(\"이용금액(기간 포함) 관련 테이블 생성 완료\")"
   ]
  },
  {
   "cell_type": "markdown",
   "metadata": {
    "application/vnd.databricks.v1+cell": {
     "cellMetadata": {
      "byteLimit": 2048000,
      "rowLimit": 10000
     },
     "inputWidgets": {},
     "nuid": "9788c151-7eef-4356-ab5c-24354753ef98",
     "showTitle": false,
     "tableResultSettingsMap": {},
     "title": ""
    }
   },
   "source": [
    "#### 2.2 기간 불포함 컬럼"
   ]
  },
  {
   "cell_type": "code",
   "execution_count": 0,
   "metadata": {
    "application/vnd.databricks.v1+cell": {
     "cellMetadata": {
      "byteLimit": 2048000,
      "rowLimit": 10000
     },
     "inputWidgets": {},
     "nuid": "45b0fb68-0cbd-4eb1-b7dc-73f64b4a5a28",
     "showTitle": false,
     "tableResultSettingsMap": {},
     "title": ""
    }
   },
   "outputs": [],
   "source": [
    "# 2. 금액 관련 (기간 불포함) 테이블 생성\n",
    "\n",
    "# non_period_cols += key_columns\n",
    "anp_df = a_df.select(*non_period_cols)"
   ]
  },
  {
   "cell_type": "code",
   "execution_count": 0,
   "metadata": {
    "application/vnd.databricks.v1+cell": {
     "cellMetadata": {
      "byteLimit": 2048000,
      "rowLimit": 10000
     },
     "inputWidgets": {},
     "nuid": "2fe69b6d-5d02-4180-8124-89e3641d0a65",
     "showTitle": false,
     "tableResultSettingsMap": {},
     "title": ""
    }
   },
   "outputs": [],
   "source": [
    "anp_df = anp_df.drop('이용금액대')\n"
   ]
  },
  {
   "cell_type": "markdown",
   "metadata": {
    "application/vnd.databricks.v1+cell": {
     "cellMetadata": {},
     "inputWidgets": {},
     "nuid": "6b0b2449-0bd9-4c99-9151-98324352d9b7",
     "showTitle": false,
     "tableResultSettingsMap": {},
     "title": ""
    }
   },
   "source": [
    "##### 💡 데이터 추출"
   ]
  },
  {
   "cell_type": "code",
   "execution_count": 0,
   "metadata": {
    "application/vnd.databricks.v1+cell": {
     "cellMetadata": {
      "byteLimit": 2048000,
      "rowLimit": 10000
     },
     "inputWidgets": {},
     "nuid": "668835db-6eb2-4a76-b6b6-fde4034975a8",
     "showTitle": false,
     "tableResultSettingsMap": {},
     "title": ""
    }
   },
   "outputs": [],
   "source": [
    "### 데이터 베이스 사용 설정\n",
    "anp_df = anp_df.cache()\n",
    "spark.sql(\"USE database_03_cache\")\n",
    "print(\"현재 데이터베이스를 'database_03_cache'로 설정\")\n",
    "\n",
    "anp_df.write.mode(\"overwrite\").saveAsTable(\"amount_nonperiod_df\")\n",
    "print(\"이용금액(기간 불포함) 관련 테이블 생성 완료\")"
   ]
  },
  {
   "cell_type": "markdown",
   "metadata": {
    "application/vnd.databricks.v1+cell": {
     "cellMetadata": {},
     "inputWidgets": {},
     "nuid": "a697413d-6367-437e-a041-db9ca0003a25",
     "showTitle": false,
     "tableResultSettingsMap": {},
     "title": ""
    }
   },
   "source": [
    "## ✅ 건수 관련 컬럼\n",
    "---\n",
    "date_columns, amount_columns, **count_columns**, use_after_month_column, use_month_columns, other_columns"
   ]
  },
  {
   "cell_type": "code",
   "execution_count": 0,
   "metadata": {
    "application/vnd.databricks.v1+cell": {
     "cellMetadata": {
      "byteLimit": 2048000,
      "rowLimit": 10000
     },
     "inputWidgets": {},
     "nuid": "85d79d32-b731-49f2-aeb4-f765c52ee703",
     "showTitle": false,
     "tableResultSettingsMap": {},
     "title": ""
    }
   },
   "outputs": [],
   "source": [
    "# # 건수 관련 컬럼 (컬럼명에 '건수'이 포함된 컬럼) + 기준년월&발급회원번호\n",
    "print(f'건수 관련 컬럼 :{len(count_columns)}\\n')"
   ]
  },
  {
   "cell_type": "code",
   "execution_count": 0,
   "metadata": {
    "application/vnd.databricks.v1+cell": {
     "cellMetadata": {
      "byteLimit": 2048000,
      "rowLimit": 10000
     },
     "inputWidgets": {},
     "nuid": "bdc053c1-77ce-49cb-8780-5537b9038e61",
     "showTitle": false,
     "tableResultSettingsMap": {},
     "title": ""
    }
   },
   "outputs": [],
   "source": [
    "# 3. 건수 관련 테이블 생성\n",
    "\n",
    "count_df = df.select(*count_columns)"
   ]
  },
  {
   "cell_type": "markdown",
   "metadata": {
    "application/vnd.databricks.v1+cell": {
     "cellMetadata": {},
     "inputWidgets": {},
     "nuid": "386164c4-6b5e-4c0b-a3e0-bd524536f10d",
     "showTitle": false,
     "tableResultSettingsMap": {},
     "title": ""
    }
   },
   "source": [
    "### 3-1. 데이터형 변환"
   ]
  },
  {
   "cell_type": "code",
   "execution_count": 0,
   "metadata": {
    "application/vnd.databricks.v1+cell": {
     "cellMetadata": {
      "byteLimit": 2048000,
      "rowLimit": 10000
     },
     "inputWidgets": {},
     "nuid": "f6afa6e7-e4b9-4c4b-a379-396a4e4e7e2f",
     "showTitle": false,
     "tableResultSettingsMap": {},
     "title": ""
    }
   },
   "outputs": [],
   "source": [
    "from pyspark.sql.functions import when, col, to_date\n",
    "\n",
    "for c in count_df.columns[:-2]:\n",
    "    count_df = count_df.withColumn(c, col(c).cast(\"float\"))"
   ]
  },
  {
   "cell_type": "code",
   "execution_count": 0,
   "metadata": {
    "application/vnd.databricks.v1+cell": {
     "cellMetadata": {
      "byteLimit": 2048000,
      "rowLimit": 10000
     },
     "inputWidgets": {},
     "nuid": "c146267a-4121-4ef1-8276-a19b0eef76fb",
     "showTitle": false,
     "tableResultSettingsMap": {},
     "title": ""
    }
   },
   "outputs": [
    {
     "output_type": "display_data",
     "data": {
      "text/plain": [
       "Databricks data profile. Run in Databricks to view."
      ]
     },
     "metadata": {
      "application/vnd.databricks.v1.subcommand+json": {
       "baseErrorDetails": null,
       "bindings": {},
       "collapsed": false,
       "command": "%python\nif hasattr(dbutils, \"data\") and hasattr(dbutils.data, \"summarize\"):\n  # setup\n  __data_summary_display_orig = display\n  __data_summary_dfs = []\n  def __data_summary_display_new(df):\n    # add only when result is going to be table type\n    __data_summary_df_modules = [\"pandas.core.frame\", \"databricks.koalas.frame\", \"pyspark.sql.dataframe\", \"pyspark.pandas.frame\", \"pyspark.sql.connect.dataframe\", \"pyspark.sql.classic.dataframe\"]\n    if (type(df).__module__ in __data_summary_df_modules and type(df).__name__ == 'DataFrame') or isinstance(df, list):\n      __data_summary_dfs.append(df)\n  display = __data_summary_display_new\n\n  def __data_summary_user_code_fn():\n    import base64\n    exec(base64.standard_b64decode(\"ZGlzcGxheShjb3VudF9kZik=\").decode())\n\n  try:\n    # run user code\n    __data_summary_user_code_fn()\n\n    # run on valid tableResultIndex\n    if len(__data_summary_dfs) > 0:\n      # run summarize\n      if type(__data_summary_dfs[0]).__module__ == \"databricks.koalas.frame\":\n        # koalas dataframe\n        dbutils.data.summarize(__data_summary_dfs[0].to_spark())\n      elif type(__data_summary_dfs[0]).__module__ == \"pandas.core.frame\":\n        # pandas dataframe\n        dbutils.data.summarize(spark.createDataFrame(__data_summary_dfs[0]))\n      else:\n        dbutils.data.summarize(__data_summary_dfs[0])\n    else:\n        displayHTML(\"dataframe no longer exists. If you're using dataframe.display(), use display(dataframe) instead.\")\n\n  finally:\n    display = __data_summary_display_orig\n    del __data_summary_display_new\n    del __data_summary_display_orig\n    del __data_summary_dfs\n    del __data_summary_user_code_fn\nelse:\n  print(\"This DBR version does not support data profiles.\")",
       "commandTitle": "데이터 프로필 1",
       "commandType": "auto",
       "commandVersion": 0,
       "commentThread": [],
       "commentsVisible": false,
       "contentSha256Hex": null,
       "customPlotOptions": {},
       "datasetPreviewNameToCmdIdMap": {},
       "diffDeletes": [],
       "diffInserts": [],
       "displayType": "table",
       "error": null,
       "errorDetails": null,
       "errorSummary": null,
       "errorTraceType": null,
       "finishTime": 0,
       "globalVars": {},
       "guid": "",
       "height": "auto",
       "hideCommandCode": false,
       "hideCommandResult": false,
       "iPythonMetadata": null,
       "inputWidgets": {},
       "isLockedInExamMode": false,
       "latestUser": "a user",
       "latestUserId": null,
       "listResultMetadata": [],
       "metadata": {
        "byteLimit": 2048000,
        "rowLimit": 10000
       },
       "nuid": "95ab0e73-d2ff-451b-a727-724c98089e56",
       "origId": 0,
       "parentHierarchy": [],
       "pivotAggregation": null,
       "pivotColumns": null,
       "position": 2.657718539237976,
       "resultDbfsErrorMessage": null,
       "resultDbfsStatus": "INLINED_IN_TREE",
       "results": null,
       "showCommandTitle": false,
       "startTime": 0,
       "state": "input",
       "streamStates": {},
       "subcommandOptions": null,
       "submitTime": 1749007429744,
       "subtype": "tableResultSubCmd.dataSummary",
       "tableResultIndex": 0,
       "tableResultSettingsMap": {},
       "useConsistentColors": false,
       "version": "CommandV1",
       "width": "auto",
       "workflows": null,
       "xColumns": null,
       "yColumns": null
      }
     },
     "output_type": "display_data"
    }
   ],
   "source": [
    "display(count_df)"
   ]
  },
  {
   "cell_type": "markdown",
   "metadata": {
    "application/vnd.databricks.v1+cell": {
     "cellMetadata": {},
     "inputWidgets": {},
     "nuid": "e34225dd-b9f6-4dd5-92ad-19bb7deb9c0f",
     "showTitle": false,
     "tableResultSettingsMap": {},
     "title": ""
    }
   },
   "source": [
    "#### 💡 데이터 추출 (count_df)"
   ]
  },
  {
   "cell_type": "code",
   "execution_count": 0,
   "metadata": {
    "application/vnd.databricks.v1+cell": {
     "cellMetadata": {
      "byteLimit": 2048000,
      "rowLimit": 10000
     },
     "inputWidgets": {},
     "nuid": "69f5ff25-b17b-4b9e-b40d-1791cf7659d2",
     "showTitle": false,
     "tableResultSettingsMap": {},
     "title": ""
    }
   },
   "outputs": [],
   "source": [
    "# database_3_cache 데이터베이스에 테이블 저장\n",
    "count_df.write.mode(\"overwrite\").saveAsTable(\"database_03_cache.count_df_\")\n",
    "print(\"건수(ALL) 관련 테이블 생성 완료\")"
   ]
  },
  {
   "cell_type": "markdown",
   "metadata": {
    "application/vnd.databricks.v1+cell": {
     "cellMetadata": {},
     "inputWidgets": {},
     "nuid": "624a8e37-e84f-4095-89ac-c03aaee97dcb",
     "showTitle": false,
     "tableResultSettingsMap": {},
     "title": ""
    }
   },
   "source": [
    "### 3-2. 컬럼 세분화"
   ]
  },
  {
   "cell_type": "markdown",
   "metadata": {
    "application/vnd.databricks.v1+cell": {
     "cellMetadata": {},
     "inputWidgets": {},
     "nuid": "2ef84224-dd3f-449c-91ce-862849629d94",
     "showTitle": false,
     "tableResultSettingsMap": {},
     "title": ""
    }
   },
   "source": [
    "#### ▶️ 데이터 불러오기 (a_df)"
   ]
  },
  {
   "cell_type": "code",
   "execution_count": 0,
   "metadata": {
    "application/vnd.databricks.v1+cell": {
     "cellMetadata": {
      "byteLimit": 2048000,
      "rowLimit": 10000
     },
     "inputWidgets": {},
     "nuid": "9d6bd3c9-1e05-4296-b105-ba985949736c",
     "showTitle": false,
     "tableResultSettingsMap": {},
     "title": ""
    }
   },
   "outputs": [],
   "source": [
    "c_df = spark.read.table(\"database_03_cache.count_df_\")"
   ]
  },
  {
   "cell_type": "markdown",
   "metadata": {
    "application/vnd.databricks.v1+cell": {
     "cellMetadata": {},
     "inputWidgets": {},
     "nuid": "f442e218-496b-432d-a697-d5495a8139de",
     "showTitle": false,
     "tableResultSettingsMap": {},
     "title": ""
    }
   },
   "source": [
    "#### 3.0 기간 포함/불포함 구분\n",
    "\n",
    "- 전체 : 135개\n",
    "- 분류 : 기간 포함된 컬럼 (119개) / 불포함된 컬럼 (16개)"
   ]
  },
  {
   "cell_type": "code",
   "execution_count": 0,
   "metadata": {
    "application/vnd.databricks.v1+cell": {
     "cellMetadata": {
      "byteLimit": 2048000,
      "rowLimit": 10000
     },
     "inputWidgets": {},
     "nuid": "3065dcef-0c3d-45c2-83c2-73086ef3bb6f",
     "showTitle": false,
     "tableResultSettingsMap": {},
     "title": ""
    }
   },
   "outputs": [],
   "source": [
    "count_columns = c_df.columns\n",
    "len(count_columns)"
   ]
  },
  {
   "cell_type": "code",
   "execution_count": 0,
   "metadata": {
    "application/vnd.databricks.v1+cell": {
     "cellMetadata": {
      "byteLimit": 2048000,
      "rowLimit": 10000
     },
     "inputWidgets": {},
     "nuid": "f47debe5-890e-4652-bc79-203d1803cc86",
     "showTitle": false,
     "tableResultSettingsMap": {},
     "title": ""
    }
   },
   "outputs": [],
   "source": [
    "### Step 1: 기간이 포함된 건수 컬럼 정규표현식\n",
    "count_period_pattern = re.compile(r'^(.*)_(B\\d+M|R\\d+M)$')\n",
    "\n",
    "### Step 2: prefix-period 딕셔너리 만들기 (건수)\n",
    "count_period_map = {}\n",
    "count_non_period_cols = []\n",
    "\n",
    "for column in count_columns:\n",
    "    match = count_period_pattern.match(column)\n",
    "    if match:\n",
    "        prefix = match.group(1)\n",
    "        period = match.group(2)\n",
    "        if prefix not in count_period_map:\n",
    "            count_period_map[prefix] = {}\n",
    "        count_period_map[prefix][period] = column\n",
    "    else:\n",
    "        count_non_period_cols.append(column)\n",
    "\n",
    "print(f\"기간 포함 건수 컬럼: {len(count_columns) - len(count_non_period_cols)}개\\n\", count_period_map)\n",
    "print(f\"기간 미포함 건수 컬럼: {len(count_non_period_cols)}개\\n\", count_non_period_cols)"
   ]
  },
  {
   "cell_type": "code",
   "execution_count": 0,
   "metadata": {
    "application/vnd.databricks.v1+cell": {
     "cellMetadata": {
      "byteLimit": 2048000,
      "rowLimit": 10000
     },
     "inputWidgets": {},
     "nuid": "ea48c209-31a1-40ec-8d5d-e1c1f6ec3daa",
     "showTitle": false,
     "tableResultSettingsMap": {},
     "title": ""
    }
   },
   "outputs": [],
   "source": [
    "119+18"
   ]
  },
  {
   "cell_type": "code",
   "execution_count": 0,
   "metadata": {
    "application/vnd.databricks.v1+cell": {
     "cellMetadata": {
      "byteLimit": 2048000,
      "rowLimit": 10000
     },
     "inputWidgets": {},
     "nuid": "96b71370-ae2d-4825-92ef-03e0f97e7817",
     "showTitle": false,
     "tableResultSettingsMap": {},
     "title": ""
    }
   },
   "outputs": [],
   "source": [
    "# 모든 prefix에 대해 period key만 모아서 set으로 중복 제거\n",
    "count_all_periods = set()\n",
    "\n",
    "for periods in count_period_map.values():\n",
    "    count_all_periods.update(periods.keys())\n",
    "\n",
    "# 보기 좋게 숫자 정렬 (예: B0M, B1M, ..., R3M, R6M, R12M)\n",
    "count_sorted_periods = sorted(\n",
    "    list(count_all_periods),\n",
    "    key=lambda x: (x[0], int(re.search(r'\\d+', x).group()))\n",
    ")\n",
    "\n",
    "print(\"✔ 사용된 기간들:\", count_sorted_periods)"
   ]
  },
  {
   "cell_type": "markdown",
   "metadata": {
    "application/vnd.databricks.v1+cell": {
     "cellMetadata": {},
     "inputWidgets": {},
     "nuid": "eb8df938-f6c2-47bf-8e74-b93dff37adaa",
     "showTitle": false,
     "tableResultSettingsMap": {},
     "title": ""
    }
   },
   "source": [
    "#### 3.1 기간 포함 컬럼"
   ]
  },
  {
   "cell_type": "code",
   "execution_count": 0,
   "metadata": {
    "application/vnd.databricks.v1+cell": {
     "cellMetadata": {
      "byteLimit": 2048000,
      "rowLimit": 10000
     },
     "inputWidgets": {},
     "nuid": "61fb6e4e-7d2b-4cff-9837-9ab141ee99ea",
     "showTitle": false,
     "tableResultSettingsMap": {},
     "title": ""
    }
   },
   "outputs": [],
   "source": [
    "count_period_columns = [col for col in count_columns if col not in count_non_period_cols]"
   ]
  },
  {
   "cell_type": "code",
   "execution_count": 0,
   "metadata": {
    "application/vnd.databricks.v1+cell": {
     "cellMetadata": {
      "byteLimit": 2048000,
      "rowLimit": 10000
     },
     "inputWidgets": {},
     "nuid": "dfb103ba-90d0-4a19-99f2-7602da8ca93c",
     "showTitle": false,
     "tableResultSettingsMap": {},
     "title": ""
    }
   },
   "outputs": [],
   "source": [
    "# 3. 건수 관련 (기간 포함) 테이블 생성\n",
    "\n",
    "# 공통 키 컬럼 추가 (기준년월, 발급회원번호)\n",
    "key_columns = [\"기준년월\", \"발급회원번호\"]\n",
    "\n",
    "count_period_columns += key_columns\n",
    "count_period_columns"
   ]
  },
  {
   "cell_type": "code",
   "execution_count": 0,
   "metadata": {
    "application/vnd.databricks.v1+cell": {
     "cellMetadata": {
      "byteLimit": 2048000,
      "rowLimit": 10000
     },
     "inputWidgets": {},
     "nuid": "7c084aae-8ea3-448f-8cbf-6f10d754ee60",
     "showTitle": false,
     "tableResultSettingsMap": {},
     "title": ""
    }
   },
   "outputs": [],
   "source": [
    "# 121개 컬럼\n",
    "cp_df = c_df.select(*count_period_columns)"
   ]
  },
  {
   "cell_type": "markdown",
   "metadata": {
    "application/vnd.databricks.v1+cell": {
     "cellMetadata": {},
     "inputWidgets": {},
     "nuid": "f07111df-4d0c-46cf-bf8f-3dd1ebbd3c6d",
     "showTitle": false,
     "tableResultSettingsMap": {},
     "title": ""
    }
   },
   "source": [
    "##### 💡 데이터 추출 (amount_period_df)"
   ]
  },
  {
   "cell_type": "code",
   "execution_count": 0,
   "metadata": {
    "application/vnd.databricks.v1+cell": {
     "cellMetadata": {
      "byteLimit": 2048000,
      "rowLimit": 10000
     },
     "inputWidgets": {},
     "nuid": "0d657c47-7f56-4d74-beeb-f395591710b6",
     "showTitle": false,
     "tableResultSettingsMap": {},
     "title": ""
    }
   },
   "outputs": [],
   "source": [
    "### 데이터 베이스 사용 설정\n",
    "cp_df = cp_df.cache()\n",
    "spark.sql(\"USE database_03_cache\")\n",
    "print(\"현재 데이터베이스를 'database_03_cache'로 설정\")\n",
    "\n",
    "cp_df.write.mode(\"overwrite\").saveAsTable(\"count_period_df_\")\n",
    "print(\"이용건수(기간 포함) 관련 테이블 생성 완료\")"
   ]
  },
  {
   "cell_type": "markdown",
   "metadata": {
    "application/vnd.databricks.v1+cell": {
     "cellMetadata": {},
     "inputWidgets": {},
     "nuid": "3977978b-9935-470e-b2b6-a0d523e6a8ed",
     "showTitle": false,
     "tableResultSettingsMap": {},
     "title": ""
    }
   },
   "source": [
    "#### 3.2 기간 불포함 컬럼"
   ]
  },
  {
   "cell_type": "code",
   "execution_count": 0,
   "metadata": {
    "application/vnd.databricks.v1+cell": {
     "cellMetadata": {
      "byteLimit": 2048000,
      "rowLimit": 10000
     },
     "inputWidgets": {},
     "nuid": "720d25be-1573-428d-bbab-5e949bc596f3",
     "showTitle": false,
     "tableResultSettingsMap": {},
     "title": ""
    }
   },
   "outputs": [],
   "source": [
    "# 3. 건수 관련 (기간 불포함) 테이블 생성\n",
    "\n",
    "# 18개 컬럼\n",
    "cnp_df = c_df.select(*count_non_period_cols)"
   ]
  },
  {
   "cell_type": "markdown",
   "metadata": {
    "application/vnd.databricks.v1+cell": {
     "cellMetadata": {},
     "inputWidgets": {},
     "nuid": "6fd0f7f1-a000-4dd7-b4bf-c840a38793ce",
     "showTitle": false,
     "tableResultSettingsMap": {},
     "title": ""
    }
   },
   "source": [
    "##### 💡 데이터 추출"
   ]
  },
  {
   "cell_type": "code",
   "execution_count": 0,
   "metadata": {
    "application/vnd.databricks.v1+cell": {
     "cellMetadata": {
      "byteLimit": 2048000,
      "rowLimit": 10000
     },
     "inputWidgets": {},
     "nuid": "acc9acb7-3ad2-4477-b9bd-b410bb3d31d1",
     "showTitle": false,
     "tableResultSettingsMap": {},
     "title": ""
    }
   },
   "outputs": [],
   "source": [
    "### 데이터 베이스 사용 설정\n",
    "cnp_df = cnp_df.cache()\n",
    "spark.sql(\"USE database_03_cache\")\n",
    "print(\"현재 데이터베이스를 'database_03_cache'로 설정\")\n",
    "\n",
    "cnp_df.write.mode(\"overwrite\").saveAsTable(\"count_nonperiod_df_\")\n",
    "print(\"이용건수(기간 불포함) 관련 테이블 생성 완료\")"
   ]
  },
  {
   "cell_type": "markdown",
   "metadata": {
    "application/vnd.databricks.v1+cell": {
     "cellMetadata": {},
     "inputWidgets": {},
     "nuid": "2c5e06c9-152b-4bef-9784-03c85550f837",
     "showTitle": false,
     "tableResultSettingsMap": {},
     "title": ""
    }
   },
   "source": [
    "## ✅ 경과 관련 컬럼\n",
    "---\n",
    "date_columns, amount_columns, count_columns, **use_after_month_column**, use_month_columns, other_columns"
   ]
  },
  {
   "cell_type": "markdown",
   "metadata": {
    "application/vnd.databricks.v1+cell": {
     "cellMetadata": {},
     "inputWidgets": {},
     "nuid": "2a00436d-7356-4fb8-89fd-5c37341b5b0a",
     "showTitle": false,
     "tableResultSettingsMap": {},
     "title": ""
    }
   },
   "source": [
    "- 이용개월 관련 컬럼 :46\n",
    "- 이용개월 관련 컬럼 :48"
   ]
  },
  {
   "cell_type": "code",
   "execution_count": 0,
   "metadata": {
    "application/vnd.databricks.v1+cell": {
     "cellMetadata": {
      "byteLimit": 2048000,
      "rowLimit": 10000
     },
     "inputWidgets": {},
     "nuid": "d2aad418-5614-4270-ad88-bfd0ea1dc00f",
     "showTitle": false,
     "tableResultSettingsMap": {},
     "title": ""
    }
   },
   "outputs": [],
   "source": [
    "# 경과 관련 컬럼\n",
    "print(f'경과 관련 컬럼 :{len(use_after_month_columns)}\\n')"
   ]
  },
  {
   "cell_type": "code",
   "execution_count": 0,
   "metadata": {
    "application/vnd.databricks.v1+cell": {
     "cellMetadata": {
      "byteLimit": 2048000,
      "rowLimit": 10000
     },
     "inputWidgets": {},
     "nuid": "d2411fba-a88f-43e9-b85f-6b1742e8dbd1",
     "showTitle": false,
     "tableResultSettingsMap": {},
     "title": ""
    }
   },
   "outputs": [],
   "source": [
    "# 4. 경과 관련 테이블 생성\n",
    "\n",
    "use_after_month_df = df.select(*use_after_month_columns)"
   ]
  },
  {
   "cell_type": "markdown",
   "metadata": {
    "application/vnd.databricks.v1+cell": {
     "cellMetadata": {},
     "inputWidgets": {},
     "nuid": "48495b50-2a1d-4dde-b47e-a6330870c443",
     "showTitle": false,
     "tableResultSettingsMap": {},
     "title": ""
    }
   },
   "source": [
    "#### 4-1. 데이터형 변환"
   ]
  },
  {
   "cell_type": "code",
   "execution_count": 0,
   "metadata": {
    "application/vnd.databricks.v1+cell": {
     "cellMetadata": {
      "byteLimit": 2048000,
      "rowLimit": 10000
     },
     "inputWidgets": {},
     "nuid": "878056c0-48b8-4da7-84c3-fa83887fbd5b",
     "showTitle": false,
     "tableResultSettingsMap": {},
     "title": ""
    }
   },
   "outputs": [],
   "source": [
    "from pyspark.sql.functions import when, col, to_date\n",
    "\n",
    "for c in use_after_month_df.columns[:-2]:\n",
    "    use_after_month_df = use_after_month_df.withColumn(c, col(c).cast(\"float\"))"
   ]
  },
  {
   "cell_type": "code",
   "execution_count": 0,
   "metadata": {
    "application/vnd.databricks.v1+cell": {
     "cellMetadata": {
      "byteLimit": 2048000,
      "rowLimit": 10000
     },
     "inputWidgets": {},
     "nuid": "2541ab72-ba9c-428e-beca-d90dab116bca",
     "showTitle": false,
     "tableResultSettingsMap": {},
     "title": ""
    }
   },
   "outputs": [
    {
     "output_type": "display_data",
     "data": {
      "text/plain": [
       "Databricks data profile. Run in Databricks to view."
      ]
     },
     "metadata": {
      "application/vnd.databricks.v1.subcommand+json": {
       "baseErrorDetails": null,
       "bindings": {},
       "collapsed": false,
       "command": "%python\nif hasattr(dbutils, \"data\") and hasattr(dbutils.data, \"summarize\"):\n  # setup\n  __data_summary_display_orig = display\n  __data_summary_dfs = []\n  def __data_summary_display_new(df):\n    # add only when result is going to be table type\n    __data_summary_df_modules = [\"pandas.core.frame\", \"databricks.koalas.frame\", \"pyspark.sql.dataframe\", \"pyspark.pandas.frame\", \"pyspark.sql.connect.dataframe\", \"pyspark.sql.classic.dataframe\"]\n    if (type(df).__module__ in __data_summary_df_modules and type(df).__name__ == 'DataFrame') or isinstance(df, list):\n      __data_summary_dfs.append(df)\n  display = __data_summary_display_new\n\n  def __data_summary_user_code_fn():\n    import base64\n    exec(base64.standard_b64decode(\"ZGlzcGxheSh1c2VfYWZ0ZXJfbW9udGhfZGYp\").decode())\n\n  try:\n    # run user code\n    __data_summary_user_code_fn()\n\n    # run on valid tableResultIndex\n    if len(__data_summary_dfs) > 0:\n      # run summarize\n      if type(__data_summary_dfs[0]).__module__ == \"databricks.koalas.frame\":\n        # koalas dataframe\n        dbutils.data.summarize(__data_summary_dfs[0].to_spark())\n      elif type(__data_summary_dfs[0]).__module__ == \"pandas.core.frame\":\n        # pandas dataframe\n        dbutils.data.summarize(spark.createDataFrame(__data_summary_dfs[0]))\n      else:\n        dbutils.data.summarize(__data_summary_dfs[0])\n    else:\n        displayHTML(\"dataframe no longer exists. If you're using dataframe.display(), use display(dataframe) instead.\")\n\n  finally:\n    display = __data_summary_display_orig\n    del __data_summary_display_new\n    del __data_summary_display_orig\n    del __data_summary_dfs\n    del __data_summary_user_code_fn\nelse:\n  print(\"This DBR version does not support data profiles.\")",
       "commandTitle": "데이터 프로필 1",
       "commandType": "auto",
       "commandVersion": 0,
       "commentThread": [],
       "commentsVisible": false,
       "contentSha256Hex": null,
       "customPlotOptions": {},
       "datasetPreviewNameToCmdIdMap": {},
       "diffDeletes": [],
       "diffInserts": [],
       "displayType": "table",
       "error": null,
       "errorDetails": null,
       "errorSummary": null,
       "errorTraceType": null,
       "finishTime": 1749022639645,
       "globalVars": {},
       "guid": "",
       "height": "auto",
       "hideCommandCode": false,
       "hideCommandResult": false,
       "iPythonMetadata": null,
       "inputWidgets": {},
       "isLockedInExamMode": false,
       "latestUser": "a user",
       "latestUserId": null,
       "listResultMetadata": [
        [
         "mimeBundle",
         null
        ]
       ],
       "metadata": {
        "byteLimit": 2048000,
        "rowLimit": 10000
       },
       "nuid": "d2fced89-0083-456b-af91-fbf369f842ee",
       "origId": 0,
       "parentHierarchy": [],
       "pivotAggregation": null,
       "pivotColumns": null,
       "position": 2.6577593485514326,
       "resultDbfsErrorMessage": null,
       "resultDbfsStatus": "INLINED_IN_TREE",
       "results": null,
       "showCommandTitle": false,
       "startTime": 1749022444223,
       "state": "input",
       "streamStates": {},
       "subcommandOptions": null,
       "submitTime": 1749022444204,
       "subtype": "tableResultSubCmd.dataSummary",
       "tableResultIndex": 0,
       "tableResultSettingsMap": {},
       "useConsistentColors": false,
       "version": "CommandV1",
       "width": "auto",
       "workflows": null,
       "xColumns": null,
       "yColumns": null
      }
     },
     "output_type": "display_data"
    }
   ],
   "source": [
    "display(use_after_month_df)"
   ]
  },
  {
   "cell_type": "markdown",
   "metadata": {
    "application/vnd.databricks.v1+cell": {
     "cellMetadata": {},
     "inputWidgets": {},
     "nuid": "2ddb7960-eb33-4fd9-8d12-b230040c9e6a",
     "showTitle": false,
     "tableResultSettingsMap": {},
     "title": ""
    }
   },
   "source": [
    "#### 💡 데이터 추출 (use_after_month_df)"
   ]
  },
  {
   "cell_type": "code",
   "execution_count": 0,
   "metadata": {
    "application/vnd.databricks.v1+cell": {
     "cellMetadata": {
      "byteLimit": 2048000,
      "rowLimit": 10000
     },
     "inputWidgets": {},
     "nuid": "21c7922d-448d-419c-ae49-c9796197f3aa",
     "showTitle": false,
     "tableResultSettingsMap": {},
     "title": ""
    }
   },
   "outputs": [],
   "source": [
    "# database_3_cache 데이터베이스에 테이블 저장\n",
    "use_after_month_df.write.mode(\"overwrite\").saveAsTable(\"database_03_cache.use_after_month_df\")\n",
    "print(\"경과 관련 테이블 생성 완료\")"
   ]
  },
  {
   "cell_type": "markdown",
   "metadata": {
    "application/vnd.databricks.v1+cell": {
     "cellMetadata": {},
     "inputWidgets": {},
     "nuid": "10bbef03-8817-4899-b103-47b696603c48",
     "showTitle": false,
     "tableResultSettingsMap": {},
     "title": ""
    }
   },
   "source": [
    "## ✅ 이용개월 관련 컬럼\n",
    "---\n",
    "date_columns, amount_columns, count_columns, use_after_month_column, **use_month_columns**, other_columns"
   ]
  },
  {
   "cell_type": "code",
   "execution_count": 0,
   "metadata": {
    "application/vnd.databricks.v1+cell": {
     "cellMetadata": {},
     "inputWidgets": {},
     "nuid": "b8e7c9e4-4dfb-4f93-b758-45b5bfc5e24c",
     "showTitle": false,
     "tableResultSettingsMap": {},
     "title": ""
    }
   },
   "outputs": [],
   "source": [
    "# 5. 이용개월 관련 테이블 생성\n",
    "\n",
    "use_month_df = df.select(*use_month_columns)    #46개"
   ]
  },
  {
   "cell_type": "markdown",
   "metadata": {
    "application/vnd.databricks.v1+cell": {
     "cellMetadata": {},
     "inputWidgets": {},
     "nuid": "78bc5123-af94-480f-bc75-7888eba310c1",
     "showTitle": false,
     "tableResultSettingsMap": {},
     "title": ""
    }
   },
   "source": [
    "#### 5-1. 데이터형 변환"
   ]
  },
  {
   "cell_type": "code",
   "execution_count": 0,
   "metadata": {
    "application/vnd.databricks.v1+cell": {
     "cellMetadata": {
      "byteLimit": 2048000,
      "rowLimit": 10000
     },
     "inputWidgets": {},
     "nuid": "be162a57-bdff-4fda-ae74-8f07576d51fa",
     "showTitle": false,
     "tableResultSettingsMap": {},
     "title": ""
    }
   },
   "outputs": [],
   "source": [
    "for col_name in use_month_columns:\n",
    "    use_month_df = use_month_df.withColumn(c, col(c).cast(\"int\"))"
   ]
  },
  {
   "cell_type": "code",
   "execution_count": 0,
   "metadata": {
    "application/vnd.databricks.v1+cell": {
     "cellMetadata": {
      "byteLimit": 2048000,
      "rowLimit": 10000
     },
     "inputWidgets": {},
     "nuid": "eb416f58-e132-4c2b-8196-730ee3e0441d",
     "showTitle": false,
     "tableResultSettingsMap": {},
     "title": ""
    }
   },
   "outputs": [
    {
     "output_type": "display_data",
     "data": {
      "text/plain": [
       "Databricks data profile. Run in Databricks to view."
      ]
     },
     "metadata": {
      "application/vnd.databricks.v1.subcommand+json": {
       "baseErrorDetails": null,
       "bindings": {},
       "collapsed": false,
       "command": "%python\nif hasattr(dbutils, \"data\") and hasattr(dbutils.data, \"summarize\"):\n  # setup\n  __data_summary_display_orig = display\n  __data_summary_dfs = []\n  def __data_summary_display_new(df):\n    # add only when result is going to be table type\n    __data_summary_df_modules = [\"pandas.core.frame\", \"databricks.koalas.frame\", \"pyspark.sql.dataframe\", \"pyspark.pandas.frame\", \"pyspark.sql.connect.dataframe\", \"pyspark.sql.classic.dataframe\"]\n    if (type(df).__module__ in __data_summary_df_modules and type(df).__name__ == 'DataFrame') or isinstance(df, list):\n      __data_summary_dfs.append(df)\n  display = __data_summary_display_new\n\n  def __data_summary_user_code_fn():\n    import base64\n    exec(base64.standard_b64decode(\"dXNlX21vbnRoX2RmID0gZGZbdXNlX21vbnRoX2NvbHVtbnNdCmRpc3BsYXkodXNlX21vbnRoX2RmKQ==\").decode())\n\n  try:\n    # run user code\n    __data_summary_user_code_fn()\n\n    # run on valid tableResultIndex\n    if len(__data_summary_dfs) > 0:\n      # run summarize\n      if type(__data_summary_dfs[0]).__module__ == \"databricks.koalas.frame\":\n        # koalas dataframe\n        dbutils.data.summarize(__data_summary_dfs[0].to_spark())\n      elif type(__data_summary_dfs[0]).__module__ == \"pandas.core.frame\":\n        # pandas dataframe\n        dbutils.data.summarize(spark.createDataFrame(__data_summary_dfs[0]))\n      else:\n        dbutils.data.summarize(__data_summary_dfs[0])\n    else:\n        displayHTML(\"dataframe no longer exists. If you're using dataframe.display(), use display(dataframe) instead.\")\n\n  finally:\n    display = __data_summary_display_orig\n    del __data_summary_display_new\n    del __data_summary_display_orig\n    del __data_summary_dfs\n    del __data_summary_user_code_fn\nelse:\n  print(\"This DBR version does not support data profiles.\")",
       "commandTitle": "데이터 프로필 1",
       "commandType": "auto",
       "commandVersion": 0,
       "commentThread": [],
       "commentsVisible": false,
       "contentSha256Hex": null,
       "customPlotOptions": {},
       "datasetPreviewNameToCmdIdMap": {},
       "diffDeletes": [],
       "diffInserts": [],
       "displayType": "table",
       "error": null,
       "errorDetails": null,
       "errorSummary": null,
       "errorTraceType": null,
       "finishTime": 1748334073361,
       "globalVars": {},
       "guid": "",
       "height": "auto",
       "hideCommandCode": false,
       "hideCommandResult": false,
       "iPythonMetadata": null,
       "inputWidgets": {},
       "isLockedInExamMode": false,
       "latestUser": "a user",
       "latestUserId": null,
       "listResultMetadata": [
        [
         "mimeBundle",
         null
        ]
       ],
       "metadata": {
        "byteLimit": 2048000,
        "rowLimit": 10000
       },
       "nuid": "c61b01f3-d83c-4209-a6db-cfc274abaef3",
       "origId": 0,
       "parentHierarchy": [],
       "pivotAggregation": null,
       "pivotColumns": null,
       "position": 2.657764514287313,
       "resultDbfsErrorMessage": null,
       "resultDbfsStatus": "INLINED_IN_TREE",
       "results": null,
       "showCommandTitle": false,
       "startTime": 1748333877587,
       "state": "input",
       "streamStates": {},
       "subcommandOptions": null,
       "submitTime": 1748333704920,
       "subtype": "tableResultSubCmd.dataSummary",
       "tableResultIndex": 0,
       "tableResultSettingsMap": {},
       "useConsistentColors": false,
       "version": "CommandV1",
       "width": "auto",
       "workflows": null,
       "xColumns": null,
       "yColumns": null
      }
     },
     "output_type": "display_data"
    }
   ],
   "source": [
    "# display(use_month_df)"
   ]
  },
  {
   "cell_type": "code",
   "execution_count": 0,
   "metadata": {
    "application/vnd.databricks.v1+cell": {
     "cellMetadata": {
      "byteLimit": 2048000,
      "rowLimit": 10000
     },
     "inputWidgets": {},
     "nuid": "d50c1d22-2793-45b6-a6c8-9431bb9b3ff2",
     "showTitle": false,
     "tableResultSettingsMap": {},
     "title": ""
    }
   },
   "outputs": [],
   "source": [
    "print((use_month_df.count(), len(use_month_df.columns)))\n",
    "use_month_df.printSchema()"
   ]
  },
  {
   "cell_type": "markdown",
   "metadata": {
    "application/vnd.databricks.v1+cell": {
     "cellMetadata": {},
     "inputWidgets": {},
     "nuid": "1edba0be-54cb-44c7-ab4e-4334cea32f9a",
     "showTitle": false,
     "tableResultSettingsMap": {},
     "title": ""
    }
   },
   "source": [
    "## ✅ 기타 컬럼\n",
    "---\n",
    "other_columns"
   ]
  },
  {
   "cell_type": "markdown",
   "metadata": {
    "application/vnd.databricks.v1+cell": {
     "cellMetadata": {},
     "inputWidgets": {},
     "nuid": "d68bfbf3-9da8-4516-8bf0-24bb9ae1d7ef",
     "showTitle": false,
     "tableResultSettingsMap": {},
     "title": ""
    }
   },
   "source": [
    "#### 6-1. 데이터형 변환"
   ]
  },
  {
   "cell_type": "code",
   "execution_count": 0,
   "metadata": {
    "application/vnd.databricks.v1+cell": {
     "cellMetadata": {
      "byteLimit": 2048000,
      "rowLimit": 10000
     },
     "inputWidgets": {},
     "nuid": "e26a950c-2ee7-4e2d-9803-0c12e849e36e",
     "showTitle": false,
     "tableResultSettingsMap": {},
     "title": ""
    }
   },
   "outputs": [],
   "source": [
    "print(\"Other columns 개수:\", len(other_columns))\n",
    "print(\"Other columns 목록:\")\n",
    "for i, col_name in enumerate(other_columns):\n",
    "    print(f\"{i+1}. {col_name}\")"
   ]
  },
  {
   "cell_type": "code",
   "execution_count": 0,
   "metadata": {
    "application/vnd.databricks.v1+cell": {
     "cellMetadata": {
      "byteLimit": 2048000,
      "rowLimit": 10000
     },
     "inputWidgets": {},
     "nuid": "10888bfc-81f9-4dce-b17c-86b21ffe3954",
     "showTitle": false,
     "tableResultSettingsMap": {},
     "title": ""
    }
   },
   "outputs": [],
   "source": [
    "### 기타 컬럼들을 데이터형별로 분류\n",
    "other_df = df[other_columns]\n",
    "\n",
    "# 샘플 데이터로 데이터형 확인\n",
    "sample_other = other_df.limit(100).toPandas()\n",
    "\n",
    "# 1. 문자열(카테고리) 컬럼\n",
    "string_columns = [\n",
    "    \"발급회원번호\",\n",
    "    \"_1순위업종\", \"_2순위업종\", \"_3순위업종\",\n",
    "    \"_1순위쇼핑업종\", \"_2순위쇼핑업종\", \"_3순위쇼핑업종\",\n",
    "    \"_1순위교통업종\", \"_2순위교통업종\", \"_3순위교통업종\",\n",
    "    \"_1순위여유업종\", \"_2순위여유업종\", \"_3순위여유업종\",\n",
    "    \"_1순위납부업종\", \"_2순위납부업종\", \"_3순위납부업종\",\n",
    "    \"최종카드론_금융상환방식코드\", \"최종카드론_신청경로코드\"\n",
    "]\n",
    "\n",
    "# 2. 정수형 컬럼 (개월수, 횟수, 건수 등)\n",
    "integer_columns = [\n",
    "    \"기준년월\", \"이용가맹점수\",\n",
    "    \"RP후경과월\", \"RP후경과월_통신\", \"RP후경과월_아파트\", \"RP후경과월_제휴사서비스직접판매\",\n",
    "    \"RP후경과월_렌탈\", \"RP후경과월_가스\", \"RP후경과월_전기\", \"RP후경과월_보험\",\n",
    "    \"RP후경과월_학습비\", \"RP후경과월_유선방송\", \"RP후경과월_건강\", \"RP후경과월_교통\",\n",
    "    \"최초카드론이용경과월\", \"최종카드론이용경과월\", \"카드론이용월수_누적\",\n",
    "    \"최종카드론_대출월수\", \"최종카드론_거치개월수\",\n",
    "    \"이용횟수_선결제_R6M\", \"이용횟수_선결제_R3M\", \"이용횟수_선결제_B0M\",\n",
    "    \"이용횟수_연체_R6M\", \"이용횟수_연체_R3M\", \"이용횟수_연체_B0M\",\n",
    "    \"연속무실적개월수_기본_24M_카드\", \"연속유실적개월수_기본_24M_카드\"\n",
    "]\n",
    "\n",
    "# 3. 실수형 컬럼 (금액, 이율 등)\n",
    "float_columns = [\n",
    "    \"최종카드론_대출이율\",\n",
    "    \"정상청구원금_B0M\", \"선입금원금_B0M\", \"정상입금원금_B0M\", \"연체입금원금_B0M\",\n",
    "    \"정상청구원금_B2M\", \"선입금원금_B2M\", \"정상입금원금_B2M\", \"연체입금원금_B2M\",\n",
    "    \"정상청구원금_B5M\", \"선입금원금_B5M\", \"정상입금원금_B5M\", \"연체입금원금_B5M\"\n",
    "]\n",
    "\n",
    "print(f\"문자열 컬럼: {len(string_columns)}개\")\n",
    "print(f\"정수형 컬럼: {len(integer_columns)}개\") \n",
    "print(f\"실수형 컬럼: {len(float_columns)}개\")\n",
    "print(f\"총 기타 컬럼: {len(string_columns) + len(integer_columns) + len(float_columns)}개\")"
   ]
  },
  {
   "cell_type": "code",
   "execution_count": 0,
   "metadata": {
    "application/vnd.databricks.v1+cell": {
     "cellMetadata": {
      "byteLimit": 2048000,
      "rowLimit": 10000
     },
     "inputWidgets": {},
     "nuid": "1d2b417b-d079-4f6b-b001-c66454aad59e",
     "showTitle": false,
     "tableResultSettingsMap": {},
     "title": ""
    }
   },
   "outputs": [],
   "source": [
    "from pyspark.sql.functions import col, when\n",
    "from pyspark.sql import functions as F\n",
    "\n",
    "# 문자열 컬럼 (이미 string 타입)\n",
    "string_df = other_df.select(*string_columns)\n",
    "\n",
    "print(\"문자열 컬럼 처리 완료\")\n",
    "display(string_df.limit(5))\n",
    "\n",
    "# 정수형으로 변환\n",
    "integer_df = other_df.select(*integer_columns)\n",
    "\n",
    "for col_name in integer_columns:\n",
    "    integer_df = integer_df.withColumn(col_name, col(col_name).cast(\"int\"))\n",
    "\n",
    "print(\"정수형 컬럼 처리 완료\")\n",
    "display(integer_df.limit(5))\n",
    "\n",
    "# 실수형으로 변환\n",
    "float_df = other_df.select(*float_columns)\n",
    "\n",
    "for col_name in float_columns:\n",
    "    float_df = float_df.withColumn(col_name, col(col_name).cast(\"float\"))\n",
    "\n",
    "print(\"실수형 컬럼 처리 완료\")\n",
    "display(float_df.limit(5))\n",
    "\n",
    "# 모든 기타 컬럼을 하나로 통합\n",
    "final_other_columns = string_columns + integer_columns + float_columns\n",
    "final_other_df = other_df.select(*final_other_columns)\n",
    "\n",
    "# 데이터형 변환 적용\n",
    "for col_name in string_columns:\n",
    "    final_other_df = final_other_df.withColumn(col_name, \n",
    "                                             when(col(col_name).isNull() | (col(col_name) == \"\"), \"Unknown\")\n",
    "                                             .otherwise(col(col_name)))\n",
    "\n",
    "for col_name in integer_columns:\n",
    "    final_other_df = final_other_df.withColumn(col_name, col(col_name).cast(\"int\"))\n",
    "\n",
    "for col_name in float_columns:\n",
    "    final_other_df = final_other_df.withColumn(col_name, col(col_name).cast(\"float\"))\n",
    "\n",
    "print(f\"최종 기타 컬럼 수: {len(final_other_columns)}개\")\n",
    "print(\"데이터형 변환 완료\")\n",
    "display(final_other_df)\n",
    "\n",
    "# 데이터형 확인\n",
    "final_other_df.printSchema()"
   ]
  },
  {
   "cell_type": "code",
   "execution_count": 0,
   "metadata": {
    "application/vnd.databricks.v1+cell": {
     "cellMetadata": {
      "byteLimit": 2048000,
      "rowLimit": 10000
     },
     "inputWidgets": {},
     "nuid": "cffce23f-039c-4268-92a9-59bdbf6bbadf",
     "showTitle": false,
     "tableResultSettingsMap": {},
     "title": ""
    }
   },
   "outputs": [],
   "source": [
    "other_df = df[other_columns]"
   ]
  },
  {
   "cell_type": "code",
   "execution_count": 0,
   "metadata": {
    "application/vnd.databricks.v1+cell": {
     "cellMetadata": {
      "byteLimit": 2048000,
      "rowLimit": 10000
     },
     "inputWidgets": {},
     "nuid": "65c5b9e9-15cb-417c-836b-4be4ec162ce0",
     "showTitle": false,
     "tableResultSettingsMap": {},
     "title": ""
    }
   },
   "outputs": [
    {
     "output_type": "display_data",
     "data": {
      "text/plain": [
       "Databricks data profile. Run in Databricks to view."
      ]
     },
     "metadata": {
      "application/vnd.databricks.v1.subcommand+json": {
       "baseErrorDetails": null,
       "bindings": {},
       "collapsed": false,
       "command": "%python\nif hasattr(dbutils, \"data\") and hasattr(dbutils.data, \"summarize\"):\n  # setup\n  __data_summary_display_orig = display\n  __data_summary_dfs = []\n  def __data_summary_display_new(df):\n    # add only when result is going to be table type\n    __data_summary_df_modules = [\"pandas.core.frame\", \"databricks.koalas.frame\", \"pyspark.sql.dataframe\", \"pyspark.pandas.frame\", \"pyspark.sql.connect.dataframe\", \"pyspark.sql.classic.dataframe\"]\n    if (type(df).__module__ in __data_summary_df_modules and type(df).__name__ == 'DataFrame') or isinstance(df, list):\n      __data_summary_dfs.append(df)\n  display = __data_summary_display_new\n\n  def __data_summary_user_code_fn():\n    import base64\n    exec(base64.standard_b64decode(\"b3RoZXJfZGYgPSBkZltvdGhlcl9jb2x1bW5zXQpkaXNwbGF5KG90aGVyX2RmKQ==\").decode())\n\n  try:\n    # run user code\n    __data_summary_user_code_fn()\n\n    # run on valid tableResultIndex\n    if len(__data_summary_dfs) > 0:\n      # run summarize\n      if type(__data_summary_dfs[0]).__module__ == \"databricks.koalas.frame\":\n        # koalas dataframe\n        dbutils.data.summarize(__data_summary_dfs[0].to_spark())\n      elif type(__data_summary_dfs[0]).__module__ == \"pandas.core.frame\":\n        # pandas dataframe\n        dbutils.data.summarize(spark.createDataFrame(__data_summary_dfs[0]))\n      else:\n        dbutils.data.summarize(__data_summary_dfs[0])\n    else:\n        displayHTML(\"dataframe no longer exists. If you're using dataframe.display(), use display(dataframe) instead.\")\n\n  finally:\n    display = __data_summary_display_orig\n    del __data_summary_display_new\n    del __data_summary_display_orig\n    del __data_summary_dfs\n    del __data_summary_user_code_fn\nelse:\n  print(\"This DBR version does not support data profiles.\")",
       "commandTitle": "데이터 프로필 1",
       "commandType": "auto",
       "commandVersion": 0,
       "commentThread": [],
       "commentsVisible": false,
       "contentSha256Hex": null,
       "customPlotOptions": {},
       "datasetPreviewNameToCmdIdMap": {},
       "diffDeletes": [],
       "diffInserts": [],
       "displayType": "table",
       "error": null,
       "errorDetails": null,
       "errorSummary": null,
       "errorTraceType": null,
       "finishTime": 1748334272801,
       "globalVars": {},
       "guid": "",
       "height": "auto",
       "hideCommandCode": false,
       "hideCommandResult": false,
       "iPythonMetadata": null,
       "inputWidgets": {},
       "isLockedInExamMode": false,
       "latestUser": "a user",
       "latestUserId": null,
       "listResultMetadata": [
        [
         "mimeBundle",
         null
        ]
       ],
       "metadata": {
        "byteLimit": 2048000,
        "rowLimit": 10000
       },
       "nuid": "84ea6036-a167-431a-b7e0-b91e3146fe9b",
       "origId": 0,
       "parentHierarchy": [],
       "pivotAggregation": null,
       "pivotColumns": null,
       "position": 2.657766580581665,
       "resultDbfsErrorMessage": null,
       "resultDbfsStatus": "INLINED_IN_TREE",
       "results": null,
       "showCommandTitle": false,
       "startTime": 1748334073376,
       "state": "input",
       "streamStates": {},
       "subcommandOptions": null,
       "submitTime": 1748333708817,
       "subtype": "tableResultSubCmd.dataSummary",
       "tableResultIndex": 0,
       "tableResultSettingsMap": {},
       "useConsistentColors": false,
       "version": "CommandV1",
       "width": "auto",
       "workflows": null,
       "xColumns": null,
       "yColumns": null
      }
     },
     "output_type": "display_data"
    }
   ],
   "source": [
    "# display(other_df)"
   ]
  },
  {
   "cell_type": "code",
   "execution_count": 0,
   "metadata": {
    "application/vnd.databricks.v1+cell": {
     "cellMetadata": {
      "byteLimit": 2048000,
      "rowLimit": 10000
     },
     "inputWidgets": {},
     "nuid": "5c1fdb53-ff6c-4703-9012-97b58470dea1",
     "showTitle": false,
     "tableResultSettingsMap": {},
     "title": ""
    }
   },
   "outputs": [],
   "source": [
    "print((other_df.count(), len(other_df.columns)))\n",
    "other_df.printSchema()"
   ]
  },
  {
   "cell_type": "code",
   "execution_count": 0,
   "metadata": {
    "application/vnd.databricks.v1+cell": {
     "cellMetadata": {},
     "inputWidgets": {},
     "nuid": "3c36bfde-2c2d-4327-b85d-31f547bf6ea1",
     "showTitle": false,
     "tableResultSettingsMap": {},
     "title": ""
    }
   },
   "outputs": [],
   "source": [
    "# RP금액_B0M = 이번 달 (지난 0개월) 동안의 회전 결제 금액\n",
    "#            = (지난달에 이월된 금액) + (이번달에 사용한 금액) = 이번 달 회전 결제 금액"
   ]
  },
  {
   "cell_type": "markdown",
   "metadata": {
    "application/vnd.databricks.v1+cell": {
     "cellMetadata": {},
     "inputWidgets": {},
     "nuid": "668d9de9-4b3a-47f3-9352-5db6d6735211",
     "showTitle": false,
     "tableResultSettingsMap": {},
     "title": ""
    }
   },
   "source": [
    "---\n",
    "---"
   ]
  },
  {
   "cell_type": "code",
   "execution_count": 0,
   "metadata": {
    "application/vnd.databricks.v1+cell": {
     "cellMetadata": {},
     "inputWidgets": {},
     "nuid": "86083519-b423-41bb-bac6-24eb5a96de9a",
     "showTitle": false,
     "tableResultSettingsMap": {},
     "title": ""
    }
   },
   "outputs": [],
   "source": []
  },
  {
   "cell_type": "code",
   "execution_count": 0,
   "metadata": {
    "application/vnd.databricks.v1+cell": {
     "cellMetadata": {
      "byteLimit": 2048000,
      "rowLimit": 10000
     },
     "inputWidgets": {},
     "nuid": "fe5a3ac1-4ca7-483f-83ea-658b72b7cd54",
     "showTitle": false,
     "tableResultSettingsMap": {},
     "title": ""
    }
   },
   "outputs": [],
   "source": [
    "from pyspark.sql import functions as F\n",
    "from pyspark.sql import SparkSession"
   ]
  },
  {
   "cell_type": "code",
   "execution_count": 0,
   "metadata": {
    "application/vnd.databricks.v1+cell": {
     "cellMetadata": {
      "byteLimit": 2048000,
      "rowLimit": 10000
     },
     "inputWidgets": {},
     "nuid": "72366f45-4702-44d9-a77a-eecd085dbacf",
     "showTitle": false,
     "tableResultSettingsMap": {},
     "title": ""
    }
   },
   "outputs": [],
   "source": [
    "date_columns = [\n",
    "    \"기준년월\", \"최종이용일자_기본\", \"최종이용일자_신판\", \"최종이용일자_CA\",\n",
    "    \"최종이용일자_카드론\", \"최종이용일자_체크\", \"최종이용일자_일시불\", \"최종이용일자_할부\" ]\n",
    "\n",
    "print('날짜 관련 컬럼 :',len(date_columns))"
   ]
  },
  {
   "cell_type": "code",
   "execution_count": 0,
   "metadata": {
    "application/vnd.databricks.v1+cell": {
     "cellMetadata": {
      "byteLimit": 2048000,
      "rowLimit": 10000
     },
     "inputWidgets": {},
     "nuid": "bf6d1864-29db-4b5d-936d-f1202484dfd3",
     "showTitle": false,
     "tableResultSettingsMap": {},
     "title": ""
    }
   },
   "outputs": [],
   "source": [
    "amount_columns = [\n",
    "    \"이용금액_신용_B0M\", \"이용금액_신판_B0M\", \"이용금액_일시불_B0M\", \"이용금액_할부_B0M\", \n",
    "    \"이용금액_할부_유이자_B0M\", \"이용금액_할부_무이자_B0M\", \"이용금액_부분무이자_B0M\", \n",
    "    \"이용금액_CA_B0M\", \"이용금액_체크_B0M\", \"이용금액_카드론_B0M\"\n",
    "]\n",
    "\n",
    "print('금액 관련 컬럼 :',len(amount_columns))"
   ]
  },
  {
   "cell_type": "code",
   "execution_count": 0,
   "metadata": {
    "application/vnd.databricks.v1+cell": {
     "cellMetadata": {
      "byteLimit": 2048000,
      "rowLimit": 10000
     },
     "inputWidgets": {},
     "nuid": "13f753bd-7f03-4b03-a997-4dc6e6313452",
     "showTitle": false,
     "tableResultSettingsMap": {},
     "title": ""
    }
   },
   "outputs": [],
   "source": [
    "count_columns = [\n",
    "    \"이용건수_신용_B0M\", \"이용건수_신판_B0M\", \"이용건수_일시불_B0M\", \"이용건수_할부_B0M\", \n",
    "    \"이용건수_할부_유이자_B0M\", \"이용건수_할부_무이자_B0M\", \"이용건수_부분무이자_B0M\", \n",
    "    \"이용건수_CA_B0M\", \"이용건수_체크_B0M\", \"이용건수_카드론_B0M\"\n",
    "]\n",
    "\n",
    "print('건수 관련 컬럼 :',len(amount_columns))"
   ]
  },
  {
   "cell_type": "code",
   "execution_count": 0,
   "metadata": {
    "application/vnd.databricks.v1+cell": {
     "cellMetadata": {
      "byteLimit": 2048000,
      "rowLimit": 10000
     },
     "inputWidgets": {},
     "nuid": "397364f0-3139-492b-a336-c6cc2823ae4d",
     "showTitle": false,
     "tableResultSettingsMap": {},
     "title": ""
    }
   },
   "outputs": [],
   "source": [
    "other_columns = [\n",
    "    \"발급회원번호\", \"RP건수_B0M\", \"RP금액_B0M\", \"RP유형건수_B0M\", \"RP건수_통신_B0M\", \n",
    "    \"RP건수_아파트_B0M\", \"RP건수_제휴사서비스직접판매_B0M\", \"RP건수_렌탈_B0M\", \n",
    "    \"RP건수_가스_B0M\", \"RP건수_전기_B0M\", \"RP건수_보험_B0M\", \"RP건수_학습비_B0M\", \n",
    "    \"RP건수_유선방송_B0M\", \"RP건수_건강_B0M\", \"RP건수_교통_B0M\", \"증감_RP건수_전월\",\n",
    "    \"증감_RP유형건수_전월\", \"증감_RP건수_통신_전월\", \"증감_RP건수_아파트_전월\"\n",
    "]\n",
    "print('기타 컬럼 :',len(other_columns))"
   ]
  },
  {
   "cell_type": "code",
   "execution_count": 0,
   "metadata": {
    "application/vnd.databricks.v1+cell": {
     "cellMetadata": {
      "byteLimit": 2048000,
      "rowLimit": 10000
     },
     "inputWidgets": {},
     "nuid": "13426b2d-a1f8-4218-b26e-afa1b5298590",
     "showTitle": false,
     "tableResultSettingsMap": {},
     "title": ""
    }
   },
   "outputs": [],
   "source": [
    "from pyspark.sql.functions import concat, lit, when, to_date\n",
    "\n",
    "# 'yyyy-MM' 형식의 '기준년월'에 '01'을 추가하여 'yyyy-MM-01' 형식으로 변환\n",
    "# df = df.withColumn(\"기준년월\", to_date(concat(df[\"기준년월\"], lit(\"01\")), \"yyyy-MM-dd\"))\n",
    "\n",
    "# '10101' 값을 제외하고 나머지는 정상적인 날짜 형식으로 변환\n",
    "df = df.withColumn(\"최종이용일자_기본\", \n",
    "                   when(df[\"최종이용일자_기본\"] == \"10101\", None)\n",
    "                   .otherwise(to_date(df[\"최종이용일자_기본\"], \"yyyy-MM-dd\")))\n",
    "\n",
    "df = df.withColumn(\"최종이용일자_신판\", \n",
    "                   when(df[\"최종이용일자_신판\"] == \"10101\", None)\n",
    "                   .otherwise(to_date(df[\"최종이용일자_신판\"], \"yyyy-MM-dd\")))\n",
    "\n",
    "df = df.withColumn(\"최종이용일자_CA\", \n",
    "                   when(df[\"최종이용일자_CA\"] == \"10101\", None)\n",
    "                   .otherwise(to_date(df[\"최종이용일자_CA\"], \"yyyy-MM-dd\")))\n",
    "\n",
    "df = df.withColumn(\"최종이용일자_카드론\", \n",
    "                   when(df[\"최종이용일자_카드론\"] == \"10101\", None)\n",
    "                   .otherwise(to_date(df[\"최종이용일자_카드론\"], \"yyyy-MM-dd\")))\n",
    "\n",
    "df = df.withColumn(\"최종이용일자_체크\", \n",
    "                   when(df[\"최종이용일자_체크\"] == \"10101\", None)\n",
    "                   .otherwise(to_date(df[\"최종이용일자_체크\"], \"yyyy-MM-dd\")))\n",
    "\n",
    "df = df.withColumn(\"최종이용일자_일시불\", \n",
    "                   when(df[\"최종이용일자_일시불\"] == \"10101\", None)\n",
    "                   .otherwise(to_date(df[\"최종이용일자_일시불\"], \"yyyy-MM-dd\")))\n",
    "\n",
    "df = df.withColumn(\"최종이용일자_할부\", \n",
    "                   when(df[\"최종이용일자_할부\"] == \"10101\", None)\n",
    "                   .otherwise(to_date(df[\"최종이용일자_할부\"], \"yyyy-MM-dd\")))\n"
   ]
  },
  {
   "cell_type": "code",
   "execution_count": 0,
   "metadata": {
    "application/vnd.databricks.v1+cell": {
     "cellMetadata": {
      "byteLimit": 2048000,
      "rowLimit": 10000
     },
     "inputWidgets": {},
     "nuid": "e9176136-84c6-4bb5-b65a-b5e3f8ebda18",
     "showTitle": false,
     "tableResultSettingsMap": {},
     "title": ""
    }
   },
   "outputs": [],
   "source": [
    "display(df)"
   ]
  },
  {
   "cell_type": "code",
   "execution_count": 0,
   "metadata": {
    "application/vnd.databricks.v1+cell": {
     "cellMetadata": {
      "byteLimit": 2048000,
      "rowLimit": 10000
     },
     "inputWidgets": {},
     "nuid": "b00f25a9-12e7-423e-b690-477825af9a49",
     "showTitle": false,
     "tableResultSettingsMap": {},
     "title": ""
    }
   },
   "outputs": [],
   "source": [
    "from pyspark.sql.functions import to_date\n",
    "\n",
    "# 날짜 컬럼들을 timestamp 형식으로 변환\n",
    "df = df.withColumn(\"기준년월\", to_date(df[\"기준년월\"], \"yyyy-MM\"))\n",
    "df = df.withColumn(\"최종이용일자_기본\", to_date(df[\"최종이용일자_기본\"], \"yyyy-MM-dd\"))\n",
    "df = df.withColumn(\"최종이용일자_신판\", to_date(df[\"최종이용일자_신판\"], \"yyyy-MM-dd\"))\n",
    "df = df.withColumn(\"최종이용일자_CA\", to_date(df[\"최종이용일자_CA\"], \"yyyy-MM-dd\"))\n",
    "df = df.withColumn(\"최종이용일자_카드론\", to_date(df[\"최종이용일자_카드론\"], \"yyyy-MM-dd\"))\n",
    "df = df.withColumn(\"최종이용일자_체크\", to_date(df[\"최종이용일자_체크\"], \"yyyy-MM-dd\"))\n",
    "df = df.withColumn(\"최종이용일자_일시불\", to_date(df[\"최종이용일자_일시불\"], \"yyyy-MM-dd\"))\n",
    "df = df.withColumn(\"최종이용일자_할부\", to_date(df[\"최종이용일자_할부\"], \"yyyy-MM-dd\"))\n"
   ]
  },
  {
   "cell_type": "code",
   "execution_count": 0,
   "metadata": {
    "application/vnd.databricks.v1+cell": {
     "cellMetadata": {
      "byteLimit": 2048000,
      "rowLimit": 10000
     },
     "inputWidgets": {},
     "nuid": "95b9571d-a668-4796-a2b7-2bcce3b6056e",
     "showTitle": false,
     "tableResultSettingsMap": {},
     "title": ""
    }
   },
   "outputs": [],
   "source": [
    "display(df)"
   ]
  },
  {
   "cell_type": "code",
   "execution_count": 0,
   "metadata": {
    "application/vnd.databricks.v1+cell": {
     "cellMetadata": {
      "byteLimit": 2048000,
      "rowLimit": 10000
     },
     "inputWidgets": {},
     "nuid": "9827a6e5-d8a9-4a85-960e-e1eb3f3e8c1e",
     "showTitle": false,
     "tableResultSettingsMap": {},
     "title": ""
    }
   },
   "outputs": [],
   "source": [
    "df.printSchema()"
   ]
  },
  {
   "cell_type": "code",
   "execution_count": 0,
   "metadata": {
    "application/vnd.databricks.v1+cell": {
     "cellMetadata": {
      "byteLimit": 2048000,
      "rowLimit": 10000
     },
     "inputWidgets": {},
     "nuid": "d95e68c3-42cd-4391-8f39-0450a3c5eb5f",
     "showTitle": false,
     "tableResultSettingsMap": {},
     "title": ""
    }
   },
   "outputs": [],
   "source": [
    "df.select(\"기준년월\").distinct().show()"
   ]
  },
  {
   "cell_type": "code",
   "execution_count": 0,
   "metadata": {
    "application/vnd.databricks.v1+cell": {
     "cellMetadata": {
      "byteLimit": 2048000,
      "rowLimit": 10000
     },
     "inputWidgets": {},
     "nuid": "96cd71e8-8c17-47e9-98d9-cc07db2b5183",
     "showTitle": false,
     "tableResultSettingsMap": {},
     "title": ""
    }
   },
   "outputs": [],
   "source": [
    "# 신용카드와 체크카드의 이용 금액 합계\n",
    "df = df.withColumn(\"이용금액_신용_체크_합계_B0M\", \n",
    "                   F.col(\"이용금액_신용_B0M\").cast(\"float\") + F.col(\"이용금액_체크_B0M\").cast(\"float\"))\n",
    "\n",
    "# 각 카드별 이용 건수 평균\n",
    "df = df.withColumn(\"평균_이용건수_B0M\", \n",
    "                   (F.col(\"이용건수_신용_B0M\").cast(\"float\") + F.col(\"이용건수_체크_B0M\").cast(\"float\")) / 2)"
   ]
  },
  {
   "cell_type": "code",
   "execution_count": 0,
   "metadata": {
    "application/vnd.databricks.v1+cell": {
     "cellMetadata": {},
     "inputWidgets": {},
     "nuid": "ead4a481-297b-497c-99aa-5c518c8a5e0f",
     "showTitle": false,
     "tableResultSettingsMap": {},
     "title": ""
    }
   },
   "outputs": [],
   "source": []
  },
  {
   "cell_type": "code",
   "execution_count": 0,
   "metadata": {
    "application/vnd.databricks.v1+cell": {
     "cellMetadata": {
      "byteLimit": 2048000,
      "rowLimit": 10000
     },
     "collapsed": true,
     "inputWidgets": {},
     "nuid": "6c23596a-ce24-4dd5-a8c5-7fb3d0d0ecdf",
     "showTitle": false,
     "tableResultSettingsMap": {},
     "title": ""
    }
   },
   "outputs": [],
   "source": [
    "# 각 컬럼에 대한 고유값 수와 설명\n",
    "columns_info = pd.DataFrame({\n",
    "    \"Column Name\": df.columns,\n",
    "    \"Unique Values\": [df.select(col).distinct().count() for col in df.columns],\n",
    "    \"Data Type\": df.dtypes,\n",
    "    \"Null Values\": df.isnull().sum(),\n",
    "\n",
    "    \"Example Value\": [df[col].sample(1).values[0] for col in df.columns]\n",
    "\n",
    "})\n",
    "columns_info.reset_index(drop=True, inplace=True)"
   ]
  },
  {
   "cell_type": "code",
   "execution_count": 0,
   "metadata": {
    "application/vnd.databricks.v1+cell": {
     "cellMetadata": {
      "byteLimit": 2048000,
      "rowLimit": 10000
     },
     "inputWidgets": {},
     "nuid": "c897a88d-ffef-4900-9bd2-21e1bb68b234",
     "showTitle": false,
     "tableResultSettingsMap": {},
     "title": ""
    }
   },
   "outputs": [],
   "source": [
    "from pyspark.sql.functions import col\n",
    "\n",
    "df = df.withColumn(\"총_이용금액\", \n",
    "                   col(\"이용금액_신용_B0M\").cast(\"double\") + \n",
    "                   col(\"이용금액_할부_B0M\").cast(\"double\") + \n",
    "                   col(\"이용금액_일시불_B0M\").cast(\"double\"))\n",
    "\n",
    "# 총 이용 금액을 기준으로 고객별로 집계\n",
    "df.groupBy(\"발급회원번호\").sum(\"총_이용금액\").show()\n"
   ]
  }
 ],
 "metadata": {
  "application/vnd.databricks.v1+notebook": {
   "computePreferences": null,
   "dashboards": [],
   "environmentMetadata": null,
   "inputWidgetPreferences": null,
   "language": "python",
   "notebookMetadata": {
    "mostRecentlyExecutedCommandWithImplicitDF": {
     "commandId": -1,
     "dataframes": [
      "_sqldf"
     ]
    },
    "pythonIndentUnit": 4
   },
   "notebookName": "03_0. 카드승인매출정보_전처리_fin",
   "widgets": {}
  },
  "kernelspec": {
   "display_name": "Python 3",
   "language": "python",
   "name": "python3"
  },
  "language_info": {
   "name": "python"
  }
 },
 "nbformat": 4,
 "nbformat_minor": 0
}
