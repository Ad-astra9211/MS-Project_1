{
 "cells": [
  {
   "cell_type": "code",
   "execution_count": 0,
   "metadata": {
    "application/vnd.databricks.v1+cell": {
     "cellMetadata": {
      "byteLimit": 2048000,
      "rowLimit": 10000
     },
     "inputWidgets": {},
     "nuid": "0cb88e11-0cdc-4408-9d3f-a153421bd262",
     "showTitle": false,
     "tableResultSettingsMap": {},
     "title": ""
    }
   },
   "outputs": [],
   "source": [
    "from pyspark.sql.functions import when, col, to_date\n",
    "from pyspark.sql import functions as F\n",
    "from pyspark.ml.stat import Correlation\n",
    "from pyspark.ml.feature import VectorAssembler\n",
    "\n",
    "import matplotlib.pyplot as plt\n",
    "import matplotlib as mpl\n",
    "import warnings\n",
    "import seaborn as sns\n",
    "import pandas as pd\n",
    "import numpy as np\n",
    "import math\n",
    "import re\n",
    "\n",
    "\n",
    "# 한글 글꼴 설정\n",
    "plt.rcParams['font.family'] = 'Malgun Gothic'  # 윈도우에서 일반적으로 지원되는 한글 글꼴 (Mac의 경우 'AppleGothic' 등 사용)\n",
    "plt.rcParams['axes.unicode_minus'] = False  # 마이너스 기호가 깨지는 문제 해결"
   ]
  },
  {
   "cell_type": "markdown",
   "metadata": {
    "application/vnd.databricks.v1+cell": {
     "cellMetadata": {},
     "inputWidgets": {},
     "nuid": "e691d02d-7e3b-458d-aab3-b67b8514b8a9",
     "showTitle": false,
     "tableResultSettingsMap": {},
     "title": ""
    }
   },
   "source": [
    "## 1) 유의미한 샘플 수"
   ]
  },
  {
   "cell_type": "code",
   "execution_count": 0,
   "metadata": {
    "application/vnd.databricks.v1+cell": {
     "cellMetadata": {
      "byteLimit": 2048000,
      "rowLimit": 10000
     },
     "inputWidgets": {},
     "nuid": "13fb1f64-7307-408a-893f-e2538b2b938f",
     "showTitle": false,
     "tableResultSettingsMap": {},
     "title": ""
    }
   },
   "outputs": [],
   "source": [
    "# 통계적으로 유의한 샘플 크기 계산\n",
    "def calculate_sample_size(df, confidence_level=0.95, margin_error=0.05):\n",
    "    total_count = df.count()\n",
    "\n",
    "\n",
    "\n",
    "    z_score = 2.576  # 99% 신뢰도\n",
    "    p = 0.5  # 최대 분산\n",
    "    \n",
    "    n = (z_score**2 * p * (1-p)) / (margin_error**2)\n",
    "    sample_size = n / (1 + (n-1)/total_count)  # n_adjusted\n",
    "    print(f\"필요 샘플 크기: {sample_size:,}\")\n",
    "\n",
    "    # 통계적 샘플 크기 계산\n",
    "    sample_fraction = sample_size / total_count\n",
    "    print(f\"샘플링 비율: {sample_fraction:.7f}\")\n",
    "\n",
    "    return sample_fraction"
   ]
  },
  {
   "cell_type": "markdown",
   "metadata": {
    "application/vnd.databricks.v1+cell": {
     "cellMetadata": {},
     "inputWidgets": {},
     "nuid": "35aad427-b9ad-44c4-8f40-d7ec18a2fc66",
     "showTitle": false,
     "tableResultSettingsMap": {},
     "title": ""
    }
   },
   "source": [
    "## 2) 상관관계"
   ]
  },
  {
   "cell_type": "markdown",
   "metadata": {
    "application/vnd.databricks.v1+cell": {
     "cellMetadata": {},
     "inputWidgets": {},
     "nuid": "4b099645-5644-48ed-a234-aef094f1413c",
     "showTitle": false,
     "tableResultSettingsMap": {},
     "title": ""
    }
   },
   "source": [
    "### 상관관계 함수 - 개별\n"
   ]
  },
  {
   "cell_type": "code",
   "execution_count": 0,
   "metadata": {
    "application/vnd.databricks.v1+cell": {
     "cellMetadata": {
      "byteLimit": 2048000,
      "rowLimit": 10000
     },
     "inputWidgets": {},
     "nuid": "7c2de5fa-3d46-43fe-bcee-b73e324d4d11",
     "showTitle": false,
     "tableResultSettingsMap": {},
     "title": ""
    }
   },
   "outputs": [],
   "source": [
    "# 1. 층화 샘플링 함수 (기준년월별로 균등하게)\n",
    "from pyspark.sql.functions import col\n",
    "\n",
    "def stratified_sampling(df, sample_fraction, strata_col=\"기준년월\"):\n",
    "    \"\"\"\n",
    "    층화 샘플링으로 대표성 있는 샘플 생성 (seed 고정)\n",
    "    \"\"\"\n",
    "    strata_samples = []\n",
    "    \n",
    "    for month in df.select(strata_col).distinct().collect():\n",
    "        print(\"month content:\", month)\n",
    "        month_value = month[strata_col]\n",
    "        month_df = df.filter(col(strata_col) == month_value)\n",
    "        month_sample = month_df.sample(fraction=sample_fraction, seed=40)  # seed 고정\n",
    "        strata_samples.append(month_sample)\n",
    "    \n",
    "    final_sample = strata_samples[0]\n",
    "    for smp in strata_samples[1:]:  # ← 변수명 변경!\n",
    "        final_sample = final_sample.union(smp)\n",
    "    \n",
    "    return final_sample"
   ]
  },
  {
   "cell_type": "code",
   "execution_count": 0,
   "metadata": {
    "application/vnd.databricks.v1+cell": {
     "cellMetadata": {
      "byteLimit": 2048000,
      "rowLimit": 10000
     },
     "inputWidgets": {},
     "nuid": "338bd724-b0fd-4caf-90e6-6a05eb782fef",
     "showTitle": false,
     "tableResultSettingsMap": {},
     "title": ""
    }
   },
   "outputs": [],
   "source": [
    "# 2. 빠른 상관관계 분석 (피쳐 수 제한 없음)\n",
    "def fast_correlation_analysis(df, analysis_cols=None, method_option=\"pearson\"):\n",
    "\n",
    "    # 키 컬럼 제외\n",
    "    exclude_cols = ['기준년월', '발급회원번호']\n",
    "    # analysis_cols가 명시되지 않은 경우, 수치형 컬럼 자동 선택\n",
    "    if analysis_cols is None:\n",
    "        numeric_cols = [col_name for col_name, data_type in df.dtypes\n",
    "                        if data_type in ['int', 'bigint', 'float', 'double']]\n",
    "        analysis_cols = [col for col in numeric_cols if col not in exclude_cols]\n",
    "\n",
    "    print(f\"분석할 피처 수: {len(analysis_cols)}\")\n",
    "    \n",
    "    # null 처리\n",
    "    df_filled = df.fillna(0, subset=analysis_cols)\n",
    "    \n",
    "    # 기존 features 컬럼 제거\n",
    "    if \"features\" in df_filled.columns:\n",
    "        df_filled = df_filled.drop(\"features\")\n",
    "\n",
    "    # 벡터화\n",
    "    assembler = VectorAssembler(inputCols=analysis_cols, outputCol=\"features\")\n",
    "    vector_df = assembler.transform(df_filled).select(\"features\")\n",
    "    \n",
    "    # 캐싱\n",
    "    vector_df.cache()\n",
    "    vector_df.count()\n",
    "    \n",
    "    # 상관관계 계산\n",
    "    print(\"상관관계 계산 중...\")\n",
    "    corr_matrix = Correlation.corr(vector_df, \"features\", method=method_option).head()[0]\n",
    "    \n",
    "    return corr_matrix, analysis_cols"
   ]
  },
  {
   "cell_type": "code",
   "execution_count": 0,
   "metadata": {
    "application/vnd.databricks.v1+cell": {
     "cellMetadata": {
      "byteLimit": 2048000,
      "rowLimit": 10000
     },
     "inputWidgets": {},
     "nuid": "2cb66b49-e22f-49a2-9f68-d753ec017889",
     "showTitle": false,
     "tableResultSettingsMap": {},
     "title": ""
    }
   },
   "outputs": [],
   "source": [
    "# 3&4. 높은 상관관계 분석 (0.7 , 0.9이상)\n",
    "def high_correlations(corr_matrix, cols_names, threshold=0.7):\n",
    "    # 상관관계 매트릭스를 numpy 배열로 변환\n",
    "    corr_array = corr_matrix.toArray()\n",
    "\n",
    "    high_corrs = []\n",
    "    multicollinear_pairs = []\n",
    "\n",
    "    for i in range(len(cols_names)):\n",
    "        for j in range(i + 1, len(cols_names)):\n",
    "            corr_value = corr_array[i][j]\n",
    "\n",
    "\n",
    "            if abs(corr_value) > 0.9: # 0.9 보다 큰\n",
    "                multicollinear_pairs.append({\n",
    "                    'feature1': cols_names[i],\n",
    "                    'feature2': cols_names[j],\n",
    "                    'correlation': corr_value\n",
    "                })\n",
    "\n",
    "            if abs(corr_value) > threshold: # 0.7 보다 큰\n",
    "                high_corrs.append({\n",
    "                    'feature1': cols_names[i],\n",
    "                    'feature2': cols_names[j],\n",
    "                    'correlation': corr_value\n",
    "                })\n",
    "    \n",
    "\n",
    "\n",
    "    # 정렬 및 출력\n",
    "    high_corrs_sorted = sorted(high_corrs, key=lambda x: abs(x['correlation']), reverse=True)\n",
    "\n",
    "    print(f\"\\n=== 높은 상관관계 ({len(high_corrs_sorted)}개, threshold={threshold}) ===\")\n",
    "    for corr in high_corrs_sorted:\n",
    "        if abs(corr_value) > 0.9: # 0.9 보다 큰\n",
    "            print(f\"⚠️ {corr['feature1']} ↔ {corr['feature2']}: {corr['correlation']:.3f}\")\n",
    "        print(f\"{corr['feature1']} ↔ {corr['feature2']}: {corr['correlation']:.3f}\")\n",
    "    print(f\"===== 끝 =====\")\n",
    "    return high_corrs_sorted, corr_array\n"
   ]
  },
  {
   "cell_type": "code",
   "execution_count": 0,
   "metadata": {
    "application/vnd.databricks.v1+cell": {
     "cellMetadata": {
      "byteLimit": 2048000,
      "rowLimit": 10000
     },
     "inputWidgets": {},
     "nuid": "97068c4c-1b07-4713-aca9-cbc5396e610a",
     "showTitle": false,
     "tableResultSettingsMap": {},
     "title": ""
    }
   },
   "outputs": [],
   "source": [
    "# 5. 전체 및 높은 상관관계 시각화\n",
    "def plot_correlation_heatmaps(corr_array, feature_names, threshold=0.7):\n",
    "    \"\"\"\n",
    "    전체 상관관계 및 높은 상관관계 피처들만 시각화하는 히트맵 함수\n",
    "\n",
    "    Parameters:\n",
    "        corr_array (np.array): 상관관계 numpy 배열\n",
    "        feature_names (List[str]): 피처 이름 리스트\n",
    "        threshold (float): 상관관계 필터 기준값 (기본: 0.7)\n",
    "\n",
    "    Returns:\n",
    "        None\n",
    "    \"\"\"\n",
    "    try:\n",
    "        # 1. 전체 상관관계 히트맵\n",
    "        corr_df = pd.DataFrame(corr_array, index=feature_names, columns=feature_names)\n",
    "        print(f\"전체 상관관계 행렬 크기: {corr_df.shape}\")\n",
    "\n",
    "        plt.figure(figsize=(20, 18))\n",
    "        sns.heatmap(corr_df,\n",
    "                    annot=False,\n",
    "                    cmap='coolwarm',\n",
    "                    center=0,\n",
    "                    square=True,\n",
    "                    fmt='.2f',\n",
    "                    xticklabels=True,\n",
    "                    yticklabels=True,\n",
    "                    cbar_kws={'shrink': 0.8})\n",
    "        plt.xticks(rotation=45, ha='right', fontsize=8)\n",
    "        plt.yticks(rotation=0, fontsize=8)\n",
    "        plt.title('Feature Correlation Heatmap (All Features)', fontsize=16)\n",
    "        plt.tight_layout()\n",
    "        plt.show()\n",
    "\n",
    "        # 2. 높은 상관관계 피처들만 히트맵\n",
    "        high_corr_features = set()\n",
    "        for i in range(len(feature_names)):\n",
    "            for j in range(i + 1, len(feature_names)):\n",
    "                if abs(corr_array[i][j]) > threshold:\n",
    "                    high_corr_features.add(feature_names[i])\n",
    "                    high_corr_features.add(feature_names[j])\n",
    "\n",
    "        if high_corr_features:\n",
    "            high_corr_features = list(high_corr_features)\n",
    "            print(f\"\\n=== 높은 상관관계 피처 수: {len(high_corr_features)}개 ===\")\n",
    "\n",
    "            corr_subset = corr_df.loc[high_corr_features, high_corr_features]\n",
    "\n",
    "            plt.figure(figsize=(12, 10))\n",
    "            sns.heatmap(corr_subset,\n",
    "                        annot=False,\n",
    "                        cmap='coolwarm',\n",
    "                        center=0,\n",
    "                        square=True,\n",
    "                        fmt='.2f',\n",
    "                        xticklabels=True,\n",
    "                        yticklabels=True)\n",
    "            plt.xticks(rotation=45, ha='right')\n",
    "            plt.yticks(rotation=0)\n",
    "            plt.title(f'High Correlation Features Heatmap (>|{threshold}|)')\n",
    "            plt.tight_layout()\n",
    "            plt.show()\n",
    "        else:\n",
    "            print(\"높은 상관관계를 가진 피처가 없습니다.\")\n",
    "\n",
    "    except ImportError:\n",
    "        print(\"matplotlib/seaborn이 없어 히트맵을 생성할 수 없습니다.\")\n",
    "    except Exception as e:\n",
    "        print(f\"히트맵 생성 중 오류: {str(e)}\")"
   ]
  },
  {
   "cell_type": "markdown",
   "metadata": {
    "application/vnd.databricks.v1+cell": {
     "cellMetadata": {},
     "inputWidgets": {},
     "nuid": "1daeef96-5868-40e5-9fab-3c52e34b55c0",
     "showTitle": false,
     "tableResultSettingsMap": {},
     "title": ""
    }
   },
   "source": [
    "### 상관관계 함수 - 전체"
   ]
  },
  {
   "cell_type": "code",
   "execution_count": 0,
   "metadata": {
    "application/vnd.databricks.v1+cell": {
     "cellMetadata": {
      "byteLimit": 2048000,
      "rowLimit": 10000
     },
     "inputWidgets": {},
     "nuid": "f221ddd9-56ce-4dd2-81b1-d69dc3aff171",
     "showTitle": false,
     "tableResultSettingsMap": {},
     "title": ""
    }
   },
   "outputs": [],
   "source": [
    "### 전체 한번에 함수\n",
    "def correlation_func(df):\n",
    "    # 통계적으로 유의한 샘플 크기 계산\n",
    "    sample_fraction = calculate_sample_size(df)\n",
    "\n",
    "\n",
    "    ### 1. 층화 샘플링 실행\n",
    "    print(\"=== 층화 샘플링 실행 ===\")\n",
    "    sampled_df = stratified_sampling(df, sample_fraction)\n",
    "    sampled_count = sampled_df.count()\n",
    "    print(f\"샘플 데이터: {sampled_count:,}\")\n",
    "\n",
    "    ### 2. 빠른 분석 실행 (모든 피처 사용)\n",
    "    corr_matrix, cols_names = fast_correlation_analysis(sampled_df)\n",
    "    print(\"상관관계 계산 완료!\")\n",
    "\n",
    "    ### 3. 높은 상관관계\n",
    "    high_corrs, corr_array = high_correlations(corr_matrix, cols_names) # high_corrs_sorted, corr_array\n",
    "\n",
    "    return corr_matrix, corr_array, cols_names\n"
   ]
  },
  {
   "cell_type": "markdown",
   "metadata": {
    "application/vnd.databricks.v1+cell": {
     "cellMetadata": {},
     "inputWidgets": {},
     "nuid": "3345d53d-656f-4f8a-8d73-3f65b9ed391b",
     "showTitle": false,
     "tableResultSettingsMap": {},
     "title": ""
    }
   },
   "source": [
    "### 상관관계 - 히트맵"
   ]
  },
  {
   "cell_type": "code",
   "execution_count": 0,
   "metadata": {
    "application/vnd.databricks.v1+cell": {
     "cellMetadata": {
      "byteLimit": 2048000,
      "rowLimit": 10000
     },
     "inputWidgets": {},
     "nuid": "8b634357-88a1-42b5-8668-27ccadfc65d1",
     "showTitle": false,
     "tableResultSettingsMap": {},
     "title": ""
    }
   },
   "outputs": [],
   "source": [
    "# 5. 전체 및 높은 상관관계 시각화\n",
    "def plot_correlation_heatmaps(corr_array, feature_names, threshold=0.7):\n",
    "    \"\"\"\n",
    "    전체 상관관계 및 높은 상관관계 피처들만 시각화하는 히트맵 함수\n",
    "\n",
    "    Parameters:\n",
    "        corr_array (np.array): 상관관계 numpy 배열\n",
    "        feature_names (List[str]): 피처 이름 리스트\n",
    "        threshold (float): 상관관계 필터 기준값 (기본: 0.7)\n",
    "\n",
    "    Returns:\n",
    "        None\n",
    "    \"\"\"\n",
    "    try:\n",
    "        # 1. 전체 상관관계 히트맵\n",
    "        corr_df = pd.DataFrame(corr_array, index=feature_names, columns=feature_names)\n",
    "        print(f\"전체 상관관계 행렬 크기: {corr_df.shape}\")\n",
    "\n",
    "        plt.figure(figsize=(20, 18))\n",
    "        sns.heatmap(corr_df,\n",
    "                    annot=False,\n",
    "                    cmap='coolwarm',\n",
    "                    center=0,\n",
    "                    square=True,\n",
    "                    fmt='.2f',\n",
    "                    xticklabels=True,\n",
    "                    yticklabels=True,\n",
    "                    cbar_kws={'shrink': 0.8})\n",
    "        plt.xticks(rotation=45, ha='right', fontsize=8)\n",
    "        plt.yticks(rotation=0, fontsize=8)\n",
    "        plt.title('Feature Correlation Heatmap (All Features)', fontsize=16)\n",
    "        plt.tight_layout()\n",
    "        plt.show()\n",
    "\n",
    "        # 2. 높은 상관관계 피처들만 히트맵\n",
    "        high_corr_features = set()\n",
    "        for i in range(len(feature_names)):\n",
    "            for j in range(i + 1, len(feature_names)):\n",
    "                if abs(corr_array[i][j]) > threshold:\n",
    "                    high_corr_features.add(feature_names[i])\n",
    "                    high_corr_features.add(feature_names[j])\n",
    "\n",
    "        if high_corr_features:\n",
    "            high_corr_features = list(high_corr_features)\n",
    "            print(f\"\\n=== 높은 상관관계 피처 수: {len(high_corr_features)}개 ===\")\n",
    "\n",
    "            corr_subset = corr_df.loc[high_corr_features, high_corr_features]\n",
    "\n",
    "            plt.figure(figsize=(12, 10))\n",
    "            sns.heatmap(corr_subset,\n",
    "                        annot=False,\n",
    "                        cmap='coolwarm',\n",
    "                        center=0,\n",
    "                        square=True,\n",
    "                        fmt='.2f',\n",
    "                        xticklabels=True,\n",
    "                        yticklabels=True)\n",
    "            plt.xticks(rotation=45, ha='right')\n",
    "            plt.yticks(rotation=0)\n",
    "            plt.title(f'High Correlation Features Heatmap (>|{threshold}|)')\n",
    "            plt.tight_layout()\n",
    "            plt.show()\n",
    "        else:\n",
    "            print(\"높은 상관관계를 가진 피처가 없습니다.\")\n",
    "\n",
    "    except ImportError:\n",
    "        print(\"matplotlib/seaborn이 없어 히트맵을 생성할 수 없습니다.\")\n",
    "    except Exception as e:\n",
    "        print(f\"히트맵 생성 중 오류: {str(e)}\")"
   ]
  },
  {
   "cell_type": "code",
   "execution_count": 0,
   "metadata": {
    "application/vnd.databricks.v1+cell": {
     "cellMetadata": {},
     "inputWidgets": {},
     "nuid": "98eae8b3-41fe-49d9-9e7e-6e80d54559ba",
     "showTitle": false,
     "tableResultSettingsMap": {},
     "title": ""
    }
   },
   "outputs": [],
   "source": [
    "# plot_correlation_heatmaps(corr_array=ap_corr_array,\n",
    "#                           feature_names=ap_cols_names)\n"
   ]
  },
  {
   "cell_type": "markdown",
   "metadata": {
    "application/vnd.databricks.v1+cell": {
     "cellMetadata": {},
     "inputWidgets": {},
     "nuid": "b843f256-3d90-42db-acc2-34500148dc89",
     "showTitle": false,
     "tableResultSettingsMap": {},
     "title": ""
    }
   },
   "source": [
    "### 상관계수 = ±1 제거"
   ]
  },
  {
   "cell_type": "code",
   "execution_count": 0,
   "metadata": {
    "application/vnd.databricks.v1+cell": {
     "cellMetadata": {
      "byteLimit": 2048000,
      "rowLimit": 10000
     },
     "inputWidgets": {},
     "nuid": "0c64c83b-2bcc-45c9-8792-d371d64191ae",
     "showTitle": false,
     "tableResultSettingsMap": {},
     "title": ""
    }
   },
   "outputs": [],
   "source": [
    "import numpy as np\n",
    "\n",
    "def remove_correlated_features(corr_matrix, col_names):\n",
    "    \"\"\"\n",
    "    상관계수 절댓값이 1.0인 컬럼쌍 중 하나를 제거\n",
    "    \"\"\"\n",
    "    to_remove = set()\n",
    "    n = len(col_names)\n",
    "    \n",
    "    for i in range(n):\n",
    "        for j in range(i+1, n):\n",
    "            if abs(corr_matrix[i, j]) >= 0.97:\n",
    "                # 중복된 하나만 제거 (보통 후행 인덱스)\n",
    "                to_remove.add(col_names[j])\n",
    "    \n",
    "    print(f\"완전히 중복된 변수 수: {len(to_remove)}개\")\n",
    "    return [col for col in col_names if col not in to_remove]\n"
   ]
  },
  {
   "cell_type": "markdown",
   "metadata": {
    "application/vnd.databricks.v1+cell": {
     "cellMetadata": {},
     "inputWidgets": {},
     "nuid": "f077db1b-3853-4b0c-a72c-6a9157345935",
     "showTitle": false,
     "tableResultSettingsMap": {},
     "title": ""
    }
   },
   "source": [
    "# 테스트"
   ]
  },
  {
   "cell_type": "code",
   "execution_count": 0,
   "metadata": {
    "application/vnd.databricks.v1+cell": {
     "cellMetadata": {
      "byteLimit": 2048000,
      "rowLimit": 10000
     },
     "inputWidgets": {},
     "nuid": "e2c491f1-5da9-4649-8da0-291ee7c25f7b",
     "showTitle": false,
     "tableResultSettingsMap": {},
     "title": ""
    }
   },
   "outputs": [],
   "source": [
    "# 테스트\n",
    "if __name__ == \"__main__\":\n",
    "    df_sample = spark.read.format(\"delta\").table(\"database_pjt.3_use_encoding_sample\")\n",
    "    print(f\"데이터 크기: {df_sample.count()}개 행, {len(df_sample.columns)}개 컬럼\")\n",
    "    display(df_sample.head(3))\n",
    "\n",
    "    calculate_sample_size(df_sample)"
   ]
  },
  {
   "cell_type": "code",
   "execution_count": 0,
   "metadata": {
    "application/vnd.databricks.v1+cell": {
     "cellMetadata": {
      "byteLimit": 2048000,
      "rowLimit": 10000
     },
     "inputWidgets": {},
     "nuid": "9b4fc03b-6512-4b86-92d7-62034f1815d0",
     "showTitle": false,
     "tableResultSettingsMap": {},
     "title": ""
    }
   },
   "outputs": [],
   "source": [
    "if __name__ == \"__main__\":\n",
    "    corr_matrix, corr_array, cols_names = correlation_func(df_sample)\n",
    "    print(cols_names)"
   ]
  },
  {
   "cell_type": "code",
   "execution_count": 0,
   "metadata": {
    "application/vnd.databricks.v1+cell": {
     "cellMetadata": {},
     "inputWidgets": {},
     "nuid": "30f6c5e4-8d90-422f-b91c-2215b300668f",
     "showTitle": false,
     "tableResultSettingsMap": {},
     "title": ""
    }
   },
   "outputs": [],
   "source": []
  }
 ],
 "metadata": {
  "application/vnd.databricks.v1+notebook": {
   "computePreferences": null,
   "dashboards": [],
   "environmentMetadata": {
    "base_environment": "",
    "environment_version": "2"
   },
   "inputWidgetPreferences": null,
   "language": "python",
   "notebookMetadata": {
    "pythonIndentUnit": 4
   },
   "notebookName": "utils",
   "widgets": {}
  },
  "language_info": {
   "name": "python"
  }
 },
 "nbformat": 4,
 "nbformat_minor": 0
}
