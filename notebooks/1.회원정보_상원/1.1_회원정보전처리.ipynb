{
 "cells": [
  {
   "cell_type": "markdown",
   "metadata": {
    "application/vnd.databricks.v1+cell": {
     "cellMetadata": {
      "byteLimit": 2048000,
      "rowLimit": 10000
     },
     "inputWidgets": {},
     "nuid": "a4ed2396-5229-42c3-a853-eceb8575ad7c",
     "showTitle": false,
     "tableResultSettingsMap": {},
     "title": ""
    }
   },
   "source": [
    "## 카드 회원정보 리딩\n"
   ]
  },
  {
   "cell_type": "markdown",
   "metadata": {
    "application/vnd.databricks.v1+cell": {
     "cellMetadata": {
      "byteLimit": 2048000,
      "rowLimit": 10000
     },
     "inputWidgets": {},
     "nuid": "d9da2bf4-a4d9-456f-896c-3822567b7b7f",
     "showTitle": false,
     "tableResultSettingsMap": {},
     "title": ""
    }
   },
   "source": [
    "금융합성데이터\n",
    "01.카드 회원정보 : 201807_회원정보부터 201812_회원정보.csv\n",
    "02.카드 신용정보 : 201807_신용정보부터 201812_신용정보.csv\n",
    "03.카드 승인매출정보 : 201807_승인매출정보부터 201812_승인매출정보.csv\n",
    "04.카드 청구정보 : 201807_청구정보부터 201812_청구정보.csv\n",
    "05.카드 잔액정보 : 201807_잔액정보부터 201812_잔액정보.csv\n",
    "06.카드 채널정보 : 201807_채널정보부터 201812_채널정보.csv\n",
    "07.카드 마케팅정보 : 201807_마케팅정보부터 201812_마케팅정보.csv\n",
    "08.카드 성과정보 : 201807_부터 201812_성과정보.csv\n",
    "09.개인 CB정보 : 201912_개인CB부터 202212_개인CB.csv\n",
    "10.기업 CB정보 :\n",
    "11.통신카드CB 결합정보\n",
    "12.금융상품정보"
   ]
  },
  {
   "cell_type": "code",
   "execution_count": 0,
   "metadata": {
    "application/vnd.databricks.v1+cell": {
     "cellMetadata": {
      "byteLimit": 2048000,
      "rowLimit": 10000
     },
     "inputWidgets": {},
     "nuid": "ef747cff-ae98-4a68-9407-6fc25da1578e",
     "showTitle": false,
     "tableResultSettingsMap": {},
     "title": ""
    }
   },
   "outputs": [],
   "source": [
    "import glob\n",
    "import pandas as pd\n",
    "import os"
   ]
  },
  {
   "cell_type": "code",
   "execution_count": 0,
   "metadata": {
    "application/vnd.databricks.v1+cell": {
     "cellMetadata": {
      "byteLimit": 2048000,
      "rowLimit": 10000
     },
     "inputWidgets": {},
     "nuid": "4baeaa90-84d5-4f3f-b285-0c3b544fccd0",
     "showTitle": false,
     "tableResultSettingsMap": {},
     "title": ""
    }
   },
   "outputs": [],
   "source": [
    "\n",
    "dbutils.fs.ls(\"/mnt/raw-data/01.카드 회원정보/\")\n"
   ]
  },
  {
   "cell_type": "code",
   "execution_count": 0,
   "metadata": {
    "application/vnd.databricks.v1+cell": {
     "cellMetadata": {
      "byteLimit": 2048000,
      "rowLimit": 10000
     },
     "inputWidgets": {},
     "nuid": "f05d7967-a18f-44c6-8bc2-cde1fc4d5290",
     "showTitle": false,
     "tableResultSettingsMap": {},
     "title": ""
    },
    "jupyter": {
     "outputs_hidden": true
    }
   },
   "outputs": [],
   "source": [
    "df1 = spark.read.csv(\"/mnt/raw-data/01.카드 회원정보/2018*_회원정보.csv\", header=True,encoding='utf-8')\n",
    "df1\n"
   ]
  },
  {
   "cell_type": "code",
   "execution_count": 0,
   "metadata": {
    "application/vnd.databricks.v1+cell": {
     "cellMetadata": {
      "byteLimit": 2048000,
      "rowLimit": 10000
     },
     "inputWidgets": {},
     "nuid": "a3badcb3-2c4a-49a4-b944-5bb1914b145f",
     "showTitle": false,
     "tableResultSettingsMap": {},
     "title": ""
    }
   },
   "outputs": [],
   "source": [
    "df1 = spark.read.csv(\"/mnt/raw-data/01.카드 회원정보/2018*_회원정보.csv\", header=True, encoding='utf-8')\n"
   ]
  },
  {
   "cell_type": "code",
   "execution_count": 0,
   "metadata": {
    "application/vnd.databricks.v1+cell": {
     "cellMetadata": {
      "byteLimit": 2048000,
      "rowLimit": 10000
     },
     "inputWidgets": {},
     "nuid": "07a149a7-cf11-4c15-975a-162251e9e83c",
     "showTitle": false,
     "tableResultSettingsMap": {},
     "title": ""
    }
   },
   "outputs": [],
   "source": [
    "df1.printSchema()\n"
   ]
  },
  {
   "cell_type": "code",
   "execution_count": 0,
   "metadata": {
    "application/vnd.databricks.v1+cell": {
     "cellMetadata": {
      "byteLimit": 2048000,
      "rowLimit": 10000
     },
     "inputWidgets": {},
     "nuid": "e19e8b47-56b0-4ad8-89f8-b0faec2b5355",
     "showTitle": false,
     "tableResultSettingsMap": {},
     "title": ""
    }
   },
   "outputs": [],
   "source": [
    "display(df1.limit(2))\n"
   ]
  },
  {
   "cell_type": "code",
   "execution_count": 0,
   "metadata": {
    "application/vnd.databricks.v1+cell": {
     "cellMetadata": {
      "byteLimit": 2048000,
      "rowLimit": 10000
     },
     "inputWidgets": {},
     "nuid": "df0d924d-45da-4417-a976-1561bb627302",
     "showTitle": false,
     "tableResultSettingsMap": {},
     "title": ""
    }
   },
   "outputs": [],
   "source": [
    "df1.limit(2).toPandas()\n"
   ]
  },
  {
   "cell_type": "code",
   "execution_count": 0,
   "metadata": {
    "application/vnd.databricks.v1+cell": {
     "cellMetadata": {
      "byteLimit": 2048000,
      "rowLimit": 10000
     },
     "inputWidgets": {},
     "nuid": "71c223d9-6359-4962-a3f3-6992b96bf505",
     "showTitle": false,
     "tableResultSettingsMap": {},
     "title": ""
    }
   },
   "outputs": [],
   "source": [
    "\n",
    "columns_info = pd.DataFrame({\n",
    "    \"Column Name\": df1.columns,\n",
    "    \"Unique Values\": [df1.select(col).distinct().count() for col in df1.columns],\n",
    "    \"Data Type\": df1.dtypes,\n",
    "    \"Null Values\": df1.isnull().sum(),\n",
    "\n",
    "    \"Example Value\": [df1[col].sample(1).values[0] for col in df1.columns]\n",
    "\n",
    "})\n",
    "columns_info.reset_index(drop=True, inplace=True)"
   ]
  },
  {
   "cell_type": "code",
   "execution_count": 0,
   "metadata": {
    "application/vnd.databricks.v1+cell": {
     "cellMetadata": {
      "byteLimit": 2048000,
      "rowLimit": 10000
     },
     "inputWidgets": {},
     "nuid": "69eb2e0a-22d5-4dbb-b435-857f3fc6d527",
     "showTitle": false,
     "tableResultSettingsMap": {},
     "title": ""
    }
   },
   "outputs": [],
   "source": [
    "df1.printSchema()  \n",
    "display(df1.limit(3))\n"
   ]
  },
  {
   "cell_type": "code",
   "execution_count": 0,
   "metadata": {
    "application/vnd.databricks.v1+cell": {
     "cellMetadata": {
      "byteLimit": 2048000,
      "rowLimit": 10000
     },
     "inputWidgets": {},
     "nuid": "a8410ca8-0483-4f53-b269-268d5fcbdf60",
     "showTitle": false,
     "tableResultSettingsMap": {},
     "title": ""
    }
   },
   "outputs": [],
   "source": [
    "display(df1.head(3))\n",
    "#display(df_credit.tail(3))\n",
    "#display(df_credit.sample(3))"
   ]
  },
  {
   "cell_type": "markdown",
   "metadata": {
    "application/vnd.databricks.v1+cell": {
     "cellMetadata": {
      "byteLimit": 2048000,
      "rowLimit": 10000
     },
     "inputWidgets": {},
     "nuid": "352c1932-be1d-4836-8251-b2d0b5d44bd5",
     "showTitle": false,
     "tableResultSettingsMap": {},
     "title": ""
    }
   },
   "source": [
    "# 데이터 탐색 보고서 (EDA)\n",
    "\n",
    "##  데이터 개요\n",
    "- **파일명**: `1번_고객기본정보.csv`, `8번_전월이용증감률.csv`\n",
    "- **총 행 수 / 열 수**: `예: 98,412 / 12`\n",
    "- **수집 일자 범위**: `2021.01 ~ 2024.12 (예시)`\n",
    "- **데이터 목적**: `예: 고객의 카드 이용 특성과 이탈 패턴 분석`\n",
    "\n",
    "---\n",
    "\n",
    "##  1. 데이터 구조 및 기본 정보 확인\n",
    "- 컬럼 목록:  \n",
    "  `df.columns`\n",
    "- 스키마 구조:  \n",
    "  `df.printSchema()`\n",
    "- 상위 5개 행:\n",
    "  ```\n",
    "  df.limit(5).display()\n",
    "  ```\n",
    "- 변수별 데이터 타입:\n",
    "  ```\n",
    "  df.dtypes\n",
    "  ```\n",
    "\n",
    "---\n",
    "\n",
    "##  2. 결측치 및 이상치 확인\n",
    "###  결측치 확인\n",
    "```python\n",
    "from pyspark.sql.functions import col, sum\n",
    "df.select([sum(col(c).isNull().cast(\"int\")).alias(c) for c in df.columns]).display()\n",
    "```\n",
    "- 결측치가 많은 변수: `예: 최종카드발급일자 (22%)`\n",
    "- 처리 방향성: `삭제 / 평균 대체 / 별도 범주 처리 등`\n",
    "\n",
    "###  이상치 탐색 (IQR 기준)\n",
    "```python\n",
    "Q1 = df.approxQuantile(\"변수명\", [0.25], 0.05)[0]\n",
    "Q3 = df.approxQuantile(\"변수명\", [0.75], 0.05)[0]\n",
    "IQR = Q3 - Q1\n",
    "lower = Q1 - 1.5 * IQR\n",
    "upper = Q3 + 1.5 * IQR\n",
    "df.filter((col(\"변수명\") < lower) | (col(\"변수명\") > upper)).count()\n",
    "```\n",
    "- 이상치 발견된 변수: `예: 이용금액_R3M_신용`\n",
    "- 처리 계획: `클리핑 / 로그 변환`\n",
    "\n",
    "---\n",
    "\n",
    "##  3. 변수 유형 및 그룹 분류\n",
    "- **범주형 변수**: `성별, 연령대, 카드구분`\n",
    "- **수치형 변수**: `이용금액, 경과개월수, 이용건수`\n",
    "- **날짜/시계열**: `최종카드발급일자, 최종유효년월`\n",
    "- **그룹화 변수**: `_1순위카드이용건수`, `_1순위신용체크구분`\n",
    "\n",
    "---\n",
    "\n",
    "##  4. 변수 간 관계 파악\n",
    "###  상관계수 (수치형 간)\n",
    "```python\n",
    "from pyspark.ml.feature import VectorAssembler\n",
    "from pyspark.ml.stat import Correlation\n",
    "\n",
    "assembler = VectorAssembler(inputCols=[\"변수1\", \"변수2\", ...], outputCol=\"features\")\n",
    "df_vector = assembler.transform(df).select(\"features\")\n",
    "correlation_matrix = Correlation.corr(df_vector, \"features\", \"pearson\").head()\n",
    "```\n",
    "- 예시: `_1순위카드이용금액` ↔ `이용금액_R3M_신용` 상관계수 = `0.81`\n",
    "\n",
    "---\n",
    "\n",
    "##  5. 데이터 분포 파악\n",
    "- 범주형 변수 분포 (Top 10):\n",
    "```python\n",
    "df.groupBy(\"범주형변수\").count().orderBy(\"count\", ascending=False).limit(10).display()\n",
    "```\n",
    "- 수치형 변수 히스토그램:\n",
    "```python\n",
    "df.select(\"변수명\").toPandas().hist()\n",
    "```\n",
    "- 로그 스케일 비교 (선택):\n",
    "```python\n",
    "import numpy as np\n",
    "df = df.withColumn(\"log_이용금액\", F.log1p(\"이용금액_R3M_신용\"))\n",
    "```\n",
    "\n",
    "---\n",
    "\n",
    "##  6. 전처리 방향성 정리\n",
    "| 항목 | 처리 방향 |\n",
    "|------|-----------|\n",
    "| 결측치 | `최종카드발급일자`: NULL이면 '미발급'으로 처리 |\n",
    "| 이상치 | `이용금액`: 상위 1% 클리핑 또는 로그 변환 |\n",
    "| 인코딩 | 범주형 변수: StringIndexer 또는 수동 매핑 |\n",
    "| 변수 선택 | 모델링 핵심 변수 후보: `이용금액_R3M_신용`, `_1순위카드이용금액`, `성별` 등 |\n",
    "\n",
    "---\n",
    "\n",
    "##  요약\n",
    "- 데이터는 고객의 기본 정보 및 카드 사용 패턴 중심\n",
    "- 최근 3개월 이용금액, 1순위 카드 변수에서 유의미한 분포 및 상관관계 존재\n",
    "- 향후 모델링 시 고객 세분화 및 이탈 예측에 활용 가능성 있음\n",
    "\n"
   ]
  },
  {
   "cell_type": "markdown",
   "metadata": {
    "application/vnd.databricks.v1+cell": {
     "cellMetadata": {
      "byteLimit": 2048000,
      "rowLimit": 10000
     },
     "inputWidgets": {},
     "nuid": "a8025a0d-2f86-404d-9889-18567c645b50",
     "showTitle": false,
     "tableResultSettingsMap": {},
     "title": ""
    }
   },
   "source": [
    "## 1번 파일 데이터 이해\n",
    "\n",
    "### 📌 기본 정보\n",
    "- 성별\n",
    "- 연령대\n",
    "- 거주지\n",
    "- 직장 위치 등\n",
    "\n",
    "### 📌 회원 상태\n",
    "- 입회일\n",
    "- 탈퇴 이력\n",
    "- 연체 여부 등\n",
    "\n",
    "### 📌 카드 보유 현황\n",
    "- 신용/체크카드 보유 여부 및 수량\n",
    "\n",
    "### 📌 카드 이용 이력\n",
    "- 최근 3개월 카드 사용금액 및 건수\n",
    "\n",
    "### 📌 마케팅 수신 여부\n",
    "- DM, SMS, TM 등\n",
    "\n",
    "### 📌 기타\n",
    "- VIP 등급\n",
    "- 카드 등급\n",
    "- Life Stage 등\n",
    "\n",
    "---\n",
    "\n",
    "## 📄 Row 예시 1 (발급회원번호 기준)\n",
    "\n",
    "| 항목 | 설명 |\n",
    "|------|------|\n",
    "| 기준년월 | 201807 (2018년 7월 기준 데이터) |\n",
    "| 성별 | 2 (여성) |\n",
    "| 연령대 | 40대 |\n",
    "| VIP등급 | 07 |\n",
    "| 입회일자 | 2013-01-01 (입회 후 67개월 경과) |\n",
    "| 최종카드발급일자 | 2016-09-12 (발급 후 22개월 경과) |\n",
    "| 신용카드 소지 | 1장 (이용 가능), 가족카드 없음 |\n",
    "| 체크카드 소지 | 1장 (이용 불가), 가족카드 없음 |\n",
    "| 최근 3개월 신용카드 이용금액 | 19,612원 |\n",
    "| 1순위 카드 이용금액 | 368,148원 (26건, 신용카드) |\n",
    "| 최종 탈회 후 경과월 | 61개월 |\n",
    "| 마케팅 수신 여부 | SMS/메일/TM 모두 수신 |\n",
    "| Life Stage | 5.자녀성장기(2) |\n",
    "| 거주/직장 시도 | 경기 / 경기 |\n",
    "\n",
    "---\n",
    "\n",
    "## 📄 Row 예시 2 — 발급회원번호 = `SYN_1`\n",
    "\n",
    "| 항목 | 설명 |\n",
    "|------|------|\n",
    "| 기준년월 | 201807 (2018년 7월 기준 데이터) |\n",
    "| 성별 | 1 (남성) |\n",
    "| 연령대 | 30대 |\n",
    "| VIP등급 | 없음 |\n",
    "| 입회일자 | 2017-08-01 (입회 후 12개월 경과) |\n",
    "| 최종카드발급일자 | 2017-01-22 (발급 후 18개월 경과) |\n",
    "| 신용카드 소지 | 1장 (이용 가능), 가족카드 없음 |\n",
    "| 체크카드 소지 | 없음 |\n",
    "| 최근 3개월 신용카드 이용금액 | 1,347,574원 |\n",
    "| 1순위 카드 이용금액 | 1,332,368원 (46건, 신용카드) |\n",
    "| 최종 탈회 후 경과월 | 98개월 |\n",
    "| 마케팅 수신 여부 | SMS/메일/TM 모두 수신 |\n",
    "| Life Stage | 4.자녀성장기(1) |\n",
    "| 거주/직장 시도 | 서울 / 서울 |\n"
   ]
  },
  {
   "cell_type": "markdown",
   "metadata": {
    "application/vnd.databricks.v1+cell": {
     "cellMetadata": {
      "byteLimit": 2048000,
      "rowLimit": 10000
     },
     "inputWidgets": {},
     "nuid": "71975323-94f4-4c57-85b1-cb5068516d8f",
     "showTitle": false,
     "tableResultSettingsMap": {},
     "title": ""
    }
   },
   "source": [
    "소비패턴 차이 확인 가능\n",
    "체크카드 미사용 고객 존재\n",
    "탈퇴 후 재 입회 고객 존재(재가입 이력 확인)\n",
    "\n",
    "\n",
    "고객군 나눠서 소비 금액별 분류, vip등급 특징, 연령대 이용 패턴정도 확인?"
   ]
  },
  {
   "cell_type": "markdown",
   "metadata": {
    "application/vnd.databricks.v1+cell": {
     "cellMetadata": {
      "byteLimit": 2048000,
      "rowLimit": 10000
     },
     "inputWidgets": {},
     "nuid": "3cfe1a3b-5620-45b4-8a26-421cab7b01f8",
     "showTitle": false,
     "tableResultSettingsMap": {},
     "title": ""
    }
   },
   "source": [
    "## 결측치 및 이상치 확인 파트"
   ]
  },
  {
   "cell_type": "code",
   "execution_count": 0,
   "metadata": {
    "application/vnd.databricks.v1+cell": {
     "cellMetadata": {
      "byteLimit": 2048000,
      "rowLimit": 10000
     },
     "collapsed": true,
     "inputWidgets": {},
     "nuid": "2ada46e2-3b30-4b3d-8281-01bdb42c2cd3",
     "showTitle": false,
     "tableResultSettingsMap": {},
     "title": ""
    }
   },
   "outputs": [],
   "source": [
    "df1.printSchema()\n"
   ]
  },
  {
   "cell_type": "code",
   "execution_count": 0,
   "metadata": {
    "application/vnd.databricks.v1+cell": {
     "cellMetadata": {
      "byteLimit": 2048000,
      "rowLimit": 10000
     },
     "inputWidgets": {},
     "nuid": "6b35a66a-af7b-4038-875d-64a38bf32cba",
     "showTitle": false,
     "tableResultSettingsMap": {},
     "title": ""
    }
   },
   "outputs": [],
   "source": [
    "from pyspark.sql.functions import col, isnan, when, count\n",
    "\n",
    "# 각 컬럼별 결측치 수 계산\n",
    "missing_df1 = df1.select([\n",
    "    count(when(col(c).isNull() | isnan(c), c)).alias(c)\n",
    "    for c in df1.columns\n",
    "])\n",
    "\n",
    "# 전체 row 수\n",
    "total_rows1 = df1.count()\n",
    "\n",
    "# 비율 포함해 보기 좋게 변환\n",
    "missing_pd1 = missing_df1.toPandas().T\n",
    "missing_pd1.columns = ['결측치 수']\n",
    "missing_pd1['전체 대비 비율 (%)'] = (missing_pd1['결측치 수'] / total_rows1) * 100\n",
    "missing_pd1 = missing_pd1[missing_pd1['결측치 수'] > 0].sort_values(by='결측치 수', ascending=False)\n",
    "\n",
    "display(missing_pd1)\n"
   ]
  },
  {
   "cell_type": "code",
   "execution_count": 0,
   "metadata": {
    "application/vnd.databricks.v1+cell": {
     "cellMetadata": {
      "byteLimit": 2048000,
      "rowLimit": 10000
     },
     "inputWidgets": {},
     "nuid": "6f716df1-e461-43b6-834b-48553859cc2a",
     "showTitle": false,
     "tableResultSettingsMap": {},
     "title": ""
    }
   },
   "outputs": [],
   "source": [
    "# 컬럼별 결측치 수와 비율을 데이터프레임으로 변환 후 컬럼명 추가\n",
    "missing_pd1 = missing_df1.toPandas().T\n",
    "missing_pd1.columns = ['결측치 수']\n",
    "missing_pd1['전체 대비 비율 (%)'] = (missing_pd1['결측치 수'] / total_rows1) * 100\n",
    "missing_pd1['컬럼명'] = missing_pd1.index\n",
    "missing_pd1 = missing_pd1[missing_pd1['결측치 수'] > 0].sort_values(by='결측치 수', ascending=False)\n",
    "\n",
    "display(missing_pd1)\n"
   ]
  },
  {
   "cell_type": "code",
   "execution_count": 0,
   "metadata": {
    "application/vnd.databricks.v1+cell": {
     "cellMetadata": {
      "byteLimit": 2048000,
      "rowLimit": 10000
     },
     "inputWidgets": {},
     "nuid": "30a9e830-d97d-4ec9-ac72-bad9676defc3",
     "showTitle": false,
     "tableResultSettingsMap": {},
     "title": ""
    }
   },
   "outputs": [],
   "source": [
    "import matplotlib.pyplot as plt\n",
    "import seaborn as sns\n",
    "import numpy as np\n",
    "\n",
    "# 그래프 스타일 설정\n",
    "plt.figure(figsize=(12, 6))\n",
    "colors = sns.color_palette(\"hls\", len(missing_pd1))  # 항목별 색상 지정\n",
    "\n",
    "# 막대 그래프 그리기\n",
    "bars = plt.bar(missing_pd1['컬럼명'], missing_pd1['전체 대비 비율 (%)'], color=colors)\n",
    "\n",
    "# 수치 표시\n",
    "for bar in bars:\n",
    "    height = bar.get_height()\n",
    "    plt.text(bar.get_x() + bar.get_width() / 2,\n",
    "             height + 0.5,\n",
    "             f'{height:.1f}%',\n",
    "             ha='center',\n",
    "             va='bottom',\n",
    "             fontsize=9)\n",
    "\n",
    "# 그래프 제목 및 축 라벨\n",
    "plt.title('컬럼별 결측치 비율 (%)', fontsize=14)\n",
    "plt.xlabel('컬럼명', fontsize=12)\n",
    "plt.ylabel('전체 대비 비율 (%)', fontsize=12)\n",
    "plt.xticks(rotation=45, ha='right')\n",
    "plt.ylim(0, max(missing_pd1['전체 대비 비율 (%)']) * 1.15)\n",
    "plt.tight_layout()\n",
    "plt.grid(axis='y', linestyle='--', alpha=0.5)\n",
    "\n",
    "plt.show()\n"
   ]
  },
  {
   "cell_type": "markdown",
   "metadata": {
    "application/vnd.databricks.v1+cell": {
     "cellMetadata": {
      "byteLimit": 2048000,
      "rowLimit": 10000
     },
     "inputWidgets": {},
     "nuid": "7004173f-81e6-4f30-a52c-0ccb90be6211",
     "showTitle": false,
     "tableResultSettingsMap": {},
     "title": ""
    }
   },
   "source": [
    "| 결측치 수   | 전체 대비 비율 (%)          | 컬럼명               |\n",
    "|-------------|----------------------------|----------------------|\n",
    "| 7,189,389   | 39.94105                   | _2순위신용체크구분    |\n",
    "| 4,031,543   | 22.39746                   | 최종유효년월_신용_이용 |\n",
    "| 2,910,604   | 16.17002                   | 가입통신회사코드       |\n",
    "| 1,829,715   | 10.16508                   | 직장시도명            |\n",
    "| 1,590,648   | 8.83693                    | 최종유효년월_신용_이용가능 |\n",
    "| 319,362     | 1.77423                    | 최종카드발급일자       |\n",
    "| 211,517     | 1.17509                    | _1순위신용체크구분     |\n",
    "\n",
    "결측 비율 상위 7개인데 4번까지는 제하고 분석하거나 따로 처리 요망?"
   ]
  },
  {
   "cell_type": "markdown",
   "metadata": {
    "application/vnd.databricks.v1+cell": {
     "cellMetadata": {
      "byteLimit": 2048000,
      "rowLimit": 10000
     },
     "inputWidgets": {},
     "nuid": "43309955-8ba9-46a3-a902-fa8b4d1c5cff",
     "showTitle": false,
     "tableResultSettingsMap": {},
     "title": ""
    }
   },
   "source": [
    "## 이상치(수치형)"
   ]
  },
  {
   "cell_type": "code",
   "execution_count": 0,
   "metadata": {
    "application/vnd.databricks.v1+cell": {
     "cellMetadata": {
      "byteLimit": 2048000,
      "rowLimit": 10000
     },
     "inputWidgets": {},
     "nuid": "ca9d8b43-5c64-4256-aa48-81fbc13be7df",
     "showTitle": false,
     "tableResultSettingsMap": {},
     "title": ""
    }
   },
   "outputs": [],
   "source": [
    "from pyspark.sql.functions import col\n",
    "\n",
    "def detect_outliers_iqr(df, column):\n",
    "    quantiles = df.approxQuantile(column, [0.25, 0.75], 0.01)\n",
    "    Q1, Q3 = quantiles[0], quantiles[1]\n",
    "    IQR = Q3 - Q1\n",
    "    lower_bound = Q1 - 1.5 * IQR\n",
    "    upper_bound = Q3 + 1.5 * IQR\n",
    "\n",
    "    outliers = df.filter((col(column) < lower_bound) | (col(column) > upper_bound))\n",
    "    count_outliers = outliers.count()\n",
    "    total_count = df.count()\n",
    "    outlier_ratio = (count_outliers / total_count) * 100\n",
    "\n",
    "    return {\n",
    "        'column': column,\n",
    "        'lower_bound': lower_bound,\n",
    "        'upper_bound': upper_bound,\n",
    "        'outlier_count': count_outliers,\n",
    "        'outlier_ratio(%)': outlier_ratio\n",
    "    }\n"
   ]
  },
  {
   "cell_type": "code",
   "execution_count": 0,
   "metadata": {
    "application/vnd.databricks.v1+cell": {
     "cellMetadata": {
      "byteLimit": 2048000,
      "rowLimit": 10000
     },
     "inputWidgets": {},
     "nuid": "b8e44c55-15c5-437e-881c-5d4e93500c0d",
     "showTitle": false,
     "tableResultSettingsMap": {},
     "title": ""
    }
   },
   "outputs": [],
   "source": [
    "from pyspark.sql.functions import col\n",
    "\n",
    "# 숫자형으로 변환 (변환 불가능한 값은 null 처리됨) 이용금액_R3M_신용이 StringType이라서 수치형 연산 안됨.\n",
    "for col_name in columns_to_check:\n",
    "    df1 = df1.withColumn(col_name, col(col_name).cast('double'))\n"
   ]
  },
  {
   "cell_type": "code",
   "execution_count": 0,
   "metadata": {
    "application/vnd.databricks.v1+cell": {
     "cellMetadata": {
      "byteLimit": 2048000,
      "rowLimit": 10000
     },
     "inputWidgets": {},
     "nuid": "17a0dd96-27f9-4d04-87aa-3faa578bab6b",
     "showTitle": false,
     "tableResultSettingsMap": {},
     "title": ""
    }
   },
   "outputs": [],
   "source": [
    "columns_to_check = [\n",
    "    '입회경과개월수_신용', '유효카드수_신용체크', '이용가능카드수_신용체크', '이용카드수_신용체크',\n",
    "    '이용금액_R3M_신용체크', '기본연회비_B0M', '_1순위카드이용금액'\n",
    "]\n",
    "\n",
    "results = []\n",
    "for col_name in columns_to_check:\n",
    "    results.append(detect_outliers_iqr(df1, col_name))\n",
    "\n",
    "import pandas as pd\n",
    "outlier_summary = pd.DataFrame(results)\n",
    "display(outlier_summary)\n"
   ]
  },
  {
   "cell_type": "markdown",
   "metadata": {
    "application/vnd.databricks.v1+cell": {
     "cellMetadata": {
      "byteLimit": 2048000,
      "rowLimit": 10000
     },
     "inputWidgets": {},
     "nuid": "cfa502a0-38d9-4648-ad2f-f1d7307e22c1",
     "showTitle": false,
     "tableResultSettingsMap": {},
     "title": ""
    }
   },
   "source": [
    "| column               | lower_bound  | upper_bound  | outlier_count | outlier_ratio (%)       |\n",
    "|----------------------|--------------|--------------|---------------|-------------------------|\n",
    "| 이용금액_R3M_신용     | -2914045.5   | 4856742.5    | 1497865       | 8.321472222222221       |\n",
    "| 이용금액_R3M_체크     | 0            | 0            | 2835580       | 15.753222222222222      |\n",
    "| _1순위카드이용금액     | -2371819.5   | 3953032.5    | 954797        | 5.304427777777778       |\n",
    "| _2순위카드이용금액     | -444004.5    | 740007.5     | 2905656       | 16.142533333333333      |\n",
    "| _1순위카드이용건수     | -89          | 151          | 1025805       | 5.698916666666666       |\n",
    "| _2순위카드이용건수     | -22.5        | 37.5         | 2704890       | 15.027166666666666      |\n",
    "| 최종카드발급경과월     | -19          | 61           | 1065          | 0.005916666666666666    |\n",
    "| 입회경과개월수_신용    | -110.5       | 229.5        | 1066025       | 5.922361111111111       |\n",
    "| 탈회횟수_누적          | -1.5         | 2.5          | 2             | 0.000011111111111111112 |\n",
    "| 청구금액_기본연회비_B0M | 0            | 0            | 22277         | 0.12376111111111113     |\n",
    "| 청구금액_제휴연회비_B0M | 0            | 0            | 6626          | 0.03681111111111111     |\n",
    "| 카드신청건수           | 0            | 0            | 1577722       | 8.765122222222223       |\n"
   ]
  },
  {
   "cell_type": "code",
   "execution_count": 0,
   "metadata": {
    "application/vnd.databricks.v1+cell": {
     "cellMetadata": {
      "byteLimit": 2048000,
      "rowLimit": 10000
     },
     "inputWidgets": {},
     "nuid": "aeace912-d54c-439a-9169-80d70c6c28ca",
     "showTitle": false,
     "tableResultSettingsMap": {},
     "title": ""
    }
   },
   "outputs": [],
   "source": [
    "import matplotlib.pyplot as plt\n",
    "import seaborn as sns\n",
    "\n",
    "columns_to_plot = [\n",
    "    '이용금액_R3M_신용',\n",
    "    '이용금액_R3M_체크',\n",
    "    '_1순위카드이용금액',\n",
    "    '_2순위카드이용금액',\n",
    "    '_1순위카드이용건수',\n",
    "    '_2순위카드이용건수',\n",
    "    '최종카드발급경과월',\n",
    "    '입회경과개월수_신용'\n",
    "]\n",
    "\n",
    "# 필요한 컬럼만 선택해서 Pandas DataFrame으로 변환 (샘플링 권장)\n",
    "pdf1 = df1.select(columns_to_plot).sample(fraction=0.1, seed=42).toPandas()\n",
    "\n",
    "for col in columns_to_plot:\n",
    "    pdf1[col] = pd.to_numeric(pdf1[col], errors='coerce')\n"
   ]
  },
  {
   "cell_type": "code",
   "execution_count": 0,
   "metadata": {
    "application/vnd.databricks.v1+cell": {
     "cellMetadata": {
      "byteLimit": 2048000,
      "rowLimit": 10000
     },
     "inputWidgets": {},
     "nuid": "71bdc240-4a4b-4201-918b-d35752f476bb",
     "showTitle": false,
     "tableResultSettingsMap": {},
     "title": ""
    }
   },
   "outputs": [],
   "source": [
    "# 수치형 컬럼 추정 몇개 선택한거\n",
    "pdf1"
   ]
  },
  {
   "cell_type": "code",
   "execution_count": 0,
   "metadata": {
    "application/vnd.databricks.v1+cell": {
     "cellMetadata": {
      "byteLimit": 2048000,
      "rowLimit": 10000
     },
     "inputWidgets": {},
     "nuid": "0e3d8b57-621a-4e6d-808a-7d5e73432b8b",
     "showTitle": false,
     "tableResultSettingsMap": {},
     "title": ""
    }
   },
   "outputs": [],
   "source": [
    "#한글\n",
    "!apt-get update -qq\n",
    "!apt-get install -y fonts-nanum"
   ]
  },
  {
   "cell_type": "code",
   "execution_count": 0,
   "metadata": {
    "application/vnd.databricks.v1+cell": {
     "cellMetadata": {
      "byteLimit": 2048000,
      "rowLimit": 10000
     },
     "inputWidgets": {},
     "nuid": "615d7944-d65e-4fdd-a6ad-00f2407912ab",
     "showTitle": false,
     "tableResultSettingsMap": {},
     "title": ""
    }
   },
   "outputs": [],
   "source": [
    "import numpy as np\n",
    "import pandas as pd\n",
    "import matplotlib.pyplot as plt\n",
    "import seaborn as sns\n",
    "from matplotlib import font_manager\n",
    " \n",
    "font_dirs = [\"/usr/share/fonts/truetype/nanum/\"]\n",
    "font_files = font_manager.findSystemFonts(fontpaths=font_dirs)\n",
    " \n",
    "for font_file in font_files:\n",
    "    font_manager.fontManager.addfont(font_file)\n",
    " \n",
    "plt.rc('font', family='NanumGothic')\n",
    "plt.rc('axes', unicode_minus=False)\n",
    " \n",
    "pd.Series([-1,2,3]).plot(title='테스트', figsize=(3,2))\n",
    "pass"
   ]
  },
  {
   "cell_type": "code",
   "execution_count": 0,
   "metadata": {
    "application/vnd.databricks.v1+cell": {
     "cellMetadata": {
      "byteLimit": 2048000,
      "rowLimit": 10000
     },
     "inputWidgets": {},
     "nuid": "526bd61e-b7f4-46d9-ba6b-261eb3d2c67f",
     "showTitle": false,
     "tableResultSettingsMap": {},
     "title": ""
    }
   },
   "outputs": [],
   "source": [
    "\n",
    "\n",
    "plt.figure(figsize=(15, 8))\n",
    "sns.boxplot(data=pdf1, orient='h')\n",
    "plt.show()\n"
   ]
  },
  {
   "cell_type": "markdown",
   "metadata": {
    "application/vnd.databricks.v1+cell": {
     "cellMetadata": {
      "byteLimit": 2048000,
      "rowLimit": 10000
     },
     "inputWidgets": {},
     "nuid": "660857c4-d4ef-4488-bb56-cfddec4e57e5",
     "showTitle": false,
     "tableResultSettingsMap": {},
     "title": ""
    }
   },
   "source": [
    "1번 이용금액_r3m_신용 보면 상당수 이상치 우측 밀집, 평균 혹은 중앙값보다 훨씬 큰값 존재 -> 소비액이 극단적으로 큰 일부 고객군 존재\n",
    "\n",
    "2번 이용금액-r3m_체크도 똑같다.\n",
    "\n",
    "3번 _1순위카드이용금액은 이상치가 있긴한데 적고, 극단적 값만 관찰정도\n",
    "\n",
    "4번_2순위카드이용금액은 이상치가 왼쪽 올느쪽 골곡루 있다. 대부분 낮은값임\n",
    "\n",
    "나머지는 이상치 x 분포 안정적\n",
    "\n",
    "이라고 ai는 해석하는데 사람눈으로 보는거랑 실제 그래프랑 다른가보다."
   ]
  },
  {
   "cell_type": "markdown",
   "metadata": {
    "application/vnd.databricks.v1+cell": {
     "cellMetadata": {
      "byteLimit": 2048000,
      "rowLimit": 10000
     },
     "inputWidgets": {},
     "nuid": "b17946be-3dde-42fc-8562-b784d92c7bf6",
     "showTitle": false,
     "tableResultSettingsMap": {},
     "title": ""
    }
   },
   "source": [
    "## 변수 유형 및 그룹 분류"
   ]
  },
  {
   "cell_type": "code",
   "execution_count": 0,
   "metadata": {
    "application/vnd.databricks.v1+cell": {
     "cellMetadata": {
      "byteLimit": 2048000,
      "rowLimit": 10000
     },
     "collapsed": true,
     "inputWidgets": {},
     "nuid": "04ab569b-c530-44cd-95e5-518575200996",
     "showTitle": false,
     "tableResultSettingsMap": {},
     "title": ""
    }
   },
   "outputs": [],
   "source": [
    "# 컬럼명 출력\n",
    "print(df1.columns)\n",
    "\n",
    "# 데이터 타입 확인 (PySpark 기준)\n",
    "print(df1.dtypes)\n",
    "\n",
    "# 상위 5개 행 샘플 출력\n",
    "df1.show(5)\n"
   ]
  },
  {
   "cell_type": "markdown",
   "metadata": {
    "application/vnd.databricks.v1+cell": {
     "cellMetadata": {
      "byteLimit": 2048000,
      "rowLimit": 10000
     },
     "inputWidgets": {},
     "nuid": "ee13a37b-6af7-4a97-ad52-7ba2297b425c",
     "showTitle": false,
     "tableResultSettingsMap": {},
     "title": ""
    }
   },
   "source": [
    "확인결과 74개 컬럼\n",
    "\n",
    "문자열(string)다수, 수치형(double) 일부\n",
    "\n",
    "자동화 코드 해서 컬럼별로 다하는게 가능은하나 힘들고 메모리 많이 잡아먹나?\n",
    "\n",
    "일단 13개 기준으로 하려고 하는중\n",
    "남녀구분\n",
    "\n",
    "연령대/입회경과개월수_신용//최종탈회후경과월/이용금액_R3M_신용체크/이용금액_R3M_신용/_1순위카드이용금액/_1순위카드이용건수/_1순위신용체크구분/최종유효년월_신용_이용가능/최종유효년월_신용_이용/최종카드발급일자/최종카드발급경과월\n",
    "\n",
    "여기서 한버 ㄴ74개 분류 시도"
   ]
  },
  {
   "cell_type": "code",
   "execution_count": 0,
   "metadata": {
    "application/vnd.databricks.v1+cell": {
     "cellMetadata": {
      "byteLimit": 2048000,
      "rowLimit": 10000
     },
     "inputWidgets": {},
     "nuid": "9a1090b5-eaef-42f7-b6a1-9f474093747a",
     "showTitle": false,
     "tableResultSettingsMap": {},
     "title": ""
    }
   },
   "outputs": [],
   "source": [
    "#날짜변환하고\n",
    "from pyspark.sql.functions import to_date\n",
    "\n",
    "df1 = df1.withColumn(\"입회일자_신용\", to_date(\"입회일자_신용\", \"yyyyMMdd\"))\n",
    "df1 = df1.withColumn(\"최종카드발급일자\", to_date(\"최종카드발급일자\", \"yyyyMMdd\"))\n"
   ]
  },
  {
   "cell_type": "code",
   "execution_count": 0,
   "metadata": {
    "application/vnd.databricks.v1+cell": {
     "cellMetadata": {
      "byteLimit": 2048000,
      "rowLimit": 10000
     },
     "inputWidgets": {},
     "nuid": "1b34250e-9c78-458f-a57c-d08ebeada31d",
     "showTitle": false,
     "tableResultSettingsMap": {},
     "title": ""
    }
   },
   "outputs": [],
   "source": [
    "from pyspark.sql.types import StringType, NumericType, DateType, TimestampType\n",
    "\n",
    "categorical_vars = []\n",
    "numerical_vars = []\n",
    "date_vars = []\n",
    "\n",
    "for field in df1.schema.fields:\n",
    "    col_name = field.name\n",
    "    dtype = field.dataType\n",
    "\n",
    "    if isinstance(dtype, (DateType, TimestampType)):\n",
    "        date_vars.append(col_name)\n",
    "    elif isinstance(dtype, NumericType):\n",
    "        numerical_vars.append(col_name)\n",
    "    elif isinstance(dtype, StringType):\n",
    "        categorical_vars.append(col_name)\n",
    "    else:\n",
    "        # 필요시 다른 타입도 범주형으로 분류 가능\n",
    "        categorical_vars.append(col_name)\n",
    "\n",
    "print(\"범주형 변수:\", categorical_vars)\n",
    "print(\"수치형 변수:\", numerical_vars)\n",
    "print(\"날짜 변수:\", date_vars)\n"
   ]
  },
  {
   "cell_type": "markdown",
   "metadata": {
    "application/vnd.databricks.v1+cell": {
     "cellMetadata": {
      "byteLimit": 2048000,
      "rowLimit": 10000
     },
     "inputWidgets": {},
     "nuid": "f8f005ba-67c3-4007-99a9-461da843b41c",
     "showTitle": false,
     "tableResultSettingsMap": {},
     "title": ""
    }
   },
   "source": [
    "그냥 74개 행 전부다 해버리는게 나을거같다"
   ]
  },
  {
   "cell_type": "code",
   "execution_count": 0,
   "metadata": {
    "application/vnd.databricks.v1+cell": {
     "cellMetadata": {
      "byteLimit": 2048000,
      "rowLimit": 10000
     },
     "inputWidgets": {},
     "nuid": "76bbe306-cd3a-4a3b-a681-def818caf671",
     "showTitle": false,
     "tableResultSettingsMap": {},
     "title": ""
    }
   },
   "outputs": [],
   "source": [
    "from pyspark.sql import functions as F\n",
    "\n",
    "# 각 컬럼별 결측치 개수 확인\n",
    "df1.select([F.count(F.when(F.col(c).isNull(), c)).alias(c) for c in df1.columns]).show(truncate=False)\n"
   ]
  },
  {
   "cell_type": "code",
   "execution_count": 0,
   "metadata": {
    "application/vnd.databricks.v1+cell": {
     "cellMetadata": {
      "byteLimit": 2048000,
      "rowLimit": 10000
     },
     "inputWidgets": {},
     "nuid": "46f451ca-21d8-44e6-b8c4-920175735dda",
     "showTitle": false,
     "tableResultSettingsMap": {},
     "title": ""
    }
   },
   "outputs": [],
   "source": [
    "from pyspark.sql import functions as F\n",
    "from pyspark.sql import Row\n",
    "\n",
    "total_count = df1.count()\n",
    "\n",
    "# 각 컬럼별 결측치 개수 계산\n",
    "null_counts = df1.select([F.count(F.when(F.col(c).isNull(), c)).alias(c) for c in df1.columns]).collect()[0].asDict()\n",
    "\n",
    "# 컬럼명과 결측치 개수를 리스트로 변환\n",
    "null_list = [(col, cnt, cnt / total_count * 100) for col, cnt in null_counts.items()]\n",
    "\n",
    "# PySpark DataFrame으로 변환\n",
    "null_df = spark.createDataFrame([Row(컬럼명=col, 결측치_개수=cnt, 결측치_비율=f\"{ratio:.2f}%\") for col, cnt, ratio in null_list])\n",
    "\n",
    "# 결측치 개수 기준 내림차순 정렬해서 보기 좋게 출력\n",
    "null_df.orderBy(F.desc(\"결측치_개수\")).show(truncate=False)\n"
   ]
  },
  {
   "cell_type": "markdown",
   "metadata": {
    "application/vnd.databricks.v1+cell": {
     "cellMetadata": {
      "byteLimit": 2048000,
      "rowLimit": 10000
     },
     "inputWidgets": {},
     "nuid": "af0e8025-ca7f-42f3-a169-3dda5d6b047a",
     "showTitle": false,
     "tableResultSettingsMap": {},
     "title": ""
    }
   },
   "source": [
    "# 📘 변수 설명 리스트 (총 74개)\n",
    "\n",
    "## 🟦 범주형 변수 (Categorical Variables)\n",
    "\n",
    "| 변수명 | 설명 |\n",
    "|--------|------|\n",
    "| 기준년월 | 데이터 기준 연월 (YYYYMM) |\n",
    "| 발급회원번호 | 고객 식별용 고유번호 |\n",
    "| 남녀구분코드 | 성별 구분 (남/여) |\n",
    "| 연령 | 연령대 구분 (20대, 30대 등) |\n",
    "| VIP등급코드 | 고객의 VIP 등급 코드 |\n",
    "| 최상위카드등급코드 | 보유 카드 중 가장 높은 등급 |\n",
    "| 회원여부_이용가능 | 해당 월 기준 회원 여부 |\n",
    "| 회원여부_이용가능_CA | CA상품 기준 회원 여부 |\n",
    "| 회원여부_이용가능_카드론 | 카드론 기준 회원 여부 |\n",
    "| 소지여부_신용 | 신용카드 소지 여부 |\n",
    "| 소지카드수_유효_신용 | 유효한 신용카드 수 |\n",
    "| 소지카드수_이용가능_신용 | 이용 가능한 신용카드 수 |\n",
    "| 회원여부_연체 | 연체 이력 여부 |\n",
    "| 이용거절여부_카드론 | 카드론 이용 거절 여부 |\n",
    "| 동의여부_한도증액안내 | 한도 증액 안내 동의 여부 |\n",
    "| 수신거부여부_TM | 텔레마케팅 수신 거부 여부 |\n",
    "| 수신거부여부_DM | DM(우편광고) 수신 거부 여부 |\n",
    "| 수신거부여부_메일 | 이메일 수신 거부 여부 |\n",
    "| 수신거부여부_SMS | 문자 수신 거부 여부 |\n",
    "|_ 가입통신회사코드 | 가입된 통신사 코드,결측치 16.17% |_\n",
    "| 최종탈회후경과월 | 마지막 탈회 후 경과 개월 수 |\n",
    "| 탈회횟수_발급6개월이내 | 카드 발급 후 6개월 이내 탈회 횟수 |\n",
    "| 탈회횟수_발급1년이내 | 카드 발급 후 1년 이내 탈회 횟수 |\n",
    "| 거주시도명 | 고객 거주지의 시도명 |\n",
    "| 직장시도명 | 직장 위치의 시도명,결측치 10.17% |\n",
    "| 마케팅동의여부 | 마케팅 수신 동의 여부 |\n",
    "| 유효카드수_신용체크 | 유효한 신용/체크카드 수 (전체) |\n",
    "| 유효카드수_신용 | 유효한 신용카드 수 (본인) |\n",
    "| 유효카드수_신용_가족 | 유효한 신용카드 수 (가족) |\n",
    "| 유효카드수_체크 | 유효한 체크카드 수 (본인) |\n",
    "| 유효카드수_체크_가족 | 유효한 체크카드 수 (가족) |\n",
    "| 이용가능카드수_신용체크 | 이용 가능한 신용/체크카드 수 (전체) |\n",
    "| 이용가능카드수_신용 | 이용 가능한 신용카드 수 (본인) |\n",
    "| 이용가능카드수_신용_가족 | 이용 가능한 신용카드 수 (가족) |\n",
    "| 이용가능카드수_체크 | 이용 가능한 체크카드 수 (본인) |\n",
    "| 이용가능카드수_체크_가족 | 이용 가능한 체크카드 수 (가족) |\n",
    "| 이용카드수_신용체크 | 최근 사용한 신용/체크카드 수 |\n",
    "| 이용카드수_신용 | 최근 사용한 신용카드 수 (본인) |\n",
    "| 이용카드수_신용_가족 | 최근 사용한 신용카드 수 (가족) |\n",
    "| 이용카드수_체크 | 최근 사용한 체크카드 수 (본인) |\n",
    "| 이용카드수_체크_가족 | 최근 사용한 체크카드 수 (가족) |\n",
    "| 이용금액_R3M_신용체크 | 최근 3개월간 신용/체크 이용금액 |\n",
    "| 이용금액_R3M_신용_가족 | 최근 3개월간 신용카드 이용금액 (가족) |\n",
    "| 이용금액_R3M_체크_가족 | 최근 3개월간 체크카드 이용금액 (가족) |\n",
    "| _1순위신용체크구분 | 가장 많이 사용한 카드 종류,결측치 1.18%|\n",
    "| _2순위신용체크구분 | 두 번째로 많이 사용한 카드 종류, 결측치 39.94% |\n",
    "| 최종유효년월_신용_이용가능 | 마지막 이용 가능한 월 (신용),결측치 8.84 |\n",
    "| 최종유효년월_신용_이용 | 마지막 실제 사용한 월 (신용),결측치 22.4% |\n",
    "| 보유여부_해외겸용_본인 | 해외겸용카드 보유 여부 (본인 전체) |\n",
    "| 이용가능여부_해외겸용_본인 | 해외겸용카드 사용 가능 여부 (본인 전체) |\n",
    "| 이용여부_3M_해외겸용_본인 | 최근 3개월간 해외겸용카드 사용 여부 |\n",
    "| 보유여부_해외겸용_신용_본인 | 해외겸용 신용카드 보유 여부 |\n",
    "| 이용가능여부_해외겸용_신용_본인 | 해외겸용 신용카드 사용 가능 여부 |\n",
    "| 이용여부_3M_해외겸용_신용_본인 | 최근 3개월간 해외겸용 신용카드 사용 여부 |\n",
    "| 연회비발생카드수_B0M | 연회비가 발생한 카드 수 |\n",
    "| 연회비할인카드수_B0M | 연회비 할인 받은 카드 수 |\n",
    "| 기본연회비_B0M | 기본 연회비 설정 금액 |\n",
    "| 제휴연회비_B0M | 제휴 연회비 설정 금액 |\n",
    "| 할인금액_기본연회비_B0M | 기본 연회비 할인 금액 |\n",
    "| 할인금액_제휴연회비_B0M | 제휴 연회비 할인 금액 |\n",
    "| 상품관련면제카드수_B0M | 상품 혜택으로 연회비 면제 카드 수 |\n",
    "| 임직원면제카드수_B0M | 임직원 혜택으로 연회비 면제 카드 수 |\n",
    "| 우수회원면제카드수_B0M | 우수회원 혜택으로 연회비 면제 카드 수 |\n",
    "| 기타면제카드수_B0M | 기타 사유로 면제된 카드 수 |\n",
    "| Life_Stage | 생애주기 구분 (예: 사회초년생, 중년 등) |\n",
    "\n",
    "---\n",
    "\n",
    "## 🟩 수치형 변수 (Numerical Variables)\n",
    "\n",
    "| 변수명 | 설명 |\n",
    "|--------|------|\n",
    "| 입회경과개월수_신용 | 신용카드 입회 후 경과 개월 수 |\n",
    "| 탈회횟수_누적 | 누적 탈회 횟수 |\n",
    "| 이용금액_R3M_신용 | 최근 3개월간 신용카드 이용금액 |\n",
    "| 이용금액_R3M_체크 | 최근 3개월간 체크카드 이용금액 |\n",
    "| _1순위카드이용금액 | 가장 많이 사용한 카드의 이용금액 |\n",
    "| _1순위카드이용건수 | 가장 많이 사용한 카드의 이용건수 |\n",
    "| _2순위카드이용금액 | 두 번째로 많이 사용한 카드의 이용금액 |\n",
    "| _2순위카드이용건수 | 두 번째로 많이 사용한 카드의 이용건수 |\n",
    "| 청구금액_기본연회비_B0M | 실제 청구된 기본 연회비 |\n",
    "| 청구금액_제휴연회비_B0M | 실제 청구된 제휴 연회비 |\n",
    "| 카드신청건수 | 누적 카드 신청 건수 |\n",
    "| 최종카드발급경과월 | 마지막 카드 발급 후 경과 개월 수 |\n",
    "\n",
    "---\n",
    "\n",
    "## 🟨 날짜형 변수 (Date Variables)\n",
    "\n",
    "| 변수명 | 설명 |\n",
    "|--------|------|\n",
    "| 입회일자_신용 | 신용카드 가입 일자 |\n",
    "| 최종카드발급일자 | 마지막 카드 발급 일자,결측치 1.17% |\n",
    "\n",
    "## 🧪 결측치 비율\n",
    "\n",
    "| 컬럼명                      | 결측치 개수 | 결측치 비율 |\n",
    "|----------------------------|--------------|--------------|\n",
    "| _2순위신용체크구분         | 7,189,389    | 39.94%       |\n",
    "| 최종유효년월_신용_이용     | 4,031,543    | 22.40%       |\n",
    "| 가입통신회사코드           | 2,910,604    | 16.17%       |\n",
    "| 직장시도명                 | 1,829,715    | 10.17%       |\n",
    "| 최종유효년월_신용_이용가능 | 1,590,648    | 8.84%        |\n",
    "| 최종카드발급일자           | 319,362      | 1.77%        |\n",
    "| _1순위신용체크구분         | 211,517      | 1.18%        |\n"
   ]
  },
  {
   "cell_type": "markdown",
   "metadata": {
    "application/vnd.databricks.v1+cell": {
     "cellMetadata": {
      "byteLimit": 2048000,
      "rowLimit": 10000
     },
     "inputWidgets": {},
     "nuid": "f095e32d-ebfa-4f07-8abd-cbf62b85fc85",
     "showTitle": false,
     "tableResultSettingsMap": {},
     "title": ""
    }
   },
   "source": [
    "\n",
    "| 컬럼명 | 결측치 개수 | 결측치  비율 | 결측치 처리 방식 |\n",
    "|---|---|-----|-----|\n",
    "| _2순위신용체크구분 | 7,189,389 | 39.94% | \"없음\"으로 대체(현금사용 or 1순위카드만사용) |\n",
    "| 최종유효년월_신용_이용 | 4,031,543 | 22.40% | \"없음\"으로대체(현금유저), 날짜형식 범주형으로 변환 요망 |\n",
    "| 가입통신회사코드 | 2,910,604 | 16.17% | \"알뜰폰\"으로 대체 |\n",
    "| 직장시도명 | 1,829,715 | 10.17% | \"비경제\"대체 |\n",
    "| 최종유효년월_신용_이용가능 | 1,590,648 | 8.84% | \"없음\"으로대체(현금유저),날짜형식 범주형으로 변환 요망 |\n",
    "| 최종카드발급일자 | 319,362 | 1.77% |  행 삭제 |\n",
    "| _1순위신용체크구분 | 211,517 | 1.18% | \"현금\"으로대체(현금유저) |"
   ]
  },
  {
   "cell_type": "markdown",
   "metadata": {
    "application/vnd.databricks.v1+cell": {
     "cellMetadata": {
      "byteLimit": 2048000,
      "rowLimit": 10000
     },
     "inputWidgets": {},
     "nuid": "fcbe6069-9119-4696-bf9b-a0fc148d238c",
     "showTitle": false,
     "tableResultSettingsMap": {},
     "title": ""
    }
   },
   "source": [
    "어떠한 변수를 사용할것인가???\n",
    "\n",
    "13개중 말고 74개중\n",
    "\n",
    "분석 목적과 직접 관련 있는 변수\n",
    "예: 이용금액_R3M_신용, 입회경과개월수_신용, VIP등급코드, 최종탈회후경과월 등.\n",
    "\n",
    "시간 흐름을 나타내는 지표\n",
    "예: 최종카드발급경과월, 최종유효년월_신용_이용, 입회일자_신용\n",
    "\n",
    "활성/비활성 고객을 나눌 수 있는 변수\n",
    "예: 이용카드수_신용, 이용가능카드수_신용, 수신거부여부_SMS, 회원여부_연체\n",
    "\n",
    "잠재 이탈 예측에 활용할 수 있는 지표\n",
    "예: 탈회횟수_누적, 회원여부_이용가능, 이용금액_R3M_체크\n",
    "\n",
    "아니면 상관계수 분석이나\n",
    "변수 중요도 판단(gini importance)\n",
    "혹은 피쳐 중요도 시각화로 해서 한다.\n",
    "\n",
    "10~20개 수작업하기?"
   ]
  },
  {
   "cell_type": "code",
   "execution_count": 0,
   "metadata": {
    "application/vnd.databricks.v1+cell": {
     "cellMetadata": {
      "byteLimit": 2048000,
      "rowLimit": 10000
     },
     "inputWidgets": {},
     "nuid": "1b8f34c0-e44c-4d73-ba9c-8000cc3a5a0d",
     "showTitle": false,
     "tableResultSettingsMap": {},
     "title": ""
    }
   },
   "outputs": [],
   "source": []
  },
  {
   "cell_type": "markdown",
   "metadata": {
    "application/vnd.databricks.v1+cell": {
     "cellMetadata": {
      "byteLimit": 2048000,
      "rowLimit": 10000
     },
     "inputWidgets": {},
     "nuid": "6c6de448-bcdf-4dd6-a923-bc89551d61f4",
     "showTitle": false,
     "tableResultSettingsMap": {},
     "title": ""
    }
   },
   "source": [
    "\n",
    "### ERD 준비\n",
    "erd로 컬럼을 모으기로했음"
   ]
  },
  {
   "cell_type": "markdown",
   "metadata": {
    "application/vnd.databricks.v1+cell": {
     "cellMetadata": {
      "byteLimit": 2048000,
      "rowLimit": 10000
     },
     "inputWidgets": {},
     "nuid": "ed5f7351-8bb3-43ab-85bb-4aa181192045",
     "showTitle": false,
     "tableResultSettingsMap": {},
     "title": ""
    }
   },
   "source": [
    "##1. 회원정보 테이블\n",
    "[회원정보]\n",
    "- 회원ID (PK)\n",
    "- 성별\n",
    "- 연령대\n",
    "- 입회일자_신용\n",
    "- 입회경과개월수_신용\n",
    "- 직장시도명\n",
    "- 가입통신회사코드\n",
    "- VIP등급코드\n",
    "- 수신거부여부_SMS\n",
    "- 수신거부여부_DM\n",
    "- 수신거부여부_TMK"
   ]
  },
  {
   "cell_type": "markdown",
   "metadata": {
    "application/vnd.databricks.v1+cell": {
     "cellMetadata": {
      "byteLimit": 2048000,
      "rowLimit": 10000
     },
     "inputWidgets": {},
     "nuid": "93a60663-7b16-4b99-92ee-097a47f4f993",
     "showTitle": false,
     "tableResultSettingsMap": {},
     "title": ""
    }
   },
   "source": [
    "##2. 카드이용정보 테이블\n",
    "[카드이용정보]\n",
    "- 회원ID (FK)\n",
    "- 이용금액_R3M_신용\n",
    "- 이용금액_R3M_체크\n",
    "- 이용건수_R3M_신용\n",
    "- 이용건수_R3M_체크\n",
    "- _1순위카드이용금액\n",
    "- _1순위카드이용건수\n",
    "- _1순위신용체크구분\n",
    "- _2순위신용체크구분\n"
   ]
  },
  {
   "cell_type": "markdown",
   "metadata": {
    "application/vnd.databricks.v1+cell": {
     "cellMetadata": {
      "byteLimit": 2048000,
      "rowLimit": 10000
     },
     "inputWidgets": {},
     "nuid": "4d0f45f9-89fb-4e4d-883e-453b45bea696",
     "showTitle": false,
     "tableResultSettingsMap": {},
     "title": ""
    }
   },
   "source": [
    "##3. 카드상태 테이블\n",
    "[카드상태]\n",
    "- 회원ID (FK)\n",
    "- 이용카드수_신용\n",
    "- 이용가능카드수_신용\n",
    "- 최종유효년월_신용_이용\n",
    "- 최종유효년월_신용_이용가능\n",
    "- 최종카드발급일자\n",
    "- 최종카드발급경과월\n",
    "\n"
   ]
  },
  {
   "cell_type": "markdown",
   "metadata": {
    "application/vnd.databricks.v1+cell": {
     "cellMetadata": {
      "byteLimit": 2048000,
      "rowLimit": 10000
     },
     "inputWidgets": {},
     "nuid": "4b747a54-81f6-4e94-935f-aa0564cfe8a0",
     "showTitle": false,
     "tableResultSettingsMap": {},
     "title": ""
    }
   },
   "source": [
    "##4. 회원상태 테이블\n",
    "[회원상태]\n",
    "- 회원ID (FK)\n",
    "- 회원여부_이용가능\n",
    "- 회원여부_연체\n",
    "- 탈회횟수_누적\n",
    "- 최종탈회후경과월\n",
    "\n",
    "\n"
   ]
  },
  {
   "cell_type": "markdown",
   "metadata": {
    "application/vnd.databricks.v1+cell": {
     "cellMetadata": {
      "byteLimit": 2048000,
      "rowLimit": 10000
     },
     "inputWidgets": {},
     "nuid": "a56aed39-acc0-44fb-8e59-78424cdf055b",
     "showTitle": false,
     "tableResultSettingsMap": {},
     "title": ""
    }
   },
   "source": [
    "##5. 이용패턴파생 테이블\n",
    "[이용패턴파생]\n",
    "- 회원ID (FK)\n",
    "- 증감율_이용건수_신용_전월\n",
    "- 증감율_이용건수_신판_전월\n",
    "- 증감율_이용건수_일시불_전월\n",
    "\n",
    "\n",
    "\n"
   ]
  },
  {
   "cell_type": "markdown",
   "metadata": {
    "application/vnd.databricks.v1+cell": {
     "cellMetadata": {
      "byteLimit": 2048000,
      "rowLimit": 10000
     },
     "inputWidgets": {},
     "nuid": "eb2f0ec9-c025-4b9a-a709-33885aba4557",
     "showTitle": false,
     "tableResultSettingsMap": {},
     "title": ""
    }
   },
   "source": [
    "Table 회원정보 {\n",
    "  회원ID int PK\n",
    "  성별 string\n",
    "  연령대 string\n",
    "  입회일자_신용 date\n",
    "  입회경과개월수_신용 int\n",
    "  직장시도명 string\n",
    "  가입통신회사코드 string\n",
    "  VIP등급코드 string\n",
    "  수신거부여부_SMS bool\n",
    "  수신거부여부_DM bool\n",
    "  수신거부여부_TMK bool\n",
    "}\n",
    "\n",
    "Table 카드이용정보 {\n",
    "  회원ID int FK\n",
    "  이용금액_R3M_신용 float\n",
    "  이용금액_R3M_체크 float\n",
    "  이용건수_R3M_신용 int\n",
    "  이용건수_R3M_체크 int\n",
    "  _1순위카드이용금액 float\n",
    "  _1순위카드이용건수 int\n",
    "  _1순위신용체크구분 string\n",
    "  _2순위신용체크구분 string\n",
    "}\n",
    "\n",
    "Table 카드상태 {\n",
    "  회원ID int FK\n",
    "  이용카드수_신용 int\n",
    "  이용가능카드수_신용 int\n",
    "  최종유효년월_신용_이용 string\n",
    "  최종유효년월_신용_이용가능 string\n",
    "  최종카드발급일자 date\n",
    "  최종카드발급경과월 int\n",
    "}\n",
    "\n",
    "Table 회원상태 {\n",
    "  회원ID int FK\n",
    "  회원여부_이용가능 bool\n",
    "  회원여부_연체 bool\n",
    "  탈회횟수_누적 int\n",
    "  최종탈회후경과월 int\n",
    "}\n",
    "\n",
    "Table 이용패턴파생 {\n",
    "  회원ID int FK\n",
    "  증감율_이용건수_신용_전월 float\n",
    "  증감율_이용건수_신판_전월 float\n",
    "  증감율_이용건수_일시불_전월 float\n",
    "}\n",
    "\n",
    "Ref: 카드이용정보.회원ID > 회원정보.회원ID  \n",
    "Ref: 카드상태.회원ID > 회원정보.회원ID  \n",
    "Ref: 회원상태.회원ID > 회원정보.회원ID  \n",
    "Ref: 이용패턴파생.회원ID > 회원정보.회원ID\n"
   ]
  },
  {
   "cell_type": "code",
   "execution_count": 0,
   "metadata": {
    "application/vnd.databricks.v1+cell": {
     "cellMetadata": {
      "byteLimit": 2048000,
      "rowLimit": 10000
     },
     "inputWidgets": {},
     "nuid": "7283b4a8-c3fd-48e1-9f5a-da9abceda2ff",
     "showTitle": false,
     "tableResultSettingsMap": {},
     "title": ""
    }
   },
   "outputs": [],
   "source": [
    "df1.select(\"Life_Stage\").distinct().limit(30).display()\n"
   ]
  },
  {
   "cell_type": "code",
   "execution_count": 0,
   "metadata": {
    "application/vnd.databricks.v1+cell": {
     "cellMetadata": {
      "byteLimit": 2048000,
      "rowLimit": 10000
     },
     "inputWidgets": {},
     "nuid": "cee7a860-b3e5-4e83-95e6-2ad03f64120f",
     "showTitle": false,
     "tableResultSettingsMap": {},
     "title": ""
    }
   },
   "outputs": [],
   "source": [
    "df1.select(\"_2순위신용체크구분\").distinct().limit(30).display()\n",
    "\n"
   ]
  },
  {
   "cell_type": "code",
   "execution_count": 0,
   "metadata": {
    "application/vnd.databricks.v1+cell": {
     "cellMetadata": {
      "byteLimit": 2048000,
      "rowLimit": 10000
     },
     "inputWidgets": {},
     "nuid": "a21bd823-1102-400b-b6a0-8de5da9c4be6",
     "showTitle": false,
     "tableResultSettingsMap": {},
     "title": ""
    }
   },
   "outputs": [],
   "source": [
    "df1.select(\"가입통신회사코드\").distinct().limit(30).display()"
   ]
  },
  {
   "cell_type": "code",
   "execution_count": 0,
   "metadata": {
    "application/vnd.databricks.v1+cell": {
     "cellMetadata": {
      "byteLimit": 2048000,
      "rowLimit": 10000
     },
     "inputWidgets": {},
     "nuid": "1ea726f7-98f1-4bc8-8e2d-5efd0ae0b6d3",
     "showTitle": false,
     "tableResultSettingsMap": {},
     "title": ""
    }
   },
   "outputs": [],
   "source": [
    "df1.select(\"_1순위신용체크구분\").distinct().limit(30).display()\n",
    "\n"
   ]
  },
  {
   "cell_type": "markdown",
   "metadata": {
    "application/vnd.databricks.v1+cell": {
     "cellMetadata": {
      "byteLimit": 2048000,
      "rowLimit": 10000
     },
     "inputWidgets": {},
     "nuid": "a4ef8e11-8b5f-435b-b5d8-1e5f51bf73df",
     "showTitle": false,
     "tableResultSettingsMap": {},
     "title": ""
    }
   },
   "source": [
    "_2순위신용체크부분 결측치와 이용카드 수 신용체크 관계\n",
    "0,1개 고객이 전체 결측치 거의 전부,\n",
    "즉 2순위 신용체크 부분 결측치는 단일카드 보유자로 판단."
   ]
  },
  {
   "cell_type": "code",
   "execution_count": 0,
   "metadata": {
    "application/vnd.databricks.v1+cell": {
     "cellMetadata": {
      "byteLimit": 2048000,
      "rowLimit": 10000
     },
     "inputWidgets": {},
     "nuid": "87ef1bfd-34f5-48cc-9c7c-1ca540c46dbb",
     "showTitle": false,
     "tableResultSettingsMap": {},
     "title": ""
    }
   },
   "outputs": [],
   "source": [
    "# 1순위 카드 결측은 1.18? 2순위는 39.94, MSAR보다 MNAR 생각, 40퍼가 읭답오류? 이거보단 현금쓰는 양반 1.18미만에다가 카드 하나만 쓰는사람같음 크로스체크 요망\n",
    "from pyspark.sql.functions import col, when, isnan, count\n",
    "\n",
    "# 1. _2순위신용체크구분 결측치 비율 확인 (이용카드수_신용체크 기준)\n",
    "df1.select(\n",
    "    \"이용카드수_신용체크\",\n",
    "    \"_2순위신용체크구분\"\n",
    ").withColumn(\n",
    "    \"is_null_2nd\",\n",
    "    col(\"_2순위신용체크구분\").isNull()\n",
    ").groupBy(\"이용카드수_신용체크\").agg(\n",
    "    count(when(col(\"is_null_2nd\"), True)).alias(\"결측치수\"),\n",
    "    count(\"*\").alias(\"전체수\")\n",
    ").withColumn(\n",
    "    \"결측비율(%)\", (col(\"결측치수\") / col(\"전체수\") * 100).cast(\"double\")\n",
    ").orderBy(\"이용카드수_신용체크\").display()\n"
   ]
  },
  {
   "cell_type": "code",
   "execution_count": 0,
   "metadata": {
    "application/vnd.databricks.v1+cell": {
     "cellMetadata": {
      "byteLimit": 2048000,
      "rowLimit": 10000
     },
     "inputWidgets": {},
     "nuid": "158411d1-39a8-45b2-9f47-ca8c933bbeb7",
     "showTitle": false,
     "tableResultSettingsMap": {},
     "title": ""
    }
   },
   "outputs": [],
   "source": [
    "# 1. 결측치인 행만 필터링\n",
    "null_df = df1.filter(col(\"_2순위신용체크구분\").isNull())\n",
    "\n",
    "# 2. 결측치 집단에서 카드 수별 인원 카운트\n",
    "from pyspark.sql.functions import count\n",
    "\n",
    "null_grouped = null_df.groupBy(\"이용카드수_신용체크\").agg(count(\"*\").alias(\"결측치_수\"))\n",
    "null_pd = null_grouped.orderBy(\"이용카드수_신용체크\").toPandas()\n",
    "\n",
    "# 3. 비율 계산\n",
    "null_pd[\"결측비율(%)\"] = (null_pd[\"결측치_수\"] / null_pd[\"결측치_수\"].sum()) * 100\n",
    "\n",
    "# 4. 시각화\n",
    "import matplotlib.pyplot as plt\n",
    "\n",
    "plt.figure(figsize=(10, 5))\n",
    "bars = plt.bar(null_pd[\"이용카드수_신용체크\"], null_pd[\"결측비율(%)\"], color=\"salmon\", edgecolor=\"black\")\n",
    "\n",
    "for bar in bars:\n",
    "    height = bar.get_height()\n",
    "    plt.text(bar.get_x() + bar.get_width()/2, height + 0.5, f'{height:.1f}%', ha='center', va='bottom')\n",
    "\n",
    "plt.title(\"2순위 신용체크구분 결측치 중 카드 보유수 분포 (%)\")\n",
    "plt.xlabel(\"이용카드수 (신용+체크)\")\n",
    "plt.ylabel(\"결측치 집단 내 비율 (%)\")\n",
    "plt.xticks(rotation=45)\n",
    "plt.grid(axis='y', linestyle='--', alpha=0.7)\n",
    "plt.tight_layout()\n",
    "plt.show()\n"
   ]
  },
  {
   "cell_type": "code",
   "execution_count": 0,
   "metadata": {
    "application/vnd.databricks.v1+cell": {
     "cellMetadata": {
      "byteLimit": 2048000,
      "rowLimit": 10000
     },
     "inputWidgets": {},
     "nuid": "c974e805-ef74-4271-93d6-334037ba8695",
     "showTitle": false,
     "tableResultSettingsMap": {},
     "title": ""
    }
   },
   "outputs": [],
   "source": [
    "# 2. _1순위신용체크구분 결측치 비율 확인 (이용카드수_신용체크 == 0)\n",
    "df1.filter(col(\"이용카드수_신용체크\") == 0).select(\n",
    "    count(when(col(\"_1순위신용체크구분\").isNull(), True)).alias(\"결측치수\"),\n",
    "    count(\"*\").alias(\"전체수\")\n",
    ").withColumn(\n",
    "    \"결측비율(%)\", (col(\"결측치수\") / col(\"전체수\") * 100)\n",
    ").display()\n"
   ]
  },
  {
   "cell_type": "code",
   "execution_count": 0,
   "metadata": {
    "application/vnd.databricks.v1+cell": {
     "cellMetadata": {
      "byteLimit": 2048000,
      "rowLimit": 10000
     },
     "inputWidgets": {},
     "nuid": "4feb9542-f8cd-42e0-9fee-743206eafc2f",
     "showTitle": false,
     "tableResultSettingsMap": {},
     "title": ""
    }
   },
   "outputs": [],
   "source": [
    "#한글\n",
    "!apt-get update -qq\n",
    "!apt-get install -y fonts-nanum"
   ]
  },
  {
   "cell_type": "code",
   "execution_count": 0,
   "metadata": {
    "application/vnd.databricks.v1+cell": {
     "cellMetadata": {
      "byteLimit": 2048000,
      "rowLimit": 10000
     },
     "inputWidgets": {},
     "nuid": "6ea41c9e-e44e-49f0-bc47-ce035cfe5782",
     "showTitle": false,
     "tableResultSettingsMap": {},
     "title": ""
    }
   },
   "outputs": [],
   "source": [
    "df1.filter(\"`이용카드수_신용체크` = 0\").groupby(\"_2순위신용체크구분\").count().orderBy(\"count\", ascending=False).display()\n",
    "\n",
    "#이용카드수가 0인사람중에서 _2값 기준 그룹화 후 카운드, 카드는 없는데 이러면 이용 가능 카드로 본다?\n",
    "\n",
    "#_2순위신용체크구분\tcount\n",
    "#null\t1835518\n",
    "#신용\t854012\n",
    "#체크\t578854\n",
    "\n",
    "#총 326만명이 이용카드수 0인상태, 이중에서 183만명(56퍼)가 결측치\n",
    "# 나머지 40퍼는 신용/체크 사용내역이 없지만 2순위 구분값 존재\n",
    "# 과거 사용정보 남앗다?\n",
    "#보유와 사용은 다름(아래 행보면 304만명 93.3%)\n",
    "#이용카드수_신용체크는 최근 3개월간 카드이용 0인데 2순위있는건 이상가능성 존재, 탐색 ㅛㅇ망 >이전사용이력 잔존? 데이터 오류?"
   ]
  },
  {
   "cell_type": "code",
   "execution_count": 0,
   "metadata": {
    "application/vnd.databricks.v1+cell": {
     "cellMetadata": {
      "byteLimit": 2048000,
      "rowLimit": 10000
     },
     "inputWidgets": {},
     "nuid": "0c560c4d-4fda-4a42-8249-869c2d8ba3e1",
     "showTitle": false,
     "tableResultSettingsMap": {},
     "title": ""
    }
   },
   "outputs": [],
   "source": [
    "df1.filter(\"`이용카드수_신용체크` = 0 AND `유효카드수_신용체크` > 0\").count()\n",
    "#이요카드수 0이면서, 유효카드수는 0보다 큰사람 찾아 즉 이용카드는 0개 유효(등록)카드는 1개 이상\n",
    "#300만건 나옴 -> 카드는 발급 받고 3개월 기준 사용하지 않은거같다. 단순 미사용이 존재?\n",
    "#결과값은 3048706"
   ]
  },
  {
   "cell_type": "code",
   "execution_count": 0,
   "metadata": {
    "application/vnd.databricks.v1+cell": {
     "cellMetadata": {
      "byteLimit": 2048000,
      "rowLimit": 10000
     },
     "inputWidgets": {},
     "nuid": "0840cb3f-69e8-4ea8-839e-5acbfab7364a",
     "showTitle": false,
     "tableResultSettingsMap": {},
     "title": ""
    }
   },
   "outputs": [],
   "source": [
    "from pyspark.sql.functions import col, when\n",
    "\n",
    "# 의심 케이스만 필터링\n",
    "suspicious_df = df1.filter(\n",
    "    (col(\"이용카드수_신용체크\") == 0) &\n",
    "    (col(\"_2순위신용체크구분\").isNotNull())\n",
    ")\n",
    "\n",
    "# 관련 변수 몇 개 붙여서 확인\n",
    "suspicious_df.select(\n",
    "    \"발급회원번호\",\n",
    "    \"유효카드수_신용체크\",\n",
    "    \"이용가능카드수_신용체크\",\n",
    "    \"이용금액_R3M_신용체크\",\n",
    "    \"_1순위카드이용건수\",\n",
    "    \"_1순위카드이용금액\",\n",
    "    \"최종유효년월_신용_이용\",\n",
    "    \"최종카드발급경과월\",\n",
    "    \"_2순위신용체크구분\"\n",
    ").display()\n",
    "# 1순위카드이용건수가 왜 음수가나오고, 양수일경우 이용금액이 0이 나오는데 버근가? 이거 뭐임?\n",
    "# 이용건수 음수는 제거 요망, 양수일때 이용금액 0이면 취소, 정정처리? 이용금액이 마이너스는 무엇인가(기간의 차이? 3개월 6개월?)근데 7월부터 12월 데이터인데?"
   ]
  },
  {
   "cell_type": "code",
   "execution_count": 0,
   "metadata": {
    "application/vnd.databricks.v1+cell": {
     "cellMetadata": {
      "byteLimit": 2048000,
      "rowLimit": 10000
     },
     "inputWidgets": {},
     "nuid": "edab7643-b8f7-4c11-b91c-3c789e2357e0",
     "showTitle": false,
     "tableResultSettingsMap": {},
     "title": ""
    }
   },
   "outputs": [],
   "source": [
    "df1.filter(col(\"_1순위카드이용건수\") < 0).display()\n",
    "#5443개가 왜이러지,,? 심지어 금액도 음수가있어"
   ]
  },
  {
   "cell_type": "code",
   "execution_count": 0,
   "metadata": {
    "application/vnd.databricks.v1+cell": {
     "cellMetadata": {
      "byteLimit": 2048000,
      "rowLimit": 10000
     },
     "inputWidgets": {},
     "nuid": "c826afa7-f8cd-4bc9-a470-f1884fd0ea76",
     "showTitle": false,
     "tableResultSettingsMap": {},
     "title": ""
    }
   },
   "outputs": [],
   "source": [
    "#이용건수 0 무조건 이상치인데이건..?\n",
    "df1.filter(col(\"_1순위카드이용건수\") < 0).count()\n"
   ]
  },
  {
   "cell_type": "code",
   "execution_count": 0,
   "metadata": {
    "application/vnd.databricks.v1+cell": {
     "cellMetadata": {
      "byteLimit": 2048000,
      "rowLimit": 10000
     },
     "inputWidgets": {},
     "nuid": "ed61cca2-89a3-4d7b-a46e-b5dd791acaa0",
     "showTitle": false,
     "tableResultSettingsMap": {},
     "title": ""
    }
   },
   "outputs": [],
   "source": [
    "#이용건수는 양수 &이용금액은 0\n",
    "df1.filter(\n",
    "    (col(\"_1순위카드이용건수\") > 0) &\n",
    "    (col(\"_1순위카드이용금액\") == 0)\n",
    ").count()\n"
   ]
  },
  {
   "cell_type": "code",
   "execution_count": 0,
   "metadata": {
    "application/vnd.databricks.v1+cell": {
     "cellMetadata": {
      "byteLimit": 2048000,
      "rowLimit": 10000
     },
     "inputWidgets": {},
     "nuid": "ba231288-459c-4b69-84d5-478768c864ad",
     "showTitle": false,
     "tableResultSettingsMap": {},
     "title": ""
    }
   },
   "outputs": [],
   "source": [
    "#이용건수는 0 이용금액은 양수\n",
    "df1.filter(\n",
    "    (col(\"_1순위카드이용건수\") == 0) &\n",
    "    (col(\"_1순위카드이용금액\") > 0)\n",
    ").count()\n"
   ]
  },
  {
   "cell_type": "code",
   "execution_count": 0,
   "metadata": {
    "application/vnd.databricks.v1+cell": {
     "cellMetadata": {
      "byteLimit": 2048000,
      "rowLimit": 10000
     },
     "inputWidgets": {},
     "nuid": "16fa72f0-b01b-493b-bf3a-207a9c10259f",
     "showTitle": false,
     "tableResultSettingsMap": {},
     "title": ""
    }
   },
   "outputs": [],
   "source": [
    "df1.filter(col(\"_1순위카드이용건수\") < 0).limit(20).display()\n",
    "#20개만 보는중, 이용금액 신용이랑 체크가 음수긴 한데 환불 이런거때문에 설명은됨\n",
    "#도대체 어케 해야 음수나옴? 나머진 대부분 정상적 기입인걸 보면 오류말고는 답도 없느데\n",
    "#life_stage랑 펀드같은거 묶어서 분석할떄, \n",
    "#방안_1._1순위 카드 이용건수를 뺴고 금액만 분석한다,,?\n",
    "#방안_2. 이용금액적인걸 04.카드승인매출에서 분석? 근데 01 회원정보에서 음수가 나오면 03카드매출에서도 당연히 음수아님? >>일단 03에서 이용건수,이용금액 문의\n",
    "###### 세빈님 말대로 생각해보면 취소 환불나오면 이용건수도 -로 된다 아님? 어 근데 그러면 0이어야하는거아닌가?"
   ]
  },
  {
   "cell_type": "code",
   "execution_count": 0,
   "metadata": {
    "application/vnd.databricks.v1+cell": {
     "cellMetadata": {
      "byteLimit": 2048000,
      "rowLimit": 10000
     },
     "inputWidgets": {},
     "nuid": "a2d7de25-0186-4b2a-8178-7f521fa9cfe3",
     "showTitle": false,
     "tableResultSettingsMap": {},
     "title": ""
    }
   },
   "outputs": [],
   "source": [
    "from pyspark.sql.functions import col, count, avg, sum, when\n",
    "\n",
    "# 최종카드발급일자 결측치인 사용자 필터링\n",
    "df1_issue_null = df1.filter(col(\"최종카드발급일자\").isNull())\n",
    "\n",
    "# 연령, 성별 기준 그룹화 및 요약 통계 생성\n",
    "df_grouped_issue = df1_issue_null.groupBy(\"연령\", \"남녀구분코드\").agg(\n",
    "    count(\"*\").alias(\"이용자수\"),\n",
    "    avg(\"유효카드수_신용체크\").alias(\"유효카드수_평균\"),\n",
    "    avg(col(\"_1순위카드이용금액\")).alias(\"1순위카드이용금액_평균\"),\n",
    "    sum(when(col(\"_1순위카드이용금액\") == 0, 1).otherwise(0)).alias(\"이용금액_0원_건수\"),\n",
    "    sum(\n",
    "        when(col(\"최종유효년월_신용_이용\").isNull(), 1).otherwise(0)\n",
    "    ).alias(\"이용_컬럼_Null_건수\")  # 추가 분석 포인트\n",
    ")\n",
    "\n",
    "# 결과 정렬 및 출력\n",
    "display(df_grouped_issue.orderBy(\"연령\"))\n"
   ]
  },
  {
   "cell_type": "code",
   "execution_count": 0,
   "metadata": {
    "application/vnd.databricks.v1+cell": {
     "cellMetadata": {
      "byteLimit": 2048000,
      "rowLimit": 10000
     },
     "inputWidgets": {},
     "nuid": "f83a4e85-2de2-4a24-a4aa-486917097d86",
     "showTitle": false,
     "tableResultSettingsMap": {},
     "title": ""
    }
   },
   "outputs": [],
   "source": [
    "from pyspark.sql.functions import col, count, avg, sum, when\n",
    "import matplotlib.pyplot as plt\n",
    "\n",
    "# ✅ 1. 최종카드발급일자 결측 사용자 필터링\n",
    "df1_issue_null = df1.filter(col(\"최종카드발급일자\").isNull())\n",
    "\n",
    "# ✅ 2. 그룹화 및 요약 통계\n",
    "df_grouped_issue = df1_issue_null.groupBy(\"연령\", \"남녀구분코드\").agg(\n",
    "    count(\"*\").alias(\"이용자수\"),\n",
    "    avg(\"유효카드수_신용체크\").alias(\"유효카드수_평균\"),\n",
    "    avg(col(\"_1순위카드이용금액\")).alias(\"1순위카드이용금액_평균\"),\n",
    "    sum(when(col(\"_1순위카드이용금액\") == 0, 1).otherwise(0)).alias(\"이용금액_0원_건수\"),\n",
    "    sum(when(col(\"최종유효년월_신용_이용\").isNull(), 1).otherwise(0)).alias(\"이용_컬럼_Null_건수\")\n",
    ")\n",
    "\n",
    "# ✅ 3. toPandas 변환\n",
    "pdf = df_grouped_issue.toPandas()\n",
    "\n",
    "# ✅ 4. 성별 라벨 정의\n",
    "labels = {1: \"남성\", 2: \"여성\"}\n",
    "colors = {1: \"blue\", 2: \"red\"}\n",
    "\n",
    "# ✅ 5. 시각화\n",
    "fig, axes = plt.subplots(2, 2, figsize=(14, 8), sharey=False)  # << sharey=False 포인트\n",
    "fig.suptitle(\"최종카드발급일자 결측 사용자 분석 (연령 × 성별)\", fontsize=16)\n",
    "\n",
    "metrics = [\n",
    "    (\"유효카드수_평균\", \"유효카드수 평균\", \"카드수\"),\n",
    "    (\"1순위카드이용금액_평균\", \"1순위카드 이용금액 평균\", \"평균\"),\n",
    "    (\"이용금액_0원_건수\", \"이용금액 0원 건수\", \"건수\"),\n",
    "    (\"이용_컬럼_Null_건수\", \"이용 컬럼 Null 건수\", \"건수\")\n",
    "]\n",
    "\n",
    "for ax, (col_name, title, ylabel) in zip(axes.flatten(), metrics):\n",
    "    for gender in [1, 2]:\n",
    "        data = pdf[pdf[\"남녀구분코드\"] == gender].sort_values(\"연령\")\n",
    "        ax.plot(data[\"연령\"], data[col_name], marker='o', label=labels[gender], color=colors[gender])\n",
    "    \n",
    "    ax.set_title(title)\n",
    "    ax.set_xlabel(\"연령\")\n",
    "    ax.set_ylabel(ylabel)\n",
    "    ax.legend()\n",
    "\n",
    "plt.tight_layout(rect=[0, 0, 1, 0.96])\n",
    "plt.show()"
   ]
  },
  {
   "cell_type": "code",
   "execution_count": 0,
   "metadata": {
    "application/vnd.databricks.v1+cell": {
     "cellMetadata": {
      "byteLimit": 2048000,
      "rowLimit": 10000
     },
     "inputWidgets": {},
     "nuid": "60ea1444-878b-4abc-97fb-e92777542268",
     "showTitle": false,
     "tableResultSettingsMap": {},
     "title": ""
    }
   },
   "outputs": [],
   "source": [
    "from pyspark.sql.functions import col\n",
    "\n",
    "# 조건: 발급일자가 Null인데 유효카드 수가 1 이상\n",
    "df_cardholders_with_null_issue_date = df1.filter(\n",
    "    col(\"최종카드발급일자\").isNull() & \n",
    "    (col(\"유효카드수_신용체크\") >= 1)\n",
    ")\n",
    "\n",
    "# 샘플 10개만 출력\n",
    "df_cardholders_with_null_issue_date.select(\n",
    "    \"연령\", \"남녀구분코드\", \"유효카드수_신용체크\", \n",
    "    \"_1순위카드이용금액\", \"최종유효년월_신용_이용\", \"최종카드발급일자\"\n",
    ").show(10, truncate=False)\n"
   ]
  },
  {
   "cell_type": "code",
   "execution_count": 0,
   "metadata": {
    "application/vnd.databricks.v1+cell": {
     "cellMetadata": {
      "byteLimit": 2048000,
      "rowLimit": 10000
     },
     "inputWidgets": {},
     "nuid": "d0b8eff2-5b6b-403a-9ae1-a67c135e96d4",
     "showTitle": false,
     "tableResultSettingsMap": {},
     "title": ""
    }
   },
   "outputs": [],
   "source": [
    "from pyspark.sql.functions import col\n",
    "\n",
    "# 조건에 맞는 사람 수 세기\n",
    "count_with_null_issue_and_card = df1.filter(\n",
    "    col(\"최종카드발급일자\").isNull() &\n",
    "    (col(\"유효카드수_신용체크\") >= 1)\n",
    ").count()\n",
    "\n",
    "print(f\"최종카드발급일자가 Null인데 유효카드수를 1개 이상 가진 사람 수: {count_with_null_issue_and_card}\")\n"
   ]
  },
  {
   "cell_type": "code",
   "execution_count": 0,
   "metadata": {
    "application/vnd.databricks.v1+cell": {
     "cellMetadata": {
      "byteLimit": 2048000,
      "rowLimit": 10000
     },
     "inputWidgets": {},
     "nuid": "bcb5f89d-066d-4979-bd33-be46e7ebaf5e",
     "showTitle": false,
     "tableResultSettingsMap": {},
     "title": ""
    }
   },
   "outputs": [],
   "source": [
    "from pyspark.sql.functions import col, count\n",
    "\n",
    "df1.filter(\n",
    "    col(\"최종카드발급일자\").isNull() &\n",
    "    (col(\"유효카드수_신용체크\") >= 1)\n",
    ").groupBy(\"연령\", \"남녀구분코드\").agg(\n",
    "    count(\"*\").alias(\"인원수\")\n",
    ").orderBy(\"연령\", \"남녀구분코드\").show()\n"
   ]
  },
  {
   "cell_type": "code",
   "execution_count": 0,
   "metadata": {
    "application/vnd.databricks.v1+cell": {
     "cellMetadata": {
      "byteLimit": 2048000,
      "rowLimit": 10000
     },
     "inputWidgets": {},
     "nuid": "ad0f19e9-88db-4ea6-826d-bb1754c6c40b",
     "showTitle": false,
     "tableResultSettingsMap": {},
     "title": ""
    }
   },
   "outputs": [],
   "source": [
    "df1.filter(col(\"최종카드발급일자\") == \"0\").count()\n"
   ]
  },
  {
   "cell_type": "code",
   "execution_count": 0,
   "metadata": {
    "application/vnd.databricks.v1+cell": {
     "cellMetadata": {
      "byteLimit": 2048000,
      "rowLimit": 10000
     },
     "inputWidgets": {},
     "nuid": "3bbf43ec-f901-471f-9a10-92d814225116",
     "showTitle": false,
     "tableResultSettingsMap": {},
     "title": ""
    }
   },
   "outputs": [],
   "source": [
    "df1.filter(col(\"최종카드발급일자\") == 0).count()\n",
    "df1.filter(col(\"최종카드발급일자\") == \"Null\").count()\n",
    "\n"
   ]
  },
  {
   "cell_type": "code",
   "execution_count": 0,
   "metadata": {
    "application/vnd.databricks.v1+cell": {
     "cellMetadata": {
      "byteLimit": 2048000,
      "rowLimit": 10000
     },
     "inputWidgets": {},
     "nuid": "09679ce6-a601-4831-b15f-949b4a735a03",
     "showTitle": false,
     "tableResultSettingsMap": {},
     "title": ""
    }
   },
   "outputs": [],
   "source": [
    "df1.select(\"최종카드발급일자\").distinct().show(truncate=False)\n"
   ]
  },
  {
   "cell_type": "code",
   "execution_count": 0,
   "metadata": {
    "application/vnd.databricks.v1+cell": {
     "cellMetadata": {
      "byteLimit": 2048000,
      "rowLimit": 10000
     },
     "inputWidgets": {},
     "nuid": "4afff2ce-cc46-4b29-820f-f5fa406e17b0",
     "showTitle": false,
     "tableResultSettingsMap": {},
     "title": ""
    }
   },
   "outputs": [],
   "source": [
    "from pyspark.sql.functions import count\n",
    "\n",
    "df1.groupBy(\"최종카드발급일자\").agg(count(\"*\").alias(\"건수\")).orderBy(\"건수\", ascending=False).show(truncate=False)\n"
   ]
  },
  {
   "cell_type": "code",
   "execution_count": 0,
   "metadata": {
    "application/vnd.databricks.v1+cell": {
     "cellMetadata": {
      "byteLimit": 2048000,
      "rowLimit": 10000
     },
     "inputWidgets": {},
     "nuid": "7e32a1ae-058a-41cf-a061-b9dcebc4d6f4",
     "showTitle": false,
     "tableResultSettingsMap": {},
     "title": ""
    }
   },
   "outputs": [],
   "source": [
    "df1.groupBy(\"최종카드발급일자\") \\\n",
    "   .agg(count(\"*\").alias(\"건수\")) \\\n",
    "   .orderBy(col(\"최종카드발급일자\").desc()) \\\n",
    "   .show(truncate=False)\n"
   ]
  },
  {
   "cell_type": "code",
   "execution_count": 0,
   "metadata": {
    "application/vnd.databricks.v1+cell": {
     "cellMetadata": {
      "byteLimit": 2048000,
      "rowLimit": 10000
     },
     "inputWidgets": {},
     "nuid": "6df569f5-ea37-467f-8099-2c5116662116",
     "showTitle": false,
     "tableResultSettingsMap": {},
     "title": ""
    }
   },
   "outputs": [],
   "source": [
    "# 위에건 유니크값 몇개인지\n",
    "# 이건 유니크값 수\n",
    "\n",
    "df1.select(\"최종카드발급일자\").distinct().count()\n"
   ]
  },
  {
   "cell_type": "code",
   "execution_count": 0,
   "metadata": {
    "application/vnd.databricks.v1+cell": {
     "cellMetadata": {
      "byteLimit": 2048000,
      "rowLimit": 10000
     },
     "inputWidgets": {},
     "nuid": "b783711d-e1ec-40f7-bb54-3c743ca1747d",
     "showTitle": false,
     "tableResultSettingsMap": {},
     "title": ""
    }
   },
   "outputs": [],
   "source": [
    "from pyspark.sql.functions import col, rand\n",
    "import random\n",
    "\n",
    "# 조건: 최종카드발급일자가 Null이고, 유효카드수(신용/체크)가 1 이상\n",
    "df_null_issue = df1.filter(\n",
    "    (col(\"최종카드발급일자\").isNull()) &\n",
    "    (col(\"유효카드수_신용체크\") >= 1)\n",
    ")\n",
    "\n",
    "# 무작위 10개 추출\n",
    "df_sample = df_null_issue.orderBy(rand()).limit(10)\n",
    "\n",
    "# 전체 열 보기\n",
    "display(df_sample)\n"
   ]
  },
  {
   "cell_type": "code",
   "execution_count": 0,
   "metadata": {
    "application/vnd.databricks.v1+cell": {
     "cellMetadata": {
      "byteLimit": 2048000,
      "rowLimit": 10000
     },
     "inputWidgets": {},
     "nuid": "912e84ae-b921-4fb7-b6ce-c0a9acfa12d3",
     "showTitle": false,
     "tableResultSettingsMap": {},
     "title": ""
    }
   },
   "outputs": [],
   "source": [
    "df1.filter(col(\"가입통신회사코드\") == Null)"
   ]
  },
  {
   "cell_type": "code",
   "execution_count": 0,
   "metadata": {
    "application/vnd.databricks.v1+cell": {
     "cellMetadata": {
      "byteLimit": 2048000,
      "rowLimit": 10000
     },
     "inputWidgets": {},
     "nuid": "e9108a96-7d92-41ac-94e5-8cec128d21c1",
     "showTitle": false,
     "tableResultSettingsMap": {},
     "title": ""
    }
   },
   "outputs": [],
   "source": [
    "from pyspark.sql.functions import avg, count\n",
    "\n",
    "df_grouped = df1_test_phone.groupBy(\"연령\").agg(\n",
    "    count(\"*\").alias(\"이용자수\"),\n",
    "    avg(\"유효카드수_신용체크\").alias(\"유효카드수_평균\"),\n",
    "    avg(\"_1순위카드이용금액\").alias(\"1순위카드이용금액_평균\")\n",
    ")\n",
    "\n",
    "display(df_grouped.orderBy(\"연령\"))"
   ]
  },
  {
   "cell_type": "code",
   "execution_count": 0,
   "metadata": {
    "application/vnd.databricks.v1+cell": {
     "cellMetadata": {
      "byteLimit": 2048000,
      "rowLimit": 10000
     },
     "inputWidgets": {},
     "nuid": "176f9f6b-b9df-4f9a-bf3c-b9e066f38fbd",
     "showTitle": false,
     "tableResultSettingsMap": {},
     "title": ""
    }
   },
   "outputs": [],
   "source": [
    "from pyspark.sql.functions import col, lit\n",
    "\n",
    "df1_test_phone = df1.filter(col(\"최종유효년월_신용_이용\").isNull())\n",
    "\n",
    "display(df1_test_phone.limit(3))"
   ]
  },
  {
   "cell_type": "code",
   "execution_count": 0,
   "metadata": {
    "application/vnd.databricks.v1+cell": {
     "cellMetadata": {
      "byteLimit": 2048000,
      "rowLimit": 10000
     },
     "inputWidgets": {},
     "nuid": "c09e89cf-c083-462e-a133-05541ca031f0",
     "showTitle": false,
     "tableResultSettingsMap": {},
     "title": ""
    }
   },
   "outputs": [],
   "source": [
    "df_grouped = df1_test_phone.groupBy(\"연령\",\"남녀구분코드\").agg(\n",
    "    count(\"*\").alias(\"이용자수\"),\n",
    "    avg(\"유효카드수_신용체크\").alias(\"유효카드수_평균\"),\n",
    "    avg(\"_1순위카드이용금액\").alias(\"1순위카드이용금액_평균\"),\n",
    "    sum(when(col(\"_1순위카드이용금액\") == 0, 1).otherwise(0)).alias(\"이용금액_0원_건수\"),\n",
    ")\n",
    "\n",
    "display(df_grouped.orderBy(\"연령\"))"
   ]
  },
  {
   "cell_type": "code",
   "execution_count": 0,
   "metadata": {
    "application/vnd.databricks.v1+cell": {
     "cellMetadata": {
      "byteLimit": 2048000,
      "rowLimit": 10000
     },
     "inputWidgets": {},
     "nuid": "f5585ef2-e3d6-4ce0-9e1e-dddabb27306c",
     "showTitle": false,
     "tableResultSettingsMap": {},
     "title": ""
    }
   },
   "outputs": [],
   "source": [
    "from pyspark.sql.functions import col, lit\n",
    "\n",
    "df1_minus = df1.filter(col(\"_1순위카드이용건수\") < 0)\n",
    "\n",
    "display(df1_minus.groupBy(\"기준년월\").count())"
   ]
  },
  {
   "cell_type": "code",
   "execution_count": 0,
   "metadata": {
    "application/vnd.databricks.v1+cell": {
     "cellMetadata": {
      "byteLimit": 2048000,
      "rowLimit": 10000
     },
     "inputWidgets": {},
     "nuid": "edfd4347-3ab8-4045-bbe3-30a101780622",
     "showTitle": false,
     "tableResultSettingsMap": {},
     "title": ""
    }
   },
   "outputs": [],
   "source": [
    "df_grouped = df1_minus.groupBy(\"연령\",\"남녀구분코드\").agg(\n",
    "    count(\"*\").alias(\"이용자수\"),\n",
    "    avg(\"유효카드수_신용체크\").alias(\"유효카드수_평균\"),\n",
    "    avg(\"_1순위카드이용금액\").alias(\"1순위카드이용금액_평균\"),\n",
    "    sum(when(col(\"_1순위카드이용금액\") == 0, 1).otherwise(0)).alias(\"이용금액_0원_건수\"),\n",
    ")\n",
    "\n",
    "display(df_grouped.orderBy(\"연령\"))"
   ]
  },
  {
   "cell_type": "code",
   "execution_count": 0,
   "metadata": {
    "application/vnd.databricks.v1+cell": {
     "cellMetadata": {
      "byteLimit": 2048000,
      "rowLimit": 10000
     },
     "inputWidgets": {},
     "nuid": "4eb1367d-c0f1-44a4-b68b-15b89f86e469",
     "showTitle": false,
     "tableResultSettingsMap": {},
     "title": ""
    }
   },
   "outputs": [],
   "source": [
    "from pyspark.sql.functions import col, lit\n",
    "\n",
    "df1_plus = df1.filter(col(\"_1순위카드이용건수\") > 0)\n",
    "\n",
    "df_grouped = df1_plus.groupBy(\"연령\",\"남녀구분코드\").agg(\n",
    "    count(\"*\").alias(\"이용자수\"),\n",
    "    avg(\"유효카드수_신용체크\").alias(\"유효카드수_평균\"),\n",
    "    avg(\"_1순위카드이용금액\").alias(\"1순위카드이용금액_평균\"),\n",
    "    sum(when(col(\"_1순위카드이용금액\") == 0, 1).otherwise(0)).alias(\"이용금액_0원_건수\"),\n",
    ")\n",
    "\n",
    "display(df_grouped.orderBy(\"연령\"))"
   ]
  },
  {
   "cell_type": "code",
   "execution_count": 0,
   "metadata": {
    "application/vnd.databricks.v1+cell": {
     "cellMetadata": {
      "byteLimit": 2048000,
      "rowLimit": 10000
     },
     "inputWidgets": {},
     "nuid": "15d583df-7d8a-4d66-9330-4a1c723b6c5b",
     "showTitle": false,
     "tableResultSettingsMap": {},
     "title": ""
    }
   },
   "outputs": [],
   "source": [
    "from pyspark.sql.functions import col, count, sum, when, round\n",
    "\n",
    "df_invalid_ratio = df1.groupBy(\"연령\").agg(\n",
    "    count(when(col(\"_1순위카드이용건수\").isNotNull(), True)).alias(\"전체_건수\"),\n",
    "    sum(when(col(\"_1순위카드이용건수\") < 0, 1).otherwise(0)).alias(\"음수_건수\")\n",
    ").withColumn(\n",
    "    \"음수_비율(%)\", round((col(\"음수_건수\") / col(\"전체_건수\")) * 100, 2)\n",
    ")\n",
    "\n",
    "display(df_invalid_ratio.orderBy(\"연령\"))"
   ]
  },
  {
   "cell_type": "code",
   "execution_count": 0,
   "metadata": {
    "application/vnd.databricks.v1+cell": {
     "cellMetadata": {
      "byteLimit": 2048000,
      "rowLimit": 10000
     },
     "inputWidgets": {},
     "nuid": "fba306e8-1cd7-4cf0-959a-57cc7c11c8e6",
     "showTitle": false,
     "tableResultSettingsMap": {},
     "title": ""
    }
   },
   "outputs": [],
   "source": [
    "from pyspark.sql.functions import col, lit\n",
    "\n",
    "df1_job = df1.filter(col(\"직장시도명\").isNull())\n",
    "\n",
    "df_grouped = df1_job.groupBy(\"연령\",\"남녀구분코드\").agg(\n",
    "    count(\"*\").alias(\"이용자수\"),\n",
    "    avg(\"유효카드수_신용체크\").alias(\"유효카드수_평균\"),\n",
    "    avg(\"_1순위카드이용금액\").alias(\"1순위카드이용금액_평균\"),\n",
    "    sum(when(col(\"_1순위카드이용금액\") == 0, 1).otherwise(0)).alias(\"이용금액_0원_건수\"),\n",
    ")\n",
    "\n",
    "display(df_grouped.orderBy(\"연령\"))"
   ]
  },
  {
   "cell_type": "code",
   "execution_count": 0,
   "metadata": {
    "application/vnd.databricks.v1+cell": {
     "cellMetadata": {
      "byteLimit": 2048000,
      "rowLimit": 10000
     },
     "inputWidgets": {},
     "nuid": "9ea14b97-b799-47f6-af8f-1e8ef77e7415",
     "showTitle": false,
     "tableResultSettingsMap": {},
     "title": ""
    }
   },
   "outputs": [],
   "source": [
    "from pyspark.sql.functions import col, lit\n",
    "\n",
    "df1_job = df1.filter(col(\"_1순위신용체크구분\").isNull())\n",
    "\n",
    "df_grouped = df1_job.groupBy(\"연령\",\"남녀구분코드\").agg(\n",
    "    count(\"*\").alias(\"이용자수\"),\n",
    "    avg(\"유효카드수_신용체크\").alias(\"유효카드수_평균\"),\n",
    "    avg(\"_1순위카드이용금액\").alias(\"1순위카드이용금액_평균\"),\n",
    "    sum(when(col(\"_1순위카드이용금액\") == 0, 1).otherwise(0)).alias(\"이용금액_0원_건수\"),\n",
    ")\n",
    "\n",
    "display(df_grouped.orderBy(\"연령\"))"
   ]
  },
  {
   "cell_type": "code",
   "execution_count": 0,
   "metadata": {
    "application/vnd.databricks.v1+cell": {
     "cellMetadata": {
      "byteLimit": 2048000,
      "rowLimit": 10000
     },
     "inputWidgets": {},
     "nuid": "1c858c8e-cf4e-4cd7-8d1f-c7ba7bc5b76d",
     "showTitle": false,
     "tableResultSettingsMap": {},
     "title": ""
    }
   },
   "outputs": [],
   "source": [
    "from pyspark.sql.functions import col, count, avg, sum, when\n",
    "\n",
    "df1_job = df1.filter(col(\"최종유효년월_신용_이용가능\").isNull())\n",
    "\n",
    "df_grouped = df1_job.groupBy(\"연령\", \"남녀구분코드\").agg(\n",
    "    count(\"*\").alias(\"이용자수\"),\n",
    "    avg(\"유효카드수_신용체크\").alias(\"유효카드수_평균\"),\n",
    "    avg(col(\"_1순위카드이용금액\")).alias(\"1순위카드이용금액_평균\"),\n",
    "    sum(when(col(\"_1순위카드이용금액\") == 0, 1).otherwise(0)).alias(\"이용금액_0원_건수\"),\n",
    "    sum(\n",
    "        when(\n",
    "            col(\"최종유효년월_신용_이용\").isNull(),\n",
    "            1\n",
    "        ).otherwise(0)\n",
    "    ).alias(\"이용_컬럼_Null_건수\")  # 추가: 이용컬럼도 null인 경우\n",
    ")\n",
    "\n",
    "display(df_grouped.orderBy(\"연령\"))"
   ]
  },
  {
   "cell_type": "code",
   "execution_count": 0,
   "metadata": {
    "application/vnd.databricks.v1+cell": {
     "cellMetadata": {
      "byteLimit": 2048000,
      "rowLimit": 10000
     },
     "inputWidgets": {},
     "nuid": "1e5cda66-d5a7-4f74-8a62-e9df973bdab4",
     "showTitle": false,
     "tableResultSettingsMap": {},
     "title": ""
    }
   },
   "outputs": [],
   "source": [
    "display(df1_job.limit(4))"
   ]
  },
  {
   "cell_type": "markdown",
   "metadata": {
    "application/vnd.databricks.v1+cell": {
     "cellMetadata": {
      "byteLimit": 2048000,
      "rowLimit": 10000
     },
     "inputWidgets": {},
     "nuid": "d853bab4-6ab8-493c-8696-2c4295169e8e",
     "showTitle": false,
     "tableResultSettingsMap": {},
     "title": ""
    }
   },
   "source": [
    "##결측치 대체 시작\n",
    "결측치 제거 및 날짜형 변수 범주형으로 바꾼 df는 df1.1로 해서 수정예정\n"
   ]
  },
  {
   "cell_type": "markdown",
   "metadata": {
    "application/vnd.databricks.v1+cell": {
     "cellMetadata": {
      "byteLimit": 2048000,
      "rowLimit": 10000
     },
     "inputWidgets": {},
     "nuid": "80a8f4d8-7f4a-4f79-b5c5-e80edbd3d8c2",
     "showTitle": false,
     "tableResultSettingsMap": {},
     "title": ""
    }
   },
   "source": [
    "날짜형 변수는 월별로할지 연도별로할지 분기별로할지 반기별로할지 고민중\n",
    "\n",
    "최종유효년월_신용_이용,최종유효년월_신용_이용가능"
   ]
  },
  {
   "cell_type": "markdown",
   "metadata": {
    "application/vnd.databricks.v1+cell": {
     "cellMetadata": {
      "byteLimit": 2048000,
      "rowLimit": 10000
     },
     "inputWidgets": {},
     "nuid": "66052037-b181-4fc3-833e-b0350504b9cf",
     "showTitle": false,
     "tableResultSettingsMap": {},
     "title": ""
    }
   },
   "source": [
    "\n",
    "\n",
    "| 컬럼명 | 결측치 개수 | 결측치 비율 | 결측치 처리 방식 |\n",
    "|---|---|---|-----|\n",
    "| _2순위신용체크구분 | 7,189,389 | 39.94% | \"없음\"으로 대체(현금사용 or 1순위카드만사용) |\n",
    "| 최종유효년월_신용_이용 | 4,031,543 | 22.40% | \"없음\"으로대체(현금유저), 날짜형식 범주형으로 변환 요망 |\n",
    "| 가입통신회사코드 | 2,910,604 | 16.17% | \"알뜰폰\"으로 대체 |\n",
    "| 직장시도명 | 1,829,715 | 10.17% | \"비경제\"대체 |\n",
    "| 최종유효년월_신용_이용가능 | 1,590,648 | 8.84% | \"없음\"으로대체(현금유저),날짜형식 범주형으로 변환 요망 |\n",
    "| 최종카드발급일자 | 319,362 | 1.77% |  행 삭제 |\n",
    "| _1순위신용체크구분 | 211,517 | 1.18% | \"현금\"으로대체(현금유저) |"
   ]
  },
  {
   "cell_type": "code",
   "execution_count": 0,
   "metadata": {
    "application/vnd.databricks.v1+cell": {
     "cellMetadata": {
      "byteLimit": 2048000,
      "rowLimit": 10000
     },
     "inputWidgets": {},
     "nuid": "1ba50445-571b-4d1e-aa45-f7b40a4bb0c2",
     "showTitle": false,
     "tableResultSettingsMap": {},
     "title": ""
    }
   },
   "outputs": [],
   "source": [
    "#원본 남기고 df1_1\n",
    "df1_1 = df1\n",
    "print(f\"df1_1에 복사된 행 수: {df1_1.count()}\")"
   ]
  },
  {
   "cell_type": "code",
   "execution_count": 0,
   "metadata": {
    "application/vnd.databricks.v1+cell": {
     "cellMetadata": {
      "byteLimit": 2048000,
      "rowLimit": 10000
     },
     "inputWidgets": {},
     "nuid": "a88795e0-4565-4bbb-8d72-81f432f1d4a9",
     "showTitle": false,
     "tableResultSettingsMap": {},
     "title": ""
    }
   },
   "outputs": [],
   "source": [
    "# _2순위신용체크구분 컬럼의 결측치를 \"현금\"으로 대체\n",
    "from pyspark.sql.functions import col, when\n",
    "\n",
    "\n",
    "df1_1 = df1_1.withColumn(\n",
    "    \"_2순위신용체크구분\",\n",
    "    when(col(\"_2순위신용체크구분\").isNull(), \"현금\").otherwise(col(\"_2순위신용체크구분\"))\n",
    ")\n",
    "\n",
    "print(\"\\n'_2순위신용체크구분' 컬럼 처리 후:\")\n",
    "# 변경 사항 확인을 위해 일부 데이터와 해당 컬럼의 고유값, 결측치 개수를 출력합니다.\n",
    "df1_1.select(\"_2순위신용체크구분\").show(5, truncate=False)\n",
    "\n",
    "# 처리 후 결측치 개수 확인\n",
    "from pyspark.sql.functions import count\n",
    "null_count_after = df1_1.filter(col('_2순위신용체크구분').isNull()).count()\n",
    "print(f\"처리 후 '_2순위신용체크구분' 결측치 개수: {null_count_after}\")\n",
    "\n",
    "# 컬럼의 고유값 확인 (선택 사항)\n",
    "df1_1.select(\"_2순위신용체크구분\").distinct().show(truncate=False)"
   ]
  },
  {
   "cell_type": "code",
   "execution_count": 0,
   "metadata": {
    "application/vnd.databricks.v1+cell": {
     "cellMetadata": {
      "byteLimit": 2048000,
      "rowLimit": 10000
     },
     "inputWidgets": {},
     "nuid": "a8b1240b-f2d9-49d8-a4e3-b09d63232c2e",
     "showTitle": false,
     "tableResultSettingsMap": {},
     "title": ""
    }
   },
   "outputs": [],
   "source": [
    "# 최종유효년월_신용_이용 컬럼의 결측치를 \"없음\"으로 대체 ++ 범주형으로 다 수정예정\n",
    "from pyspark.sql.functions import col, when\n",
    "\n",
    "\n",
    "df1_1 = df1_1.withColumn(\n",
    "    \"최종유효년월_신용_이용\",\n",
    "    when(col(\"최종유효년월_신용_이용\").isNull(), \"없음\").otherwise(col(\"최종유효년월_신용_이용\"))\n",
    ")\n",
    "\n",
    "print(\"\\n'최종유효년월_신용_이용' 컬럼 처리 후:\")\n",
    "# 변경 사항 확인을 위해 일부 데이터와 해당 컬럼의 고유값, 결측치 개수를 출력합니다.\n",
    "df1_1.select(\"최종유효년월_신용_이용\").show(5, truncate=False)\n",
    "\n",
    "# 처리 후 결측치 개수 확인\n",
    "from pyspark.sql.functions import count\n",
    "null_count_after = df1_1.filter(col('최종유효년월_신용_이용').isNull()).count()\n",
    "print(f\"처리 후 '최종유효년월_신용_이용' 결측치 개수: {null_count_after}\")\n",
    "\n",
    "# 컬럼의 고유값 확인 (선택 사항)\n",
    "# df1_1.select(\"최종유효년월_신용_이용\").distinct().show(20, truncate=False) # 고유값이 많을 수 있으니 상위 20개만"
   ]
  },
  {
   "cell_type": "code",
   "execution_count": 0,
   "metadata": {
    "application/vnd.databricks.v1+cell": {
     "cellMetadata": {
      "byteLimit": 2048000,
      "rowLimit": 10000
     },
     "inputWidgets": {},
     "nuid": "8e589c6f-2de3-40c2-8f14-dfe66df1a34c",
     "showTitle": false,
     "tableResultSettingsMap": {},
     "title": ""
    }
   },
   "outputs": [],
   "source": [
    "#최종유효년울~이용 잘된건지 확인\n",
    "df1_1.select(\"최종유효년월_신용_이용\").show(10, truncate=False)"
   ]
  },
  {
   "cell_type": "code",
   "execution_count": 0,
   "metadata": {
    "application/vnd.databricks.v1+cell": {
     "cellMetadata": {
      "byteLimit": 2048000,
      "rowLimit": 10000
     },
     "inputWidgets": {},
     "nuid": "526c7871-2332-4317-946e-afc007ff6329",
     "showTitle": false,
     "tableResultSettingsMap": {},
     "title": ""
    }
   },
   "outputs": [],
   "source": [
    "# 전체 행 확인\n",
    "from pyspark.sql.functions import col\n",
    "\n",
    "print(\"\\n'최종유효년월_신용_이용' 컬럼의 고유 값 및 개수:\")\n",
    "df1_1.groupBy(\"최종유효년월_신용_이용\").count().orderBy(\"count\", ascending=False).show(50, truncate=False)"
   ]
  },
  {
   "cell_type": "code",
   "execution_count": 0,
   "metadata": {
    "application/vnd.databricks.v1+cell": {
     "cellMetadata": {
      "byteLimit": 2048000,
      "rowLimit": 10000
     },
     "inputWidgets": {},
     "nuid": "369c8ede-da56-4c92-8cf6-f09ac20f67a2",
     "showTitle": false,
     "tableResultSettingsMap": {},
     "title": ""
    }
   },
   "outputs": [],
   "source": [
    "# 가입통신회사코드 컬럼의 결측치를 \"알뜰폰\"으로 대체\n",
    "from pyspark.sql.functions import col, when\n",
    "\n",
    "\n",
    "df1_1 = df1_1.withColumn(\n",
    "    \"가입통신회사코드\",\n",
    "    when(col(\"가입통신회사코드\").isNull(), \"알뜰폰\").otherwise(col(\"가입통신회사코드\"))\n",
    ")\n",
    "\n",
    "print(\"\\n'가입통신회사코드' 컬럼 처리 후:\")\n",
    "# 변경 사항 확인을 위해 일부 데이터와 해당 컬럼의 고유값, 결측치 개수를 출력합니다.\n",
    "df1_1.select(\"가입통신회사코드\").show(5, truncate=False)\n",
    "\n",
    "# 처리 후 결측치 개수 확인\n",
    "from pyspark.sql.functions import count\n",
    "null_count_after = df1_1.filter(col('가입통신회사코드').isNull()).count()\n",
    "print(f\"처리 후 '가입통신회사코드' 결측치 개수: {null_count_after}\")\n",
    "\n",
    "# 컬럼의 고유값 및 개수 확인 (선택 사항)\n",
    "df1_1.groupBy(\"가입통신회사코드\").count().orderBy(\"count\", ascending=False).show(20, truncate=False)"
   ]
  },
  {
   "cell_type": "code",
   "execution_count": 0,
   "metadata": {
    "application/vnd.databricks.v1+cell": {
     "cellMetadata": {
      "byteLimit": 2048000,
      "rowLimit": 10000
     },
     "inputWidgets": {},
     "nuid": "c3b3e9e8-1cb3-477d-bf56-cb983adc0d62",
     "showTitle": false,
     "tableResultSettingsMap": {},
     "title": ""
    }
   },
   "outputs": [],
   "source": [
    "# \"etc\" 값이 포함된 행의 개수 확인 :설명서엔있는데 여긴없어\n",
    "from pyspark.sql.functions import col\n",
    "\n",
    "\n",
    "etc_count = df1_1.filter(col(\"가입통신회사코드\") == \"etc\").count()\n",
    "\n",
    "if etc_count > 0:\n",
    "    print(f\"'가입통신회사코드' 컬럼에 'etc' 값이 {etc_count}개 존재합니다.\")\n",
    "    # 존재한다면, 해당 값을 가진 데이터의 일부를 확인해볼 수도 있습니다.\n",
    "    df1_1.filter(col(\"가입통신회사코드\") == \"etc\").select(\"가입통신회사코드\").show(5, truncate=False)\n",
    "else:\n",
    "    print(\"'가입통신회사코드' 컬럼에 'etc' 값이 존재하지 않습니다.\")"
   ]
  },
  {
   "cell_type": "code",
   "execution_count": 0,
   "metadata": {
    "application/vnd.databricks.v1+cell": {
     "cellMetadata": {
      "byteLimit": 2048000,
      "rowLimit": 10000
     },
     "inputWidgets": {},
     "nuid": "b6fff3e2-86cb-4657-832a-cb19481b58b0",
     "showTitle": false,
     "tableResultSettingsMap": {},
     "title": ""
    }
   },
   "outputs": [],
   "source": [
    "# 직장시도명 컬럼의 결측치를 \"비경제\"로 대체\n",
    "from pyspark.sql.functions import col, when\n",
    "\n",
    "\n",
    "df1_1 = df1_1.withColumn(\n",
    "    \"직장시도명\",\n",
    "    when(col(\"직장시도명\").isNull(), \"비경제\").otherwise(col(\"직장시도명\"))\n",
    ")\n",
    "\n",
    "print(\"\\n'직장시도명' 컬럼 처리 후:\")\n",
    "# 변경 사항 확인을 위해 일부 데이터와 해당 컬럼의 고유값, 결측치 개수를 출력합니다.\n",
    "df1_1.select(\"직장시도명\").show(5, truncate=False)\n",
    "\n",
    "# 처리 후 결측치 개수 확인\n",
    "from pyspark.sql.functions import count\n",
    "null_count_after = df1_1.filter(col('직장시도명').isNull()).count()\n",
    "print(f\"처리 후 '직장시도명' 결측치 개수: {null_count_after}\")\n",
    "\n",
    "# 컬럼의 고유값 및 개수 확인 (선택 사항)\n",
    "df1_1.groupBy(\"직장시도명\").count().orderBy(\"count\", ascending=False).show(20, truncate=False)"
   ]
  },
  {
   "cell_type": "code",
   "execution_count": 0,
   "metadata": {
    "application/vnd.databricks.v1+cell": {
     "cellMetadata": {
      "byteLimit": 2048000,
      "rowLimit": 10000
     },
     "inputWidgets": {},
     "nuid": "5a46205b-ee54-4e6e-9840-13a597c2ce1f",
     "showTitle": false,
     "tableResultSettingsMap": {},
     "title": ""
    }
   },
   "outputs": [],
   "source": [
    "# 최종유효년월_신용_이용가능 컬럼의 결측치를 \"없음\"으로 대체\n",
    "from pyspark.sql.functions import col, when\n",
    "\n",
    "\n",
    "df1_1 = df1_1.withColumn(\n",
    "    \"최종유효년월_신용_이용가능\",\n",
    "    when(col(\"최종유효년월_신용_이용가능\").isNull(), \"없음\").otherwise(col(\"최종유효년월_신용_이용가능\"))\n",
    ")\n",
    "\n",
    "print(\"\\n'최종유효년월_신용_이용가능' 컬럼 처리 후:\")\n",
    "# 변경 사항 확인을 위해 일부 데이터와 해당 컬럼의 고유값, 결측치 개수를 출력합니다.\n",
    "df1_1.select(\"최종유효년월_신용_이용가능\").show(5, truncate=False)\n",
    "\n",
    "# 처리 후 결측치 개수 확인\n",
    "from pyspark.sql.functions import count\n",
    "null_count_after = df1_1.filter(col('최종유효년월_신용_이용가능').isNull()).count()\n",
    "print(f\"처리 후 '최종유효년월_신용_이용가능' 결측치 개수: {null_count_after}\")\n",
    "\n",
    "# 컬럼의 고유값 및 개수 확인 (선택 사항)\n",
    "# df1_1.groupBy(\"최종유효년월_신용_이용가능\").count().orderBy(\"count\", ascending=False).show(20, truncate=False)"
   ]
  },
  {
   "cell_type": "code",
   "execution_count": 0,
   "metadata": {
    "application/vnd.databricks.v1+cell": {
     "cellMetadata": {
      "byteLimit": 2048000,
      "rowLimit": 10000
     },
     "collapsed": true,
     "inputWidgets": {},
     "nuid": "b38039af-90c3-4b12-8367-c4045edfa242",
     "showTitle": false,
     "tableResultSettingsMap": {},
     "title": ""
    }
   },
   "outputs": [],
   "source": [
    "#아까처럼 확인\n",
    "from pyspark.sql.functions import col\n",
    "\n",
    "print(\"\\n'최종유효년월_신용_이용가능' 컬럼의 고유 값 및 개수:\")\n",
    "df1_1.groupBy(\"최종유효년월_신용_이용가능\").count().orderBy(\"count\", ascending=False).show(50, truncate=False)"
   ]
  },
  {
   "cell_type": "code",
   "execution_count": 0,
   "metadata": {
    "application/vnd.databricks.v1+cell": {
     "cellMetadata": {
      "byteLimit": 2048000,
      "rowLimit": 10000
     },
     "inputWidgets": {},
     "nuid": "5a8c03a9-b9c9-452a-883e-e131fb623a75",
     "showTitle": false,
     "tableResultSettingsMap": {},
     "title": ""
    }
   },
   "outputs": [],
   "source": [
    "# 최종카드발급일자 컬럼에 null 값이 있는 행 삭제 전 행 수 확인 1800만에서 1768만개로 32만개정도 삭제\n",
    "initial_rows = df1_1.count()\n",
    "print(f\"행 삭제 전 df1_1의 총 행 수: {initial_rows}\")\n",
    "\n",
    "# 최종카드발급일자 컬럼에 null 값이 있는 행 삭제\n",
    "# na.drop(subset=[\"컬럼명\"])은 해당 컬럼에 null이 있는 행을 모두 삭제합니다.\n",
    "df1_1 = df1_1.na.drop(subset=[\"최종카드발급일자\"])\n",
    "\n",
    "print(\"\\n'최종카드발급일자' 컬럼 처리 후 (행 삭제):\")\n",
    "print(f\"삭제 후 df1_1의 총 행 수: {df1_1.count()}\")\n",
    "\n",
    "# 삭제 후 최종카드발급일자 컬럼의 결측치 개수 확인\n",
    "from pyspark.sql.functions import col, count\n",
    "null_count_after = df1_1.filter(col('최종카드발급일자').isNull()).count()\n",
    "print(f\"처리 후 '최종카드발급일자' 결측치 개수: {null_count_after}\")\n",
    "\n",
    "# 삭제된 행이 있는지 확인하기 위해 일부 데이터 출력 (선택 사항)\n",
    "# df1_1.select(\"최종카드발급일자\").show(5, truncate=False)"
   ]
  },
  {
   "cell_type": "code",
   "execution_count": 0,
   "metadata": {
    "application/vnd.databricks.v1+cell": {
     "cellMetadata": {
      "byteLimit": 2048000,
      "rowLimit": 10000
     },
     "inputWidgets": {},
     "nuid": "197266da-e79c-4fc4-a66e-7b75bfed75b7",
     "showTitle": false,
     "tableResultSettingsMap": {},
     "title": ""
    }
   },
   "outputs": [],
   "source": [
    "# _1순위신용체크구분 컬럼의 결측치를 \"현금\"으로 대체\n",
    "from pyspark.sql.functions import col, when\n",
    "\n",
    "\n",
    "df1_1 = df1_1.withColumn(\n",
    "    \"_1순위신용체크구분\",\n",
    "    when(col(\"_1순위신용체크구분\").isNull(), \"현금\").otherwise(col(\"_1순위신용체크구분\"))\n",
    ")\n",
    "\n",
    "print(\"\\n'_1순위신용체크구분' 컬럼 처리 후:\")\n",
    "# 변경 사항 확인을 위해 일부 데이터와 해당 컬럼의 고유값, 결측치 개수를 출력합니다.\n",
    "df1_1.select(\"_1순위신용체크구분\").show(5, truncate=False)\n",
    "\n",
    "# 처리 후 결측치 개수 확인\n",
    "from pyspark.sql.functions import count\n",
    "null_count_after = df1_1.filter(col('_1순위신용체크구분').isNull()).count()\n",
    "print(f\"처리 후 '_1순위신용체크구분' 결측치 개수: {null_count_after}\")\n",
    "\n",
    "# 컬럼의 고유값 및 개수 확인 (선택 사항)\n",
    "df1_1.groupBy(\"_1순위신용체크구분\").count().orderBy(\"count\", ascending=False).show(20, truncate=False)"
   ]
  },
  {
   "cell_type": "code",
   "execution_count": 0,
   "metadata": {
    "application/vnd.databricks.v1+cell": {
     "cellMetadata": {
      "byteLimit": 2048000,
      "rowLimit": 10000
     },
     "inputWidgets": {},
     "nuid": "8a6edc6a-0223-40ae-90b9-5bef07afedb5",
     "showTitle": false,
     "tableResultSettingsMap": {},
     "title": ""
    }
   },
   "outputs": [],
   "source": [
    "# _2순위신용체크구분 컬럼의 \"현금\" 값을 \"없음\"으로 대체\n",
    "# '현금'이 아닌 다른 값들(체크, 신용 등)은 그대로 유지됩니다.\n",
    "from pyspark.sql.functions import col, when\n",
    "\n",
    "print(\"'_2순위신용체크구분' 컬럼: '현금' 값을 '없음'으로 재대체 시작합니다.\")\n",
    "\n",
    "\n",
    "df1_1 = df1_1.withColumn(\n",
    "    \"_2순위신용체크구분\",\n",
    "    when(col(\"_2순위신용체크구분\") == \"현금\", \"없음\")\n",
    "    .otherwise(col(\"_2순위신용체크구분\"))\n",
    ")\n",
    "\n",
    "print(\"\\n'_2순위신용체크구분' 컬럼 재처리 후:\")\n",
    "# 변경 사항 확인을 위해 일부 데이터와 해당 컬럼의 고유값, '없음' 개수를 출력합니다.\n",
    "df1_1.select(\"_2순위신용체크구분\").show(5, truncate=False)\n",
    "\n",
    "# 처리 후 '현금' 값 개수 확인 (0이어야 정상)\n",
    "current_cash_count = df1_1.filter(col('_2순위신용체크구분') == \"현금\").count()\n",
    "print(f\"처리 후 '_2순위신용체크구분' 컬럼의 '현금' 값 개수: {current_cash_count}\")\n",
    "\n",
    "# '없음' 값 개수 확인\n",
    "new_none_count = df1_1.filter(col('_2순위신용체크구분') == \"없음\").count()\n",
    "print(f\"처리 후 '_2순위신용체크구분' 컬럼의 '없음' 값 개수: {new_none_count}\")\n",
    "\n",
    "# 컬럼의 최종 고유값 확인\n",
    "df1_1.select(\"_2순위신용체크구분\").distinct().show(20, truncate=False)"
   ]
  },
  {
   "cell_type": "code",
   "execution_count": 0,
   "metadata": {
    "application/vnd.databricks.v1+cell": {
     "cellMetadata": {
      "byteLimit": 2048000,
      "rowLimit": 10000
     },
     "inputWidgets": {},
     "nuid": "e7d067c7-2ef1-4c79-847c-c14497310f8e",
     "showTitle": false,
     "tableResultSettingsMap": {},
     "title": ""
    }
   },
   "outputs": [],
   "source": [
    "# 최종유효년월_신용_이용 컬럼의 연도별 개수 확인\n",
    "from pyspark.sql.functions import col, substring, expr\n",
    "\n",
    "\n",
    "print(\"\\n'최종유효년월_신용_이용' 컬럼 - 연도별 데이터 개수:\")\n",
    "df1_1.withColumn(\n",
    "    \"이용_연도\",\n",
    "    # '없음' 값은 연도 추출 대상이 아니므로 조건부로 처리\n",
    "    when(col(\"최종유효년월_신용_이용\") == \"없음\", \"없음\")\n",
    "    .otherwise(substring(col(\"최종유효년월_신용_이용\"), 1, 4)) # 앞 4자리 추출\n",
    ").groupBy(\"이용_연도\").count().orderBy(\"이용_연도\").show(50, truncate=False)\n",
    "\n",
    "# 최종유효년월_신용_이용가능 컬럼의 연도별 개수 확인\n",
    "print(\"\\n'최종유효년월_신용_이용가능' 컬럼 - 연도별 데이터 개수:\")\n",
    "df1_1.withColumn(\n",
    "    \"이용가능_연도\",\n",
    "    # '없음' 값은 연도 추출 대상이 아니므로 조건부로 처리\n",
    "    when(col(\"최종유효년월_신용_이용가능\") == \"없음\", \"없음\")\n",
    "    .otherwise(substring(col(\"최종유효년월_신용_이용가능\"), 1, 4)) # 앞 4자리 추출\n",
    ").groupBy(\"이용가능_연도\").count().orderBy(\"이용가능_연도\").show(50, truncate=False)\n",
    "\n",
    "# 참고: 원본 데이터가 날짜 형식으로 완벽하지 않을 수 있으므로,\n",
    "# 실제 날짜 함수 (to_date, year 등)를 사용하기 전 문자열 형태를 확인하는 것이 좋습니다.\n",
    "# 만약 '없음' 외에 8자리 숫자가 아닌 값이 있다면, substring이 오류를 내지 않고\n",
    "# 빈 문자열을 반환할 수 있으므로 주의 깊게 살펴봐야 합니다."
   ]
  },
  {
   "cell_type": "code",
   "execution_count": 0,
   "metadata": {
    "application/vnd.databricks.v1+cell": {
     "cellMetadata": {
      "byteLimit": 2048000,
      "rowLimit": 10000
     },
     "inputWidgets": {},
     "nuid": "b2757adb-689a-4b90-88e1-887060ab575f",
     "showTitle": false,
     "tableResultSettingsMap": {},
     "title": ""
    }
   },
   "outputs": [],
   "source": [
    "#  최종유효년월_신용_이용, 가능 컬럼을 연도 단위 범주형으로 변환\n",
    "\n",
    "from pyspark.sql.functions import col, substring, when\n",
    "\n",
    "print(\"날짜 컬럼을 연도 단위 범주형으로 변환 시작합니다.\")\n",
    "\n",
    "# 1. 최종유효년월_신용_이용 컬럼을 연도 단위 범주형으로 변환\n",
    "df1_1 = df1_1.withColumn(\n",
    "    \"최종유효년월_신용_이용_연도\",\n",
    "    when(col(\"최종유효년월_신용_이용\") == \"없음\", \"없음\")  # '없음'은 그대로 '없음'으로 유지\n",
    "    .otherwise(substring(col(\"최종유효년월_신용_이용\"), 1, 4)) # 날짜에서 연도 4자리 추출\n",
    ")\n",
    "\n",
    "# 2. 최종유효년월_신용_이용가능 컬럼을 연도 단위 범주형으로 변환\n",
    "df1_1 = df1_1.withColumn(\n",
    "    \"최종유효년월_신용_이용가능_연도\",\n",
    "    when(col(\"최종유효년월_신용_이용가능\") == \"없음\", \"없음\") # '없음'은 그대로 '없음'으로 유지\n",
    "    .otherwise(substring(col(\"최종유효년월_신용_이용가능\"), 1, 4)) # 날짜에서 연도 4자리 추출\n",
    ")\n",
    "\n",
    "print(\"\\n'최종유효년월_신용_이용_연도' 컬럼 생성 후:\")\n",
    "df1_1.select(\"최종유효년월_신용_이용\", \"최종유효년월_신용_이용_연도\").show(5, truncate=False)\n",
    "df1_1.groupBy(\"최종유효년월_신용_이용_연도\").count().orderBy(\"최종유효년월_신용_이용_연도\").show(20, truncate=False)\n",
    "\n",
    "print(\"\\n'최종유효년월_신용_이용가능_연도' 컬럼 생성 후:\")\n",
    "df1_1.select(\"최종유효년월_신용_이용가능\", \"최종유효년월_신용_이용가능_연도\").show(5, truncate=False)\n",
    "df1_1.groupBy(\"최종유효년월_신용_이용가능_연도\").count().orderBy(\"최종유효년월_신용_이용가능_연도\").show(20, truncate=False)\n",
    "\n",
    "print(\"\\n연도 단위 범주형 변환이 완료되었습니다.\")"
   ]
  },
  {
   "cell_type": "code",
   "execution_count": 0,
   "metadata": {
    "application/vnd.databricks.v1+cell": {
     "cellMetadata": {
      "byteLimit": 2048000,
      "rowLimit": 10000
     },
     "inputWidgets": {},
     "nuid": "2cd0f3d3-1811-4063-a063-be5144945794",
     "showTitle": false,
     "tableResultSettingsMap": {},
     "title": ""
    }
   },
   "outputs": [],
   "source": [
    "display(df1_1.limit(4))"
   ]
  },
  {
   "cell_type": "markdown",
   "metadata": {
    "application/vnd.databricks.v1+cell": {
     "cellMetadata": {
      "byteLimit": 2048000,
      "rowLimit": 10000
     },
     "inputWidgets": {},
     "nuid": "318fab34-9ec9-46f8-bada-c2e70c79fc23",
     "showTitle": false,
     "tableResultSettingsMap": {},
     "title": ""
    }
   },
   "source": [
    "### card_member_info_processed\n",
    "이 거로 저장함 \n",
    "경로는\n",
    "dbfs:/user/hive/warehouse/database_pjt.db/card_member_info_processed"
   ]
  },
  {
   "cell_type": "code",
   "execution_count": 0,
   "metadata": {
    "application/vnd.databricks.v1+cell": {
     "cellMetadata": {
      "byteLimit": 2048000,
      "rowLimit": 10000
     },
     "inputWidgets": {},
     "nuid": "0490e071-fa0a-4053-91f9-95c668ba552c",
     "showTitle": false,
     "tableResultSettingsMap": {},
     "title": ""
    }
   },
   "outputs": [],
   "source": [
    "#누군가가 쏘아올린 작은 공 ㅠㅠ\n",
    "# 1. 저장할 데이터베이스와 테이블 이름 설정\n",
    "database_name = \"database_pjt\"  # 데이터베이스 이름\n",
    "table_name = \"card_member_info_processed\" # 저장 테이블 아 이거 df1_1로할껄 그랫나?\n",
    "print(f\"데이터베이스 '{database_name}'에 '{table_name}' 테이블 저장을 시도합니다.\")\n",
    "\n",
    "# 2. 데이터베이스 생성 (이미 존재하면 건너뜀)\n",
    "# 이 스키마는 hive_metastore에 생성됩니다.\n",
    "spark.sql(f\"CREATE DATABASE IF NOT EXISTS {database_name}\")\n",
    "print(f\"데이터베이스 '{database_name}' 확인 또는 생성 완료.\")\n",
    "\n",
    "# 3. DataFrame을 Hive Metastore 테이블로 저장 (Delta Lake 형식)\n",
    "# \"overwrite\" 모드를 사용하여 기존 테이블이 있다면 덮어씁니다.\n",
    "df1_1.write \\\n",
    "    .format(\"delta\") \\\n",
    "    .mode(\"overwrite\") \\\n",
    "    .option(\"path\", f\"dbfs:/user/hive/warehouse/{database_name}.db/{table_name}\") \\\n",
    "    .saveAsTable(f\"{database_name}.{table_name}\")\n",
    "\n",
    "print(f\"\\n'{database_name}.{table_name}' 테이블이 hive_metastore에 성공적으로 저장되었습니다.\")\n",
    "print(\"Databricks UI에서 **Catalog -> hive_metastore -> database_pjt** 에서 확인하실 수 있습니다.\")\n",
    "\n",
    "# 4. 저장된 테이블 확인 (선택 사항)\n",
    "print(f\"\\n저장된 테이블의 첫 5개 행:\")\n",
    "spark.sql(f\"SELECT * FROM {database_name}.{table_name} LIMIT 5\").show()\n",
    "\n",
    "print(f\"\\n저장된 테이블의 스키마:\")\n",
    "spark.sql(f\"DESCRIBE {database_name}.{table_name}\").show()"
   ]
  },
  {
   "cell_type": "code",
   "execution_count": 0,
   "metadata": {
    "application/vnd.databricks.v1+cell": {
     "cellMetadata": {
      "byteLimit": 2048000,
      "rowLimit": 10000
     },
     "inputWidgets": {},
     "nuid": "d017722e-f444-44e1-a7d5-b4f008842ed3",
     "showTitle": false,
     "tableResultSettingsMap": {},
     "title": ""
    }
   },
   "outputs": [],
   "source": [
    "# SparkSession이 이미 생성되어 있어야 합니다.\n",
    "df1_1 = spark.read.format(\"delta\").load(\"dbfs:/user/hive/warehouse/database_pjt.db/card_member_info_processed\")\n",
    "\n",
    "# 데이터 확인\n",
    "print(f\"df1_1 행 수: {df1_1.count()}\")\n",
    "df1_1.printSchema()\n",
    "df1_1.show(5, truncate=False)\n"
   ]
  },
  {
   "cell_type": "markdown",
   "metadata": {
    "application/vnd.databricks.v1+cell": {
     "cellMetadata": {
      "byteLimit": 2048000,
      "rowLimit": 10000
     },
     "inputWidgets": {},
     "nuid": "3a67d6c8-fa95-469d-9110-ae2916be6114",
     "showTitle": false,
     "tableResultSettingsMap": {},
     "title": ""
    }
   },
   "source": [
    "## 이상치 파악"
   ]
  },
  {
   "cell_type": "code",
   "execution_count": 0,
   "metadata": {
    "application/vnd.databricks.v1+cell": {
     "cellMetadata": {
      "byteLimit": 2048000,
      "rowLimit": 10000
     },
     "inputWidgets": {},
     "nuid": "a4229d10-1abb-4d0f-a62a-0c1b40fa1d67",
     "showTitle": false,
     "tableResultSettingsMap": {},
     "title": ""
    }
   },
   "outputs": [],
   "source": [
    "#수치형 \n",
    "numerical_cols = [\n",
    "    '입회경과개월수_신용', '탈회횟수_누적', '이용금액_R3M_신용', '이용금액_R3M_체크',\n",
    "    '_1순위카드이용금액', '_1순위카드이용건수', '_2순위카드이용금액', '_2순위카드이용건수',\n",
    "    '청구금액_기본연회비_B0M', '청구금액_제휴연회비_B0M', '카드신청건수', '최종카드발급경과월'\n",
    "]"
   ]
  },
  {
   "cell_type": "code",
   "execution_count": 0,
   "metadata": {
    "application/vnd.databricks.v1+cell": {
     "cellMetadata": {
      "byteLimit": 2048000,
      "rowLimit": 10000
     },
     "inputWidgets": {},
     "nuid": "5cc02e68-84ee-428b-b591-c2d576deb540",
     "showTitle": false,
     "tableResultSettingsMap": {},
     "title": ""
    }
   },
   "outputs": [],
   "source": [
    "#수치형컬럼 타입 변환 실수형으로 (double type)\n",
    "from pyspark.sql.functions import col\n",
    "from pyspark.sql.types import DoubleType, IntegerType\n",
    "\n",
    "# 수치형 변수 목록 (다시 확인)\n",
    "numerical_cols_to_convert = [\n",
    "    '입회경과개월수_신용', '탈회횟수_누적', '이용금액_R3M_신용', '이용금액_R3M_체크',\n",
    "    '_1순위카드이용금액', '_1순위카드이용건수', '_2순위카드이용금액', '_2순위카드이용건수',\n",
    "    '청구금액_기본연회비_B0M', '청구금액_제휴연회비_B0M', '카드신청건수', '최종카드발급경과월'\n",
    "]\n",
    "\n",
    "print(\"수치형 컬럼들의 데이터 타입 변환을 시작합니다 (String -> DoubleType).\")\n",
    "\n",
    "for column_name in numerical_cols_to_convert:\n",
    "    # 컬럼이 존재하는지 확인\n",
    "    if column_name in df1_1.columns:\n",
    "        # try-except 블록으로 변환 중 발생할 수 있는 오류 방지\n",
    "        try:\n",
    "            df1_1 = df1_1.withColumn(column_name, col(column_name).cast(DoubleType()))\n",
    "            print(f\"  컬럼 '{column_name}'을 DoubleType으로 변환 완료.\")\n",
    "        except Exception as e:\n",
    "            print(f\"  경고: 컬럼 '{column_name}' 변환 중 오류 발생: {e}. 해당 컬럼은 변환되지 않았습니다.\")\n",
    "    else:\n",
    "        print(f\"  경고: 컬럼 '{column_name}'이(가) DataFrame에 존재하지 않습니다. 스키마를 확인해주세요.\")\n",
    "\n",
    "print(\"\\n데이터 타입 변환 후 df1_1의 스키마:\")\n",
    "df1_1.printSchema()\n",
    "\n",
    "# 변환된 컬럼들의 요약 통계 다시 확인 (min, max 등이 숫자로 나와야 합니다)\n",
    "print(\"\\n변환된 수치형 컬럼들의 요약 통계 (일부 예시):\")\n",
    "df1_1.select('이용금액_R3M_신용', '카드신청건수', '탈회횟수_누적').summary().show()"
   ]
  },
  {
   "cell_type": "code",
   "execution_count": 0,
   "metadata": {
    "application/vnd.databricks.v1+cell": {
     "cellMetadata": {
      "byteLimit": 2048000,
      "rowLimit": 10000
     },
     "inputWidgets": {},
     "nuid": "d372b950-9a93-49c2-958c-438239f594e0",
     "showTitle": false,
     "tableResultSettingsMap": {},
     "title": ""
    }
   },
   "outputs": [],
   "source": [
    "#이상치값확인\n",
    "from pyspark.sql.functions import col, percentile_approx, lit, when\n",
    "from pyspark.sql.types import DoubleType, IntegerType, LongType, FloatType # 여기를 수정했습니다!\n",
    "\n",
    "# 수치형 변수 목록\n",
    "numerical_cols = [\n",
    "    '입회경과개월수_신용', '탈회횟수_누적', '이용금액_R3M_신용', '이용금액_R3M_체크',\n",
    "    '_1순위카드이용금액', '_1순위카드이용건수', '_2순위카드이용금액', '_2순위카드이용건수',\n",
    "    '청구금액_기본연회비_B0M', '청구금액_제휴연회비_B0M', '카드신청건수', '최종카드발급경과월'\n",
    "]\n",
    "\n",
    "print(\"각 수치형 컬럼의 이상치 값 확인을 시작합니다.\")\n",
    "\n",
    "for col_name in numerical_cols:\n",
    "    if col_name in df1_1.columns:\n",
    "        print(f\"\\n--- 컬럼: {col_name} ---\")\n",
    "\n",
    "        # 해당 컬럼의 데이터 타입이 수치형인지 다시 한번 확인\n",
    "        # 수정된 임포트로 인해 이제 LongType 등도 제대로 인식됩니다.\n",
    "        if not isinstance(df1_1.schema[col_name].dataType, (DoubleType, IntegerType, LongType, FloatType)):\n",
    "            print(f\"  경고: '{col_name}' 컬럼은 수치형이 아닙니다 (현재 타입: {df1_1.schema[col_name].dataType}). 이상치 확인을 건너뜜.\")\n",
    "            continue\n",
    "\n",
    "        # Q1, Q3, IQR 계산\n",
    "        # approxQuantile은 정확도 0.01 (1%) 오차 허용\n",
    "        quantiles = df1_1.approxQuantile(col_name, [0.25, 0.75], 0.01)\n",
    "        Q1 = quantiles[0]\n",
    "        Q3 = quantiles[1]\n",
    "        IQR = Q3 - Q1\n",
    "\n",
    "        lower_bound = Q1 - 1.5 * IQR\n",
    "        upper_bound = Q3 + 1.5 * IQR\n",
    "\n",
    "        print(f\"  Q1: {Q1}, Q3: {Q3}, IQR: {IQR}\")\n",
    "        print(f\"  하한 경계 (Lower Bound): {lower_bound}\")\n",
    "        print(f\"  상한 경계 (Upper Bound): {upper_bound}\")\n",
    "\n",
    "        # 이상치 필터링\n",
    "        outliers_df = df1_1.filter(\n",
    "            (col(col_name) < lower_bound) | (col(col_name) > upper_bound)\n",
    "        )\n",
    "\n",
    "        outlier_count = outliers_df.count()\n",
    "        total_count = df1_1.count()\n",
    "\n",
    "        if outlier_count > 0:\n",
    "            outlier_percentage = (outlier_count / total_count) * 100\n",
    "            print(f\"  이상치 개수: {outlier_count}개 ({outlier_percentage:.2f}%)\")\n",
    "            print(\"  --- 이상치 데이터 예시 (최대 10개) ---\")\n",
    "            outliers_df.select(col_name).limit(10).show(truncate=False)\n",
    "        else:\n",
    "            print(\"  이상치가 발견되지 않았습니다.\")\n",
    "    else:\n",
    "        print(f\"경고: 컬럼 '{col_name}'이(가) DataFrame에 존재하지 않습니다. 스키마를 확인해주세요.\")\n",
    "\n",
    "print(\"\\n모든 수치형 컬럼에 대한 이상치 값 확인이 완료되었습니다.\")"
   ]
  },
  {
   "cell_type": "code",
   "execution_count": 0,
   "metadata": {
    "application/vnd.databricks.v1+cell": {
     "cellMetadata": {
      "byteLimit": 2048000,
      "rowLimit": 10000
     },
     "inputWidgets": {},
     "nuid": "83ee1e96-a4d4-4a9a-9ab9-fb8ce59a47c2",
     "showTitle": false,
     "tableResultSettingsMap": {},
     "title": ""
    }
   },
   "outputs": [],
   "source": [
    "import matplotlib.pyplot as plt\n",
    "import seaborn as sns\n",
    "import pandas as pd\n",
    "\n",
    "# Spark DataFrame에서 필요한 컬럼만 선택하여 Pandas로 변환\n",
    "numerical_cols_in_df = [col for col in numerical_cols if col in df1_1.columns]\n",
    "\n",
    "# Spark → Pandas로 수치형 컬럼만 추출\n",
    "df_pd = df1_1.select(numerical_cols_in_df).toPandas()\n",
    "\n",
    "# 박스플롯 스타일 설정\n",
    "plt.figure(figsize=(16, 8))\n",
    "sns.set(style=\"whitegrid\")\n",
    "\n",
    "# 박스플롯 그리기 (컬럼별 색상 지정)\n",
    "palette = sns.color_palette(\"Set3\", len(numerical_cols_in_df))  # 색상 다양화\n",
    "\n",
    "sns.boxplot(data=df_pd[numerical_cols_in_df], palette=palette)\n",
    "\n",
    "# 라벨 회전 및 레이아웃 조정\n",
    "plt.xticks(rotation=45, ha='right')\n",
    "plt.title(\"수치형 컬럼별 이상치 시각화 (Boxplot)\", fontsize=16)\n",
    "plt.tight_layout()\n",
    "plt.show()\n"
   ]
  },
  {
   "cell_type": "code",
   "execution_count": 0,
   "metadata": {
    "application/vnd.databricks.v1+cell": {
     "cellMetadata": {
      "byteLimit": 2048000,
      "rowLimit": 10000
     },
     "inputWidgets": {},
     "nuid": "163fbd0c-383d-4824-b071-3b3b0fd50dfe",
     "showTitle": false,
     "tableResultSettingsMap": {},
     "title": ""
    }
   },
   "outputs": [],
   "source": [
    "import matplotlib.pyplot as plt\n",
    "import seaborn as sns\n",
    "\n",
    "columns_to_plot = [\n",
    "    '입회경과개월수_신용', '탈회횟수_누적',  \n",
    "    '_1순위카드이용건수', '_2순위카드이용건수',\n",
    "    '청구금액_기본연회비_B0M', '청구금액_제휴연회비_B0M', '카드신청건수', '최종카드발급경과월'\n",
    "]\n",
    "\n",
    "\n",
    "# 필요한 컬럼만 선택해서 Pandas DataFrame으로 변환 (샘플링 권장)\n",
    "pdf1 = df1_1.select(columns_to_plot).sample(fraction=0.1, seed=42).toPandas()\n",
    "\n",
    "for col in columns_to_plot:\n",
    "    pdf1[col] = pd.to_numeric(pdf1[col], errors='coerce')\n",
    "\n",
    "\n",
    "plt.figure(figsize=(15, 8))\n",
    "sns.boxplot(data=pdf1, orient='h')\n",
    "plt.show()\n"
   ]
  },
  {
   "cell_type": "code",
   "execution_count": 0,
   "metadata": {
    "application/vnd.databricks.v1+cell": {
     "cellMetadata": {
      "byteLimit": 2048000,
      "rowLimit": 10000
     },
     "inputWidgets": {},
     "nuid": "8aef1699-cca9-4224-aa66-b2d26c7243aa",
     "showTitle": false,
     "tableResultSettingsMap": {},
     "title": ""
    }
   },
   "outputs": [],
   "source": [
    "import matplotlib.pyplot as plt\n",
    "import seaborn as sns\n",
    "\n",
    "columns_to_plot = [\n",
    "     '이용금액_R3M_신용', '이용금액_R3M_체크',\n",
    "    '_1순위카드이용금액', '_2순위카드이용금액','_1순위카드이용건수', '_2순위카드이용건수'\n",
    "]\n",
    "\n",
    "\n",
    "# 필요한 컬럼만 선택해서 Pandas DataFrame으로 변환 (샘플링 권장)\n",
    "pdf1 = df1_1.select(columns_to_plot).sample(fraction=0.1, seed=42).toPandas()\n",
    "\n",
    "for col in columns_to_plot:\n",
    "    pdf1[col] = pd.to_numeric(pdf1[col], errors='coerce')\n",
    "\n",
    "\n",
    "plt.figure(figsize=(15, 8))\n",
    "sns.boxplot(data=pdf1, orient='h')\n",
    "plt.show()\n"
   ]
  },
  {
   "cell_type": "code",
   "execution_count": 0,
   "metadata": {
    "application/vnd.databricks.v1+cell": {
     "cellMetadata": {
      "byteLimit": 2048000,
      "rowLimit": 10000
     },
     "inputWidgets": {},
     "nuid": "d6127376-ee5c-4fee-a69e-9998138599ca",
     "showTitle": false,
     "tableResultSettingsMap": {},
     "title": ""
    }
   },
   "outputs": [],
   "source": [
    "import matplotlib.pyplot as plt\n",
    "import seaborn as sns\n",
    "import numpy as np\n",
    "import pandas as pd\n",
    "\n",
    "# 시각화용 임시 컬럼명 매핑\n",
    "columns_to_plot = [\n",
    "    '입회경과개월수_신용', '탈회횟수_누적', '이용금액_R3M_신용', '이용금액_R3M_체크',\n",
    "    '_1순위카드이용금액', '_1순위카드이용건수', '_2순위카드이용금액', '_2순위카드이용건수',\n",
    "    '청구금액_기본연회비_B0M', '청구금액_제휴연회비_B0M', '카드신청건수', '최종카드발급경과월'\n",
    "]\n",
    "\n",
    "# 샘플링 및 Pandas 변환\n",
    "pdf1 = df1_1.select(columns_to_plot).sample(fraction=0.1, seed=42).toPandas()\n",
    "\n",
    "# 숫자형 변환 및 로그 변환\n",
    "for col in columns_to_plot:\n",
    "    pdf1[col] = pd.to_numeric(pdf1[col], errors='coerce')\n",
    "    pdf1[col] = np.log1p(pdf1[col])\n",
    "\n",
    "# 컬럼명 변경 (시각화 목적)\n",
    "rename_dict = dict(zip(columns_to_plot, english_names))\n",
    "\n",
    "# 시각화\n",
    "plt.figure(figsize=(15, 8))\n",
    "sns.boxplot(data=pdf1, orient='h', palette=\"Set3\")\n",
    "plt.title(\"Boxplot of log-transformed variables\", fontsize=14)\n",
    "plt.xlabel(\"log(1 + x)\")\n",
    "plt.tight_layout()\n",
    "plt.show()\n"
   ]
  },
  {
   "cell_type": "markdown",
   "metadata": {
    "application/vnd.databricks.v1+cell": {
     "cellMetadata": {
      "byteLimit": 2048000,
      "rowLimit": 10000
     },
     "inputWidgets": {},
     "nuid": "91aa1660-eee1-4995-9fac-919408fda834",
     "showTitle": false,
     "tableResultSettingsMap": {},
     "title": ""
    }
   },
   "source": [
    "# 📊 이상치 분석 결과 및 처리 계획\n",
    "\n",
    "## 1. 이상치 분석 결과 요약\n",
    "\n",
    "각 수치형 컬럼에 대해 IQR(Interquartile Range) 기반으로 이상치를 분석한 결과는 다음과 같습니다.\n",
    "\n",
    "### 1.1. `입회경과개월수_신용`\n",
    "* **이상치 개수**: 993,810개 (5.62%)\n",
    "* **상한 경계**: 232.0개월\n",
    "* **하한 경계**: -112.0개월 (음수 경계는 데이터 분포의 치우침을 나타내며, 실제 경과 개월 수가 음수일 수는 없음)\n",
    "* **해석**: 232개월(약 19년)을 초과하는 매우 장기 회원들이 이상치로 식별되었습니다. 이는 장기 회원의 특성을 반영하거나 특정 시점 이후의 회원 유입 패턴과 관련될 수 있습니다.\n",
    "\n",
    "### 1.2. `탈회횟수_누적`\n",
    "* **이상치 없음**\n",
    "* **해석**: 대부분의 데이터가 0, 1, 2와 같은 낮은 정수 값으로 분포하여 IQR 기준으로 이상치가 발견되지 않았습니다.\n",
    "\n",
    "### 1.3. `이용금액_R3M_신용`\n",
    "* **이상치 개수**: 1,464,257개 (8.28%)\n",
    "* **상한 경계**: 4,926,760.0원\n",
    "* **하한 경계**: -2,956,056.0원 (이용금액이 음수인 경우는 환불과 같은 특수 케이스로 판단됨)\n",
    "* **해석**: 500만원에 가까운 금액을 초과하는 고액 이용자들이 이상치로 식별되었습니다. 이는 카드 이용 패턴에서 중요한 세그먼트가 될 수 있습니다.\n",
    "\n",
    "### 1.4. `이용금액_R3M_체크`\n",
    "* **이상치 개수**: 2,811,447개 (15.90%)\n",
    "* **상한/하한 경계**: 모두 0.0원\n",
    "* **해석**: 이 컬럼의 대부분 데이터가 0원이므로, 0이 아닌 모든 값(즉, 체크카드 이용 금액이 있는 경우)이 IQR 기준으로는 이상치로 판단되었습니다. 이는 데이터의 자연스러운 분포 특성으로, 이상치라기보다는 특정 그룹을 나타내는 값으로 이해할 수 있습니다.\n",
    "\n",
    "### 1.5. `_1순위카드이용금액`, `_1순위카드이용건수`, `_2순위카드이용금액`, `_2순위카드이용건수`\n",
    "* **이상치 비율**: 모두 상당한 비율(5% ~ 15%)의 이상치를 포함하고 있습니다.\n",
    "* **해석**: 이 이용 금액 및 건수 관련 컬럼들은 데이터가 0에 가까운 값들에 집중되어 있고, 소수의 고액/고빈도 이용자가 존재하기 때문에 이상치가 많이 잡히는 경향을 보입니다.\n",
    "\n",
    "### 1.6. `청구금액_기본연회비_B0M`, `청구금액_제휴연회비_B0M`\n",
    "* **이상치 비율**: 매우 낮은 비율(0.04% ~ 0.13%)의 이상치만 존재합니다.\n",
    "* **해석**: Q1, Q3, IQR이 모두 0인 것으로 보아, 대부분의 고객이 연회비가 0원이며, 연회비가 부과된 경우에만 이상치로 잡혔습니다.\n",
    "\n",
    "### 1.7. `카드신청건수`\n",
    "* **이상치 개수**: 1,564,982개 (8.85%)\n",
    "* **상한/하한 경계**: 모두 0.0\n",
    "* **해석**: `이용금액_R3M_체크`와 유사하게, 대부분의 고객이 카드 신청 건수가 0이며, 한 건이라도 신청한 경우(1.0)가 이상치로 판단됩니다.\n",
    "\n",
    "### 1.8. `최종카드발급경과월`\n",
    "* **이상치 개수**: 6,153개 (0.03%)\n",
    "* **상한 경계**: 59.5개월\n",
    "* **해석**: 59.5개월(약 5년)을 초과하는 경과월을 가진 데이터는 소량만 이상치로 식별되었습니다.\n",
    "\n",
    "---\n",
    "\n",
    "## 2. 다음 단계: 이상치 처리 방식 확정 및 적용\n",
    "\n",
    "위 분석 결과를 바탕으로, 각 수치형 컬럼의 이상치를 처리하는 방식을 다음과 같이 확정합니다.\n",
    "\n",
    "### 2.1. `탈회횟수_누적`\n",
    "* **처리 계획**: 이상치가 발견되지 않았으므로, **별도의 이상치 처리를 적용하지 않습니다.**\n",
    "\n",
    "### 2.2. `청구금액_기본연회비_B0M`, `청구금액_제휴연회비_B0M`, `카드신청건수`, `이용금액_R3M_체크`\n",
    "* **컬럼 특성**: 이 컬럼들은 Q1, Q3, IQR이 0인 경우가 많아, 0이 아닌 모든 값이 IQR 기준으로는 이상치로 잡히는 특성을 가지고 있습니다. 이 경우 IQR 기반 **캡핑(Capping)을 적용하면 0이 아닌 값들이 상한 경계값으로 변경**될 가능성이 높습니다.\n",
    "* **처리 계획**: 현재 단계에서는 일단 **모든 수치형 컬럼에 대해 일관되게 IQR 기반 캡핑 로직을 적용**하겠습니다. 이후 모델 학습 과정에서 이 컬럼들의 분포가 여전히 문제가 되거나 모델 성능에 부정적인 영향을 미친다면, **로그 변환(Log Transformation)**이나 **이진 변수화(Binary Encoding)** (예: 이용/신청 여부 0 또는 1)와 같은 추가적인 피처 엔지니어링을 고려할 수 있습니다.\n",
    "\n",
    "### 2.3. 나머지 수치형 컬럼\n",
    "* **컬럼 특성**: 이 컬럼들은 비교적 높은 비율의 이상치를 포함하고 있으며, 이 이상치들은 실제 고액 이용자, 장기 회원 등 중요한 정보를 담고 있을 수 있습니다.\n",
    "* **처리 계획**: **데이터 손실을 최소화**하면서 이상치의 극단적인 영향을 줄이기 위해, **IQR 기반의 캡핑(Capping) 방식**을 적용하겠습니다. 즉, 이상치로 판단되는 값들을 해당 컬럼의 계산된 상한(Upper Bound) 또는 하한(Lower Bound) 값으로 대체합니다.\n",
    "\n",
    "---\n",
    "\n",
    "## 3. 최종 결정: 모든 수치형 컬럼에 IQR 기반 캡핑 적용\n",
    "\n",
    "**`탈회횟수_누적` 컬럼을 포함하여 식별된 모든 수치형 컬럼에 대해 이전에 준비했던 IQR 기반 캡핑 로직을 실행하겠습니다.** `탈회횟수_누적`과 같이 이상치가 없는 컬럼은 캡핑을 해도 값이 변하지 않을 것이며, 나머지 컬럼들은 극단적인 값들이 지정된 상한/하한으로 대체될 것입니다.\n",
    "\n"
   ]
  },
  {
   "cell_type": "code",
   "execution_count": 0,
   "metadata": {
    "application/vnd.databricks.v1+cell": {
     "cellMetadata": {
      "byteLimit": 2048000,
      "rowLimit": 10000
     },
     "inputWidgets": {},
     "nuid": "c0a49769-3c10-4025-9cc0-7e4d3065b827",
     "showTitle": false,
     "tableResultSettingsMap": {},
     "title": ""
    }
   },
   "outputs": [],
   "source": [
    "기본연회비_B0M\n",
    "제휴연회비_B0M\n",
    "상품관련면제카드수_B0M\n",
    "임직원면제카드수_B0M\n",
    "우수회원면제카드수_B0M\n",
    "기타면제카드수_B0M\n",
    "카드신청건수\n",
    "최종카드발급경과월"
   ]
  },
  {
   "cell_type": "code",
   "execution_count": 0,
   "metadata": {
    "application/vnd.databricks.v1+cell": {
     "cellMetadata": {
      "byteLimit": 2048000,
      "rowLimit": 10000
     },
     "inputWidgets": {},
     "nuid": "b4abc9de-2592-413f-b465-12ee9fdf8e54",
     "showTitle": false,
     "tableResultSettingsMap": {},
     "title": ""
    }
   },
   "outputs": [],
   "source": [
    "할인금액_기본연회비_B0M\n",
    "할인금액_제휴연회비_B0M\n",
    "청구금액_기본연회비_B0M\n",
    "청구금액_제휴연회비_B0M"
   ]
  },
  {
   "cell_type": "code",
   "execution_count": 0,
   "metadata": {
    "application/vnd.databricks.v1+cell": {
     "cellMetadata": {
      "byteLimit": 2048000,
      "rowLimit": 10000
     },
     "inputWidgets": {},
     "nuid": "ae6b629e-77e8-481c-b1f9-c47bd1e4e4ab",
     "showTitle": false,
     "tableResultSettingsMap": {},
     "title": ""
    }
   },
   "outputs": [],
   "source": [
    "display(df1_1.select('할인금액_기본연회비_B0M','할인금액_제휴연회비_B0M','청구금액_기본연회비_B0M','청구금액_제휴연회비_B0M').max())"
   ]
  },
  {
   "cell_type": "markdown",
   "metadata": {
    "application/vnd.databricks.v1+cell": {
     "cellMetadata": {
      "byteLimit": 2048000,
      "rowLimit": 10000
     },
     "inputWidgets": {},
     "nuid": "51ee8788-4965-4f14-a51d-76a446f12077",
     "showTitle": false,
     "tableResultSettingsMap": {},
     "title": ""
    }
   },
   "source": [
    "## 이상치 제거 및 대체"
   ]
  },
  {
   "cell_type": "markdown",
   "metadata": {
    "application/vnd.databricks.v1+cell": {
     "cellMetadata": {
      "byteLimit": 2048000,
      "rowLimit": 10000
     },
     "inputWidgets": {},
     "nuid": "af45cb39-53e4-493c-885f-ced6a627b710",
     "showTitle": false,
     "tableResultSettingsMap": {},
     "title": ""
    }
   },
   "source": [
    "연회비의 경우 0은 없음 1인 잇음으로 이진변수\n",
    "\n",
    "그러고 컬럼 하나 더 만들어서 수치형으로 놔둠"
   ]
  },
  {
   "cell_type": "code",
   "execution_count": 0,
   "metadata": {
    "application/vnd.databricks.v1+cell": {
     "cellMetadata": {
      "byteLimit": 2048000,
      "rowLimit": 10000
     },
     "inputWidgets": {},
     "nuid": "8079c3ab-061c-4148-9aa4-fe00c14e43b4",
     "showTitle": false,
     "tableResultSettingsMap": {},
     "title": ""
    }
   },
   "outputs": [],
   "source": [
    "from pyspark.sql.functions import col, when\n",
    "from pyspark.sql.types import DoubleType\n",
    "\n",
    "print(f\"초기 데이터 행 수: {df1_1.count()}\")\n",
    "\n",
    "# 3. '최종카드발급경과월' 이상치(59.5개월 초과) 행 삭제\n",
    "max_valid_month = 59.5\n",
    "before_drop = df1_1.count()\n",
    "df1_1 = df1_1.filter(col(\"최종카드발급경과월\").cast(DoubleType()) <= max_valid_month)\n",
    "after_drop = df1_1.count()\n",
    "print(f\"'최종카드발급경과월' 이상치 삭제: {before_drop - after_drop}행 삭제됨 (현재 {after_drop}행)\")\n",
    "\n",
    "# 4. 연회비 컬럼 이진 변수화 (파생 컬럼 생성, 원본은 그대로 유지)\n",
    "df1_1 = df1_1.withColumn(\n",
    "    \"기본연회비발생여부\",\n",
    "    when(col(\"청구금액_기본연회비_B0M\").cast(DoubleType()) > 0, 1).otherwise(0)\n",
    ").withColumn(\n",
    "    \"제휴연회비발생여부\",\n",
    "    when(col(\"청구금액_제휴연회비_B0M\").cast(DoubleType()) > 0, 1).otherwise(0)\n",
    ")\n",
    "\n",
    "print(\"연회비 관련 컬럼 이진 변수화(파생 컬럼) 생성 완료\")\n",
    "df1_1.select(\"청구금액_기본연회비_B0M\", \"기본연회비발생여부\", \"청구금액_제휴연회비_B0M\", \"제휴연회비발생여부\").show(10, truncate=False)\n",
    "\n",
    "# 5. 이상치 처리 제외 컬럼(원본 유지)\n",
    "# - _1순위카드이용금액, _1순위카드이용건수, _2순위카드이용금액, _2순위카드이용건수, 카드신청건수\n",
    "print(\"이상치 처리를 하지 않고 원본을 그대로 유지하는 컬럼 목록:\")\n",
    "print(\"_1순위카드이용금액, _1순위카드이용건수, _2순위카드이용금액, _2순위카드이용건수, 카드신청건수\")\n",
    "\n",
    "# 6. 분석에서 제외할 컬럼(이용금액_R3M_신용, 이용금액_R3M_체크)은 이후 분석/모델링 시 사용하지 않도록 관리\n",
    "\n",
    "# 7. 최종 데이터 스키마 및 일부 데이터 확인\n",
    "print(\"최종 데이터 스키마:\")\n",
    "df1_1.printSchema()\n",
    "print(\"최종 데이터 일부 확인:\")\n",
    "df1_1.show(5, truncate=False)\n"
   ]
  },
  {
   "cell_type": "code",
   "execution_count": 0,
   "metadata": {
    "application/vnd.databricks.v1+cell": {
     "cellMetadata": {
      "byteLimit": 2048000,
      "rowLimit": 10000
     },
     "inputWidgets": {},
     "nuid": "725381a4-33f7-485d-bedd-44c85069cba5",
     "showTitle": false,
     "tableResultSettingsMap": {},
     "title": ""
    }
   },
   "outputs": [],
   "source": [
    "# 확인할 컬럼 리스트\n",
    "cols = [\n",
    "    \"청구금액_기본연회비_B0M\", \n",
    "    \"기본연회비발생여부\", \n",
    "    \"청구금액_제휴연회비_B0M\", \n",
    "    \"제휴연회비발생여부\"\n",
    "]\n",
    "\n",
    "# 상위 10개 행 확인 (Databricks에서는 display가 가장 편리)\n",
    "df1_1.select(cols).limit(10).display()\n"
   ]
  },
  {
   "cell_type": "markdown",
   "metadata": {
    "application/vnd.databricks.v1+cell": {
     "cellMetadata": {
      "byteLimit": 2048000,
      "rowLimit": 10000
     },
     "inputWidgets": {},
     "nuid": "249b7a23-c229-4401-a027-59c5301d284a",
     "showTitle": false,
     "tableResultSettingsMap": {},
     "title": ""
    }
   },
   "source": [
    "#상관관계 분석 및 컬럼축소, 변환\n"
   ]
  },
  {
   "cell_type": "markdown",
   "metadata": {
    "application/vnd.databricks.v1+cell": {
     "cellMetadata": {
      "byteLimit": 2048000,
      "rowLimit": 10000
     },
     "inputWidgets": {},
     "nuid": "c2a4d450-8758-4bfb-ae4a-13254f1bf1fd",
     "showTitle": false,
     "tableResultSettingsMap": {},
     "title": ""
    }
   },
   "source": [
    "## 수치형 변수별 상관관계 분석 컬럼 축소"
   ]
  },
  {
   "cell_type": "markdown",
   "metadata": {
    "application/vnd.databricks.v1+cell": {
     "cellMetadata": {
      "byteLimit": 2048000,
      "rowLimit": 10000
     },
     "inputWidgets": {},
     "nuid": "64342c6e-4f8d-462e-a3eb-c345ba764f7e",
     "showTitle": false,
     "tableResultSettingsMap": {},
     "title": ""
    }
   },
   "source": [
    " 분석 대상 수치형 변수 목록\n",
    " \n",
    "입회경과개월수_신용\n",
    "\n",
    "탈회횟수_누적\n",
    "\n",
    "_1순위카드이용금액\n",
    "\n",
    "_1순위카드이용건수\n",
    "\n",
    "_2순위카드이용금액\n",
    "\n",
    "_2순위카드이용건수\n",
    "\n",
    "청구금액_기본연회비_B0M\n",
    "\n",
    "청구금액_제휴연회비_B0M\n",
    "\n",
    "카드신청건수\n",
    "\n",
    "최종카드발급경과월"
   ]
  },
  {
   "cell_type": "code",
   "execution_count": 0,
   "metadata": {
    "application/vnd.databricks.v1+cell": {
     "cellMetadata": {
      "byteLimit": 2048000,
      "rowLimit": 10000
     },
     "inputWidgets": {},
     "nuid": "235eee36-11b4-4eb8-97a4-3c94dd9816fa",
     "showTitle": false,
     "tableResultSettingsMap": {},
     "title": ""
    }
   },
   "outputs": [],
   "source": [
    "#상관계수확인\n",
    "\n",
    "from pyspark.ml.feature import VectorAssembler\n",
    "from pyspark.ml.stat import Correlation\n",
    "import pandas as pd\n",
    "\n",
    "# 1. 수치형 변수 리스트 정의\n",
    "numerical_cols = [\n",
    "    '입회경과개월수_신용', '탈회횟수_누적', '_1순위카드이용금액', '_1순위카드이용건수',\n",
    "    '_2순위카드이용금액', '_2순위카드이용건수', '청구금액_기본연회비_B0M', '청구금액_제휴연회비_B0M', '카드신청건수', '최종카드발급경과월'\n",
    "]\n",
    "\n",
    "# 2. VectorAssembler로 features 컬럼 생성\n",
    "assembler = VectorAssembler(inputCols=numerical_cols, outputCol=\"features\")\n",
    "df_vector = assembler.transform(df1_1.select(*numerical_cols)).select(\"features\")\n",
    "\n",
    "# 3. 피어슨 상관계수 행렬 계산\n",
    "correlation_matrix = Correlation.corr(df_vector, \"features\", \"pearson\").head()\n",
    "corr_array = correlation_matrix[0].toArray()\n",
    "\n",
    "# 4. pandas DataFrame으로 변환하여 보기 좋게 정리\n",
    "import pandas as pd\n",
    "corr_df = pd.DataFrame(corr_array, index=numerical_cols, columns=numerical_cols)\n",
    "display(corr_df)\n"
   ]
  },
  {
   "cell_type": "markdown",
   "metadata": {
    "application/vnd.databricks.v1+cell": {
     "cellMetadata": {
      "byteLimit": 2048000,
      "rowLimit": 10000
     },
     "inputWidgets": {},
     "nuid": "15aab504-92e8-4f3b-bb16-dd772c5d804a",
     "showTitle": false,
     "tableResultSettingsMap": {},
     "title": ""
    }
   },
   "source": [
    "| 컬럼명                  | 입회경과개월수_신용 | 탈회횟수_누적 | _1순위카드이용금액 | _1순위카드이용건수 | _2순위카드이용금액 | _2순위카드이용건수 | 청구금액_기본연회비_B0M | 청구금액_제휴연회비_B0M | 카드신청건수 | 최종카드발급경과월 |\n",
    "| :---------------------- | :------------------ | :------------ | :----------------- | :----------------- | :----------------- | :----------------- | :---------------------- | :---------------------- | :----------- | :----------------- |\n",
    "| **입회경과개월수_신용** | 1.000               | -0.219        | 0.108              | 0.033              | 0.070              | 0.063              | -0.025                  | 0.004                   | -0.128       | 0.248              |\n",
    "| **탈회횟수_누적** | -0.219              | 1.000         | -0.022             | -0.037             | -0.015             | -0.026             | 0.007                   | -0.004                  | 0.040        | -0.108             |\n",
    "| **_1순위카드이용금액** | 0.108               | -0.022        | 1.000              | 0.749              | 0.510              | 0.486              | -0.003                  | 0.026                   | 0.015        | -0.130             |\n",
    "| **_1순위카드이용건수** | 0.033               | -0.037        | 0.749              | 1.000              | 0.454              | 0.534              | -0.010                  | 0.017                   | 0.014        | -0.150             |\n",
    "| **_2순위카드이용금액** | 0.070               | -0.015        | 0.510              | 0.454              | 1.000              | 0.950              | 0.003                   | 0.057                   | -0.018       | -0.051             |\n",
    "| **_2순위카드이용건수** | 0.063               | -0.026        | 0.486              | 0.534              | 0.950              | 1.000              | 0.001                   | 0.048                   | -0.013       | -0.055             |\n",
    "| **청구금액_기본연회비_B0M** | -0.025              | 0.007         | -0.003             | -0.010             | 0.003              | 0.001              | 1.000                   | 0.177                   | 0.089        | -0.047             |\n",
    "| **청구금액_제휴연회비_B0M** | 0.004               | -0.004        | 0.026              | 0.017              | 0.057              | 0.048              | 0.177                   | 1.000                   | 0.001        | -0.009             |\n",
    "| **카드신청건수** | -0.128              | 0.040         | 0.015              | 0.014              | -0.018             | -0.013             | 0.089                   | 0.001                   | 1.000        | -0.311             |\n",
    "| **최종카드발급경과월** | 0.248               | -0.108        | -0.130             | -0.150             | -0.051             | -0.055             | -0.047                  | -0.009                  | -0.311       | 1.000              |"
   ]
  },
  {
   "cell_type": "code",
   "execution_count": 0,
   "metadata": {
    "application/vnd.databricks.v1+cell": {
     "cellMetadata": {
      "byteLimit": 2048000,
      "rowLimit": 10000
     },
     "inputWidgets": {},
     "nuid": "cc851674-c2b1-4a9d-a1e0-576351ef2ecb",
     "showTitle": false,
     "tableResultSettingsMap": {},
     "title": ""
    }
   },
   "outputs": [],
   "source": [
    "# 상관관계 히트맵\n",
    "import matplotlib.pyplot as plt\n",
    "import seaborn as sns\n",
    "\n",
    "plt.figure(figsize=(10,8))\n",
    "sns.heatmap(corr_df, annot=True, fmt=\".2f\", cmap=\"coolwarm\")\n",
    "plt.title(\"수치형 변수들의 상관관계 히트맵\")\n",
    "plt.show()\n"
   ]
  },
  {
   "cell_type": "markdown",
   "metadata": {
    "application/vnd.databricks.v1+cell": {
     "cellMetadata": {
      "byteLimit": 2048000,
      "rowLimit": 10000
     },
     "inputWidgets": {},
     "nuid": "d7d8ab58-56b0-4a75-ab05-e738a6b02a55",
     "showTitle": false,
     "tableResultSettingsMap": {},
     "title": ""
    }
   },
   "source": [
    "### 주요 상관관계 해석\n",
    "\n",
    "**강한 양의 상관관계**\n",
    "- **2순위 금액 & 건수 (0.950)**  \n",
    "  사실상 당연한 상관관계. 정보가 거의 중복되므로 둘 중 하나를 삭제해도 무방.\n",
    "- **1순위 카드이용금액 & 건수 (0.749)**  \n",
    "  역시 강한 상관관계. 자주 쓸수록 많이 쓴다는 의미로 해석 가능.\n",
    "\n",
    "**중간 정도의 양의 상관관계**\n",
    "- **1순위 건수 & 2순위 건수 (0.53)**  \n",
    "  주력 카드와 보조 카드 간에도 금액, 건수에 긍정적 관계가 있음.\n",
    "- **1순위 금액 & 2순위 금액 (0.51)**\n",
    "\n",
    "**낮은 음의 상관관계**\n",
    "- **카드신청건수 & 최종카드발급경과월 (-0.311)**  \n",
    "  신청건수가 많을수록 최종경과월이 줄어드는 경향(신규 고객 특성).\n",
    "\n",
    "**매우 낮은 상관관계**\n",
    "- 대부분의 다른 컬럼 쌍은 0에 가까우며, 서로 독립적인 정보를 제공함.\n",
    "\n",
    "**특이점**\n",
    "- **탈회횟수**는 모든 변수와 상관관계가 낮아 상당히 독립적인 변수임.\n",
    "- **1순위 금액/건수, 2순위 금액/건수** 4개 모두 서로 중간 이상의 관계를 보임(카드 이용 패턴이 전반적으로 비슷).\n",
    "\n",
    "**제거할 대상?**\n",
    "- **_2순위 금액 & 건수 중 하나** 삭제해도 무방\n",
    "- **1순위도 동일**\n",
    "- → 제거 여부는 분석 목적에 따라 결정, 놔두고 분석 시 더 잘 설명되는 변수를 선택해도 됨\n"
   ]
  },
  {
   "cell_type": "markdown",
   "metadata": {
    "application/vnd.databricks.v1+cell": {
     "cellMetadata": {
      "byteLimit": 2048000,
      "rowLimit": 10000
     },
     "inputWidgets": {},
     "nuid": "3bd782e3-29d9-4d3c-943c-40f7a249ce93",
     "showTitle": false,
     "tableResultSettingsMap": {},
     "title": ""
    }
   },
   "source": [
    "## 범주형 변수 컬럼 축소"
   ]
  },
  {
   "cell_type": "code",
   "execution_count": 0,
   "metadata": {
    "application/vnd.databricks.v1+cell": {
     "cellMetadata": {
      "byteLimit": 2048000,
      "rowLimit": 10000
     },
     "inputWidgets": {},
     "nuid": "bbbd14c9-3dc3-4e31-8e26-1b3e7c00c6bc",
     "showTitle": false,
     "tableResultSettingsMap": {},
     "title": ""
    }
   },
   "outputs": [],
   "source": [
    "from pyspark.sql.functions import col, count, countDistinct, when\n",
    "\n",
    "# 1. 범주형 변수 리스트 지정\n",
    "categorical_cols = [\n",
    "    '기준년월', '발급회원번호', '남녀구분코드', '연령', 'VIP등급코드', '최상위카드등급코드',\n",
    "    '회원여부_이용가능', '회원여부_이용가능_CA', '회원여부_이용가능_카드론', '소지여부_신용',\n",
    "    '회원여부_연체', '이용거절여부_카드론', '동의여부_한도증액안내', '수신거부여부_TM',\n",
    "    '수신거부여부_DM', '수신거부여부_메일', '수신거부여부_SMS', '가입통신회사코드',\n",
    "    '거주시도명', '직장시도명', '마케팅동의여부', 'Life_Stage'\n",
    "   \n",
    "]\n",
    "\n",
    "# 2. 결측치 비율, 카테고리 개수 출력\n",
    "total_rows = df1_1.count()\n",
    "print(f\"전체 행 수: {total_rows}\\n\")\n",
    "print(\"컬럼명\\t\\t결측치비율\\t카테고리개수\")\n",
    "for c in categorical_cols:\n",
    "    null_cnt = df1_1.filter(col(c).isNull()).count()\n",
    "    nunique = df1_1.select(countDistinct(col(c))).collect()[0][0]\n",
    "    print(f\"{c}\\t{null_cnt/total_rows:.2%}\\t{nunique}\")\n",
    "\n",
    "\n",
    "\n",
    "# 3. 카테고리 개수 기준으로 컬럼 자동 필터링(예: 20개 초과 컬럼은 제외)\n",
    "max_categories = 20\n",
    "useful_categorical_cols = []\n",
    "for c in categorical_cols:\n",
    "    nunique = df1_1.select(countDistinct(col(c))).collect()[0][0]\n",
    "    if nunique <= max_categories:\n",
    "        useful_categorical_cols.append(c)\n",
    "\n",
    "print(\"\\n카테고리 개수 20개 이하 유용 컬럼:\", useful_categorical_cols)\n"
   ]
  },
  {
   "cell_type": "markdown",
   "metadata": {
    "application/vnd.databricks.v1+cell": {
     "cellMetadata": {
      "byteLimit": 2048000,
      "rowLimit": 10000
     },
     "inputWidgets": {},
     "nuid": "c31ee006-2711-4490-ac23-dbe6eac54b2f",
     "showTitle": false,
     "tableResultSettingsMap": {},
     "title": ""
    }
   },
   "source": [
    "### 범주형 변수별 결측치 비율 및 카테고리 개수\n",
    "\n",
    "| 컬럼명                | 결측치비율 | 카테고리개수 |\n",
    "|----------------------|------------|-------------|\n",
    "| 기준년월              | 0.00%      | 6           |\n",
    "| 발급회원번호          | 0.00%      | 2,976,855   |\n",
    "| 남녀구분코드          | 0.00%      | 2           |\n",
    "| 연령                  | 0.00%      | 6           |\n",
    "| VIP등급코드           | 0.00%      | 5           |\n",
    "| 최상위카드등급코드    | 0.00%      | 5           |\n",
    "| 회원여부_이용가능     | 0.00%      | 2           |\n",
    "| 회원여부_이용가능_CA  | 0.00%      | 2           |\n",
    "| 회원여부_이용가능_카드론 | 0.00%   | 2           |\n",
    "| 소지여부_신용         | 0.00%      | 2           |\n",
    "| 회원여부_연체         | 0.00%      | 2           |\n",
    "| 이용거절여부_카드론   | 0.00%      | 2           |\n",
    "| 동의여부_한도증액안내 | 0.00%      | 2           |\n",
    "| 수신거부여부_TM       | 0.00%      | 2           |\n",
    "| 수신거부여부_DM       | 0.00%      | 2           |\n",
    "| 수신거부여부_메일     | 0.00%      | 2           |\n",
    "| 수신거부여부_SMS      | 0.00%      | 2           |\n",
    "| 가입통신회사코드      | 0.00%      | 4           |\n",
    "| 거주시도명            | 0.00%      | 17          |\n",
    "| 직장시도명            | 0.00%      | 18          |\n",
    "| 마케팅동의여부        | 0.00%      | 2           |\n",
    "| Life_Stage           | 0.00%      | 7           |\n"
   ]
  },
  {
   "cell_type": "markdown",
   "metadata": {
    "application/vnd.databricks.v1+cell": {
     "cellMetadata": {
      "byteLimit": 2048000,
      "rowLimit": 10000
     },
     "inputWidgets": {},
     "nuid": "17907c20-1ba4-489a-b6f2-42e3ddf1532f",
     "showTitle": false,
     "tableResultSettingsMap": {},
     "title": ""
    }
   },
   "source": [
    "**카테고리 개수 20개 이하 유용 컬럼:**  \n",
    "`['기준년월', '남녀구분코드', '연령', 'VIP등급코드', '최상위카드등급코드', '회원여부_이용가능', '회원여부_이용가능_CA', '회원여부_이용가능_카드론', '소지여부_신용', '회원여부_연체', '이용거절여부_카드론', '동의여부_한도증액안내', '수신거부여부_TM', '수신거부여부_DM', '수신거부여부_메일', '수신거부여부_SMS', '가입통신회사코드', '거주시도명', '직장시도명', '마케팅동의여부', 'Life_Stage']`"
   ]
  },
  {
   "cell_type": "markdown",
   "metadata": {
    "application/vnd.databricks.v1+cell": {
     "cellMetadata": {
      "byteLimit": 2048000,
      "rowLimit": 10000
     },
     "inputWidgets": {},
     "nuid": "dbd30405-4e9b-4d9b-b3ad-868f5b379d3c",
     "showTitle": false,
     "tableResultSettingsMap": {},
     "title": ""
    }
   },
   "source": [
    "#축소후 완료된 데이터 정리 df1_2"
   ]
  },
  {
   "cell_type": "code",
   "execution_count": 0,
   "metadata": {
    "application/vnd.databricks.v1+cell": {
     "cellMetadata": {
      "byteLimit": 2048000,
      "rowLimit": 10000
     },
     "inputWidgets": {},
     "nuid": "7a36ac06-abf3-4791-b90f-6bd25d410317",
     "showTitle": false,
     "tableResultSettingsMap": {},
     "title": ""
    }
   },
   "outputs": [],
   "source": [
    "selected_columns = [\n",
    "    \"발급회원번호\",  # 회원 식별 컬럼 추가\n",
    "    # 인구통계/고객 특성\n",
    "    \"남녀구분코드\", \"연령\", \"거주시도명\", \"직장시도명\", \"Life_Stage\",\n",
    "    \"VIP등급코드\", \"최상위카드등급코드\", \"가입통신회사코드\", \"마케팅동의여부\",\n",
    "    # 카드 이용 이력/행동\n",
    "    \"입회경과개월수_신용\", \"최종카드발급경과월\", \"탈회횟수_누적\", \"카드신청건수\",\n",
    "    \"소지카드수_유효_신용\", \"유효카드수_신용\", \"유효카드수_체크\",\n",
    "    \"이용카드수_신용\", \"이용카드수_체크\",\n",
    "    \"_1순위카드이용금액\", \"_1순위카드이용건수\",\n",
    "    \"_2순위카드이용금액\", \"_2순위카드이용건수\",\n",
    "    \"청구금액_기본연회비_B0M\", \"청구금액_제휴연회비_B0M\",\n",
    "    \"기본연회비발생여부\", \"제휴연회비발생여부\",\n",
    "    # 리스크/충성도/이탈\n",
    "    \"회원여부_연체\", \"최종탈회후경과월\", \"탈회횟수_발급6개월이내\", \"탈회횟수_발급1년이내\",\n",
    "    \"회원여부_이용가능\", \"동의여부_한도증액안내\",\n",
    "    \"수신거부여부_TM\", \"수신거부여부_DM\", \"수신거부여부_메일\", \"수신거부여부_SMS\"\n",
    "]\n",
    "\n",
    "# df1_1에서 필요한 컬럼만 추출하여 df1_2 생성\n",
    "df1_2 = df1_1.select(selected_columns)\n",
    "\n",
    "print(f\"df1_2 컬럼 수: {len(df1_2.columns)}\")\n",
    "df1_2.printSchema()\n",
    "df1_2.show(5, truncate=False)\n"
   ]
  },
  {
   "cell_type": "code",
   "execution_count": 0,
   "metadata": {
    "application/vnd.databricks.v1+cell": {
     "cellMetadata": {
      "byteLimit": 2048000,
      "rowLimit": 10000
     },
     "inputWidgets": {},
     "nuid": "23e2e1a7-a7a8-4013-b00d-6cd540dd114e",
     "showTitle": false,
     "tableResultSettingsMap": {},
     "title": ""
    }
   },
   "outputs": [],
   "source": [
    "from pyspark.sql.types import DoubleType\n",
    "df1_2 = df1_2.withColumn(\"소지카드수_유효_신용\", col(\"소지카드수_유효_신용\").cast(DoubleType()))\n",
    "# (다른 컬럼도 동일하게 반복)\n"
   ]
  },
  {
   "cell_type": "code",
   "execution_count": 0,
   "metadata": {
    "application/vnd.databricks.v1+cell": {
     "cellMetadata": {
      "byteLimit": 2048000,
      "rowLimit": 10000
     },
     "inputWidgets": {},
     "nuid": "04541983-8a8e-479b-af56-d73967e0417e",
     "showTitle": false,
     "tableResultSettingsMap": {},
     "title": ""
    }
   },
   "outputs": [],
   "source": [
    "from pyspark.sql.functions import col\n",
    "from pyspark.sql.types import DoubleType\n",
    "\n",
    "for c in [\"유효카드수_신용\", \"유효카드수_체크\", \"이용카드수_신용\", \"이용카드수_체크\"]:\n",
    "    df1_2 = df1_2.withColumn(c, col(c).cast(DoubleType()))\n"
   ]
  },
  {
   "cell_type": "code",
   "execution_count": 0,
   "metadata": {
    "application/vnd.databricks.v1+cell": {
     "cellMetadata": {
      "byteLimit": 2048000,
      "rowLimit": 10000
     },
     "inputWidgets": {},
     "nuid": "754d1445-dc0c-491d-8074-c969f7dff6e0",
     "showTitle": false,
     "tableResultSettingsMap": {},
     "title": ""
    }
   },
   "outputs": [],
   "source": [
    "# 1. 기존 테이블 및 경로 삭제\n",
    "spark.sql(\"DROP TABLE IF EXISTS database_pjt.card_member_info_selected\")\n",
    "dbutils.fs.rm(\"dbfs:/user/hive/warehouse/database_pjt.db/card_member_info_selected\", True)\n",
    "\n",
    "# 2. 새로 저장\n",
    "df1_2.write \\\n",
    "    .format(\"delta\") \\\n",
    "    .mode(\"overwrite\") \\\n",
    "    .option(\"path\", \"dbfs:/user/hive/warehouse/database_pjt.db/card_member_info_selected\") \\\n",
    "    .saveAsTable(\"database_pjt.card_member_info_selected\")\n"
   ]
  },
  {
   "cell_type": "code",
   "execution_count": 0,
   "metadata": {
    "application/vnd.databricks.v1+cell": {
     "cellMetadata": {
      "byteLimit": 2048000,
      "rowLimit": 10000
     },
     "inputWidgets": {},
     "nuid": "8a079534-6e7b-4753-8390-f71185f88815",
     "showTitle": false,
     "tableResultSettingsMap": {},
     "title": ""
    }
   },
   "outputs": [],
   "source": [
    "print(\"저장된 테이블의 첫 5개 행:\")\n",
    "spark.sql(\"SELECT * FROM database_pjt.card_member_info_selected LIMIT 5\").show()\n",
    "\n",
    "print(\"저장된 테이블의 스키마:\")\n",
    "spark.sql(\"DESCRIBE database_pjt.card_member_info_selected\").show()\n"
   ]
  },
  {
   "cell_type": "markdown",
   "metadata": {
    "application/vnd.databricks.v1+cell": {
     "cellMetadata": {
      "byteLimit": 2048000,
      "rowLimit": 10000
     },
     "inputWidgets": {},
     "nuid": "52c15e00-386c-44f1-9bf6-39a94a00fdc2",
     "showTitle": false,
     "tableResultSettingsMap": {},
     "title": ""
    }
   },
   "source": [
    "## card_member_info_selected 가져와서 분석\n"
   ]
  },
  {
   "cell_type": "code",
   "execution_count": 0,
   "metadata": {
    "application/vnd.databricks.v1+cell": {
     "cellMetadata": {
      "byteLimit": 2048000,
      "rowLimit": 10000
     },
     "inputWidgets": {},
     "nuid": "c0827e1d-811c-4073-ab24-d1a032765fab",
     "showTitle": false,
     "tableResultSettingsMap": {},
     "title": ""
    }
   },
   "outputs": [],
   "source": [
    "# Delta Lake 테이블을 DataFrame으로 불러오기\n",
    "df = spark.table(\"database_pjt.card_member_info_selected\")\n",
    "print(f\"불러온 데이터 행 수: {df.count()}\")\n",
    "df.printSchema()\n",
    "df.show(5, truncate=False)\n"
   ]
  },
  {
   "cell_type": "code",
   "execution_count": 0,
   "metadata": {
    "application/vnd.databricks.v1+cell": {
     "cellMetadata": {
      "byteLimit": 2048000,
      "rowLimit": 10000
     },
     "collapsed": true,
     "inputWidgets": {},
     "nuid": "f72dbcf1-4e5f-4da0-aee0-8b2653729f40",
     "showTitle": false,
     "tableResultSettingsMap": {},
     "title": ""
    }
   },
   "outputs": [],
   "source": [
    "df.describe().show()\n",
    "df.groupBy(\"연령\").count().orderBy(\"연령\").show()\n",
    "df.groupBy(\"Life_Stage\").agg({\"_1순위카드이용금액\":\"mean\"}).show()\n"
   ]
  },
  {
   "cell_type": "code",
   "execution_count": 0,
   "metadata": {
    "application/vnd.databricks.v1+cell": {
     "cellMetadata": {
      "byteLimit": 2048000,
      "rowLimit": 10000
     },
     "inputWidgets": {},
     "nuid": "cfe94ac0-ca41-46b9-8252-1cbf87e9bb14",
     "showTitle": false,
     "tableResultSettingsMap": {},
     "title": ""
    }
   },
   "outputs": [],
   "source": [
    "# 결측치 개수 DataFrame으로 만들어 Databricks display()로 표 형태 출력\n",
    "import pandas as pd\n",
    "missing_df = pd.DataFrame(list(missing_dict.items()), columns=['컬럼명', '결측치 개수'])\n",
    "display(spark.createDataFrame(missing_df))\n"
   ]
  },
  {
   "cell_type": "code",
   "execution_count": 0,
   "metadata": {
    "application/vnd.databricks.v1+cell": {
     "cellMetadata": {
      "byteLimit": 2048000,
      "rowLimit": 10000
     },
     "collapsed": true,
     "inputWidgets": {},
     "nuid": "c06373b4-d5c8-4ade-ad51-c22cd8bdede3",
     "showTitle": false,
     "tableResultSettingsMap": {},
     "title": ""
    }
   },
   "outputs": [],
   "source": [
    "#항목별 개수,평균,최대,최소값\n",
    "desc_pd = df.describe().toPandas().set_index('summary').T\n",
    "print(desc_pd)\n"
   ]
  },
  {
   "cell_type": "markdown",
   "metadata": {
    "application/vnd.databricks.v1+cell": {
     "cellMetadata": {
      "byteLimit": 2048000,
      "rowLimit": 10000
     },
     "inputWidgets": {},
     "nuid": "5020a222-0eb5-4f7d-9e95-e01071bb1bbe",
     "showTitle": false,
     "tableResultSettingsMap": {},
     "title": ""
    }
   },
   "source": [
    "##df 설명값\n"
   ]
  },
  {
   "cell_type": "markdown",
   "metadata": {
    "application/vnd.databricks.v1+cell": {
     "cellMetadata": {
      "byteLimit": 2048000,
      "rowLimit": 10000
     },
     "inputWidgets": {},
     "nuid": "f8ffb642-c717-4d27-b3d9-0f011392755a",
     "showTitle": false,
     "tableResultSettingsMap": {},
     "title": ""
    }
   },
   "source": [
    "%md\n",
    "| 변수명 | count | mean | stddev | min | max |\n",
    "|---|---|---|---|---|---|\n",
    "| 남녀구분코드 | 17674485 | 1.4751 |  | 1.0 | 2.0 |\n",
    "| 연령 | 17674485 |  |  | 20대 | 70대이상 |\n",
    "| 거주시도명 | 17674485 |  |  | 강원 | 충북 |\n",
    "| 직장시도명 | 17674485 |  |  | 강원 | 충북 |\n",
    "| Life_Stage | 17674485 |  |  | 1.Single | 7.노령 |\n",
    "| VIP등급코드 | 17674485 | 6.7254 |  | 04 | _ |\n",
    "| 최상위카드등급코드 | 17674485 | 1.7711 |  | 1 | _ |\n",
    "| 가입통신회사코드 | 17674485 |  |  | KTF | 알뜰폰 |\n",
    "| 마케팅동의여부 | 17674485 | 0.8094 |  | 0.0 | 1.0 |\n",
    "| 입회경과개월수_신용 | 17674485 | 73.9234 |  | 2.0 | 337.0 |\n",
    "| 최종카드발급경과월 | 17674485 | 21.8454 |  | 0.0 | 59.0 |\n",
    "| 탈회횟수_누적 | 17674485 | 0.5049 |  | 0.0 | 2.0 |\n",
    "| 카드신청건수 | 17674485 | 0.0885 |  | 0.0 | 1.0 |\n",
    "| 소지카드수_유효_신용 | 17674485 | 1.2672 |  | 0.0 | 4.0 |\n",
    "| 유효카드수_신용 | 17674485 | 1.5514 |  | 0.0 | 5.0 |\n",
    "| 유효카드수_체크 | 17674485 | 0.5675 |  | 0.0 | 3.0 |\n",
    "| 이용카드수_신용 | 17674485 | 1.1928 |  | 0.0 | 5.0 |\n",
    "| 이용카드수_체크 | 17674485 | 0.1612 |  | 0.0 | 2.0 |\n",
    "| _1순위카드이용금액 | 17674485 | 1121190.5189 |  | -464393.0 | 12272789.0 |\n",
    "| _1순위카드이용건수 | 17674485 | 40.0808 |  | -2.0 | 226.0 |\n",
    "| _2순위카드이용금액 | 17674485 | 342266.9331 |  | -428324.0 | 8879045.0 |\n",
    "| _2순위카드이용건수 | 17674485 | 14.5542 |  | -1.0 | 211.0 |\n",
    "| 청구금액_기본연회비_B0M | 17674485 | 12.6088 |  | 0.0 | 11268.0 |\n",
    "| 청구금액_제휴연회비_B0M | 17674485 | 35.2850 |  | 0.0 | 111896.0 |\n",
    "| 기본연회비발생여부 | 17674485 | 0.0013 |  | 0.0 | 1.0 |\n",
    "| 제휴연회비발생여부 | 17674485 | 0.0004 |  | 0.0 | 1.0 |\n",
    "| 회원여부_연체 | 17674485 | 0.0175 |  | 0.0 | 1.0 |\n",
    "| 최종탈회후경과월 | 17674485 | 27.5649 |  | 0.0 | 99.0 |\n",
    "| 탈회횟수_발급6개월이내 | 17674485 | 0.0399 |  | 0.0 | 1.0 |\n",
    "| 탈회횟수_발급1년이내 | 17674485 | 0.0628 |  | 0.0 | 1.0 |\n",
    "| 회원여부_이용가능 | 17674485 | 0.9645 |  | 0.0 | 1.0 |\n",
    "| 동의여부_한도증액안내 | 17674485 | 0.0999 |  | 0.0 | 1.0 |\n",
    "| 수신거부여부_TM | 17674485 | 0.3564 |  | 0.0 | 1.0 |\n",
    "| 수신거부여부_DM | 17674485 | 0.3146 |  | 0.0 | 1.0 |\n",
    "| 수신거부여부_메일 | 17674485 | 0.3204 |  | 0.0 | 1.0 |\n",
    "| 수신거부여부_SMS | 17674485 | 0.3705 |  | 0.0 | 1.0 |\n"
   ]
  },
  {
   "cell_type": "code",
   "execution_count": 0,
   "metadata": {
    "application/vnd.databricks.v1+cell": {
     "cellMetadata": {
      "byteLimit": 2048000,
      "rowLimit": 10000
     },
     "inputWidgets": {},
     "nuid": "39f2df60-ed2d-441e-a491-60d1bd9fb07f",
     "showTitle": false,
     "tableResultSettingsMap": {},
     "title": ""
    }
   },
   "outputs": [],
   "source": [
    "from pyspark.ml.feature import VectorAssembler\n",
    "from pyspark.ml.stat import Correlation\n",
    "\n",
    "# 1. 수치형 변수 리스트 추출\n",
    "numeric_cols = [c for c, t in df.dtypes if t in ['double', 'int']]\n",
    "\n",
    "# 2. VectorAssembler로 features 컬럼 생성\n",
    "assembler = VectorAssembler(inputCols=numeric_cols, outputCol=\"features\")\n",
    "df_vec = assembler.transform(df).select(\"features\")\n",
    "\n",
    "# 3. 피어슨 상관계수 행렬 계산\n",
    "corr_matrix = Correlation.corr(df_vec, \"features\", \"pearson\").head()[0].toArray()\n",
    "\n",
    "# 4. pandas DataFrame으로 변환해서 보기 좋게 출력\n",
    "import pandas as pd\n",
    "corr_df = pd.DataFrame(corr_matrix, index=numeric_cols, columns=numeric_cols)\n",
    "print(\"수치형 변수 간 상관계수 행렬:\")\n",
    "print(corr_df.round(3))\n",
    "\n",
    "# Databricks에서는 display()로 표 형태로도 확인 가능\n",
    "display(corr_df)\n"
   ]
  },
  {
   "cell_type": "code",
   "execution_count": 0,
   "metadata": {
    "application/vnd.databricks.v1+cell": {
     "cellMetadata": {
      "byteLimit": 2048000,
      "rowLimit": 10000
     },
     "inputWidgets": {},
     "nuid": "515971fb-979d-4c4d-a11c-4b96544dc5f1",
     "showTitle": false,
     "tableResultSettingsMap": {},
     "title": ""
    }
   },
   "outputs": [],
   "source": [
    "import matplotlib.pyplot as plt\n",
    "import seaborn as sns\n",
    "\n",
    "plt.figure(figsize=(12,10))\n",
    "sns.heatmap(corr_df, annot=True, fmt=\".2f\", cmap=\"coolwarm\", linewidths=0.5)\n",
    "plt.title(\"수치형 변수 간 상관관계 히트맵\")\n",
    "plt.xticks(rotation=45, ha='right')\n",
    "plt.yticks(rotation=0)\n",
    "plt.tight_layout()\n",
    "plt.show()\n"
   ]
  },
  {
   "cell_type": "markdown",
   "metadata": {
    "application/vnd.databricks.v1+cell": {
     "cellMetadata": {
      "byteLimit": 2048000,
      "rowLimit": 10000
     },
     "inputWidgets": {},
     "nuid": "b5e8750b-e62a-4eeb-b2d0-7081088875da",
     "showTitle": false,
     "tableResultSettingsMap": {},
     "title": ""
    }
   },
   "source": [
    "### 수치형 변수 간 상관관계 히트맵 해석\n",
    "\n",
    "#### 1. 강한 양의 상관관계 (0.8 이상)\n",
    "- **_2순위카드이용금액 ↔ _2순위카드이용건수** : 0.95  \n",
    "  → 두 변수는 거의 완전히 같이 움직임. 정보 중복이 크므로 둘 중 하나만 남겨도 무방.\n",
    "- **_1순위카드이용금액 ↔ _1순위카드이용건수** : 0.75  \n",
    "  → 카드이용금액이 많을수록 이용건수도 많음(카드 사용량과 사용빈도는 밀접하게 연관).\n",
    "- **_1순위카드이용금액 ↔ _2순위카드이용금액** : 0.73  \n",
    "  → 1순위와 2순위 카드의 이용금액 간에도 강한 상관관계.\n",
    "- **_1순위카드이용건수 ↔ _2순위카드이용건수** : 0.78  \n",
    "  → 1순위와 2순위 카드의 이용건수도 강한 상관관계.\n",
    "\n",
    "#### 2. 중간 정도의 양의 상관관계 (0.4~0.7)\n",
    "- **유효카드수_신용 ↔ 소지카드수_유효_신용** : 0.67  \n",
    "  → 신용카드 유효 보유수와 유효카드수는 비슷하게 움직임.\n",
    "- **이용카드수_신용 ↔ 유효카드수_신용** : 0.69  \n",
    "  → 실제 이용 신용카드 수와 유효 신용카드 수도 밀접하게 연관.\n",
    "- **_1순위카드이용금액 ↔ 이용카드수_신용** : 0.49  \n",
    "  → 카드 이용금액이 많을수록 실제 이용 카드 수도 많아지는 경향.\n",
    "\n",
    "#### 3. 낮은 상관관계 (0.2 이하, 거의 없음)\n",
    "- **입회경과개월수_신용, 최종카드발급경과월, 탈회횟수_누적, 카드신청건수 등**  \n",
    "  → 대부분의 변수와 상관관계가 낮음. 독립적인 정보 제공.\n",
    "\n",
    "#### 4. 연회비 관련 변수\n",
    "- **청구금액_기본연회비_B0M ↔ 기본연회비발생여부** : 0.98  \n",
    "  → 연회비 금액과 연회비 발생여부는 거의 완벽하게 일치(파생관계).\n",
    "- **청구금액_제휴연회비_B0M ↔ 제휴연회비발생여부** : 1.00  \n",
    "  → 제휴 연회비 금액과 발생여부도 완전히 일치.\n",
    "\n",
    "#### 5. 특이점\n",
    "- **_1순위, _2순위 카드 관련 변수들은 서로 중간~강한 상관관계**  \n",
    "  → 카드 이용 패턴이 전반적으로 비슷하게 움직임.\n",
    "- **연회비 관련 변수들은 대부분 다른 변수와는 상관관계가 거의 없음**  \n",
    "  → 독립적인 특성.\n",
    "\n",
    "#### 6. 정리 및 실무적 시사점\n",
    "- **정보가 중복되는 변수(상관계수 0.8~1.0)는 컬럼 축소 시 하나만 남겨도 무방**\n",
    "- **상관관계가 낮은 변수는 독립적 특성이므로 군집분석 등에서 정보 다양성 확보에 유리**\n",
    "- **연회비 관련 파생 변수는 한 쪽만 남겨도 해석에 문제 없음**\n",
    "\n",
    "---\n"
   ]
  },
  {
   "cell_type": "markdown",
   "metadata": {
    "application/vnd.databricks.v1+cell": {
     "cellMetadata": {
      "byteLimit": 2048000,
      "rowLimit": 10000
     },
     "inputWidgets": {},
     "nuid": "5d9f4eee-a88c-4b22-b239-11da428716a1",
     "showTitle": false,
     "tableResultSettingsMap": {},
     "title": ""
    }
   },
   "source": [
    "다중공선성 확인용"
   ]
  },
  {
   "cell_type": "code",
   "execution_count": 0,
   "metadata": {
    "application/vnd.databricks.v1+cell": {
     "cellMetadata": {
      "byteLimit": 2048000,
      "rowLimit": 10000
     },
     "inputWidgets": {},
     "nuid": "51d6aadf-5f90-457b-bc19-67a01a457637",
     "showTitle": false,
     "tableResultSettingsMap": {},
     "title": ""
    }
   },
   "outputs": [],
   "source": [
    "# 수치형 컬럼만 추출\n",
    "#numeric_cols = [c for c, t in df.dtypes if t in ['double', 'int']]\n",
    "#df_pd = df.select(numeric_cols).toPandas()\n",
    "#메모리 많다고 꺼져버림 ㅠ"
   ]
  },
  {
   "cell_type": "code",
   "execution_count": 0,
   "metadata": {
    "application/vnd.databricks.v1+cell": {
     "cellMetadata": {
      "byteLimit": 2048000,
      "rowLimit": 10000
     },
     "inputWidgets": {},
     "nuid": "b545437d-c00d-4351-8f11-4658345912ae",
     "showTitle": false,
     "tableResultSettingsMap": {},
     "title": ""
    }
   },
   "outputs": [],
   "source": [
    "# 1만건만 샘플링\n",
    "numeric_cols = [c for c, t in df.dtypes if t in ['double', 'int']]\n",
    "\n",
    "df_sample = df.select(numeric_cols).sample(False, 10000/df.count(), seed=42)\n",
    "df_pd = df_sample.limit(10000).toPandas()\n"
   ]
  },
  {
   "cell_type": "code",
   "execution_count": 0,
   "metadata": {
    "application/vnd.databricks.v1+cell": {
     "cellMetadata": {
      "byteLimit": 2048000,
      "rowLimit": 10000
     },
     "inputWidgets": {},
     "nuid": "aabe1e94-9ff7-4f9a-a208-020041ebe4f3",
     "showTitle": false,
     "tableResultSettingsMap": {},
     "title": ""
    }
   },
   "outputs": [],
   "source": [
    "# VIF 계산\n",
    "\n",
    "\n",
    "from statsmodels.stats.outliers_influence import variance_inflation_factor\n",
    "\n",
    "\n",
    "vif_data = []\n",
    "for i in range(len(df_pd.columns)):\n",
    "    vif = variance_inflation_factor(df_pd.values, i)\n",
    "    vif_data.append({'변수명': df_pd.columns[i], 'VIF': vif})\n",
    "\n",
    "import pandas as pd\n",
    "vif_df = pd.DataFrame(vif_data)\n",
    "print(vif_df.sort_values('VIF', ascending=False))\n"
   ]
  },
  {
   "cell_type": "code",
   "execution_count": 0,
   "metadata": {
    "application/vnd.databricks.v1+cell": {
     "cellMetadata": {
      "byteLimit": 2048000,
      "rowLimit": 10000
     },
     "inputWidgets": {},
     "nuid": "0577223c-462e-45fe-93d2-99848f23bea0",
     "showTitle": false,
     "tableResultSettingsMap": {},
     "title": ""
    }
   },
   "outputs": [],
   "source": [
    "from statsmodels.stats.outliers_influence import variance_inflation_factor\n",
    "import pandas as pd\n",
    "import matplotlib.pyplot as plt\n",
    "\n",
    "# 2. VIF 계산\n",
    "vif_data = []\n",
    "for i in range(len(df_pd.columns)):\n",
    "    vif = variance_inflation_factor(df_pd.values, i)\n",
    "    vif_data.append({'변수명': df_pd.columns[i], 'VIF': vif})\n",
    "\n",
    "vif_df = pd.DataFrame(vif_data).sort_values('VIF', ascending=False)\n",
    "\n",
    "# 3. Spark DataFrame으로 변환(필요시)\n",
    "vif_spark_df = spark.createDataFrame(vif_df)\n",
    "\n",
    "# 4. VIF 시각화 (matplotlib 활용)\n",
    "plt.figure(figsize=(10,6))\n",
    "plt.barh(vif_df['변수명'], vif_df['VIF'], color='skyblue')\n",
    "plt.xlabel('VIF')\n",
    "plt.title('Variance Inflation Factor (VIF) by Variable')\n",
    "plt.gca().invert_yaxis()  # 높은 VIF가 위로 오도록\n",
    "plt.show()\n"
   ]
  },
  {
   "cell_type": "code",
   "execution_count": 0,
   "metadata": {
    "application/vnd.databricks.v1+cell": {
     "cellMetadata": {
      "byteLimit": 2048000,
      "rowLimit": 10000
     },
     "inputWidgets": {},
     "nuid": "25210aee-77ca-49cc-a31e-dd1d206d971f",
     "showTitle": false,
     "tableResultSettingsMap": {},
     "title": ""
    }
   },
   "outputs": [],
   "source": [
    "import numpy as np\n",
    "import matplotlib.pyplot as plt\n",
    "import pandas as pd\n",
    "from statsmodels.stats.outliers_influence import variance_inflation_factor\n",
    "\n",
    "# VIF 계산\n",
    "vif_data = []\n",
    "for i in range(len(df_pd.columns)):\n",
    "    vif = variance_inflation_factor(df_pd.values, i)\n",
    "    vif_data.append({'변수명': df_pd.columns[i], 'VIF': vif})\n",
    "\n",
    "vif_df = pd.DataFrame(vif_data)\n",
    "\n",
    "# 로그 변환 (log1p는 log(1 + x), 값이 0일 때도 안전함)\n",
    "vif_df['log_VIF'] = np.log1p(vif_df['VIF'])\n",
    "\n",
    "# 정렬\n",
    "vif_df = vif_df.sort_values('log_VIF', ascending=False)\n",
    "\n",
    "# 시각화\n",
    "plt.figure(figsize=(10,6))\n",
    "plt.barh(vif_df['변수명'], vif_df['log_VIF'], color='skyblue')\n",
    "plt.xlabel('log(1 + VIF)')\n",
    "plt.title('Log-Scaled Variance Inflation Factor (VIF)')\n",
    "plt.gca().invert_yaxis()\n",
    "plt.tight_layout()\n",
    "plt.show()\n"
   ]
  },
  {
   "cell_type": "markdown",
   "metadata": {
    "application/vnd.databricks.v1+cell": {
     "cellMetadata": {
      "byteLimit": 2048000,
      "rowLimit": 10000
     },
     "inputWidgets": {},
     "nuid": "f594163e-5157-4542-99c1-e98dadb7fa4d",
     "showTitle": false,
     "tableResultSettingsMap": {},
     "title": ""
    }
   },
   "source": [
    "### 다중공선성(VIF) 분석 결과\n",
    "\n",
    "| 변수명                | VIF           | 해석/비고                       |\n",
    "|----------------------|---------------|----------------------------------|\n",
    "| 청구금액_제휴연회비_B0M | 212,548,100   | **심각한 다중공선성 ** |\n",
    "| 제휴연회비발생여부       | 212,534,100   | **심각한 다중공선성 ** |\n",
    "| 유효카드수_신용         | 26.21         | 다중공선성 매우 높음      |\n",
    "| 소지카드수_유효_신용     | 23.62         | 다중공선성 매우 높음       |\n",
    "| _2순위카드이용건수      | 17.01         | 다중공선성 매우 높음      |\n",
    "| _2순위카드이용금액      | 15.29         | 다중공선성 매우 높음      |\n",
    "| 기본연회비발생여부       | 13.08         | 다중공선성 매우 높음     |\n",
    "| 이용카드수_신용         | 9.85          | 다중공선성 높음            |\n",
    "| 청구금액_기본연회비_B0M  | 9.83          | 다중공선성 높음              |\n",
    "| _1순위카드이용건수      | 4.87          | 양호                                 |\n",
    "| _1순위카드이용금액      | 4.72          | 양호                                 |\n",
    "| 최종카드발급경과월       | 2.92          | 양호                                 |\n",
    "| 입회경과개월수_신용      | 2.45          | 양호                                 |\n",
    "| 유효카드수_체크         | 2.17          | 양호                                 |\n",
    "| 이용카드수_체크         | 1.72          | 양호                                 |\n",
    "| 탈회횟수_누적           | 1.51          | 양호                                 |\n",
    "| 카드신청건수            | 1.17          | 양호                                 |\n",
    "\n"
   ]
  },
  {
   "cell_type": "markdown",
   "metadata": {
    "application/vnd.databricks.v1+cell": {
     "cellMetadata": {
      "byteLimit": 2048000,
      "rowLimit": 10000
     },
     "inputWidgets": {},
     "nuid": "6fde3f1d-b812-499a-90ca-18a1d9d4ec16",
     "showTitle": false,
     "tableResultSettingsMap": {},
     "title": ""
    }
   },
   "source": [
    "다중공선성이 높은 항목은 존재하지만, 파생변수인점, \n",
    "\n",
    "서로 누가봐도 연관관계가 있는 변수끼리 영향을 끼쳐서\n",
    "\n",
    "그렇다는 점을 제외하면 문제될게 없다."
   ]
  },
  {
   "cell_type": "markdown",
   "metadata": {
    "application/vnd.databricks.v1+cell": {
     "cellMetadata": {
      "byteLimit": 2048000,
      "rowLimit": 10000
     },
     "inputWidgets": {},
     "nuid": "d8e8011f-785a-4486-a962-88bc5f336228",
     "showTitle": false,
     "tableResultSettingsMap": {},
     "title": ""
    }
   },
   "source": [
    "로그변환전 분포 왜도 확인(분포 치우친 정도 )"
   ]
  },
  {
   "cell_type": "code",
   "execution_count": 0,
   "metadata": {
    "application/vnd.databricks.v1+cell": {
     "cellMetadata": {
      "byteLimit": 2048000,
      "rowLimit": 10000
     },
     "inputWidgets": {},
     "nuid": "4a46e655-d002-4af0-825a-675c585b62f8",
     "showTitle": false,
     "tableResultSettingsMap": {},
     "title": ""
    }
   },
   "outputs": [],
   "source": [
    "import matplotlib.pyplot as plt\n",
    "import math\n",
    "\n",
    "num_plots_per_page = 4\n",
    "num_cols_len = len(numeric_cols)\n",
    "num_pages = math.ceil(num_cols_len / num_plots_per_page)\n",
    "\n",
    "for page in range(num_pages):\n",
    "    start_idx = page * num_plots_per_page\n",
    "    end_idx = min(start_idx + num_plots_per_page, num_cols_len)\n",
    "    cols_subset = numeric_cols[start_idx:end_idx]\n",
    "    \n",
    "    fig, axes = plt.subplots(nrows=1, ncols=num_plots_per_page, figsize=(6*num_plots_per_page, 4))\n",
    "    \n",
    "    # axes가 1개일 때도 리스트로 변환\n",
    "    if num_plots_per_page == 1:\n",
    "        axes = [axes]\n",
    "    \n",
    "    # 실제 데이터가 있는 축만 히스토그램 그림\n",
    "    for i, col in enumerate(cols_subset):\n",
    "        df_pd[col].hist(bins=50, ax=axes[i])\n",
    "        axes[i].set_title(col)\n",
    "    \n",
    "    # 남은 subplot(빈 축)은 숨김\n",
    "    for j in range(len(cols_subset), num_plots_per_page):\n",
    "        axes[j].axis('off')\n",
    "    \n",
    "    plt.tight_layout()\n",
    "    plt.show()\n"
   ]
  },
  {
   "cell_type": "markdown",
   "metadata": {
    "application/vnd.databricks.v1+cell": {
     "cellMetadata": {
      "byteLimit": 2048000,
      "rowLimit": 10000
     },
     "inputWidgets": {},
     "nuid": "26075b40-41ac-45c3-81ca-d3bd3b935f3a",
     "showTitle": false,
     "tableResultSettingsMap": {},
     "title": ""
    }
   },
   "source": [
    "### 주요 수치형 변수 분포 해석 (1~17번, 히스토그램 기반)\n",
    "(필요한번호는 1 10 11 12 13)\n",
    "#### 1. 입회경과개월수_신용\n",
    "- 오른쪽(positive)으로 긴 꼬리가 있는 전형적인 치우친 분포\n",
    "- **로그 변환 권장**  \n",
    "- 대부분 고객이 가입 후 경과 개월이 짧고, 일부만 매우 길다\n",
    "\n",
    "#### 2. 최종카드발급경과월\n",
    "- 비교적 완만한 분포, 특정 구간에 빈도 집중\n",
    "- **로그 변환 필요성 낮음**\n",
    "\n",
    "#### 3. 탈회횟수_누적\n",
    "- 대부분 0, 일부만 1~2 (이산형, 한쪽에 몰림)\n",
    "- **로그 변환 불필요**  \n",
    "- 그대로 이진/이산 변수로 사용\n",
    "\n",
    "#### 4. 카드신청건수\n",
    "- 거의 대부분 0, 일부만 1 (이진형)\n",
    "- **로그 변환 불필요**\n",
    "\n",
    "#### 5. 소지카드수_유효_신용\n",
    "- 1에 빈도 집중, 일부만 2~3 (이산형)\n",
    "- **로그 변환 불필요**\n",
    "\n",
    "#### 6. 유효카드수_신용\n",
    "- 1~2에 빈도 집중, 3~5는 소수\n",
    "- **로그 변환 불필요**\n",
    "\n",
    "#### 7. 유효카드수_체크\n",
    "- 0~1에 빈도 집중, 2~3은 소수\n",
    "- **로그 변환 불필요**\n",
    "\n",
    "#### 8. 이용카드수_신용\n",
    "- 1에 빈도 집중, 2~4는 소수\n",
    "- **로그 변환 불필요**\n",
    "\n",
    "#### 9. 이용카드수_체크\n",
    "- 대부분 0, 일부만 1 (이진형)\n",
    "- **로그 변환 불필요**\n",
    "\n",
    "#### 10. _1순위카드이용금액\n",
    "- 극단적으로 오른쪽으로 치우친 분포(극단값 많음)\n",
    "- **로그 변환 강력 권장**  \n",
    "- 대부분 소액, 일부만 고액\n",
    "\n",
    "#### 11. _1순위카드이용건수\n",
    "- 오른쪽 꼬리, 치우친 분포\n",
    "- **로그 변환 권장**\n",
    "\n",
    "#### 12. _2순위카드이용금액\n",
    "- 대부분 0~소액, 극소수만 고액\n",
    "- **로그 변환 권장**\n",
    "\n",
    "#### 13. _2순위카드이용건수\n",
    "- 오른쪽 꼬리, 치우친 분포\n",
    "- **로그 변환 권장**\n",
    "\n",
    "#### 14. 청구금액_기본연회비_B0M\n",
    "- 거의 모든 값이 0, 일부만 큰 값(연회비 발생 고객 소수)\n",
    "- **로그 변환 효과 없음**  \n",
    "- 이진 변수로 처리하거나 그대로 사용\n",
    "\n",
    "#### 15. 청구금액_제휴연회비_B0M\n",
    "- 거의 모든 값이 0, 일부만 큰 값(제휴 연회비 발생 고객 소수)\n",
    "- **로그 변환 효과 없음**\n",
    "\n",
    "#### 16. 기본연회비발생여부\n",
    "- 대부분 0, 극소수만 1 (이진형)\n",
    "- **로그 변환 불필요**\n",
    "\n",
    "#### 17. (추가 변수)  \n",
    "- 이미지에 포함된 17번째 변수도 위와 동일한 기준으로 해석 가능  \n",
    "- 대부분 이진/이산형이거나, 극단적으로 치우친 분포는 로그 변환 효과 없음\n",
    "\n",
    "---\n",
    "\n",
    "#### **정리**\n",
    "- **로그 변환 권장:**  \n",
    "  - 입회경과개월수_신용, _1순위카드이용금액, _1순위카드이용건수, _2순위카드이용금액, _2순위카드이용건수\n",
    "- **로그 변환 불필요:**  \n",
    "  - 이진/이산 변수(탈회횟수_누적, 카드신청건수, 소지카드수_유효_신용 등), 연회비 관련 변수\n",
    "\n",
    "- 이진/이산 변수는 그대로 사용  \n",
    "- 연속형, 극단값 많은 변수는 로그 변환 후 군집분석/모델링에 활용\n",
    "\n",
    "---\n"
   ]
  },
  {
   "cell_type": "markdown",
   "metadata": {
    "application/vnd.databricks.v1+cell": {
     "cellMetadata": {
      "byteLimit": 2048000,
      "rowLimit": 10000
     },
     "inputWidgets": {},
     "nuid": "83953e8a-6a5f-400d-a060-3df8b582e5bd",
     "showTitle": false,
     "tableResultSettingsMap": {},
     "title": ""
    }
   },
   "source": [
    "### 로그 변환이 필요한 변수 요약 및 해석\n",
    "\n",
    "#### 1. 입회경과개월수_신용\n",
    "- 오른쪽(positive)으로 꼬리가 긴 치우친 분포\n",
    "- 대부분 고객은 가입 후 경과 개월이 짧고, 일부만 매우 길다\n",
    "- **로그 변환 적용 시 분포가 더 대칭에 가까워져 군집분석, 모델링에 유리**\n",
    "\n",
    "#### 2. _1순위카드이용금액\n",
    "- 극단적으로 오른쪽으로 치우친 분포(극단값 다수)\n",
    "- 대부분 소액, 일부만 고액 이용\n",
    "- **로그 변환 적용 시 이상치 영향이 줄고, 분포가 안정됨**\n",
    "\n",
    "#### 3. _1순위카드이용건수\n",
    "- 오른쪽 꼬리, 치우친 분포\n",
    "- 카드 사용 빈도가 소수에 몰려 있고, 일부만 매우 많음\n",
    "- **로그 변환 적용 시 분포가 더 균등해짐**\n",
    "\n",
    "#### 4. _2순위카드이용금액\n",
    "- 대부분 0~소액, 극소수만 고액\n",
    "- **로그 변환 적용 시 극단값 영향 감소, 분포 개선**\n",
    "\n",
    "#### 5. _2순위카드이용건수\n",
    "- 오른쪽 꼬리, 치우친 분포\n",
    "- **로그 변환 적용 시 분포가 더 대칭적으로 변함**\n",
    "\n",
    "---\n",
    "\n",
    "#### **정리**\n",
    "- 위 5개 변수는 모두 연속형 수치 데이터이며,  \n",
    "  **값이 0~소수에 몰려 있고, 극단적으로 큰 값이 일부 존재하는 전형적인 치우친 분포**\n",
    "- **로그 변환(log1p) 적용을 강력히 권장**,  \n",
    "  변환 후 군집분석/모델링의 성능과 해석력이 향상가능\n",
    "\n",
    "---\n",
    "설명력을 잃지 않을까 고민햇지만 \n",
    "로그변환을 하면 소수의 큰값이 압축되어 더 고른 변화\n",
    "참고로 아래껀 로그변환한걸 새로 추가한 개념\n"
   ]
  },
  {
   "cell_type": "code",
   "execution_count": 0,
   "metadata": {
    "application/vnd.databricks.v1+cell": {
     "cellMetadata": {
      "byteLimit": 2048000,
      "rowLimit": 10000
     },
     "inputWidgets": {},
     "nuid": "c727dd7e-4441-4ab2-81c7-023dfa5a9cdf",
     "showTitle": false,
     "tableResultSettingsMap": {},
     "title": ""
    }
   },
   "outputs": [],
   "source": [
    "#로그변환\n",
    "from pyspark.sql.functions import log1p\n",
    "\n",
    "log_cols = [\n",
    "    \"입회경과개월수_신용\",\n",
    "    \"_1순위카드이용금액\",\n",
    "    \"_1순위카드이용건수\",\n",
    "    \"_2순위카드이용금액\",\n",
    "    \"_2순위카드이용건수\"\n",
    "]\n",
    "\n",
    "for col_name in log_cols:\n",
    "    df = df.withColumn(f\"log_{col_name}\", log1p(col_name))\n",
    "\n"
   ]
  },
  {
   "cell_type": "code",
   "execution_count": 0,
   "metadata": {
    "application/vnd.databricks.v1+cell": {
     "cellMetadata": {
      "byteLimit": 2048000,
      "rowLimit": 10000
     },
     "inputWidgets": {},
     "nuid": "81114f4c-d649-4e2d-ab08-7a04ec4bdb30",
     "showTitle": false,
     "tableResultSettingsMap": {},
     "title": ""
    }
   },
   "outputs": [],
   "source": [
    "# 로그변환 컬럼\n",
    "log_cols = [\n",
    "    \"log_입회경과개월수_신용\",\n",
    "    \"log__1순위카드이용금액\",\n",
    "    \"log__1순위카드이용건수\",\n",
    "    \"log__2순위카드이용금액\",\n",
    "    \"log__2순위카드이용건수\"\n",
    "]\n",
    "\n",
    "# 기본 수치형 컬럼 (이진/이산형, 로그변환 불필요)\n",
    "base_cols = [\n",
    "    \"최종카드발급경과월\",\n",
    "    \"탈회횟수_누적\",\n",
    "    \"카드신청건수\",\n",
    "    \"소지카드수_유효_신용\",\n",
    "    \"유효카드수_신용\",\n",
    "    \"유효카드수_체크\",\n",
    "    \"이용카드수_신용\",\n",
    "    \"이용카드수_체크\",\n",
    "    \"기본연회비발생여부\",\n",
    "    \"제휴연회비발생여부\"\n",
    "]\n"
   ]
  },
  {
   "cell_type": "code",
   "execution_count": 0,
   "metadata": {
    "application/vnd.databricks.v1+cell": {
     "cellMetadata": {
      "byteLimit": 2048000,
      "rowLimit": 10000
     },
     "inputWidgets": {},
     "nuid": "3833c598-dac2-400d-ae71-cc76ac421606",
     "showTitle": false,
     "tableResultSettingsMap": {},
     "title": ""
    }
   },
   "outputs": [],
   "source": [
    "# 2. 로그변환 컬럼과 기본 컬럼의 null 값 확인 및 처리\n",
    "# (필요시 null이 있는 행 삭제)\n",
    "df = df.na.drop(subset=log_cols + base_cols)\n",
    "\n",
    "# 3. 로그변환 변수 벡터화 및 표준화\n",
    "assembler_log = VectorAssembler(\n",
    "    inputCols=log_cols,\n",
    "    outputCol=\"log_features\",\n",
    "    handleInvalid=\"keep\"\n",
    ")\n",
    "df_log = assembler_log.transform(df)\n",
    "\n",
    "scaler_log = StandardScaler(\n",
    "    inputCol=\"log_features\",\n",
    "    outputCol=\"scaled_log_features\",\n",
    "    withMean=True,\n",
    "    withStd=True\n",
    ")\n",
    "df_log_scaled = scaler_log.fit(df_log).transform(df_log)\n"
   ]
  },
  {
   "cell_type": "code",
   "execution_count": 0,
   "metadata": {
    "application/vnd.databricks.v1+cell": {
     "cellMetadata": {
      "byteLimit": 2048000,
      "rowLimit": 10000
     },
     "inputWidgets": {},
     "nuid": "8d6f5907-73a4-43ed-abce-32671e3f406c",
     "showTitle": false,
     "tableResultSettingsMap": {},
     "title": ""
    }
   },
   "outputs": [],
   "source": [
    "# 4. 기본 변수 벡터화 및 표준화\n",
    "assembler_base = VectorAssembler(\n",
    "    inputCols=base_cols,\n",
    "    outputCol=\"base_features\",\n",
    "    handleInvalid=\"keep\"\n",
    ")\n",
    "df_base = assembler_base.transform(df_log_scaled)\n",
    "\n",
    "scaler_base = StandardScaler(\n",
    "    inputCol=\"base_features\",\n",
    "    outputCol=\"scaled_base_features\",\n",
    "    withMean=True,\n",
    "    withStd=True\n",
    ")\n",
    "df_all_scaled = scaler_base.fit(df_base).transform(df_base)"
   ]
  },
  {
   "cell_type": "code",
   "execution_count": 0,
   "metadata": {
    "application/vnd.databricks.v1+cell": {
     "cellMetadata": {
      "byteLimit": 2048000,
      "rowLimit": 10000
     },
     "inputWidgets": {},
     "nuid": "453075e6-846d-4d4f-8f91-13f3d0b1c87d",
     "showTitle": false,
     "tableResultSettingsMap": {},
     "title": ""
    }
   },
   "outputs": [],
   "source": [
    "# 5. 최종 Feature Vector 합치기\n",
    "final_assembler = VectorAssembler(\n",
    "    inputCols=[\"scaled_log_features\", \"scaled_base_features\"],\n",
    "    outputCol=\"final_features\"\n",
    ")\n",
    "df_final = final_assembler.transform(df_all_scaled)\n",
    "\n",
    "# df_final의 \"final_features\" 컬럼을 군집분석 등에서 사용"
   ]
  },
  {
   "cell_type": "code",
   "execution_count": 0,
   "metadata": {
    "application/vnd.databricks.v1+cell": {
     "cellMetadata": {
      "byteLimit": 2048000,
      "rowLimit": 10000
     },
     "inputWidgets": {},
     "nuid": "5c71ca4e-1092-494d-b7e3-99684070fb71",
     "showTitle": false,
     "tableResultSettingsMap": {},
     "title": ""
    }
   },
   "outputs": [],
   "source": [
    "spark.sql(\"DROP TABLE IF EXISTS database_pjt.df_final\")\n",
    "df_final.write.format(\"delta\").mode(\"overwrite\").saveAsTable(\"database_pjt.df_final\")\n"
   ]
  },
  {
   "cell_type": "code",
   "execution_count": 0,
   "metadata": {
    "application/vnd.databricks.v1+cell": {
     "cellMetadata": {
      "byteLimit": 2048000,
      "rowLimit": 10000
     },
     "inputWidgets": {},
     "nuid": "01d98502-4508-4f65-9e3c-8e1078383486",
     "showTitle": false,
     "tableResultSettingsMap": {},
     "title": ""
    }
   },
   "outputs": [],
   "source": [
    "# 저장 후 테이블 목록 확인\n",
    "spark.sql(f\"SHOW TABLES IN {db_name}\").show()\n",
    "\n",
    "# 저장된 테이블 불러오기 및 샘플 확인\n",
    "df_final = spark.read.format(\"delta\").table(table_name)\n",
    "df_final.show(3)\n"
   ]
  },
  {
   "cell_type": "markdown",
   "metadata": {
    "application/vnd.databricks.v1+cell": {
     "cellMetadata": {
      "byteLimit": 2048000,
      "rowLimit": 10000
     },
     "inputWidgets": {},
     "nuid": "64caef2a-2568-475a-b664-b328ce55e6a3",
     "showTitle": false,
     "tableResultSettingsMap": {},
     "title": ""
    }
   },
   "source": [
    "# 군집분석"
   ]
  },
  {
   "cell_type": "code",
   "execution_count": 0,
   "metadata": {
    "application/vnd.databricks.v1+cell": {
     "cellMetadata": {
      "byteLimit": 2048000,
      "rowLimit": 10000
     },
     "inputWidgets": {},
     "nuid": "fd8b2260-e288-4469-b760-21f74c429268",
     "showTitle": false,
     "tableResultSettingsMap": {},
     "title": ""
    }
   },
   "outputs": [],
   "source": [
    "print(df_final.columns)\n"
   ]
  },
  {
   "cell_type": "code",
   "execution_count": 0,
   "metadata": {
    "application/vnd.databricks.v1+cell": {
     "cellMetadata": {
      "byteLimit": 2048000,
      "rowLimit": 10000
     },
     "collapsed": true,
     "inputWidgets": {},
     "nuid": "2e6515e8-0601-4162-b552-286b54ffb471",
     "showTitle": false,
     "tableResultSettingsMap": {},
     "title": ""
    }
   },
   "outputs": [],
   "source": [
    "df_final.select(\"final_features\").show(truncate=False)\n",
    "\n"
   ]
  },
  {
   "cell_type": "markdown",
   "metadata": {
    "application/vnd.databricks.v1+cell": {
     "cellMetadata": {
      "byteLimit": 2048000,
      "rowLimit": 10000
     },
     "inputWidgets": {},
     "nuid": "e3d7dd5c-7007-4870-aecc-c52ffbbb10f2",
     "showTitle": false,
     "tableResultSettingsMap": {},
     "title": ""
    }
   },
   "source": [
    "다중공선성 체크해본 변수\n",
    "\n",
    "청구금액_제휴연회비_B0M /제휴연회비발생여부\n",
    "\n",
    "유효카드수_신용 / 소지카드수_유효_신용/이용카드수_신용\n",
    "\n",
    "_2순위카드이용건수/_2순위카드이용금액\n",
    "\n",
    "기본연회비발생여부/청구금액_기본연회비_B0M"
   ]
  },
  {
   "cell_type": "code",
   "execution_count": 0,
   "metadata": {
    "application/vnd.databricks.v1+cell": {
     "cellMetadata": {
      "byteLimit": 2048000,
      "rowLimit": 10000
     },
     "collapsed": true,
     "inputWidgets": {},
     "nuid": "3da06788-34b6-41a8-bb1d-267809304315",
     "showTitle": false,
     "tableResultSettingsMap": {},
     "title": ""
    }
   },
   "outputs": [],
   "source": [
    "# 돌리지 말것 돌리더라도 23분걸리니 얼른 취소할것\n",
    "# 모든행 다 검사 결과 결측치도 무한대도 ㅇ벗어 그럼 그냥 단순 메모리 이슈?\n",
    "\n",
    "from pyspark.sql.functions import col, sum\n",
    "\n",
    "# 결측치 확인\n",
    "null_counts = df_final.select([sum(col(c).isNull().cast(\"int\")).alias(c) for c in df_final.columns])\n",
    "null_counts.show(truncate=False)\n",
    "\n",
    "# 무한대 값 확인 (로그 변환에서 발생한 -inf/inf)\n",
    "inf_check = df_final.select([sum(col(c).isin(float('inf'), -float('inf')).cast(\"int\")).alias(c) for c in log_cols])\n",
    "inf_check.show(truncate=False)\n"
   ]
  },
  {
   "cell_type": "code",
   "execution_count": 0,
   "metadata": {
    "application/vnd.databricks.v1+cell": {
     "cellMetadata": {
      "byteLimit": 2048000,
      "rowLimit": 10000
     },
     "collapsed": true,
     "inputWidgets": {},
     "nuid": "6ec4d3b5-3648-4424-b66c-451c381d1056",
     "showTitle": false,
     "tableResultSettingsMap": {},
     "title": ""
    }
   },
   "outputs": [],
   "source": [
    "#돌리지마\n",
    "#대참사다  클러스터링하는데 메모리 부족 이슈남 어카지? 샘플링 20퍼 10퍼 해서해야나?\n",
    "# K=4로 한번\n",
    "from pyspark.ml.clustering import KMeans\n",
    "\n",
    "k = 4 \n",
    "kmeans = KMeans(featuresCol=\"final_features\", k=k, seed=42)\n",
    "model = kmeans.fit(df_final)\n",
    "df_clustered = model.transform(df_final)\n",
    "\n",
    "# 군집별 인원수, 평균 등 프로파일링\n",
    "df_clustered.groupBy(\"prediction\").count().show()\n",
    "df_clustered.groupBy(\"prediction\").mean().show()\n"
   ]
  },
  {
   "cell_type": "code",
   "execution_count": 0,
   "metadata": {
    "application/vnd.databricks.v1+cell": {
     "cellMetadata": {
      "byteLimit": 2048000,
      "rowLimit": 10000
     },
     "collapsed": true,
     "inputWidgets": {},
     "nuid": "81954dc7-4b3b-4619-8bda-4303bbb7915f",
     "showTitle": false,
     "tableResultSettingsMap": {},
     "title": ""
    }
   },
   "outputs": [],
   "source": [
    "# 2. 데이터 캐싱\n",
    "df_clustering = df_final.select(\"final_features\").cache()\n",
    "df_clustering.count()\n",
    "\n",
    "# 3. K-means 파라미터 설정\n",
    "kmeans = KMeans(\n",
    "    featuresCol=\"final_features\",\n",
    "    k=4,\n",
    "    initMode=\"k-means||\",\n",
    "    initSteps=5,\n",
    "    maxIter=50,\n",
    "    seed=42\n",
    ")\n",
    "\n",
    "# 4. 모델 학습\n",
    "model = kmeans.fit(df_clustering)\n",
    "\n",
    "# 5. 캐싱 해제\n",
    "df_clustering.unpersist()"
   ]
  },
  {
   "cell_type": "code",
   "execution_count": 0,
   "metadata": {
    "application/vnd.databricks.v1+cell": {
     "cellMetadata": {
      "byteLimit": 2048000,
      "rowLimit": 10000
     },
     "collapsed": true,
     "inputWidgets": {},
     "nuid": "0aebc9b1-2486-4bab-90a3-f55fdfe3db5d",
     "showTitle": false,
     "tableResultSettingsMap": {},
     "title": ""
    }
   },
   "outputs": [],
   "source": [
    "# 10% 샘플 추출\n",
    "df_sample = df_final.select(\"final_features\").sample(False, 0.1, seed=42).cache()\n",
    "df_sample.count()  # 캐싱 트리거\n",
    "\n",
    "# K-means 모델 학습\n",
    "kmeans = KMeans(\n",
    "    featuresCol=\"final_features\",\n",
    "    k=4,\n",
    "    initMode=\"k-means||\",\n",
    "    initSteps=5,\n",
    "    maxIter=50,\n",
    "    seed=42\n",
    ")\n",
    "model = kmeans.fit(df_sample)\n",
    "\n",
    "# 샘플 데이터 정리\n",
    "df_sample.unpersist()\n"
   ]
  },
  {
   "cell_type": "code",
   "execution_count": 0,
   "metadata": {
    "application/vnd.databricks.v1+cell": {
     "cellMetadata": {
      "byteLimit": 2048000,
      "rowLimit": 10000
     },
     "inputWidgets": {},
     "nuid": "cee93e24-c484-4e71-b9cb-f518ba935d2f",
     "showTitle": false,
     "tableResultSettingsMap": {},
     "title": ""
    }
   },
   "outputs": [],
   "source": [
    "#최적값 찾기\n",
    "from pyspark.ml.evaluation import ClusteringEvaluator\n",
    "\n",
    "silhouette_scores = []\n",
    "for k in range(2, 9):\n",
    "    kmeans = KMeans(featuresCol=\"final_features\", k=k, seed=42)\n",
    "    model = kmeans.fit(df_final)\n",
    "    predictions = model.transform(df_final)\n",
    "    evaluator = ClusteringEvaluator(featuresCol=\"final_features\", metricName=\"silhouette\", distanceMeasure=\"squaredEuclidean\")\n",
    "    score = evaluator.evaluate(predictions)\n",
    "    silhouette_scores.append((k, score))\n",
    "    print(f\"k={k}, silhouette score={score}\")\n",
    "\n",
    "\n"
   ]
  },
  {
   "cell_type": "markdown",
   "metadata": {
    "application/vnd.databricks.v1+cell": {
     "cellMetadata": {
      "byteLimit": 2048000,
      "rowLimit": 10000
     },
     "inputWidgets": {},
     "nuid": "425ecb49-2e4b-4b15-bce7-366abe4e3239",
     "showTitle": false,
     "tableResultSettingsMap": {},
     "title": ""
    }
   },
   "source": [
    "# --------- 0602 김세빈 데이터 전처리 ( 상원씨 자료 이어받아 해보기 !) -----"
   ]
  },
  {
   "cell_type": "markdown",
   "metadata": {
    "application/vnd.databricks.v1+cell": {
     "cellMetadata": {
      "byteLimit": 2048000,
      "rowLimit": 10000
     },
     "inputWidgets": {},
     "nuid": "11bfe819-cb68-450e-a7d8-2e83d2addacc",
     "showTitle": false,
     "tableResultSettingsMap": {},
     "title": ""
    }
   },
   "source": [
    "### 데이터 전처리 방향\n",
    "\n",
    "1.이용금액을 총 금액으로 선정 및 이용건수는 삭제\n",
    " - 1순위 이용금액 및 2순위 이용금액, 이용건수등의 상관관계를 보고 둘의 상관관계성이 높아 삭제해야된다고 판단\n",
    " - 건수보다는구체적인 금액을 제시하는 쪽이 소비 데이터를 나타낸다고 판단\n",
    " - 이때 1순위, 2순위 이용금액에 대한 내용은 카드 수에 따라 금액을 달리 보여줄 필요가 있으므로 일단 \"총 이용금액\"으로서 1순위 2순위 이용금액을 집계할 것\n",
    "\\t\n",
    "\n",
    "2.기본연회비 발생여부, 제휴연회비 발생여부 삭제\n",
    " - 파생컬럼 삭제\n",
    "\\t\n",
    "\n",
    "3.유효카드수_신용 삭제 \n",
    " - 상관관계 및 다중공선성을 고려할때 삭제하고 가기로 판단, 대체 항목이 있다고 생각\n",
    "\\t\n",
    "\n",
    "4.입회 경과 개월수_신용,1순위카드이용금액(총이용금액)은 로그 변환 할 것, 이때 로그는 자연로그로 지정 \n",
    "\n",
    "5.샘플링 없이 인코딩 후 PCA 과정을 수행한 뒤 클러스터링 진행"
   ]
  },
  {
   "cell_type": "code",
   "execution_count": 0,
   "metadata": {
    "application/vnd.databricks.v1+cell": {
     "cellMetadata": {
      "byteLimit": 2048000,
      "rowLimit": 10000
     },
     "inputWidgets": {},
     "nuid": "d2b30547-b07a-49c9-8a63-4641b7857e99",
     "showTitle": false,
     "tableResultSettingsMap": {},
     "title": ""
    }
   },
   "outputs": [],
   "source": [
    "# Delta Lake 테이블을 DataFrame으로 불러오기\n",
    "df = spark.table(\"database_pjt.card_member_info_selected\")\n",
    "print(f\"불러온 데이터 행 수: {df.count()}\")\n",
    "df.printSchema()\n",
    "df.show(5, truncate=False)\n"
   ]
  },
  {
   "cell_type": "code",
   "execution_count": 0,
   "metadata": {
    "application/vnd.databricks.v1+cell": {
     "cellMetadata": {
      "byteLimit": 2048000,
      "rowLimit": 10000
     },
     "inputWidgets": {},
     "nuid": "65e16694-8be3-4135-a3ba-877f8c44e030",
     "showTitle": false,
     "tableResultSettingsMap": {},
     "title": ""
    }
   },
   "outputs": [],
   "source": [
    "df.columns"
   ]
  },
  {
   "cell_type": "code",
   "execution_count": 0,
   "metadata": {
    "application/vnd.databricks.v1+cell": {
     "cellMetadata": {
      "byteLimit": 2048000,
      "rowLimit": 10000
     },
     "inputWidgets": {},
     "nuid": "dffba2da-c10c-4710-a31e-94aefd1b3ac2",
     "showTitle": false,
     "tableResultSettingsMap": {},
     "title": ""
    }
   },
   "outputs": [],
   "source": [
    "# 이용금액을 총 금액으로 선정 및 이용건수,기본연회비 발생여부, 제휴연회비 발생여부,유효카드수_신용 삭제\n",
    "\n",
    "delete_col = ['_1순위카드이용건수','_2순위카드이용건수','기본연회비발생여부','제휴연회비발생여부','유효카드수_신용']\n",
    "df = df.drop(*delete_col)\n",
    "\n",
    "df.columns"
   ]
  },
  {
   "cell_type": "code",
   "execution_count": 0,
   "metadata": {
    "application/vnd.databricks.v1+cell": {
     "cellMetadata": {
      "byteLimit": 2048000,
      "rowLimit": 10000
     },
     "inputWidgets": {},
     "nuid": "2c27a595-6ba6-4bb2-a4a4-a605addf7a27",
     "showTitle": false,
     "tableResultSettingsMap": {},
     "title": ""
    }
   },
   "outputs": [],
   "source": [
    "# 1순위 및 2순위 이용금액을 총 이용금액이라는 새로운 컬럼으로 파생\n",
    "from pyspark.sql.functions import col\n",
    "\n",
    "# 1순위 및 2순위 이용금액을 총 이용금액이라는 새로운 컬럼으로 파생\n",
    "df = df.withColumn('총이용금액', col('_1순위카드이용금액') + col('_2순위카드이용금액'))\n",
    "df = df.drop('_1순위카드이용금액', '_2순위카드이용금액')\n",
    "\n",
    "display(df.limit(3))\n",
    "    "
   ]
  },
  {
   "cell_type": "code",
   "execution_count": 0,
   "metadata": {
    "application/vnd.databricks.v1+cell": {
     "cellMetadata": {
      "byteLimit": 2048000,
      "rowLimit": 10000
     },
     "inputWidgets": {},
     "nuid": "f541cfc4-669f-499a-819a-1ebdb937f684",
     "showTitle": false,
     "tableResultSettingsMap": {},
     "title": ""
    }
   },
   "outputs": [],
   "source": [
    "## 각 칼럼들의 데이터 형태 확인\n",
    "\n",
    "df.describe()"
   ]
  },
  {
   "cell_type": "code",
   "execution_count": 0,
   "metadata": {
    "application/vnd.databricks.v1+cell": {
     "cellMetadata": {
      "byteLimit": 2048000,
      "rowLimit": 10000
     },
     "inputWidgets": {},
     "nuid": "116e0190-cdd2-40a0-86d4-c16a62a6a71e",
     "showTitle": false,
     "tableResultSettingsMap": {},
     "title": ""
    }
   },
   "outputs": [],
   "source": [
    "# 수치형 없나 다시 확인\n",
    "\n",
    "numeric_cols = [c for c, t in df.dtypes if t in ['double', 'int']]\n",
    "\n",
    "numeric_cols"
   ]
  },
  {
   "cell_type": "code",
   "execution_count": 0,
   "metadata": {
    "application/vnd.databricks.v1+cell": {
     "cellMetadata": {
      "byteLimit": 2048000,
      "rowLimit": 10000
     },
     "inputWidgets": {},
     "nuid": "54c52ba6-a5af-41e0-922a-7e538591cc90",
     "showTitle": false,
     "tableResultSettingsMap": {},
     "title": ""
    }
   },
   "outputs": [],
   "source": [
    "#로그변환\n",
    "from pyspark.sql.functions import log1p\n",
    "\n",
    "log_cols = [\n",
    "    \"입회경과개월수_신용\",\n",
    "    \"총이용금액\",\n",
    "]\n",
    "\n",
    "for col_name in log_cols:\n",
    "    df = df.withColumn(f\"log_{col_name}\", log1p(col_name))\n",
    "\n",
    "df.drop('입회경과개월수_신용','총이용금액')"
   ]
  },
  {
   "cell_type": "markdown",
   "metadata": {
    "application/vnd.databricks.v1+cell": {
     "cellMetadata": {
      "byteLimit": 2048000,
      "rowLimit": 10000
     },
     "inputWidgets": {},
     "nuid": "899da41d-dc72-4f74-97c5-d5c440ba479c",
     "showTitle": false,
     "tableResultSettingsMap": {},
     "title": ""
    }
   },
   "source": [
    "### 추가 전처리 작업\n",
    "\n",
    "1. 범주형 변수 인코딩 (if 존재)   \n",
    "-Label Encoding: 순서가 있는 범주 (예: 등급, 점수)   \n",
    "-One-Hot Encoding: 순서 없는 범주 (예: 성별, 지역)\n",
    "\n",
    "2.차원 축소 (PCA, t-SNE 등)"
   ]
  },
  {
   "cell_type": "code",
   "execution_count": 0,
   "metadata": {
    "application/vnd.databricks.v1+cell": {
     "cellMetadata": {
      "byteLimit": 2048000,
      "rowLimit": 10000
     },
     "inputWidgets": {},
     "nuid": "68df65e1-c230-4f73-bfac-8656f75bcb0f",
     "showTitle": false,
     "tableResultSettingsMap": {},
     "title": ""
    }
   },
   "outputs": [],
   "source": [
    "display(df.limit(2))"
   ]
  },
  {
   "cell_type": "code",
   "execution_count": 0,
   "metadata": {
    "application/vnd.databricks.v1+cell": {
     "cellMetadata": {
      "byteLimit": 2048000,
      "rowLimit": 10000
     },
     "inputWidgets": {},
     "nuid": "8a30add8-01ad-4542-a1cf-bfabdc008f93",
     "showTitle": false,
     "tableResultSettingsMap": {},
     "title": ""
    }
   },
   "outputs": [],
   "source": [
    "df.drop(\"총이용금액\")"
   ]
  },
  {
   "cell_type": "code",
   "execution_count": 0,
   "metadata": {
    "application/vnd.databricks.v1+cell": {
     "cellMetadata": {
      "byteLimit": 2048000,
      "rowLimit": 10000
     },
     "inputWidgets": {},
     "nuid": "4f04f3c3-1e9c-426e-9b05-232feccf3d98",
     "showTitle": false,
     "tableResultSettingsMap": {},
     "title": ""
    }
   },
   "outputs": [],
   "source": [
    "from pyspark.sql.functions import when, col\n",
    "\n",
    "df = df.withColumn(\n",
    "    \"최상위카드등급코드\",\n",
    "    when(col(\"최상위카드등급코드\") == \"-\", \"5\").otherwise(col(\"최상위카드등급코드\"))\n",
    ")"
   ]
  },
  {
   "cell_type": "code",
   "execution_count": 0,
   "metadata": {
    "application/vnd.databricks.v1+cell": {
     "cellMetadata": {
      "byteLimit": 2048000,
      "rowLimit": 10000
     },
     "inputWidgets": {},
     "nuid": "9ec5e88d-1775-4113-9c18-43457d0b340a",
     "showTitle": false,
     "tableResultSettingsMap": {},
     "title": ""
    }
   },
   "outputs": [],
   "source": [
    "from pyspark.ml.feature import StringIndexer, OneHotEncoder\n",
    "from pyspark.ml import Pipeline\n",
    "\n",
    "# 1. 인코딩 대상 컬럼 정의\n",
    "one_hot_cols = [\n",
    "    \"남녀구분코드\", \"거주시도명\", \"직장시도명\", \"Life_Stage\",\n",
    "    \"마케팅동의여부\", \"회원여부_연체\", \"회원여부_이용가능\",\n",
    "    \"동의여부_한도증액안내\", \"수신거부여부_TM\", \"수신거부여부_메일\", \"수신거부여부_SMS\",\"가입통신회사코드\",\n",
    "]\n",
    "label_cols = [\"VIP등급코드\", \"연령\",\"최상위카드등급코드\"]\n",
    "\n",
    "# 2. Indexing + One-Hot Encoding 단계 정의\n",
    "indexers = [\n",
    "    StringIndexer(inputCol=col, outputCol=f\"{col}_idx\", handleInvalid=\"keep\")\n",
    "    for col in one_hot_cols + label_cols\n",
    "]\n",
    "\n",
    "onehots = [\n",
    "    OneHotEncoder(inputCol=f\"{col}_idx\", outputCol=f\"{col}_oh\", handleInvalid=\"keep\")\n",
    "    for col in one_hot_cols\n",
    "]\n",
    "\n",
    "# 3. 파이프라인 실행\n",
    "pipeline = Pipeline(stages=indexers + onehots)\n",
    "encoded_model = pipeline.fit(df)\n",
    "df_encoded = encoded_model.transform(df)\n",
    "\n",
    "# 4. 사용할 컬럼 정리\n",
    "encoded_cols = [f\"{col}_oh\" for col in one_hot_cols if f\"{col}_oh\" in df_encoded.columns] + \\\n",
    "               [f\"{col}_idx\" for col in label_cols if f\"{col}_idx\" in df_encoded.columns]\n",
    "\n",
    "original_cols = [col for col in df.columns if col not in (one_hot_cols + label_cols)]\n",
    "\n",
    "# 5. 최종 df 구성\n",
    "df_final = df_encoded.select(original_cols + encoded_cols)\n"
   ]
  },
  {
   "cell_type": "code",
   "execution_count": 0,
   "metadata": {
    "application/vnd.databricks.v1+cell": {
     "cellMetadata": {
      "byteLimit": 2048000,
      "rowLimit": 10000
     },
     "inputWidgets": {},
     "nuid": "38ab3718-aacd-405e-9892-453673ad480e",
     "showTitle": false,
     "tableResultSettingsMap": {},
     "title": ""
    }
   },
   "outputs": [],
   "source": [
    "from pyspark.sql.functions import col\n",
    "\n",
    "df_final = df_final.withColumn(\"최종탈회후경과월\", col(\"최종탈회후경과월\").cast(\"int\")) \\\n",
    "       .withColumn(\"탈회횟수_발급6개월이내\", col(\"탈회횟수_발급6개월이내\").cast(\"int\")) \\\n",
    "       .withColumn(\"탈회횟수_발급1년이내\", col(\"탈회횟수_발급1년이내\").cast(\"int\"))\n"
   ]
  },
  {
   "cell_type": "code",
   "execution_count": 0,
   "metadata": {
    "application/vnd.databricks.v1+cell": {
     "cellMetadata": {
      "byteLimit": 2048000,
      "rowLimit": 10000
     },
     "inputWidgets": {},
     "nuid": "708bf141-a508-4e8d-ae64-3353b607e8dd",
     "showTitle": false,
     "tableResultSettingsMap": {},
     "title": ""
    }
   },
   "outputs": [],
   "source": [
    "from pyspark.ml.feature import VectorAssembler, StandardScaler\n",
    "\n",
    "# 기본 수치형 컬럼들 정의 (로그변환 등 하지 않은 일반 수치형 변수들)\n",
    "base_cols = [\"입회경과개월수_신용\",\"최종카드발급경과월\",\"탈회횟수_누적\",\"카드신청건수\",\"소지카드수_유효_신용\",\"유효카드수_체크\",\"이용카드수_신용\",\"이용카드수_체크\",\"청구금액_기본연회비_B0M\",\"청구금액_제휴연회비_B0M\",\"최종탈회후경과월\",\"탈회횟수_발급6개월이내\",\"탈회횟수_발급1년이내\",\"log_입회경과개월수_신용\",\"log_총이용금액\"]  # <- 여기에 실제 사용 변수명 삽입\n",
    "\n",
    "df_final = df_final.na.drop(subset=base_cols)\n",
    "\n",
    "# 1. 벡터화\n",
    "assembler_base = VectorAssembler(\n",
    "    inputCols=base_cols,\n",
    "    outputCol=\"base_features\"\n",
    ")\n",
    "df_base_vectorized = assembler_base.transform(df_final)  # df_final: 인코딩된 최종 데이터프레임\n",
    "\n",
    "# 2. 표준화\n",
    "scaler_base = StandardScaler(\n",
    "    inputCol=\"base_features\",\n",
    "    outputCol=\"scaled_base_features\",\n",
    "    withMean=True,\n",
    "    withStd=True\n",
    ")\n",
    "df_base_scaled = scaler_base.fit(df_base_vectorized).transform(df_base_vectorized)\n"
   ]
  },
  {
   "cell_type": "code",
   "execution_count": 0,
   "metadata": {
    "application/vnd.databricks.v1+cell": {
     "cellMetadata": {
      "byteLimit": 2048000,
      "rowLimit": 10000
     },
     "inputWidgets": {},
     "nuid": "c77135ee-153b-4611-9f0a-ea3d44c268bb",
     "showTitle": false,
     "tableResultSettingsMap": {},
     "title": ""
    }
   },
   "outputs": [],
   "source": [
    "# 인코딩 후 생성된 one-hot, label index 컬럼을 결합할 대상 지정\n",
    "existing_encoded_cols = [col for col in encoded_feature_cols if col in df_base_scaled.columns]\n",
    "\n",
    "assembler_encoded = VectorAssembler(\n",
    "    inputCols=existing_encoded_cols,\n",
    "    outputCol=\"encoded_features\"\n",
    ")\n",
    "df_encoded_vectorized = assembler_encoded.transform(df_base_scaled)\n",
    "\n"
   ]
  },
  {
   "cell_type": "code",
   "execution_count": 0,
   "metadata": {
    "application/vnd.databricks.v1+cell": {
     "cellMetadata": {
      "byteLimit": 2048000,
      "rowLimit": 10000
     },
     "inputWidgets": {},
     "nuid": "5e1a732b-745b-4ba8-8685-d5d1a6cc34f6",
     "showTitle": false,
     "tableResultSettingsMap": {},
     "title": ""
    }
   },
   "outputs": [],
   "source": [
    "# 최종적으로 사용할 모든 features = scaled 수치형 + 인코딩 벡터\n",
    "final_feature_cols = [\"scaled_base_features\", \"encoded_features\"]\n",
    "\n",
    "assembler_all = VectorAssembler(\n",
    "    inputCols=final_feature_cols,\n",
    "    outputCol=\"final_features\"\n",
    ")\n",
    "df_final = assembler_all.transform(df_encoded_vectorized)"
   ]
  },
  {
   "cell_type": "code",
   "execution_count": 0,
   "metadata": {
    "application/vnd.databricks.v1+cell": {
     "cellMetadata": {
      "byteLimit": 2048000,
      "rowLimit": 10000
     },
     "inputWidgets": {},
     "nuid": "340be68d-472b-4653-b641-abc26889b65f",
     "showTitle": false,
     "tableResultSettingsMap": {},
     "title": ""
    }
   },
   "outputs": [],
   "source": []
  },
  {
   "cell_type": "markdown",
   "metadata": {
    "application/vnd.databricks.v1+cell": {
     "cellMetadata": {
      "byteLimit": 2048000,
      "rowLimit": 10000
     },
     "inputWidgets": {},
     "nuid": "708b3572-9a22-4fb6-9912-ac36fb151722",
     "showTitle": false,
     "tableResultSettingsMap": {},
     "title": ""
    }
   },
   "source": [
    "## PCA 처리"
   ]
  },
  {
   "cell_type": "code",
   "execution_count": 0,
   "metadata": {
    "application/vnd.databricks.v1+cell": {
     "cellMetadata": {
      "byteLimit": 2048000,
      "rowLimit": 10000
     },
     "inputWidgets": {},
     "nuid": "5aabc0a6-17ff-4389-97b7-c21d4216b6f1",
     "showTitle": false,
     "tableResultSettingsMap": {},
     "title": ""
    }
   },
   "outputs": [],
   "source": [
    "from pyspark.ml.feature import VectorAssembler\n",
    "\n",
    "# (1) 실제 존재하는 one-hot 컬럼만 필터링\n",
    "encoded_feature_cols = [f\"{col}_oh\" for col in one_hot_cols]\n",
    "existing_encoded_cols = [col for col in encoded_feature_cols if col in df_final.columns]\n",
    "\n",
    "# (2) VectorAssembler 구성\n",
    "assembler = VectorAssembler(\n",
    "    inputCols=existing_encoded_cols,\n",
    "    outputCol=\"features\"\n",
    ")\n",
    "\n",
    "df_vectorized = assembler.transform(df_final)\n"
   ]
  },
  {
   "cell_type": "code",
   "execution_count": 0,
   "metadata": {
    "application/vnd.databricks.v1+cell": {
     "cellMetadata": {
      "byteLimit": 2048000,
      "rowLimit": 10000
     },
     "inputWidgets": {},
     "nuid": "fe1ed6f4-b120-4515-b505-68df487c0e23",
     "showTitle": false,
     "tableResultSettingsMap": {},
     "title": ""
    }
   },
   "outputs": [],
   "source": [
    "#2단계 : PCA 적용\n",
    "\n",
    "from pyspark.ml.feature import PCA\n",
    "\n",
    "# PCA 적용 (K 초깃값 5)\n",
    "pca = PCA(k=25, inputCol=\"features\", outputCol=\"pca_features\")\n",
    "pca_model = pca.fit(df_vectorized)\n",
    "df_pca = pca_model.transform(df_vectorized)\n"
   ]
  },
  {
   "cell_type": "code",
   "execution_count": 0,
   "metadata": {
    "application/vnd.databricks.v1+cell": {
     "cellMetadata": {
      "byteLimit": 2048000,
      "rowLimit": 10000
     },
     "inputWidgets": {},
     "nuid": "07009ae4-8a09-41fb-a6f0-ec90d9de0119",
     "showTitle": false,
     "tableResultSettingsMap": {},
     "title": ""
    }
   },
   "outputs": [],
   "source": [
    "import matplotlib.pyplot as plt\n",
    "import numpy as np\n",
    "import pandas as pd\n",
    "from pyspark.ml.feature import PCA\n",
    "\n",
    "# 1. PCA 모델 학습\n",
    "pca = PCA(k=25, inputCol=\"features\", outputCol=\"pca_features\")\n",
    "pca_model = pca.fit(df_vectorized)\n",
    "\n",
    "# 2. 설명 분산 비율 추출\n",
    "explained_variance = pca_model.explainedVariance.toArray()\n",
    "\n",
    "# 3. 누적 설명 분산 계산\n",
    "cumulative_variance = np.cumsum(explained_variance)\n",
    "\n",
    "# 4. 시각화를 위한 Pandas DataFrame 생성\n",
    "pca_df = pd.DataFrame({\n",
    "    'PC': [f'PC{i+1}' for i in range(len(explained_variance))],\n",
    "    'Explained Variance': explained_variance,\n",
    "    'Cumulative Variance': cumulative_variance\n",
    "})\n",
    "\n",
    "# 5. 시각화\n",
    "plt.figure(figsize=(10,6))\n",
    "plt.plot(range(1, len(cumulative_variance) + 1), cumulative_variance, marker='o', linestyle='-')\n",
    "plt.title('Cumulative Explained Variance by Principal Components')\n",
    "plt.xlabel('Number of Principal Components')\n",
    "plt.ylabel('Cumulative Explained Variance Ratio')\n",
    "plt.grid(True)\n",
    "plt.xticks(ticks=range(1, len(cumulative_variance) + 1))\n",
    "plt.ylim(0, 1.05)\n",
    "plt.tight_layout()\n",
    "plt.show()\n"
   ]
  },
  {
   "cell_type": "code",
   "execution_count": 0,
   "metadata": {
    "application/vnd.databricks.v1+cell": {
     "cellMetadata": {
      "byteLimit": 2048000,
      "rowLimit": 10000
     },
     "inputWidgets": {},
     "nuid": "99d20145-4ce8-4cf5-bf41-884822bad2b3",
     "showTitle": false,
     "tableResultSettingsMap": {},
     "title": ""
    }
   },
   "outputs": [],
   "source": [
    "#3단계 : 결과 확인\n",
    "\n",
    "# 결과 확인: 주성분 벡터 출력\n",
    "df_pca.select(\"pca_features\").show(5, truncate=False)\n"
   ]
  },
  {
   "cell_type": "code",
   "execution_count": 0,
   "metadata": {
    "application/vnd.databricks.v1+cell": {
     "cellMetadata": {
      "byteLimit": 2048000,
      "rowLimit": 10000
     },
     "inputWidgets": {},
     "nuid": "5991e2f9-2846-4292-b7d6-f61b4095c0d3",
     "showTitle": false,
     "tableResultSettingsMap": {},
     "title": ""
    }
   },
   "outputs": [],
   "source": [
    "# 적절한 K갯수 확인 \n",
    "\n",
    "# 설명 분산 추출\n",
    "explained_variance = pca_model.explainedVariance.toArray()\n",
    "cumulative_variance = explained_variance.cumsum()\n",
    "\n",
    "# 몇 개의 주성분으로 몇 %까지 설명하는지 출력\n",
    "for i, cum_var in enumerate(cumulative_variance):\n",
    "    print(f\"Top {i+1} PCs: {cum_var:.4f}\")"
   ]
  },
  {
   "cell_type": "markdown",
   "metadata": {
    "application/vnd.databricks.v1+cell": {
     "cellMetadata": {
      "byteLimit": 2048000,
      "rowLimit": 10000
     },
     "inputWidgets": {},
     "nuid": "86f306ba-4a5c-4cd0-9036-2ba28b6eb51f",
     "showTitle": false,
     "tableResultSettingsMap": {},
     "title": ""
    }
   },
   "source": [
    "### K 5일때, 누적분산 비율이 54%까지 밖에 설명하지 못하므로 K갯수를 늘려야함. (합격 기준은 95%로 설정)"
   ]
  },
  {
   "cell_type": "code",
   "execution_count": 0,
   "metadata": {
    "application/vnd.databricks.v1+cell": {
     "cellMetadata": {
      "byteLimit": 2048000,
      "rowLimit": 10000
     },
     "inputWidgets": {},
     "nuid": "1c68ed84-06e8-4044-952b-7fc88b57243f",
     "showTitle": false,
     "tableResultSettingsMap": {},
     "title": ""
    }
   },
   "outputs": [],
   "source": [
    "\n",
    "# PCA 적용 (K를 10으로 설정)\n",
    "pca = PCA(k=10, inputCol=\"features\", outputCol=\"pca_features\")\n",
    "pca_model = pca.fit(df_vectorized)\n",
    "df_pca = pca_model.transform(df_vectorized)\n"
   ]
  },
  {
   "cell_type": "code",
   "execution_count": 0,
   "metadata": {
    "application/vnd.databricks.v1+cell": {
     "cellMetadata": {
      "byteLimit": 2048000,
      "rowLimit": 10000
     },
     "inputWidgets": {},
     "nuid": "39b764e3-3ce7-469f-b04b-ab171a1c2a3e",
     "showTitle": false,
     "tableResultSettingsMap": {},
     "title": ""
    }
   },
   "outputs": [],
   "source": [
    "# 적절한 K갯수 확인 \n",
    "\n",
    "# 설명 분산 추출\n",
    "explained_variance = pca_model.explainedVariance.toArray()\n",
    "cumulative_variance = explained_variance.cumsum()\n",
    "\n",
    "# 몇 개의 주성분으로 몇 %까지 설명하는지 출력\n",
    "for i, cum_var in enumerate(cumulative_variance):\n",
    "    print(f\"Top {i+1} PCs: {cum_var:.4f}\")"
   ]
  },
  {
   "cell_type": "code",
   "execution_count": 0,
   "metadata": {
    "application/vnd.databricks.v1+cell": {
     "cellMetadata": {
      "byteLimit": 2048000,
      "rowLimit": 10000
     },
     "inputWidgets": {},
     "nuid": "95b8250a-e99a-4b6e-b418-94c8ba9e6d80",
     "showTitle": false,
     "tableResultSettingsMap": {},
     "title": ""
    }
   },
   "outputs": [],
   "source": [
    "# PCA 적용 (K를 15으로 설정)\n",
    "pca = PCA(k=15, inputCol=\"features\", outputCol=\"pca_features\")\n",
    "pca_model = pca.fit(df_vectorized)\n",
    "df_pca = pca_model.transform(df_vectorized)\n"
   ]
  },
  {
   "cell_type": "code",
   "execution_count": 0,
   "metadata": {
    "application/vnd.databricks.v1+cell": {
     "cellMetadata": {
      "byteLimit": 2048000,
      "rowLimit": 10000
     },
     "inputWidgets": {},
     "nuid": "5d7572a2-bf4d-48ac-9491-1dadd6740fb2",
     "showTitle": false,
     "tableResultSettingsMap": {},
     "title": ""
    }
   },
   "outputs": [],
   "source": [
    "# 적절한 K갯수 확인 \n",
    "\n",
    "# 설명 분산 추출\n",
    "explained_variance = pca_model.explainedVariance.toArray()\n",
    "cumulative_variance = explained_variance.cumsum()\n",
    "\n",
    "# 몇 개의 주성분으로 몇 %까지 설명하는지 출력\n",
    "for i, cum_var in enumerate(cumulative_variance):\n",
    "    print(f\"Top {i+1} PCs: {cum_var:.4f}\")"
   ]
  },
  {
   "cell_type": "code",
   "execution_count": 0,
   "metadata": {
    "application/vnd.databricks.v1+cell": {
     "cellMetadata": {
      "byteLimit": 2048000,
      "rowLimit": 10000
     },
     "inputWidgets": {},
     "nuid": "08b068b7-fb50-45ec-b27e-8bffce2f63b0",
     "showTitle": false,
     "tableResultSettingsMap": {},
     "title": ""
    }
   },
   "outputs": [],
   "source": [
    "# PCA 적용 (K를 25으로 설정)\n",
    "pca = PCA(k=25, inputCol=\"features\", outputCol=\"pca_features\")\n",
    "pca_model = pca.fit(df_vectorized)\n",
    "df_pca = pca_model.transform(df_vectorized)\n"
   ]
  },
  {
   "cell_type": "code",
   "execution_count": 0,
   "metadata": {
    "application/vnd.databricks.v1+cell": {
     "cellMetadata": {
      "byteLimit": 2048000,
      "rowLimit": 10000
     },
     "inputWidgets": {},
     "nuid": "e96c2e08-d66a-445f-96b3-e24522d3a6ec",
     "showTitle": false,
     "tableResultSettingsMap": {},
     "title": ""
    }
   },
   "outputs": [],
   "source": [
    "# 적절한 K갯수 확인 \n",
    "\n",
    "# 설명 분산 추출\n",
    "explained_variance = pca_model.explainedVariance.toArray()\n",
    "cumulative_variance = explained_variance.cumsum()\n",
    "\n",
    "# 몇 개의 주성분으로 몇 %까지 설명하는지 출력\n",
    "for i, cum_var in enumerate(cumulative_variance):\n",
    "    print(f\"Top {i+1} PCs: {cum_var:.4f}\")"
   ]
  },
  {
   "cell_type": "code",
   "execution_count": 0,
   "metadata": {
    "application/vnd.databricks.v1+cell": {
     "cellMetadata": {
      "byteLimit": 2048000,
      "rowLimit": 10000
     },
     "inputWidgets": {},
     "nuid": "77c10303-d571-4fdb-946e-454443f279a2",
     "showTitle": false,
     "tableResultSettingsMap": {},
     "title": ""
    }
   },
   "outputs": [],
   "source": [
    "df_pca.columns"
   ]
  },
  {
   "cell_type": "markdown",
   "metadata": {
    "application/vnd.databricks.v1+cell": {
     "cellMetadata": {
      "byteLimit": 2048000,
      "rowLimit": 10000
     },
     "inputWidgets": {},
     "nuid": "cba7c29a-edd3-446d-8c9b-7577b45933bb",
     "showTitle": false,
     "tableResultSettingsMap": {},
     "title": ""
    }
   },
   "source": [
    "#데이터 중간저장\n"
   ]
  },
  {
   "cell_type": "code",
   "execution_count": 0,
   "metadata": {
    "application/vnd.databricks.v1+cell": {
     "cellMetadata": {
      "byteLimit": 2048000,
      "rowLimit": 10000
     },
     "inputWidgets": {},
     "nuid": "55d4e353-3c97-4177-be13-00f15e40812e",
     "showTitle": false,
     "tableResultSettingsMap": {},
     "title": ""
    }
   },
   "outputs": [],
   "source": [
    "## final 기준 인코딩된 칼럼 확인\n",
    "\n",
    "df_final.columns"
   ]
  },
  {
   "cell_type": "code",
   "execution_count": 0,
   "metadata": {
    "application/vnd.databricks.v1+cell": {
     "cellMetadata": {
      "byteLimit": 2048000,
      "rowLimit": 10000
     },
     "inputWidgets": {},
     "nuid": "4d3f6814-969d-48ed-ab20-0f5a2e0ee5d7",
     "showTitle": false,
     "tableResultSettingsMap": {},
     "title": ""
    }
   },
   "outputs": [],
   "source": [
    "## ML용 컬럼 떼어버리기\n",
    "\n",
    "df_final = df_final.drop('base_features','scaled_base_features','encoded_features','final_features')\n",
    "\n",
    "df_final.columns"
   ]
  },
  {
   "cell_type": "markdown",
   "metadata": {
    "application/vnd.databricks.v1+cell": {
     "cellMetadata": {
      "byteLimit": 2048000,
      "rowLimit": 10000
     },
     "inputWidgets": {},
     "nuid": "071d8246-dae1-4357-bc6c-12306b006714",
     "showTitle": false,
     "tableResultSettingsMap": {},
     "title": ""
    }
   },
   "source": [
    "컬럼 분류"
   ]
  },
  {
   "cell_type": "markdown",
   "metadata": {
    "application/vnd.databricks.v1+cell": {
     "cellMetadata": {
      "byteLimit": 2048000,
      "rowLimit": 10000
     },
     "inputWidgets": {},
     "nuid": "f68bc09c-2114-4eff-b0ff-617cc296d43a",
     "showTitle": false,
     "tableResultSettingsMap": {},
     "title": ""
    }
   },
   "source": [
    "+전부회원번호추가요망\n",
    "\n",
    "🔹 1. 회원 기본 정보 테이블 (Member)   \n",
    "컬럼명   \n",
    "남녀구분코드_oh   \n",
    "연령_idx   \n",
    "거주시도명_oh   \n",
    "직장시도명_oh   \n",
    "Life_Stage_oh   \n",
    "회원여부_연체_oh   \n",
    "회원여부_이용가능_oh   \n",
    "VIP등급코드_idx   \n",
    "최상위카드등급코드_idx   \n",
    "\n",
    "🔹 2. 카드 보유 및 이용 이력 테이블 (Card_Usage)   \n",
    "컬럼명   \n",
    "소지카드수_유효_신용   \n",
    "유효카드수_체크   \n",
    "이용카드수_신용   \n",
    "이용카드수_체크   \n",
    "총이용금액   \n",
    "log_총이용금액   \n",
    "\n",
    "🔹 3. 카드 신청 및 탈회 이력 테이블 (Card_History)   \n",
    "컬럼명   \n",
    "카드신청건수   \n",
    "탈회횟수_누적   \n",
    "탈회횟수_발급6개월이내   \n",
    "탈회횟수_발급1년이내   \n",
    "최종탈회후경과월   \n",
    "\n",
    "🔹 4. 회원 가입 및 활동 테이블 (Membership)   \n",
    "컬럼명   \n",
    "입회경과개월수_신용   \n",
    "log_입회경과개월수_신용   \n",
    "최종카드발급경과월   \n",
    "\n",
    "🔹 5. 청구 관련 테이블 (Billing)   \n",
    "컬럼명   \n",
    "청구금액_기본연회비_B0M   \n",
    "청구금액_제휴연회비_B0M   \n",
    "\n",
    "🔹 6. 마케팅/동의/수신 여부 테이블 (Marketing_Consent)   \n",
    "컬럼명   \n",
    "마케팅동의여부_oh   \n",
    "동의여부_한도증액안내_oh   \n",
    "수신거부여부_DM   \n",
    "수신거부여부_TM_oh   \n",
    "수신거부여부_메일_oh   \n",
    "수신거부여부_SMS_oh   \n",
    "\n",
    "🔹 7. 인덱싱/파생 컬럼 (보조 테이블 or 파생용)   \n",
    "컬럼명   \n",
    "log_입회경과개월수_신용   \n",
    "log_총이용금액   "
   ]
  },
  {
   "cell_type": "code",
   "execution_count": 0,
   "metadata": {
    "application/vnd.databricks.v1+cell": {
     "cellMetadata": {
      "byteLimit": 2048000,
      "rowLimit": 10000
     },
     "inputWidgets": {},
     "nuid": "dfaa94ae-64c2-4089-a926-2f25f3717a84",
     "showTitle": false,
     "tableResultSettingsMap": {},
     "title": ""
    }
   },
   "outputs": [],
   "source": [
    "df_final.write.format(\"delta\").mode(\"error\").saveAsTable(\"database_pjt.df_final_final\")\n",
    "#이거 뭐였지?"
   ]
  },
  {
   "cell_type": "code",
   "execution_count": 0,
   "metadata": {
    "application/vnd.databricks.v1+cell": {
     "cellMetadata": {
      "byteLimit": 2048000,
      "rowLimit": 10000
     },
     "inputWidgets": {},
     "nuid": "81a92fa1-be5b-4254-99ea-41af54de28d6",
     "showTitle": false,
     "tableResultSettingsMap": {},
     "title": ""
    }
   },
   "outputs": [],
   "source": [
    "spark.sql(\"DROP TABLE IF EXISTS database_pjt.1_fina_member\")\n",
    "spark.sql(\"DROP TABLE IF EXISTS database_pjt.1_fina_card_usage\")\n",
    "spark.sql(\"DROP TABLE IF EXISTS database_pjt.1_fina_card_history\")"
   ]
  },
  {
   "cell_type": "code",
   "execution_count": 0,
   "metadata": {
    "application/vnd.databricks.v1+cell": {
     "cellMetadata": {
      "byteLimit": 2048000,
      "rowLimit": 10000
     },
     "inputWidgets": {},
     "nuid": "8b4508de-b967-4853-9a84-c36d6aa8d230",
     "showTitle": false,
     "tableResultSettingsMap": {},
     "title": ""
    }
   },
   "outputs": [],
   "source": [
    "member_cols = [\n",
    "    \"발급회원번호\",\"남녀구분코드_oh\", \"연령_idx\", \"거주시도명_oh\", \"직장시도명_oh\", \"Life_Stage_oh\", \n",
    "    \"회원여부_연체_oh\", \"회원여부_이용가능_oh\", \"VIP등급코드_idx\", \"최상위카드등급코드_idx\"\n",
    "]\n",
    "\n",
    "card_usage_cols = [\n",
    "    \"발급회원번호\",\"소지카드수_유효_신용\", \"유효카드수_체크\", \"이용카드수_신용\", \"이용카드수_체크\", \"총이용금액\", \"log_총이용금액\"\n",
    "]\n",
    "\n",
    "card_history_cols = [\n",
    "    \"발급회원번호\",\"카드신청건수\", \"탈회횟수_누적\", \"탈회횟수_발급6개월이내\", \"탈회횟수_발급1년이내\", \"최종탈회후경과월\"\n",
    "]\n",
    "\n",
    "\n",
    "df_1_fina_member = df_final.select(member_cols)\n",
    "df_1_fina_card_usage = df_final.select(card_usage_cols)\n",
    "df_1_fina_card_history = df_final.select(card_history_cols)\n",
    "\n",
    "\n",
    "df_1_fina_member.write.format(\"delta\").mode(\"overwrite\").saveAsTable(\"database_pjt.1_fina_member\")\n",
    "df_1_fina_card_usage.write.format(\"delta\").mode(\"overwrite\").saveAsTable(\"database_pjt.1_fina_card_usage\")\n",
    "df_1_fina_card_history.write.format(\"delta\").mode(\"overwrite\").saveAsTable(\"database_pjt.1_fina_card_history\")\n"
   ]
  },
  {
   "cell_type": "code",
   "execution_count": 0,
   "metadata": {
    "application/vnd.databricks.v1+cell": {
     "cellMetadata": {
      "byteLimit": 2048000,
      "rowLimit": 10000
     },
     "inputWidgets": {},
     "nuid": "5bb4e646-01fc-46b3-b645-c6e78a535db3",
     "showTitle": false,
     "tableResultSettingsMap": {},
     "title": ""
    }
   },
   "outputs": [],
   "source": [
    "#회원정보 넣는라 삭제중\n",
    "spark.sql(\"DROP TABLE IF EXISTS hive_metastore.database_pjt.1_fina_Membership\")\n",
    "spark.sql(\"DROP TABLE IF EXISTS hive_metastore.database_pjt.1_fina_Billing\")\n",
    "spark.sql(\"DROP TABLE IF EXISTS hive_metastore.database_pjt.1_Marketing_Consent\")\n",
    "spark.sql(\"DROP TABLE IF EXISTS hive_metastore.database_pjt.1_fina_log\")\n",
    "\n"
   ]
  },
  {
   "cell_type": "code",
   "execution_count": 0,
   "metadata": {
    "application/vnd.databricks.v1+cell": {
     "cellMetadata": {
      "byteLimit": 2048000,
      "rowLimit": 10000
     },
     "inputWidgets": {},
     "nuid": "52f5e0dd-be35-4de5-ba63-9c9354438043",
     "showTitle": false,
     "tableResultSettingsMap": {},
     "title": ""
    }
   },
   "outputs": [],
   "source": [
    "spark.sql(\"DROP TABLE IF EXISTS hive_metastore.database_pjt.1_Marketing_Consent\")"
   ]
  },
  {
   "cell_type": "code",
   "execution_count": 0,
   "metadata": {
    "application/vnd.databricks.v1+cell": {
     "cellMetadata": {
      "byteLimit": 2048000,
      "rowLimit": 10000
     },
     "inputWidgets": {},
     "nuid": "5c81e03f-66ab-4044-9cf1-c3c441178607",
     "showTitle": false,
     "tableResultSettingsMap": {},
     "title": ""
    }
   },
   "outputs": [],
   "source": [
    "#🔹 4. 회원 가입 및 활동 테이블 (Membership)\n",
    "# 저장할 컬럼 선택\n",
    "membership_columns = [\n",
    "    '발급회원번호',\n",
    "    '입회경과개월수_신용',\n",
    "    'log_입회경과개월수_신용',\n",
    "    '최종카드발급경과월'\n",
    "]\n",
    "\n",
    "# 해당 컬럼만 포함한 DataFrame 생성\n",
    "membership_df = df_final.select(membership_columns)\n",
    "\n",
    "# Hive metastore > database_pjt > 1_fina_Membership에 테이블로 저장\n",
    "membership_df.write \\\n",
    "    .mode(\"overwrite\") \\\n",
    "    .format(\"delta\") \\\n",
    "    .saveAsTable(\"hive_metastore.database_pjt.1_fina_Membership\")"
   ]
  },
  {
   "cell_type": "code",
   "execution_count": 0,
   "metadata": {
    "application/vnd.databricks.v1+cell": {
     "cellMetadata": {
      "byteLimit": 2048000,
      "rowLimit": 10000
     },
     "inputWidgets": {},
     "nuid": "39d3b1d7-2b69-4115-806c-dc3fd105a77c",
     "showTitle": false,
     "tableResultSettingsMap": {},
     "title": ""
    }
   },
   "outputs": [],
   "source": [
    "#🔹 5. 청구 관련 테이블 (Billing)\n",
    "# 저장할 컬럼 선택\n",
    "Billing_columns = [\n",
    "    '발급회원번호',\n",
    "    '청구금액_기본연회비_B0M',\n",
    "    '청구금액_제휴연회비_B0M',\n",
    "]\n",
    "\n",
    "# 해당 컬럼만 포함한 DataFrame 생성\n",
    "Billing_df = df_final.select(Billing_columns)\n",
    "\n",
    "# Hive metastore > database_pjt > 1_fina_Billing에 테이블로 저장\n",
    "Billing_df.write \\\n",
    "    .mode(\"overwrite\") \\\n",
    "    .format(\"delta\") \\\n",
    "    .saveAsTable(\"hive_metastore.database_pjt.1_fina_Billing\")"
   ]
  },
  {
   "cell_type": "code",
   "execution_count": 0,
   "metadata": {
    "application/vnd.databricks.v1+cell": {
     "cellMetadata": {
      "byteLimit": 2048000,
      "rowLimit": 10000
     },
     "inputWidgets": {},
     "nuid": "d8b0ab65-374b-47cb-8ac0-a223b3652ba2",
     "showTitle": false,
     "tableResultSettingsMap": {},
     "title": ""
    }
   },
   "outputs": [],
   "source": [
    "#🔹  6. 마케팅/동의/수신 여부 테이블 (Marketing_Consent)\n",
    "# 저장할 컬럼 선택\n",
    "Marketing_Consent = [\n",
    "    '발급회원번호',\n",
    "    '마케팅동의여부_oh',\n",
    "    '동의여부_한도증액안내_oh',\n",
    "    '수신거부여부_DM',\n",
    "    '수신거부여부_TM_oh',\n",
    "    '수신거부여부_메일_oh',\n",
    "    '수신거부여부_SMS_oh'\n",
    "]\n",
    "\n",
    "# 해당 컬럼만 포함한 DataFrame 생성\n",
    "Marketing_Consent = df_final.select(Marketing_Consent)\n",
    "\n",
    "# Hive metastore > database_pjt > 1_fina_Billing에 테이블로 저장\n",
    "Marketing_Consent.write \\\n",
    "    .mode(\"overwrite\") \\\n",
    "    .format(\"delta\") \\\n",
    "    .saveAsTable(\"hive_metastore.database_pjt.1_fina_Marketing_Consent\")"
   ]
  },
  {
   "cell_type": "code",
   "execution_count": 0,
   "metadata": {
    "application/vnd.databricks.v1+cell": {
     "cellMetadata": {
      "byteLimit": 2048000,
      "rowLimit": 10000
     },
     "inputWidgets": {},
     "nuid": "af4053e0-23bf-4e52-b9af-4d3087aeaee7",
     "showTitle": false,
     "tableResultSettingsMap": {},
     "title": ""
    }
   },
   "outputs": [],
   "source": [
    "#🔹 7. 인덱싱/파생 컬럼 (보조 테이블 or 파생용, log)\n",
    "# 저장할 컬럼 선택\n",
    "log_columns = [\n",
    "    '발급회원번호',\n",
    "    'log_입회경과개월수_신용',\n",
    "    'log_총이용금액',\n",
    "]\n",
    "\n",
    "# 해당 컬럼만 포함한 DataFrame 생성\n",
    "log_df = df_final.select(log_columns)\n",
    "\n",
    "# Hive metastore > database_pjt > 1_fina_log에 테이블로 저장\n",
    "log_df.write \\\n",
    "    .mode(\"overwrite\") \\\n",
    "    .format(\"delta\") \\\n",
    "    .saveAsTable(\"hive_metastore.database_pjt.1_fina_log\")"
   ]
  },
  {
   "cell_type": "code",
   "execution_count": 0,
   "metadata": {
    "application/vnd.databricks.v1+cell": {
     "cellMetadata": {
      "byteLimit": 2048000,
      "implicitDf": true,
      "rowLimit": 10000
     },
     "inputWidgets": {},
     "nuid": "e99bd61d-0c43-47ca-a32a-2bb2dc419d81",
     "showTitle": false,
     "tableResultSettingsMap": {},
     "title": ""
    }
   },
   "outputs": [],
   "source": [
    "%sql\n",
    "SELECT * FROM hive_metastore.database_pjt.`1_Marketing_Consent` LIMIT 10;\n"
   ]
  },
  {
   "cell_type": "code",
   "execution_count": 0,
   "metadata": {
    "application/vnd.databricks.v1+cell": {
     "cellMetadata": {
      "byteLimit": 2048000,
      "rowLimit": 10000
     },
     "inputWidgets": {},
     "nuid": "1f34408b-bf4b-4d7a-b893-c2d05d23d124",
     "showTitle": false,
     "tableResultSettingsMap": {},
     "title": ""
    }
   },
   "outputs": [],
   "source": [
    "# 1. 회원 기본 정보 테이블 불러오기\n",
    "member_df = spark.table(\"hive_metastore.database_pjt.1_fina_member\")\n",
    "member_df.show(5, truncate=False)\n",
    "\n",
    "# 2. 카드 보유 및 이용 이력 테이블 불러오기\n",
    "card_usage_df = spark.table(\"hive_metastore.database_pjt.1_fina_card_usage\")\n",
    "card_usage_df.show(5, truncate=False)\n",
    "\n",
    "# 3. 카드 신청 및 탈회 이력 테이블 불러오기\n",
    "card_history_df = spark.table(\"hive_metastore.database_pjt.1_fina_card_history\")\n",
    "card_history_df.show(5, truncate=False)\n",
    "\n",
    "# 4. 회원 가입 및 활동 테이블 불러오기\n",
    "membership_df = spark.table(\"hive_metastore.database_pjt.1_fina_Membership\")\n",
    "membership_df.show(5, truncate=False)\n",
    "\n",
    "# 5. 청구 관련 테이블 불러오기\n",
    "billing_df = spark.table(\"hive_metastore.database_pjt.1_fina_Billing\")\n",
    "billing_df.show(5, truncate=False)\n",
    "\n",
    "# 6. 마케팅/동의/수신 여부 테이블 불러오기\n",
    "marketing_consent_df = spark.table(\"hive_metastore.database_pjt.1_Marketing_Consent\")\n",
    "marketing_consent_df.show(5, truncate=False)\n",
    "\n",
    "# 7. 인덱싱/파생 컬럼 테이블 불러오기\n",
    "log_df = spark.table(\"hive_metastore.database_pjt.1_fina_log\")\n",
    "log_df.show(5, truncate=False)\n"
   ]
  },
  {
   "cell_type": "markdown",
   "metadata": {
    "application/vnd.databricks.v1+cell": {
     "cellMetadata": {
      "byteLimit": 2048000,
      "rowLimit": 10000
     },
     "inputWidgets": {},
     "nuid": "cd102d33-7290-4ead-8170-40763b42ef77",
     "showTitle": false,
     "tableResultSettingsMap": {},
     "title": ""
    }
   },
   "source": [
    "### 클러스터링 - 앙상블\n",
    "\n",
    "1. 선정 모델\n",
    "- KMeans\n",
    "- GaussianMixture\n",
    "- BisectingKMeans"
   ]
  },
  {
   "cell_type": "code",
   "execution_count": 0,
   "metadata": {
    "application/vnd.databricks.v1+cell": {
     "cellMetadata": {
      "byteLimit": 2048000,
      "rowLimit": 10000
     },
     "inputWidgets": {},
     "nuid": "335e33fd-00df-4b54-8a09-1682467a2648",
     "showTitle": false,
     "tableResultSettingsMap": {},
     "title": ""
    }
   },
   "outputs": [],
   "source": [
    "pip install torch kmeans-pytorch\n"
   ]
  },
  {
   "cell_type": "code",
   "execution_count": 0,
   "metadata": {
    "application/vnd.databricks.v1+cell": {
     "cellMetadata": {
      "byteLimit": 2048000,
      "rowLimit": 10000
     },
     "inputWidgets": {},
     "nuid": "ea98dfd4-d826-401c-a830-b8d8f1916305",
     "showTitle": false,
     "tableResultSettingsMap": {},
     "title": ""
    }
   },
   "outputs": [],
   "source": [
    "from pyspark.sql.functions import col, isnan\n",
    "\n",
    "df_pca.select(\"pca_features\").where(col(\"pca_features\").isNull()).count()\n"
   ]
  },
  {
   "cell_type": "code",
   "execution_count": 0,
   "metadata": {
    "application/vnd.databricks.v1+cell": {
     "cellMetadata": {
      "byteLimit": 2048000,
      "rowLimit": 10000
     },
     "inputWidgets": {},
     "nuid": "2dd10ff5-2209-4e07-982e-70ae53c0cf06",
     "showTitle": false,
     "tableResultSettingsMap": {},
     "title": ""
    }
   },
   "outputs": [],
   "source": [
    "from pyspark.ml.clustering import KMeans, GaussianMixture, BisectingKMeans\n",
    "from pyspark.ml.evaluation import ClusteringEvaluator\n",
    "\n",
    "# 10% 샘플링, withReplacement=False는 비복원 추출, seed는 재현성을 위해 설정\n",
    "df_sampled = df_pca.sample(withReplacement=False, fraction=0.01, seed=42)\n",
    "\n",
    "# 2. 각 모델 학습\n",
    "kmeans_model = KMeans(k=10, featuresCol=\"pca_features\").fit(df_pca)\n",
    "gmm_model = GaussianMixture(k=10, featuresCol=\"pca_features\").fit(df_pca)\n",
    "bkm_model = BisectingKMeans(k=10, featuresCol=\"pca_features\").fit(df_pca)\n",
    "\n",
    "# 3. 클러스터링 결과 저장\n",
    "df_kmeans = kmeans_model.transform(df_pca).withColumnRenamed(\"prediction\", \"kmeans_cluster\")\n",
    "df_gmm = gmm_model.transform(df_pca).withColumnRenamed(\"prediction\", \"gmm_cluster\")\n",
    "df_bkm = bkm_model.transform(df_pca).withColumnRenamed(\"prediction\", \"bkm_cluster\")\n",
    "\n",
    "# 4. 병합 및 메타 클러스터링 (ID를 기준으로 조인)\n",
    "df_ensemble = df_kmeans.select(\"id\", \"kmeans_cluster\") \\\n",
    "    .join(df_gmm.select(\"id\", \"gmm_cluster\"), on=\"id\") \\\n",
    "    .join(df_bkm.select(\"id\", \"bkm_cluster\"), on=\"id\")\n",
    "\n",
    "# 5. 클러스터 조합을 features로 변환 (OneHotEncoder or VectorAssembler)\n",
    "from pyspark.ml.feature import VectorAssembler\n",
    "\n",
    "assembler = VectorAssembler(inputCols=[\"kmeans_cluster\", \"gmm_cluster\", \"bkm_cluster\"], outputCol=\"meta_features\")\n",
    "df_meta = assembler.transform(df_ensemble)\n",
    "\n",
    "# 6. 메타 클러스터링\n",
    "meta_model = KMeans(k=5, featuresCol=\"meta_features\", predictionCol=\"final_cluster\").fit(df_meta)\n",
    "df_final_cluster = meta_model.transform(df_meta)\n",
    " "
   ]
  },
  {
   "cell_type": "markdown",
   "metadata": {
    "application/vnd.databricks.v1+cell": {
     "cellMetadata": {
      "byteLimit": 2048000,
      "rowLimit": 10000
     },
     "inputWidgets": {},
     "nuid": "9f2542c0-e14c-4e42-ac96-b88a4078c22b",
     "showTitle": false,
     "tableResultSettingsMap": {},
     "title": ""
    }
   },
   "source": [
    "## 파이토치"
   ]
  },
  {
   "cell_type": "code",
   "execution_count": 0,
   "metadata": {
    "application/vnd.databricks.v1+cell": {
     "cellMetadata": {
      "byteLimit": 2048000,
      "rowLimit": 10000
     },
     "inputWidgets": {},
     "nuid": "c70c7e68-5c63-419d-a60b-36a3ca36679e",
     "showTitle": false,
     "tableResultSettingsMap": {},
     "title": ""
    }
   },
   "outputs": [],
   "source": [
    "# pip 설치\n",
    "!pip install torch kmeans-pytorch\n",
    "\n",
    "# conda 설치\n",
    "!conda install -c rapidsai -c nvidia -c conda-forge cuml=24.04 -y\n"
   ]
  },
  {
   "cell_type": "code",
   "execution_count": 0,
   "metadata": {
    "application/vnd.databricks.v1+cell": {
     "cellMetadata": {
      "byteLimit": 2048000,
      "rowLimit": 10000
     },
     "inputWidgets": {},
     "nuid": "9763901e-81cd-4c71-8651-d2dd5aaa7f3d",
     "showTitle": false,
     "tableResultSettingsMap": {},
     "title": ""
    }
   },
   "outputs": [],
   "source": [
    "import torch\n",
    "import numpy as np\n",
    "from kmeans_pytorch import kmeans\n",
    "\n",
    "# 1. PySpark DataFrame → Numpy → PyTorch Tensor (GPU)\n",
    "pca_features_np = np.array([row.pca_features.toArray() for row in df_pca.select(\"pca_features\").collect()])\n",
    "pca_features = torch.from_numpy(pca_features_np).float().cuda()\n",
    "\n",
    "# 2. 10% 샘플링 (비복원 추출)\n",
    "sample_size = int(0.1 * len(pca_features))\n",
    "sample_indices = torch.randperm(len(pca_features))[:sample_size]\n",
    "pca_sampled = pca_features[sample_indices]\n",
    "\n",
    "# 3. KMeans 모델 학습 (GPU)\n",
    "kmeans_cluster_ids, kmeans_centers = kmeans(\n",
    "    X=pca_sampled,\n",
    "    num_clusters=5,\n",
    "    distance='euclidean',\n",
    "    device=torch.device('cuda')\n",
    ")\n",
    "\n",
    "# 4. 전체 데이터에 KMeans 예측 (GPU)\n",
    "kmeans_cluster_ids_full = kmeans.predict(pca_features)\n",
    "\n",
    "# 5. Bisecting KMeans 대신 추가 KMeans 모델 (GPU)\n",
    "kmeans2_cluster_ids, kmeans2_centers = kmeans(\n",
    "    X=pca_sampled,\n",
    "    num_clusters=5,\n",
    "    distance='cosine',\n",
    "    device=torch.device('cuda')\n",
    ")\n",
    "kmeans2_cluster_ids_full = kmeans2.predict(pca_features)\n",
    "\n",
    "# 6. 메타 특징 생성 (GPU)\n",
    "meta_features = torch.stack([kmeans_cluster_ids_full, kmeans2_cluster_ids_full], dim=1).float()\n",
    "\n",
    "# 7. 메타 클러스터링 (GPU)\n",
    "meta_cluster_ids, meta_centers = kmeans(\n",
    "    X=meta_features,\n",
    "    num_clusters=5,\n",
    "    distance='euclidean',\n",
    "    device=torch.device('cuda')\n",
    ")  \n",
    "\n",
    "# 8. 결과를 PySpark DataFrame으로 변환\n",
    "from pyspark.sql import Row\n",
    "\n",
    "final_cluster_ids_np = meta_cluster_ids.cpu().numpy().astype(int)\n",
    "rows = [Row(id=idx, final_cluster=int(cluster)) for idx, cluster in enumerate(final_cluster_ids_np)]\n",
    "df_final_cluster = spark.createDataFrame(rows)\n",
    "\n",
    "df_final_cluster.show(5)\n"
   ]
  },
  {
   "cell_type": "code",
   "execution_count": 0,
   "metadata": {
    "application/vnd.databricks.v1+cell": {
     "cellMetadata": {
      "byteLimit": 2048000,
      "rowLimit": 10000
     },
     "inputWidgets": {},
     "nuid": "1162cecc-a635-4391-acb8-23a5b4d39f7b",
     "showTitle": false,
     "tableResultSettingsMap": {},
     "title": ""
    }
   },
   "outputs": [],
   "source": [
    "#2-1. KMeans (GPU)\n",
    "# KMeans 클러스터링 (k=10)\n",
    "kmeans_cluster_ids, kmeans_centers = kmeans(\n",
    "    X=pca_sampled,\n",
    "    num_clusters=10,\n",
    "    distance='euclidean',\n",
    "    device=torch.device('cuda'),\n",
    "    batch_size=512  # 대용량 데이터 시 배치 처리\n",
    ")\n",
    "\n",
    "# 전체 데이터 예측\n",
    "kmeans_cluster_ids_full = kmeans.predict(pca_features)\n"
   ]
  },
  {
   "cell_type": "code",
   "execution_count": 0,
   "metadata": {
    "application/vnd.databricks.v1+cell": {
     "cellMetadata": {
      "byteLimit": 2048000,
      "rowLimit": 10000
     },
     "inputWidgets": {},
     "nuid": "a35ff7a7-7600-49c4-b698-63bbbd137353",
     "showTitle": false,
     "tableResultSettingsMap": {},
     "title": ""
    }
   },
   "outputs": [],
   "source": [
    "# 2-2. GMM (GPU - RAPIDS cuML)\n",
    "# RAPIDS cuML의 GPU GMM 사용\n",
    "gmm = GaussianMixture(n_components=10)\n",
    "gmm.fit(pca_sampled.cpu().numpy())  # cuML은 Numpy 입력 필요\n",
    "gmm_cluster_ids_full = gmm.predict(pca_features.cpu().numpy())\n",
    "gmm_cluster_ids_full = torch.from_numpy(gmm_cluster_ids_full).cuda()\n"
   ]
  },
  {
   "cell_type": "code",
   "execution_count": 0,
   "metadata": {
    "application/vnd.databricks.v1+cell": {
     "cellMetadata": {
      "byteLimit": 2048000,
      "rowLimit": 10000
     },
     "inputWidgets": {},
     "nuid": "0916c197-916f-44a8-836e-c3ff93258656",
     "showTitle": false,
     "tableResultSettingsMap": {},
     "title": ""
    }
   },
   "outputs": [],
   "source": [
    "#3. 메타 클러스터링 (앙상블)\n",
    "\n",
    "# 클러스터 결과 결합 (KMeans + GMM)\n",
    "meta_features = torch.stack([kmeans_cluster_ids_full, gmm_cluster_ids_full], dim=1).float()\n",
    "\n",
    "# 메타 KMeans (k=5)\n",
    "meta_cluster_ids, meta_centers = kmeans(\n",
    "    X=meta_features,\n",
    "    num_clusters=5,\n",
    "    distance='euclidean',\n",
    "    device=torch.device('cuda'),\n",
    "    batch_size=512\n",
    ")"
   ]
  },
  {
   "cell_type": "code",
   "execution_count": 0,
   "metadata": {
    "application/vnd.databricks.v1+cell": {
     "cellMetadata": {
      "byteLimit": 2048000,
      "rowLimit": 10000
     },
     "inputWidgets": {},
     "nuid": "472429bd-8908-46d3-a137-f6ca66ba20aa",
     "showTitle": false,
     "tableResultSettingsMap": {},
     "title": ""
    }
   },
   "outputs": [],
   "source": [
    "#4. 최종 결과 병합 (PySpark DataFrame)\n",
    "from pyspark.sql import Row\n",
    "\n",
    "# 최종 클러스터 ID를 Numpy로 변환\n",
    "final_cluster_ids_np = meta_cluster_ids.cpu().numpy().astype(int)\n",
    "\n",
    "# PySpark DataFrame 생성\n",
    "rows = [Row(id=idx, final_cluster=int(cluster)) for idx, cluster in enumerate(final_cluster_ids_np)]\n",
    "df_final_cluster = spark.createDataFrame(rows)"
   ]
  },
  {
   "cell_type": "markdown",
   "metadata": {
    "application/vnd.databricks.v1+cell": {
     "cellMetadata": {
      "byteLimit": 2048000,
      "rowLimit": 10000
     },
     "inputWidgets": {},
     "nuid": "ff706f55-a161-4e6a-af2d-9936231c58e9",
     "showTitle": false,
     "tableResultSettingsMap": {},
     "title": ""
    }
   },
   "source": [
    "## 10등분 후 10번 돌리기"
   ]
  },
  {
   "cell_type": "code",
   "execution_count": 0,
   "metadata": {
    "application/vnd.databricks.v1+cell": {
     "cellMetadata": {
      "byteLimit": 2048000,
      "rowLimit": 10000
     },
     "inputWidgets": {},
     "nuid": "c1b45392-0eb5-4560-a717-6c7ae3340d21",
     "showTitle": false,
     "tableResultSettingsMap": {},
     "title": ""
    }
   },
   "outputs": [],
   "source": [
    "#ㅅㅅㅇ\n",
    "#그냥 스텝와이즈 갈겨버릴껄\n",
    "from pyspark.ml.clustering import KMeans, BisectingKMeans  # GMM 제거\n",
    "from pyspark.ml.feature import VectorAssembler\n",
    "\n",
    "# 1. 데이터 10등분 (randomSplit 사용)\n",
    "splits = df_pca.randomSplit([0.1] * 10, seed=42)\n",
    "\n",
    "# 2. 각 분할별로 클러스터링 수행\n",
    "results = []\n",
    "for i, split_df in enumerate(splits):\n",
    "    \n",
    "    # 2-1. 샘플링 (전체 데이터 대신 분할된 데이터 사용)\n",
    "    df_sampled = split_df.sample(withReplacement=False, fraction=0.01, seed=42)\n",
    "    \n",
    "    # 2-2. 모델 학습 (k=5로 축소, GMM 제외)\n",
    "    kmeans_model = KMeans(k=5, featuresCol=\"pca_features\").fit(df_sampled)\n",
    "    bkm_model = BisectingKMeans(k=5, featuresCol=\"pca_features\").fit(df_sampled)\n",
    "    \n",
    "    # 2-3. 예측 (전체 분할 데이터에 적용)\n",
    "    df_kmeans = kmeans_model.transform(split_df).withColumnRenamed(\"prediction\", \"kmeans_cluster\")\n",
    "    df_bkm = bkm_model.transform(split_df).withColumnRenamed(\"prediction\", \"bkm_cluster\")\n",
    "    \n",
    "    # 2-4. 결과 병합\n",
    "    df_ensemble = df_kmeans.select(\"id\", \"kmeans_cluster\") \\\n",
    "        .join(df_bkm.select(\"id\", \"bkm_cluster\"), on=\"id\")\n",
    "    \n",
    "    # 2-5. 메타 특징 생성\n",
    "    assembler = VectorAssembler(inputCols=[\"kmeans_cluster\", \"bkm_cluster\"], outputCol=\"meta_features\")\n",
    "    df_meta = assembler.transform(df_ensemble)\n",
    "    \n",
    "    # 2-6. 메타 클러스터링 (k=5)\n",
    "    meta_model = KMeans(k=5, featuresCol=\"meta_features\", predictionCol=\"final_cluster\").fit(df_meta)\n",
    "    df_final = meta_model.transform(df_meta)\n",
    "    \n",
    "    results.append(df_final)\n",
    "\n",
    "# 3. 최종 결과 통합 (옵션)\n",
    "df_final_cluster = results[0]\n",
    "for df in results[1:]:\n",
    "    df_final_cluster = df_final_cluster.union(df)\n"
   ]
  },
  {
   "cell_type": "markdown",
   "metadata": {
    "application/vnd.databricks.v1+cell": {
     "cellMetadata": {
      "byteLimit": 2048000,
      "rowLimit": 10000
     },
     "inputWidgets": {},
     "nuid": "069eeb4c-3ed6-4257-8b25-4062eb3ee808",
     "showTitle": false,
     "tableResultSettingsMap": {},
     "title": ""
    }
   },
   "source": [
    "## 이건 병렬 클러스터링\n"
   ]
  },
  {
   "cell_type": "markdown",
   "metadata": {
    "application/vnd.databricks.v1+cell": {
     "cellMetadata": {
      "byteLimit": 2048000,
      "rowLimit": 10000
     },
     "inputWidgets": {},
     "nuid": "a69296d5-37e8-45b8-b87d-44f107148d98",
     "showTitle": false,
     "tableResultSettingsMap": {},
     "title": ""
    }
   },
   "source": [
    "##인적정보 클러스터링"
   ]
  },
  {
   "cell_type": "code",
   "execution_count": 0,
   "metadata": {
    "application/vnd.databricks.v1+cell": {
     "cellMetadata": {
      "byteLimit": 2048000,
      "rowLimit": 10000
     },
     "inputWidgets": {},
     "nuid": "ee30f805-43f3-4824-a065-6f7aed49a289",
     "showTitle": false,
     "tableResultSettingsMap": {},
     "title": ""
    }
   },
   "outputs": [],
   "source": [
    "from pyspark.ml.clustering import KMeans\n",
    "from pyspark.ml.feature import VectorAssembler\n",
    "\n",
    "# 인적정보 컬럼 정의\n",
    "demographic_cols = [\n",
    "    \"남녀구분코드\", \"연령\", \"거주시도명\", \"직장시도명\", \"가입통신회사코드\", \"Life_Stage\"\n",
    "]\n",
    "\n",
    "# 벡터화\n",
    "assembler_demo = VectorAssembler(inputCols=demographic_cols, outputCol=\"demo_features\")\n",
    "df_demo = assembler_demo.transform(df)\n",
    "\n",
    "# 클러스터링 (k=5)\n",
    "kmeans_demo = KMeans(k=5, featuresCol=\"demo_features\", predictionCol=\"demo_cluster\")\n",
    "demo_model = kmeans_demo.fit(df_demo)\n",
    "df_demo_result = demo_model.transform(df_demo)\n",
    "\n",
    "# 필요시 캐싱 또는 저장\n",
    "df_demo_result.cache()\n",
    "df_demo_result.select(\"id\", \"demo_cluster\").show(10)\n"
   ]
  },
  {
   "cell_type": "markdown",
   "metadata": {
    "application/vnd.databricks.v1+cell": {
     "cellMetadata": {
      "byteLimit": 2048000,
      "rowLimit": 10000
     },
     "inputWidgets": {},
     "nuid": "6367b1f8-f717-43d8-aa2e-b1f4ac34f35d",
     "showTitle": false,
     "tableResultSettingsMap": {},
     "title": ""
    }
   },
   "source": [
    "2. 라이프스타일/회원상태 클러스터링"
   ]
  },
  {
   "cell_type": "code",
   "execution_count": 0,
   "metadata": {
    "application/vnd.databricks.v1+cell": {
     "cellMetadata": {
      "byteLimit": 2048000,
      "rowLimit": 10000
     },
     "inputWidgets": {},
     "nuid": "84d8bf42-68e5-4072-9247-15f922e33dc1",
     "showTitle": false,
     "tableResultSettingsMap": {},
     "title": ""
    }
   },
   "outputs": [],
   "source": [
    "# 라이프스타일 컬럼 정의\n",
    "lifestyle_cols = [\n",
    "    \"마케팅동의여부\", \"회원여부_연체\", \"회원여부_이용가능\", \"동의여부_한도증액안내\",\n",
    "    \"수신거부여부_TM\", \"수신거부여부_메일\", \"수신거부여부_SMS\", \"수신거부여부_DM\",\n",
    "    \"VIP등급코드\", \"최상위카드등급코드\"\n",
    "]\n",
    "\n",
    "# 벡터화\n",
    "assembler_life = VectorAssembler(inputCols=lifestyle_cols, outputCol=\"life_features\")\n",
    "df_life = assembler_life.transform(df)\n",
    "\n",
    "# 클러스터링 (k=5)\n",
    "kmeans_life = KMeans(k=5, featuresCol=\"life_features\", predictionCol=\"life_cluster\")\n",
    "life_model = kmeans_life.fit(df_life)\n",
    "df_life_result = life_model.transform(df_life)\n",
    "\n",
    "# 필요시 캐싱 또는 저장\n",
    "df_life_result.cache()\n",
    "df_life_result.select(\"id\", \"life_cluster\").show(10)\n"
   ]
  },
  {
   "cell_type": "markdown",
   "metadata": {
    "application/vnd.databricks.v1+cell": {
     "cellMetadata": {
      "byteLimit": 2048000,
      "rowLimit": 10000
     },
     "inputWidgets": {},
     "nuid": "e245c1a0-073c-4489-84ce-e180f50efe83",
     "showTitle": false,
     "tableResultSettingsMap": {},
     "title": ""
    }
   },
   "source": [
    "3. 카드 이용/소비정보 클러스터링"
   ]
  },
  {
   "cell_type": "code",
   "execution_count": 0,
   "metadata": {
    "application/vnd.databricks.v1+cell": {
     "cellMetadata": {
      "byteLimit": 2048000,
      "rowLimit": 10000
     },
     "inputWidgets": {},
     "nuid": "02ed3c31-3a94-49ee-9bd1-19928a0462cf",
     "showTitle": false,
     "tableResultSettingsMap": {},
     "title": ""
    }
   },
   "outputs": [],
   "source": [
    "# 소비정보 컬럼 정의\n",
    "usage_cols = [\n",
    "    \"log_총이용금액\", \"log_입회경과개월수_신용\", \"최종카드발급경과월\", \"탈회횟수_누적\",\n",
    "    \"카드신청건수\", \"소지카드수_유효_신용\", \"유효카드수_체크\", \"이용카드수_신용\",\n",
    "    \"이용카드수_체크\", \"청구금액_기본연회비_B0M\", \"청구금액_제휴연회비_B0M\",\n",
    "    \"최종탈회후경과월\", \"탈회횟수_발급6개월이내\", \"탈회횟수_발급1년이내\"\n",
    "]\n",
    "\n",
    "# 벡터화\n",
    "assembler_usage = VectorAssembler(inputCols=usage_cols, outputCol=\"usage_features\")\n",
    "df_usage = assembler_usage.transform(df)\n",
    "\n",
    "# 클러스터링 (k=5)\n",
    "kmeans_usage = KMeans(k=5, featuresCol=\"usage_features\", predictionCol=\"usage_cluster\")\n",
    "usage_model = kmeans_usage.fit(df_usage)\n",
    "df_usage_result = usage_model.transform(df_usage)\n",
    "\n",
    "# 필요시 캐싱 또는 저장\n",
    "df_usage_result.cache()\n",
    "df_usage_result.select(\"id\", \"usage_cluster\").show(10)\n"
   ]
  },
  {
   "cell_type": "markdown",
   "metadata": {
    "application/vnd.databricks.v1+cell": {
     "cellMetadata": {
      "byteLimit": 2048000,
      "rowLimit": 10000
     },
     "inputWidgets": {},
     "nuid": "2420d819-10aa-4ac0-b557-a54a0e6cade5",
     "showTitle": false,
     "tableResultSettingsMap": {},
     "title": ""
    }
   },
   "source": [
    "4. 결과 병합 (최종)"
   ]
  },
  {
   "cell_type": "code",
   "execution_count": 0,
   "metadata": {
    "application/vnd.databricks.v1+cell": {
     "cellMetadata": {
      "byteLimit": 2048000,
      "rowLimit": 10000
     },
     "inputWidgets": {},
     "nuid": "a73d7bb9-3eac-45d1-a0d7-f89c1d79b23d",
     "showTitle": false,
     "tableResultSettingsMap": {},
     "title": ""
    }
   },
   "outputs": [],
   "source": [
    "# id 기준으로 결과 병합\n",
    "df_final = df_demo_result.select(\"id\", \"demo_cluster\") \\\n",
    "    .join(df_life_result.select(\"id\", \"life_cluster\"), on=\"id\", how=\"inner\") \\\n",
    "    .join(df_usage_result.select(\"id\", \"usage_cluster\"), on=\"id\", how=\"inner\")\n",
    "\n",
    "# 최종 결과 확인\n",
    "df_final.select(\"id\", \"demo_cluster\", \"life_cluster\", \"usage_cluster\").show(10)\n"
   ]
  },
  {
   "cell_type": "markdown",
   "metadata": {
    "application/vnd.databricks.v1+cell": {
     "cellMetadata": {
      "byteLimit": 2048000,
      "rowLimit": 10000
     },
     "inputWidgets": {},
     "nuid": "76fd3b95-6190-4104-a86b-8e2b94896eba",
     "showTitle": false,
     "tableResultSettingsMap": {},
     "title": ""
    }
   },
   "source": [
    "# ------ 저장된 테이블 불러오기 & 병합 & 클러스터링& PCA등 시험 --"
   ]
  },
  {
   "cell_type": "code",
   "execution_count": 0,
   "metadata": {
    "application/vnd.databricks.v1+cell": {
     "cellMetadata": {
      "byteLimit": 2048000,
      "rowLimit": 10000
     },
     "inputWidgets": {},
     "nuid": "ca980db0-fdc6-475e-8f45-280b86eaa273",
     "showTitle": false,
     "tableResultSettingsMap": {},
     "title": ""
    }
   },
   "outputs": [],
   "source": [
    "# 데이터베이스 설정\n",
    "database_name = \"database_pjt\"\n",
    "\n",
    "# 예시 키 컬럼명 (각 테이블마다 실제 컬럼명을 확인해야 함)\n",
    "join_key = \"발급회원번호\"  # 또는 customer_id, member_id 등 실명 확인 필요\n",
    "\n",
    "# 통합할 테이블 목록 (1_fina_로 시작하는 테이블들)\n",
    "table_names = [\n",
    "    \"1_fina_billing\",\n",
    "    \"1_fina_card_history\",\n",
    "    \"1_fina_card_usage\",\n",
    "    \"1_fina_log\",\n",
    "    \"1_fina_member\",\n",
    "    \"1_fina_membership\",\n",
    "    \"1_fina_marketing_consent\"\n",
    "]\n",
    "\n",
    "# 테이블 읽고 리스트에 저장\n",
    "dfs = [\n",
    "    spark.table(f\"{database_name}.{table_name}\")\n",
    "    for table_name in table_names\n",
    "]\n",
    "\n",
    "# 테이블 불러오기\n",
    "dfs_named = {\n",
    "    table_name: spark.table(f\"{database_name}.{table_name}\")\n",
    "    for table_name in table_names\n",
    "}\n",
    "\n",
    "# 첫 테이블을 기준으로 Outer Join (1_fina_member 기준 추천)\n",
    "base_table_name = \"1_fina_member\"\n",
    "df_base = dfs_named[base_table_name]\n",
    "\n",
    "# 나머지 테이블들을 차례대로 outer join\n",
    "from functools import reduce\n",
    "\n",
    "tables_to_join = [name for name in table_names if name != base_table_name]\n",
    "\n",
    "df = reduce(\n",
    "    lambda df1, name: df1.join(\n",
    "        dfs_named[name],\n",
    "        on=join_key,\n",
    "        how=\"outer\"\n",
    "    ),\n",
    "    tables_to_join,\n",
    "    df_base\n",
    ")\n",
    "\n",
    "display(df)\n"
   ]
  },
  {
   "cell_type": "code",
   "execution_count": 0,
   "metadata": {
    "application/vnd.databricks.v1+cell": {
     "cellMetadata": {
      "byteLimit": 2048000,
      "rowLimit": 10000
     },
     "inputWidgets": {},
     "nuid": "954c77b0-34cf-4a7b-b77c-43037dbcb11a",
     "showTitle": false,
     "tableResultSettingsMap": {},
     "title": ""
    }
   },
   "outputs": [],
   "source": [
    "spark.conf.set(\"spark.rapids.sql.enabled\", \"true\")\n",
    "spark.conf.set(\"spark.rapids.sql.explain\", \"ALL\")  # 실행계획에 GPU 사용 여부 출력\n",
    "spark.conf.set(\"spark.rapids.sql.exec.BatchScanExec\", \"true\")"
   ]
  },
  {
   "cell_type": "code",
   "execution_count": 0,
   "metadata": {
    "application/vnd.databricks.v1+cell": {
     "cellMetadata": {
      "byteLimit": 2048000,
      "rowLimit": 10000
     },
     "inputWidgets": {},
     "nuid": "9edbaee6-4693-4ee7-973f-af7bff229916",
     "showTitle": false,
     "tableResultSettingsMap": {},
     "title": ""
    }
   },
   "outputs": [],
   "source": [
    "df.explain(mode=\"formatted\")"
   ]
  },
  {
   "cell_type": "code",
   "execution_count": 0,
   "metadata": {
    "application/vnd.databricks.v1+cell": {
     "cellMetadata": {
      "byteLimit": 2048000,
      "rowLimit": 10000
     },
     "inputWidgets": {},
     "nuid": "3d7d45f3-5e29-4de9-9523-947001a36daf",
     "showTitle": false,
     "tableResultSettingsMap": {},
     "title": ""
    }
   },
   "outputs": [],
   "source": []
  }
 ],
 "metadata": {
  "application/vnd.databricks.v1+notebook": {
   "computePreferences": null,
   "dashboards": [],
   "environmentMetadata": null,
   "inputWidgetPreferences": null,
   "language": "python",
   "notebookMetadata": {
    "mostRecentlyExecutedCommandWithImplicitDF": {
     "commandId": 2569421885752465,
     "dataframes": [
      "_sqldf"
     ]
    },
    "pythonIndentUnit": 4
   },
   "notebookName": "1.1_회원정보전처리",
   "widgets": {}
  },
  "kernelspec": {
   "display_name": "Python (dataproject)",
   "language": "python",
   "name": "dataproject"
  },
  "language_info": {
   "name": "python"
  }
 },
 "nbformat": 4,
 "nbformat_minor": 0
}
