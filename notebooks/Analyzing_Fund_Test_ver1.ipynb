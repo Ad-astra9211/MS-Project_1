{
 "cells": [
  {
   "cell_type": "markdown",
   "metadata": {
    "application/vnd.databricks.v1+cell": {
     "cellMetadata": {
      "byteLimit": 2048000,
      "rowLimit": 10000
     },
     "inputWidgets": {},
     "nuid": "392b1561-0a4e-4d16-909e-93d773aa5f4b",
     "showTitle": false,
     "tableResultSettingsMap": {},
     "title": ""
    }
   },
   "source": [
    "### 1. 추출한 피처들을 컬럼으로 하는 df만들기"
   ]
  },
  {
   "cell_type": "markdown",
   "metadata": {
    "application/vnd.databricks.v1+cell": {
     "cellMetadata": {
      "byteLimit": 2048000,
      "rowLimit": 10000
     },
     "inputWidgets": {},
     "nuid": "1cc8b7c8-48b5-4b07-adcd-eac8c13ce879",
     "showTitle": false,
     "tableResultSettingsMap": {},
     "title": ""
    }
   },
   "source": [
    "_컬럼 선정이유와 컬럼에 대한 간단한 소개, 형이나 데이터 형식 설명 _추가__(ppt자료)"
   ]
  },
  {
   "cell_type": "markdown",
   "metadata": {
    "application/vnd.databricks.v1+cell": {
     "cellMetadata": {
      "byteLimit": 2048000,
      "rowLimit": 10000
     },
     "inputWidgets": {},
     "nuid": "2cac6eb1-9c65-4a44-8e59-3da171465c41",
     "showTitle": false,
     "tableResultSettingsMap": {},
     "title": ""
    }
   },
   "source": [
    "_펀드명도 익명화되어서 그런건지 다시 한번 알아보고싶다._"
   ]
  },
  {
   "cell_type": "code",
   "execution_count": 0,
   "metadata": {
    "application/vnd.databricks.v1+cell": {
     "cellMetadata": {
      "byteLimit": 2048000,
      "rowLimit": 10000
     },
     "inputWidgets": {},
     "nuid": "f90b322a-c602-4162-bdbb-bba1d1bd2b07",
     "showTitle": false,
     "tableResultSettingsMap": {},
     "title": ""
    }
   },
   "outputs": [],
   "source": [
    "%pip install cudf-cu12 rmm-cu12 --extra-index-url=https://pypi.nvidia.com"
   ]
  },
  {
   "cell_type": "code",
   "execution_count": 0,
   "metadata": {
    "application/vnd.databricks.v1+cell": {
     "cellMetadata": {
      "byteLimit": 2048000,
      "rowLimit": 10000
     },
     "inputWidgets": {},
     "nuid": "3ce5285d-ac0b-43be-9ded-10b539390327",
     "showTitle": false,
     "tableResultSettingsMap": {},
     "title": ""
    }
   },
   "outputs": [],
   "source": [
    "#  방법 1. gpu 사용을 위해 파이썬 재시작\n",
    "# %restart_python"
   ]
  },
  {
   "cell_type": "code",
   "execution_count": 0,
   "metadata": {
    "application/vnd.databricks.v1+cell": {
     "cellMetadata": {
      "byteLimit": 2048000,
      "rowLimit": 10000
     },
     "inputWidgets": {},
     "nuid": "0e117318-ebe1-41eb-9ca9-706b3e706fb0",
     "showTitle": false,
     "tableResultSettingsMap": {},
     "title": ""
    }
   },
   "outputs": [],
   "source": [
    "# 방법 2. (Databricks 전용)\n",
    "dbutils.library.restartPython()\n"
   ]
  },
  {
   "cell_type": "code",
   "execution_count": 0,
   "metadata": {
    "application/vnd.databricks.v1+cell": {
     "cellMetadata": {
      "byteLimit": 2048000,
      "rowLimit": 10000
     },
     "inputWidgets": {},
     "nuid": "5fa28180-378d-4a02-8b32-b7d53b6b4b94",
     "showTitle": false,
     "tableResultSettingsMap": {},
     "title": ""
    }
   },
   "outputs": [],
   "source": [
    "import cudf\n",
    "df = cudf.DataFrame({'a': [1, 2, 3], 'b': [4, 5, 6]})\n",
    "print(df)\n"
   ]
  },
  {
   "cell_type": "code",
   "execution_count": 0,
   "metadata": {
    "application/vnd.databricks.v1+cell": {
     "cellMetadata": {
      "byteLimit": 2048000,
      "rowLimit": 10000
     },
     "inputWidgets": {},
     "nuid": "a5ce649c-5bfa-4cd8-9986-c1a35354a3ee",
     "showTitle": false,
     "tableResultSettingsMap": {},
     "title": ""
    }
   },
   "outputs": [],
   "source": [
    "!nvidia-smi"
   ]
  },
  {
   "cell_type": "code",
   "execution_count": 0,
   "metadata": {
    "application/vnd.databricks.v1+cell": {
     "cellMetadata": {
      "byteLimit": 2048000,
      "rowLimit": 10000
     },
     "inputWidgets": {},
     "nuid": "0b887c9f-6742-4079-b490-5c97545b97a2",
     "showTitle": false,
     "tableResultSettingsMap": {},
     "title": ""
    }
   },
   "outputs": [],
   "source": [
    "# 1) CSV 파일 로드\n",
    "file_path = \"/mnt/raw-data/12.금융상품정보/공모펀드상품.csv\"\n",
    "df = spark.read.format(\"csv\") \\\n",
    "    .option(\"header\", \"true\") \\\n",
    "    .option(\"inferSchema\", \"true\") \\\n",
    "    .option(\"encoding\", \"UTF-8\") \\\n",
    "    .load(file_path)\n",
    "\n",
    "# 2) 사용할 피처 리스트 정의\n",
    "selected_cols = [\n",
    "    # 1. 펀드 식별 및 기본 정보\n",
    "    \"펀드코드\", \"펀드명\", \"대표펀드유무\", \"운용사명\", \"설정일\",\n",
    "    # 2. 펀드 유형 및 전략\n",
    "    \"대유형\", \"중유형\", \"소유형\", \"투자전략\", \"펀드키워드\",\n",
    "    # 3. 성과(수익률)\n",
    "    \"펀드성과정보_1년\", \"유형평균유형성과_1년\",\n",
    "    # 4. 위험/리스크 지표\n",
    "    \"펀드표준편차(연환산)_1년\", \"펀드수정샤프(연환산)_1년\", \"MaximumDrawDown_1년\",\n",
    "    # 5. 자금흐름(인기도/트렌드)\n",
    "    \"NetCashFlow(펀드자금흐름)_1년\",\n",
    "    # 6. 규모\n",
    "    \"순자산\",\n",
    "    # 7. 수수료\n",
    "    \"운용보수\", \"판매보수\", \"선취수수료\", \"후취수수료\",\n",
    "    # 8. 테마/특징(필터링용)\n",
    "    \"가치주\", \"성장주\", \"중소형주\", \"글로벌\", \"자산배분\",\n",
    "    \"4차산업\", \"ESG(사회책임투자형)\", \"배당주\", \"FoFs\",\n",
    "    \"퇴직연금\", \"고난도금융상품\", \"절대수익추구\", \"레버리지\", \"퀀트\",\n",
    "    \"1년종합등급\",\"1년종합점수\",\"3년종합등급\",\"3년종합점수\",\"5년종합등급\",\"5년종합점수\",\"투자위험등급\",\"판매위험등급\"\n",
    "]\n",
    "\n",
    "# 3) 선택한 피처만 뽑아서 새로운 DataFrame 생성\n",
    "df_selected = df.select(*selected_cols)\n",
    "\n",
    "# 4) 결과 확인\n",
    "df_selected.printSchema()\n",
    "df_selected.show(10, truncate=False)\n"
   ]
  },
  {
   "cell_type": "code",
   "execution_count": 0,
   "metadata": {
    "application/vnd.databricks.v1+cell": {
     "cellMetadata": {
      "byteLimit": 2048000,
      "rowLimit": 10000
     },
     "inputWidgets": {},
     "nuid": "8b4012e5-4aff-49c4-bb20-abf466eb4f3f",
     "showTitle": false,
     "tableResultSettingsMap": {},
     "title": ""
    }
   },
   "outputs": [],
   "source": [
    "display(df_selected.head(10))"
   ]
  },
  {
   "cell_type": "code",
   "execution_count": 0,
   "metadata": {
    "application/vnd.databricks.v1+cell": {
     "cellMetadata": {
      "byteLimit": 2048000,
      "rowLimit": 10000
     },
     "inputWidgets": {},
     "nuid": "8a68ba64-88de-4824-94a5-403c46a8a5d7",
     "showTitle": false,
     "tableResultSettingsMap": {},
     "title": ""
    }
   },
   "outputs": [],
   "source": [
    "display(df_selected.tail(10))"
   ]
  },
  {
   "cell_type": "code",
   "execution_count": 0,
   "metadata": {
    "application/vnd.databricks.v1+cell": {
     "cellMetadata": {
      "byteLimit": 2048000,
      "rowLimit": 10000
     },
     "inputWidgets": {},
     "nuid": "96c4c11e-9bb2-4003-9b5e-0706b5ef63e3",
     "showTitle": false,
     "tableResultSettingsMap": {},
     "title": ""
    }
   },
   "outputs": [],
   "source": [
    "df_selected.columns"
   ]
  },
  {
   "cell_type": "code",
   "execution_count": 0,
   "metadata": {
    "application/vnd.databricks.v1+cell": {
     "cellMetadata": {
      "byteLimit": 2048000,
      "rowLimit": 10000
     },
     "inputWidgets": {},
     "nuid": "5a038faf-1e5d-4696-bdaf-4839263ea5e0",
     "showTitle": false,
     "tableResultSettingsMap": {},
     "title": ""
    }
   },
   "outputs": [],
   "source": [
    "print(len(df_selected.columns))"
   ]
  },
  {
   "cell_type": "code",
   "execution_count": 0,
   "metadata": {
    "application/vnd.databricks.v1+cell": {
     "cellMetadata": {
      "byteLimit": 2048000,
      "rowLimit": 10000
     },
     "inputWidgets": {},
     "nuid": "b6a4b262-b774-4dc8-a31a-9c7ccf254dc0",
     "showTitle": false,
     "tableResultSettingsMap": {},
     "title": ""
    }
   },
   "outputs": [],
   "source": [
    "df_selected.printSchema()"
   ]
  },
  {
   "cell_type": "markdown",
   "metadata": {
    "application/vnd.databricks.v1+cell": {
     "cellMetadata": {
      "byteLimit": 2048000,
      "rowLimit": 10000
     },
     "inputWidgets": {},
     "nuid": "15b664c5-6a46-47af-9881-6675edb69e22",
     "showTitle": false,
     "tableResultSettingsMap": {},
     "title": ""
    }
   },
   "source": [
    "#### 결측치 처리 방안#1\n",
    "  1. 전체 약 2.4만개의 행 중 랭킹을 메길때 중요한 피처인 펀드 성과정보_1년의 null값을 가진 행은 2754개로 전체의 약 10%로 즉, 적은 비중을 차지 -> 정확한 랭킹을 위해 결측치 제거"
   ]
  },
  {
   "cell_type": "markdown",
   "metadata": {
    "application/vnd.databricks.v1+cell": {
     "cellMetadata": {
      "byteLimit": 2048000,
      "rowLimit": 10000
     },
     "inputWidgets": {},
     "nuid": "8c17789f-1f8a-4c8f-8dd3-d11e6c55bea6",
     "showTitle": false,
     "tableResultSettingsMap": {},
     "title": ""
    }
   },
   "source": [
    "### 각 column 마다 Null 값 개수 확인"
   ]
  },
  {
   "cell_type": "code",
   "execution_count": 0,
   "metadata": {
    "application/vnd.databricks.v1+cell": {
     "cellMetadata": {
      "byteLimit": 2048000,
      "rowLimit": 10000
     },
     "inputWidgets": {},
     "nuid": "b2b466f1-3ec1-4c26-9a40-36143a1d4d97",
     "showTitle": false,
     "tableResultSettingsMap": {},
     "title": ""
    }
   },
   "outputs": [],
   "source": [
    "from pyspark.sql.functions import count, when, isnull\n",
    "is_null = df_selected.select([count(when(isnull(c), c)).alias(c) for c in df_selected.columns])\n",
    "\n",
    "display(is_null)"
   ]
  },
  {
   "cell_type": "code",
   "execution_count": 0,
   "metadata": {
    "application/vnd.databricks.v1+cell": {
     "cellMetadata": {
      "byteLimit": 2048000,
      "rowLimit": 10000
     },
     "inputWidgets": {},
     "nuid": "77635eb7-2d59-4116-a33a-927c048a1c62",
     "showTitle": false,
     "tableResultSettingsMap": {},
     "title": ""
    }
   },
   "outputs": [],
   "source": [
    "df_selected.count() # 전체 행의 개수"
   ]
  },
  {
   "cell_type": "markdown",
   "metadata": {
    "application/vnd.databricks.v1+cell": {
     "cellMetadata": {
      "byteLimit": 2048000,
      "rowLimit": 10000
     },
     "inputWidgets": {},
     "nuid": "c18c5281-877f-4123-8c19-876305a4e4b5",
     "showTitle": false,
     "tableResultSettingsMap": {},
     "title": ""
    }
   },
   "source": [
    "_이정도 %의 결측치는 삭제한다는 예시와 펀드 성과정보의 결측치를 삭제해야한다는 이유 정리_"
   ]
  },
  {
   "cell_type": "code",
   "execution_count": 0,
   "metadata": {
    "application/vnd.databricks.v1+cell": {
     "cellMetadata": {
      "byteLimit": 2048000,
      "rowLimit": 10000
     },
     "inputWidgets": {},
     "nuid": "f01a37d8-072f-44e5-8130-29c169627e86",
     "showTitle": false,
     "tableResultSettingsMap": {},
     "title": ""
    }
   },
   "outputs": [],
   "source": [
    "from pyspark.sql.functions import col\n",
    "\n",
    "df.filter(col(\"펀드성과정보_1년\").isNull()).count() # 정확히 특정 컬럼 널 값 재확인"
   ]
  },
  {
   "cell_type": "code",
   "execution_count": 0,
   "metadata": {
    "application/vnd.databricks.v1+cell": {
     "cellMetadata": {
      "byteLimit": 2048000,
      "rowLimit": 10000
     },
     "inputWidgets": {},
     "nuid": "32c1f2cb-47f8-4569-8a5b-5b8fb348f37e",
     "showTitle": false,
     "tableResultSettingsMap": {},
     "title": ""
    }
   },
   "outputs": [],
   "source": [
    "df_dropFund=df_selected.na.drop(subset=[\"펀드성과정보_1년\"])"
   ]
  },
  {
   "cell_type": "code",
   "execution_count": 0,
   "metadata": {
    "application/vnd.databricks.v1+cell": {
     "cellMetadata": {
      "byteLimit": 2048000,
      "rowLimit": 10000
     },
     "inputWidgets": {},
     "nuid": "36080931-a7a1-48fd-b2b6-5059e74bca01",
     "showTitle": false,
     "tableResultSettingsMap": {},
     "title": ""
    }
   },
   "outputs": [],
   "source": [
    "# 원본 행 개수\n",
    "orig_count = df_selected.count()\n",
    "\n",
    "# 널 제거 후 행 개수\n",
    "drop_count = df_dropFund.count()\n",
    "\n",
    "print(f\"원본 행 개수: {orig_count}\")\n",
    "print(f\"널 제거 후 행 개수: {drop_count}\")\n",
    "print(f\"삭제된 행 수: {orig_count - drop_count}\")\n"
   ]
  },
  {
   "cell_type": "code",
   "execution_count": 0,
   "metadata": {
    "application/vnd.databricks.v1+cell": {
     "cellMetadata": {
      "byteLimit": 2048000,
      "rowLimit": 10000
     },
     "inputWidgets": {},
     "nuid": "10ee0f9e-54df-4189-a79a-bc2f81bad806",
     "showTitle": false,
     "tableResultSettingsMap": {},
     "title": ""
    }
   },
   "outputs": [],
   "source": [
    "from pyspark.sql.functions import col\n",
    "from functools import reduce\n",
    "import operator\n",
    "\n",
    "# 1) 전체 행 수\n",
    "total_rows = df_dropFund.count()\n",
    "\n",
    "# 2) 어느 칼럼이라도 널인 행을 찾는 조건 생성\n",
    "null_condition = reduce(operator.or_, [col(c).isNull() for c in df_dropFund.columns])\n",
    "\n",
    "# 3) 널이 하나라도 있는 행 수 계산\n",
    "null_rows = df_dropFund.filter(null_condition).count()\n",
    "\n",
    "print(f\"전체 행 수: {total_rows}\")\n",
    "print(f\"널값이 있는 행 수: {null_rows}\")\n"
   ]
  },
  {
   "cell_type": "markdown",
   "metadata": {
    "application/vnd.databricks.v1+cell": {
     "cellMetadata": {
      "byteLimit": 2048000,
      "rowLimit": 10000
     },
     "inputWidgets": {},
     "nuid": "1bee62d3-a09c-42c5-b1f4-c949892033f2",
     "showTitle": false,
     "tableResultSettingsMap": {},
     "title": ""
    }
   },
   "source": [
    "한글 불러오기 설정"
   ]
  },
  {
   "cell_type": "code",
   "execution_count": 0,
   "metadata": {
    "application/vnd.databricks.v1+cell": {
     "cellMetadata": {
      "byteLimit": 2048000,
      "rowLimit": 10000
     },
     "inputWidgets": {},
     "nuid": "06d0a3a2-c0c4-49f8-8be3-d6ad5ef401fe",
     "showTitle": false,
     "tableResultSettingsMap": {},
     "title": ""
    }
   },
   "outputs": [],
   "source": [
    "import matplotlib.font_manager as fm\n",
    "\n",
    "for font in fm.findSystemFonts(fontpaths=None, fontext='ttf'):\n",
    "    if 'Nanum' in font or 'Malgun' in font or 'Gothic' in font or 'Batang' in font:\n",
    "        print(font)"
   ]
  },
  {
   "cell_type": "code",
   "execution_count": 0,
   "metadata": {
    "application/vnd.databricks.v1+cell": {
     "cellMetadata": {
      "byteLimit": 2048000,
      "rowLimit": 10000
     },
     "inputWidgets": {},
     "nuid": "9e4bd4e1-16db-4140-b74a-eb62426f972a",
     "showTitle": false,
     "tableResultSettingsMap": {},
     "title": ""
    }
   },
   "outputs": [],
   "source": [
    "import matplotlib.pyplot as plt"
   ]
  },
  {
   "cell_type": "code",
   "execution_count": 0,
   "metadata": {
    "application/vnd.databricks.v1+cell": {
     "cellMetadata": {
      "byteLimit": 2048000,
      "rowLimit": 10000
     },
     "inputWidgets": {},
     "nuid": "c9d05dfd-97de-4ce7-bed5-cb5df0e3df5f",
     "showTitle": false,
     "tableResultSettingsMap": {},
     "title": ""
    }
   },
   "outputs": [],
   "source": [
    "# 1. 폰트 경로\n",
    "font_path = \"/usr/share/fonts/truetype/nanum/NanumGothic.ttf\"\n",
    "\n",
    "# 2. FontProperties 객체 생성\n",
    "font_prop = fm.FontProperties(fname=font_path)\n",
    "\n",
    "# 3. 폰트를 각 그래프 요소에 직접 적용\n",
    "plt.figure(figsize=(5, 3))\n",
    "plt.plot([1, 2, 3], [3, 2, 1])\n",
    "plt.title(\"한글 제목 테스트\", fontproperties=font_prop)\n",
    "plt.xlabel(\"X축\", fontproperties=font_prop)\n",
    "plt.ylabel(\"Y축\", fontproperties=font_prop)\n",
    "plt.show()"
   ]
  },
  {
   "cell_type": "markdown",
   "metadata": {
    "application/vnd.databricks.v1+cell": {
     "cellMetadata": {
      "byteLimit": 2048000,
      "rowLimit": 10000
     },
     "inputWidgets": {},
     "nuid": "d8ec3af4-43df-46e6-9f3e-c821c2011788",
     "showTitle": false,
     "tableResultSettingsMap": {},
     "title": ""
    }
   },
   "source": [
    "### 리스크 탐지를 위한 주요 피처들의 남은 널 값 확인\n",
    "#### 주요 피처는 다음과 같다\n",
    "##### 랭킹 피처\n",
    "    1. 펀드성과정보_1년\n",
    "    2. 운용보수\n",
    "    3. NetCashFlow(펀드자금흐름)_1년\n",
    "\n",
    "##### 리스크 피처\n",
    "    4. 펀드표준편차(연환산)_1년\n",
    "    5. 펀드수정샤프(연환산)_1년\n",
    "    6. MaximumDrawDown_1년\n",
    "* 여기서 \"운용보수\" 항목은 널 값이 없으므로 제외\n"
   ]
  },
  {
   "cell_type": "code",
   "execution_count": 0,
   "metadata": {
    "application/vnd.databricks.v1+cell": {
     "cellMetadata": {
      "byteLimit": 2048000,
      "rowLimit": 10000
     },
     "inputWidgets": {},
     "nuid": "3031ec94-f1e6-4be6-ac3b-d62d0888cebf",
     "showTitle": false,
     "tableResultSettingsMap": {},
     "title": ""
    }
   },
   "outputs": [],
   "source": [
    "from pyspark.sql.functions import col\n",
    "from functools import reduce\n",
    "import operator\n",
    "\n",
    "# 1) 검사할 컬럼 리스트\n",
    "numeric_cols = [\n",
    "    \"펀드표준편차(연환산)_1년\",\n",
    "    \"펀드수정샤프(연환산)_1년\",\n",
    "    \"MaximumDrawDown_1년\",\n",
    "    \"NetCashFlow(펀드자금흐름)_1년\"\n",
    "]\n",
    "\n",
    "# 2) 나머지 네 개 컬럼 중 하나라도 널인 조건 생성\n",
    "null_any = reduce(operator.or_, [col(c).isNull() for c in numeric_cols])\n",
    "\n",
    "# 3) 펀드성과정보_1년은 널이 아닌 조건과 결합\n",
    "condition = col(\"펀드성과정보_1년\").isNotNull() & null_any\n",
    "\n",
    "# 4) 필터 후 카운트\n",
    "remaining_null_rows = df_dropFund.filter(condition).count()\n",
    "\n",
    "print(f\"펀드성과정보_1년이 존재하고, 나머지 중 하나라도 널인 행 수: {remaining_null_rows}\")\n"
   ]
  },
  {
   "cell_type": "markdown",
   "metadata": {
    "application/vnd.databricks.v1+cell": {
     "cellMetadata": {
      "byteLimit": 2048000,
      "rowLimit": 10000
     },
     "inputWidgets": {},
     "nuid": "5924439a-dc54-4393-992d-c653b1c31458",
     "showTitle": false,
     "tableResultSettingsMap": {},
     "title": ""
    }
   },
   "source": [
    "#### 널값을 하나라도 가진 컬럼 확인"
   ]
  },
  {
   "cell_type": "markdown",
   "metadata": {
    "application/vnd.databricks.v1+cell": {
     "cellMetadata": {
      "byteLimit": 2048000,
      "rowLimit": 10000
     },
     "inputWidgets": {},
     "nuid": "69035be1-247c-4716-a789-34704c92016d",
     "showTitle": false,
     "tableResultSettingsMap": {},
     "title": ""
    }
   },
   "source": [
    "*"
   ]
  },
  {
   "cell_type": "code",
   "execution_count": 0,
   "metadata": {
    "application/vnd.databricks.v1+cell": {
     "cellMetadata": {
      "byteLimit": 2048000,
      "rowLimit": 10000
     },
     "inputWidgets": {},
     "nuid": "20d81b52-0284-44ec-956f-22734fa4a38a",
     "showTitle": false,
     "tableResultSettingsMap": {},
     "title": ""
    }
   },
   "outputs": [],
   "source": [
    "from pyspark.sql.functions import col, sum as _sum, when\n",
    "import builtins\n",
    "\n",
    "# 1) 모든 컬럼 이름 리스트\n",
    "all_cols = df_dropFund.columns\n",
    "\n",
    "# 2) 각 컬럼별 null 개수 집계식 생성\n",
    "null_count_exprs = [\n",
    "    _sum(when(col(c).isNull(), 1).otherwise(0)).alias(c)\n",
    "    for c in all_cols\n",
    "]\n",
    "\n",
    "# 3) 집계 실행: 한 행(Row)로 결과가 나옴\n",
    "null_counts_row = df_dropFund.select(*null_count_exprs).first().asDict()\n",
    "\n",
    "# 4) 컬럼별 null 개수 출력\n",
    "print(\"컬럼별 null 개수:\")\n",
    "for c, cnt in null_counts_row.items():\n",
    "    print(f\"  {c}: {cnt}\")\n",
    "\n",
    "# 5) null을 하나라도 가진 컬럼 개수 계산\n",
    "num_cols_with_null = builtins.sum(1 for cnt in null_counts_row.values() if cnt > 0)\n",
    "print(f\"\\nnull을 하나라도 가진 컬럼 개수: {num_cols_with_null}개\")"
   ]
  },
  {
   "cell_type": "markdown",
   "metadata": {
    "application/vnd.databricks.v1+cell": {
     "cellMetadata": {
      "byteLimit": 2048000,
      "rowLimit": 10000
     },
     "inputWidgets": {},
     "nuid": "bb30afdd-8d83-4a3f-972e-4e85921d7c9e",
     "showTitle": false,
     "tableResultSettingsMap": {},
     "title": ""
    }
   },
   "source": [
    "_근데 이상치를 먼저 자르면 그냥 다 평균값 쓰면 되려나 아무튼 이상치는 컬럼 보고 이상치를 잘라야 하는지 둬야하는지를 좀 고민해보기_"
   ]
  },
  {
   "cell_type": "markdown",
   "metadata": {
    "application/vnd.databricks.v1+cell": {
     "cellMetadata": {
      "byteLimit": 2048000,
      "rowLimit": 10000
     },
     "inputWidgets": {},
     "nuid": "5361e667-22fd-4d68-8dee-80ae9d6b5cb9",
     "showTitle": false,
     "tableResultSettingsMap": {},
     "title": ""
    }
   },
   "source": [
    "_세 컬럼에서 이상치 시각화  나머지 이상치가 있어서 중앙값, 샤프는 이상치가 좀 적은 경향이라 주로 평균을 사용했다(대유형 그룹핑 기준)_"
   ]
  },
  {
   "cell_type": "markdown",
   "metadata": {
    "application/vnd.databricks.v1+cell": {
     "cellMetadata": {
      "byteLimit": 2048000,
      "rowLimit": 10000
     },
     "inputWidgets": {},
     "nuid": "5cbe4ac8-dacc-49b9-9b7e-4c9eacac66ff",
     "showTitle": false,
     "tableResultSettingsMap": {},
     "title": ""
    }
   },
   "source": [
    "### 결측치 처리방안#2\n",
    "#### 아래는 남은 널값을 가진 피처들과 처리방안이다.\n",
    "| 항목명                                 | 데이터 타입  | 처리 방식                 |\n",
    "|--------------------------------------|-------------|--------------------------|\n",
    "| 대표펀드유무                          | string (boolean으로 대체요망)     | 'N'으로 대체 |\n",
    "| 투자전략                              | string      | pass (변경 없음)         |\n",
    "| 펀드키워드                            | string      | pass (변경 없음)         |\n",
    "| 유형평균유형성과_1년                  | double      | 결측치 삭제         |\n",
    "| 펀드표준편차(연환산)_1년              | double      | 중앙값으로 대체           |\n",
    "| 펀드수정샤프(연환산)_1년              | double      | 유형별 평균으로 대체       |\n",
    "| MaximumDrawDown_1년                  | double      | 중앙값으로 대체           |\n",
    "| NetCashFlow(펀드자금흐름)_1년         | double      | 0으로 대체               |\n",
    "\n"
   ]
  },
  {
   "cell_type": "markdown",
   "metadata": {
    "application/vnd.databricks.v1+cell": {
     "cellMetadata": {
      "byteLimit": 2048000,
      "rowLimit": 10000
     },
     "inputWidgets": {},
     "nuid": "38c8f9d1-f046-4bc4-bb3b-14168d1637c2",
     "showTitle": false,
     "tableResultSettingsMap": {},
     "title": ""
    }
   },
   "source": [
    "### 결측치 처리 방안에 대한 근거\n",
    "| 처리 대상     | 대체 방식  | 정당성 근거        |\n",
    "| --------- | ------ | ---------------- |\n",
    "| 표준편차, MDD | 중앙값    | 이상치 방지, 변동성 지표   |\n",
    "| 자금흐름      | 0 대체   | “비활성 펀드” 간주      |\n",
    "| 샤프지수  | 유형별 평균 | 동질 펀드 간 성과 비교 보정 |\n",
    "\n",
    "\n",
    "#### ✅ 펀드자금흐름을 0으로 대체한 이유\n",
    "1. 자금 유입/유출 흐름이 없거나 데이터 미제공인 경우, 실무에서는 **‘자금 변동 없음’**의 의미로 해석하고 0으로 처리함.\n",
    "\n",
    "2. 투자자 인식 관점에서도 **0은 “활성화되지 않은 펀드”**로 받아들여짐. \n",
    "\n",
    "3. 0이 의미있는 default value로 해석 가능한 경우, 결측 대체로 널리 사용됨.\n",
    "\n",
    "##### 📚 실제사례\n",
    "\n",
    "한국펀드평가 & 제로인\n",
    "* 공시 데이터에서 펀드자금흐름이 비공시된 경우 0으로 대체하고 “비활성” 상태로 분류\n",
    "\n",
    "#### ✅ 펀드수정샤프(연환산)_1년 → 펀드 대유형별 평균으로 대체한 이유\n",
    "1. 샤프지수나 IR은 **펀드 유형(예: 주식형, 채권형, 혼합형)**에 따라 편차가 매우 큼.\n",
    "//펀드 유형에 따른 샤프지수 시각화\n",
    "\n",
    "2. 같은 유형의 평균을 사용하는 것은 비교 타당성을 확보하면서 보완이 가능. //이름 같은것도 조금 생각해볼만 함\n",
    "\n",
    "3. 실제 펀드평가사 내부 분석 알고리즘 및 퀀트 투자모델에서 널리 사용하는 방식.\n",
    "\n",
    "##### 📚 실제사례\n",
    "\n",
    "KIS Value (한국투자증권 자산운용 평가 시스템)\n",
    "* 유형별 평균 수익률/리스크 지표를 기준으로 결측값을 보완하여 모델 포트폴리오 구성\n",
    "\n",
    "#### ✅ 펀드표준편차(연환산)_1년, MaximumDrawDown_1년 → 중앙값(median)대체 이유\n",
    "1. 표준편차와 MDD는 극단값(이상치)의 영향을 많이 받는 분포(positive skewed distribution)가 흔함.\n",
    "\n",
    "2. 중앙값은 평균보다 이상치의 영향을 적게 받기 때문에 일반적으로 리스크 지표의 결측 보완에 가장 안정적.\n",
    "\n",
    "📚 실제사례\n",
    "\n",
    "한국펀드평가(KFR) 내부 가이드라인\n",
    "* \"이상치 제거 후의 중간값을 활용한 내부 벤치마킹은 퀀트 분석 및 샘플 모델링 시 일반적 접근임.\""
   ]
  },
  {
   "cell_type": "markdown",
   "metadata": {
    "application/vnd.databricks.v1+cell": {
     "cellMetadata": {
      "byteLimit": 2048000,
      "rowLimit": 10000
     },
     "inputWidgets": {},
     "nuid": "47a7c74d-df4a-4538-bb4e-5c0bfede2483",
     "showTitle": false,
     "tableResultSettingsMap": {},
     "title": ""
    }
   },
   "source": [
    "## 즉 다음과 같은 효과를 얻을 것이라 예상\n",
    "1. 중앙값 계산 (approxQuantile)\n",
    "  > 널을 자동으로 제외하고 실제 관측치 분포에서 중앙값을 뽑아내므로, 널이 있어도 왜곡 없이 중앙값을 산출.\n",
    "\n",
    "2. 단일값 대체 (fillna)\n",
    "  > 표준편차·MDD 는 중앙값, 자금흐름은 0 으로 일괄 채워서 이후 스케일링·모델링 시 널로 인한 에러를 방지.\n",
    "\n",
    "3. 그룹별 평균 대체\n",
    "  > 대유형별로 분포 차이가 있는 펀드수정샤프만 해당 그룹의 평균으로 채우도록 해 일관성을 유지.\n",
    "\n",
    "4. 범주형 대체\n",
    "  > 대표펀드유무 는 결측→‘N’ 으로 채워, 나중에 One-Hot 등 인코딩 시 오류를 없앨 수 있다."
   ]
  },
  {
   "cell_type": "markdown",
   "metadata": {
    "application/vnd.databricks.v1+cell": {
     "cellMetadata": {
      "byteLimit": 2048000,
      "rowLimit": 10000
     },
     "inputWidgets": {},
     "nuid": "d6cd1c8c-94d4-45ed-a9e3-2209866dd405",
     "showTitle": false,
     "tableResultSettingsMap": {},
     "title": ""
    }
   },
   "source": [
    "#### 먼저 중앙값 계산시 널 자동제외가 되지만, 결측이 무작위인지 확인해보자\n",
    "1. 결측이 랜덤(random missing): 단순 누락·전산 오류 등이 원인이라면, 관측치만으로 뽑은 중앙값이 전체 분포의 중앙값을 잘 대변함.\n",
    "\n",
    "2. 결측이 편향적(non-random missing): 예를 들어, 리스크가 큰 극단치 구간에서만 결측이 발생했다면, 중앙값이 과소(혹은 과대) 추정될 수 있음.\n",
    "\n",
    "* 즉, 2번인 결측의 편향성을 알아보고자 함"
   ]
  },
  {
   "cell_type": "code",
   "execution_count": 0,
   "metadata": {
    "application/vnd.databricks.v1+cell": {
     "cellMetadata": {
      "byteLimit": 2048000,
      "rowLimit": 10000
     },
     "inputWidgets": {},
     "nuid": "785f122d-e99b-4f2e-b60d-6409503a0b03",
     "showTitle": false,
     "tableResultSettingsMap": {},
     "title": ""
    }
   },
   "outputs": [],
   "source": [
    "from pyspark.sql.functions import col\n",
    "\n",
    "# 결측 비율 확인\n",
    "total = df_dropFund.count()\n",
    "missing_std = df_dropFund.filter(col(\"펀드표준편차(연환산)_1년\").isNull()).count()\n",
    "print(f\"펀드표준편차 널 비율: {missing_std/total:.2%}\")\n"
   ]
  },
  {
   "cell_type": "markdown",
   "metadata": {
    "application/vnd.databricks.v1+cell": {
     "cellMetadata": {
      "byteLimit": 2048000,
      "rowLimit": 10000
     },
     "inputWidgets": {},
     "nuid": "99b3a523-5d77-4e83-af13-1a45c826541b",
     "showTitle": false,
     "tableResultSettingsMap": {},
     "title": ""
    }
   },
   "source": [
    "##### 결론\n",
    "1. 결측 비율이 작고(예: 1–5% 미만), 그리고 랜덤한 누락이라면 중앙값 편향 걱정은 거의 없음.\n",
    "\n",
    "2. 결측 비율이 크거나(예: 20% 이상), 특정 구간에 몰려 있다면, 더 면밀한 검토(예: 결측 패턴 시각화, Missing-not-at-random 진단 등)가 필요.\n",
    "\n",
    "> 따라서, 널 비율은 1%미만이므로 편향되진 않음을 확인"
   ]
  },
  {
   "cell_type": "markdown",
   "metadata": {
    "application/vnd.databricks.v1+cell": {
     "cellMetadata": {
      "byteLimit": 2048000,
      "rowLimit": 10000
     },
     "inputWidgets": {},
     "nuid": "d293bfbc-3f59-4634-b5e1-d5818a44b5c6",
     "showTitle": false,
     "tableResultSettingsMap": {},
     "title": ""
    }
   },
   "source": [
    "_면밀한 검토에 대한 각 컬럼 _시각화__"
   ]
  },
  {
   "cell_type": "markdown",
   "metadata": {
    "application/vnd.databricks.v1+cell": {
     "cellMetadata": {
      "byteLimit": 2048000,
      "rowLimit": 10000
     },
     "inputWidgets": {},
     "nuid": "a9f67f57-1fbc-445f-bbb1-892b727ddcdf",
     "showTitle": false,
     "tableResultSettingsMap": {},
     "title": ""
    }
   },
   "source": [
    "#### 중앙값이 크게 달라지는지 직접 비교해 보기\n",
    "명시적으로 널을 제거한 뒤와, 라이브러리 기본 처리(널 자동 제외) 결과가 동일한지 확인"
   ]
  },
  {
   "cell_type": "code",
   "execution_count": 0,
   "metadata": {
    "application/vnd.databricks.v1+cell": {
     "cellMetadata": {
      "byteLimit": 2048000,
      "rowLimit": 10000
     },
     "inputWidgets": {},
     "nuid": "3d9e963e-9a13-4884-bca9-c4d0eef74e08",
     "showTitle": false,
     "tableResultSettingsMap": {},
     "title": ""
    }
   },
   "outputs": [],
   "source": [
    "from pyspark.sql.functions import col\n",
    "\n",
    "# 1) 널을 자동 제외한 중앙값\n",
    "median_auto = df_dropFund.approxQuantile(\"펀드표준편차(연환산)_1년\", [0.5], 0.01)[0]\n",
    "\n",
    "# 2) 널을 명시적으로 제외한 DataFrame → 중앙값\n",
    "median_explicit = (\n",
    "    df_dropFund\n",
    "      .filter(col(\"펀드표준편차(연환산)_1년\").isNotNull())\n",
    "      .approxQuantile(\"펀드표준편차(연환산)_1년\", [0.5], 0.01)[0]\n",
    ")\n",
    "\n",
    "print(f\"automatic: {median_auto}, explicit: {median_explicit}\")\n"
   ]
  },
  {
   "cell_type": "markdown",
   "metadata": {
    "application/vnd.databricks.v1+cell": {
     "cellMetadata": {
      "byteLimit": 2048000,
      "rowLimit": 10000
     },
     "inputWidgets": {},
     "nuid": "1409c51a-0157-480f-beb2-5bd415b638f2",
     "showTitle": false,
     "tableResultSettingsMap": {},
     "title": ""
    }
   },
   "source": [
    "##### 결론\n",
    "> 두 값이 같기에, 널 자동 제외 과정이 정상적으로 작동해 해석에 차이가 없다를 의미."
   ]
  },
  {
   "cell_type": "markdown",
   "metadata": {
    "application/vnd.databricks.v1+cell": {
     "cellMetadata": {
      "byteLimit": 2048000,
      "rowLimit": 10000
     },
     "inputWidgets": {},
     "nuid": "c19f29fd-1fe8-4dee-ad8a-db57833c7a92",
     "showTitle": false,
     "tableResultSettingsMap": {},
     "title": ""
    }
   },
   "source": [
    "### 실제 결측치 처리mean_sharp 임시 칼럼\n",
    "\n",
    "#### mean_sharp 임시 칼럼 작동원리 설명!\n",
    "1. grp_mean_sharp 을 조인\n",
    "\n",
    "2. when(...isNull(), global_mean_sharp).otherwise(mean_sharp) 로 널 그룹 평균 보정\n",
    "\n",
    "3. 이를 다시 펀드수정샤프(연환산)_1년 널인 행에만 적용.\n",
    "\n",
    "4. 나머지 결측 처리\n",
    "\n",
    "    1. 중앙값 및 0 대체 (fillna) → 그룹 평균 임퓨테이션(비어있는 값들을 채우는 것) → 범주형 ‘N’ 대체 순서로 처리\n",
    "\n",
    "    2. 모든 주요 피처의 널이 제거된 df_clean 을 얻는다!\n"
   ]
  },
  {
   "cell_type": "markdown",
   "metadata": {
    "application/vnd.databricks.v1+cell": {
     "cellMetadata": {
      "byteLimit": 2048000,
      "rowLimit": 10000
     },
     "inputWidgets": {},
     "nuid": "52c10f8f-da11-42c3-a947-05f88ad902c6",
     "showTitle": false,
     "tableResultSettingsMap": {},
     "title": ""
    }
   },
   "source": [
    "_이거 최종코드가 나온 1차: 부호정리, 2차: 대분류의 부재 를 발표에 넣으면 좋겠습니다._"
   ]
  },
  {
   "cell_type": "markdown",
   "metadata": {
    "application/vnd.databricks.v1+cell": {
     "cellMetadata": {
      "byteLimit": 2048000,
      "rowLimit": 10000
     },
     "inputWidgets": {},
     "nuid": "bcec4288-342a-41d0-a22e-5c383ca061c2",
     "showTitle": false,
     "tableResultSettingsMap": {},
     "title": ""
    }
   },
   "source": [
    "_그리고 대유형의 특성을 따른다는 논리적 자료가 더 보충 필요_"
   ]
  },
  {
   "cell_type": "code",
   "execution_count": 0,
   "metadata": {
    "application/vnd.databricks.v1+cell": {
     "cellMetadata": {
      "byteLimit": 2048000,
      "rowLimit": 10000
     },
     "inputWidgets": {},
     "nuid": "a6015e15-0d2e-480b-a976-7048281abbc8",
     "showTitle": false,
     "tableResultSettingsMap": {},
     "title": ""
    }
   },
   "outputs": [],
   "source": [
    "from pyspark.sql.functions import col, sum, count\n",
    "\n",
    "# '대유형'별로 그룹화 후 널값 개수 계산\n",
    "null_counts = df_dropFund.groupBy(\"대유형\").agg(\n",
    "    sum(col(\"펀드수정샤프(연환산)_1년\").isNull().cast(\"int\")).alias(\"null_count\"),  # 널값 개수\n",
    "    count(\"*\").alias(\"total_count\")  # 전체 행 수 (옵션)\n",
    ").orderBy(\"대유형\")  # 정렬 (옵션)\n",
    "\n",
    "# 결과 출력 (truncate=False: 생략 없이 전체 출력)\n",
    "null_counts.show(truncate=False)"
   ]
  },
  {
   "cell_type": "markdown",
   "metadata": {
    "application/vnd.databricks.v1+cell": {
     "cellMetadata": {
      "byteLimit": 2048000,
      "rowLimit": 10000
     },
     "inputWidgets": {},
     "nuid": "c9356ab5-afb0-4f93-a800-04e339a03076",
     "showTitle": false,
     "tableResultSettingsMap": {},
     "title": ""
    }
   },
   "source": [
    "_“국내미분류”가 다른 국내 유형과 유사하다는 도메인적 근거가 있다면, 전체 평균보다 국내 그룹핑이 더 합리적임._"
   ]
  },
  {
   "cell_type": "markdown",
   "metadata": {
    "application/vnd.databricks.v1+cell": {
     "cellMetadata": {
      "byteLimit": 2048000,
      "rowLimit": 10000
     },
     "inputWidgets": {},
     "nuid": "14cba18b-2189-46bf-8418-b829c20d43c3",
     "showTitle": false,
     "tableResultSettingsMap": {},
     "title": ""
    }
   },
   "source": [
    "_아니면 샤프정보가 표준편차와 수익에 큰 영향을 받는 컬럼인만큼  랜덤포레스트, KNN, 회귀 등 모델에 다른 변수(예: 펀드 크기, 설정일, 운용사 등)와의 관계까지 반영해 결측치 예측 가능.다만 모델 방식은 정보수에 큰 영향을 받는 만큼 국내 미분류에 적용하기에는 31개라는 수치가 음... 좀 효과가 별로 일수도 있다는 생각이 들고, 오히려 다른 대유형에 적용해보면 좋을 것같습니다._"
   ]
  },
  {
   "cell_type": "code",
   "execution_count": 0,
   "metadata": {
    "application/vnd.databricks.v1+cell": {
     "cellMetadata": {
      "byteLimit": 2048000,
      "rowLimit": 10000
     },
     "inputWidgets": {},
     "nuid": "00e8f841-3501-4c02-b7de-ec377d02c731",
     "showTitle": false,
     "tableResultSettingsMap": {},
     "title": ""
    }
   },
   "outputs": [],
   "source": [
    "from pyspark.sql.functions import col, when, avg, expr, lit\n",
    "from pyspark.sql import DataFrame\n",
    "\n",
    "# 최종 수정본 - 대유형별로 그룹핑시 샤프값이 존재하지 않는 경우인 31개의 행이 존재함 이를 중앙값을 이용해 해결\n",
    "\n",
    "# ─────────────────────────────────────────────\n",
    "# 0) 초기 df_dropFund: '펀드성과정보_1년'만 제거된 상태\n",
    "# ─────────────────────────────────────────────\n",
    "\n",
    "# 1) '펀드성과정보_1년' 결측(Null) 행 제거 why? 모델 학습의 Target 값(성능 평가 지표)이므로 결측은 버림 처리\n",
    "df_clean: DataFrame = df_dropFund.filter(col(\"펀드성과정보_1년\").isNotNull())\n",
    "\n",
    "# 2) 그룹별 통계: 대유형별 median/std, median/mdd, mean/sharp\n",
    "group_stats = (\n",
    "    df_clean\n",
    "      .groupBy(\"대유형\")\n",
    "      .agg(\n",
    "          expr(\"percentile_approx(`펀드표준편차(연환산)_1년`, 0.5)\").alias(\"med_std\"),\n",
    "          expr(\"percentile_approx(`MaximumDrawDown_1년`, 0.5)\").alias(\"med_mdd\"),\n",
    "          avg(\"펀드수정샤프(연환산)_1년\").alias(\"mean_sharp\")\n",
    "      )\n",
    ")\n",
    "\n",
    "# 3) 전체 샤프 중앙값 계산 (fallback)\n",
    "# 즉, 샤프 비율 전체 데이터의 중앙값을 구해 mean_sharp가 없는 경우 사용할 최종 fallback 값으로 저장.\n",
    "global_med_sharp = df_clean.approxQuantile(\n",
    "    \"펀드수정샤프(연환산)_1년\", [0.5], 0.01\n",
    ")[0]\n",
    "\n",
    "# 4) 그룹별 impute + 남은 샤프 결측은 global_med_sharp으로\n",
    "df_imputed = (\n",
    "    df_clean\n",
    "      .join(group_stats, on=\"대유형\", how=\"left\")\n",
    "      # 4-1) 표준편차 결측 → 그룹 median\n",
    "      .withColumn(\n",
    "          \"펀드표준편차(연환산)_1년\",\n",
    "          when(\n",
    "            col(\"펀드표준편차(연환산)_1년\").isNull(),\n",
    "            col(\"med_std\")\n",
    "          ).otherwise(col(\"펀드표준편차(연환산)_1년\"))\n",
    "      )\n",
    "      # 4-2) MDD 결측 → 그룹 median\n",
    "      .withColumn(\n",
    "          \"MaximumDrawDown_1년\",\n",
    "          when(col(\"MaximumDrawDown_1년\").isNull(), col(\"med_mdd\"))\n",
    "           .otherwise(col(\"MaximumDrawDown_1년\"))\n",
    "      )\n",
    "      # 4-3) 샤프 결측 → 그룹 mean, 여전히 널이면 global median\n",
    "      .withColumn(\n",
    "          \"펀드수정샤프(연환산)_1년\",\n",
    "          when(col(\"펀드수정샤프(연환산)_1년\").isNull(),\n",
    "               when(col(\"mean_sharp\").isNotNull(), col(\"mean_sharp\"))\n",
    "               .otherwise(lit(global_med_sharp))\n",
    "          ).otherwise(col(\"펀드수정샤프(연환산)_1년\"))\n",
    "      )\n",
    "      # 4-4) 불필요 임시 칼럼 제거 -> 분석에만 사용된 중간 통계 컬럼들은 제거하여 모델 입력 정리\n",
    "      .drop(\"med_std\", \"med_mdd\", \"mean_sharp\")\n",
    ")\n",
    "\n",
    "# 5) 나머지 결측: 자금흐름→0, 대표펀드유무→'N'\n",
    "df_final = df_imputed.fillna({\n",
    "    \"NetCashFlow(펀드자금흐름)_1년\": 0,\n",
    "    \"대표펀드유무\": \"N\"\n",
    "})\n",
    "\n",
    "# 6) 검증: 모든 칼럼의 널이 0인지 확인\n",
    "final_nulls = {\n",
    "    c: df_final.filter(col(c).isNull()).count()\n",
    "    for c in df_final.columns\n",
    "}\n",
    "print(\"처리 후 컬럼별 널 개수:\", final_nulls)\n"
   ]
  },
  {
   "cell_type": "code",
   "execution_count": 0,
   "metadata": {
    "application/vnd.databricks.v1+cell": {
     "cellMetadata": {
      "byteLimit": 2048000,
      "rowLimit": 10000
     },
     "inputWidgets": {},
     "nuid": "b64a15e7-a7ae-4b52-869d-30b467e77ff6",
     "showTitle": false,
     "tableResultSettingsMap": {},
     "title": ""
    }
   },
   "outputs": [],
   "source": [
    "display(df_final.head(10))"
   ]
  },
  {
   "cell_type": "code",
   "execution_count": 0,
   "metadata": {
    "application/vnd.databricks.v1+cell": {
     "cellMetadata": {
      "byteLimit": 2048000,
      "rowLimit": 10000
     },
     "inputWidgets": {},
     "nuid": "9944858a-1f9e-4889-911f-110260658cc6",
     "showTitle": false,
     "tableResultSettingsMap": {},
     "title": ""
    }
   },
   "outputs": [],
   "source": [
    "len(df_final.columns)"
   ]
  },
  {
   "cell_type": "markdown",
   "metadata": {
    "application/vnd.databricks.v1+cell": {
     "cellMetadata": {
      "byteLimit": 2048000,
      "rowLimit": 10000
     },
     "inputWidgets": {},
     "nuid": "b772baec-a193-4306-b1ff-dcbc7187a042",
     "showTitle": false,
     "tableResultSettingsMap": {},
     "title": ""
    }
   },
   "source": [
    "## 📊 최종 수정본의 설명 - 결측치 처리 전략\n",
    "\n",
    "### 1. 샤프 비율(Sharpe Ratio): 그룹별 평균 → 글로벌 중앙값 이중 보완\n",
    "\n",
    "#### ✅ 1차 처리: 대유형별 평균\n",
    "- 대부분의 결측치는 **대유형별 평균값**으로 대체\n",
    "- → 펀드 그룹의 고유한 **경향성(trend)** 을 최대한 반영\n",
    "\n",
    "#### ✅ 2차 처리: 글로벌 중앙값(Global Median)\n",
    "- 일부 소수(31개)는 샤프 비율 값이 **전무한 그룹**에 속함\n",
    "- → 해당 그룹은 글로벌 중앙값으로 대체\n",
    "- → 전체 분포의 **중심값을 보존**\n",
    "\n",
    "#### ❗ 글로벌 평균(Global Mean)을 사용하지 않은 이유\n",
    "- 샤프 비율은 고성능 펀드에 의해 **분포가 비대칭적으로 왜곡되기 쉬움**\n",
    "- 평균은 이러한 **극단치(outlier)** 에 민감함\n",
    "- 중앙값은 분포의 중심을 **더 안정적으로 반영**함\n",
    "\n",
    "---\n",
    "\n",
    "### 2. 리스크 지표: 표준편차(Standard Deviation) · 최대 낙폭(MDD)\n",
    "\n",
    "#### ✅ 그룹별 중앙값(Median) 대체\n",
    "- 리스크 지표는 본질적으로 **편차가 크고 극단치가 많음**\n",
    "- → 평균보다 중앙값이 **분포의 중간값**을 정확히 포착\n",
    "- 예: **주식형 vs 채권형** 등, 그룹별로 값의 스케일이 크게 다름\n",
    "- → 그룹 기준 중앙값 사용 시 **유형 특성을 왜곡하지 않음**\n",
    "\n",
    "---\n",
    "\n",
    "### 3. 기타 컬럼 결측 처리\n",
    "\n",
    "| 컬럼명           | 대체 값 | 처리 이유                                |\n",
    "|------------------|----------|--------------------------------------------|\n",
    "| 자금흐름         | `0`      | “정보 없음”으로 간주 → 변동 없음 처리        |\n",
    "| 대표펀드유무     | `'N'`    | 결측은 “대표 아님”으로 해석 → 분류 무리 없음  |\n",
    "\n",
    "---\n",
    "\n",
    "### ✅ 요약 정리\n",
    "\n",
    "- **샤프 비율**: `대유형별 평균 → 글로벌 중앙값` 이중 보완\n",
    "- **리스크 지표(표준편차, MDD)**: 그룹별 중앙값으로 처리\n",
    "- **자금흐름**: `0`으로 대체\n",
    "- **대표펀드유무**: `'N'`으로 대체\n",
    "- **중앙값 사용의 핵심 이유**: 분포 왜곡을 방지하고 대표성을 유지하기 위함\n"
   ]
  },
  {
   "cell_type": "markdown",
   "metadata": {
    "application/vnd.databricks.v1+cell": {
     "cellMetadata": {
      "byteLimit": 2048000,
      "rowLimit": 10000
     },
     "inputWidgets": {},
     "nuid": "2c53a102-7dcf-4940-afb9-5925e828d03a",
     "showTitle": false,
     "tableResultSettingsMap": {},
     "title": ""
    }
   },
   "source": [
    "결측치 한거 안한거 표 만들기 (scatter), 이상치랑 어것 저것 확인"
   ]
  },
  {
   "cell_type": "code",
   "execution_count": 0,
   "metadata": {
    "application/vnd.databricks.v1+cell": {
     "cellMetadata": {
      "byteLimit": 2048000,
      "rowLimit": 10000
     },
     "inputWidgets": {},
     "nuid": "9413b0e6-e6cb-4b61-942e-e1ccc6f26268",
     "showTitle": false,
     "tableResultSettingsMap": {},
     "title": ""
    }
   },
   "outputs": [],
   "source": [
    "display(df_final.head(10))"
   ]
  },
  {
   "cell_type": "code",
   "execution_count": 0,
   "metadata": {
    "application/vnd.databricks.v1+cell": {
     "cellMetadata": {
      "byteLimit": 2048000,
      "rowLimit": 10000
     },
     "inputWidgets": {},
     "nuid": "66cf0e4d-6a07-4c9b-83e0-37c26bd68610",
     "showTitle": false,
     "tableResultSettingsMap": {},
     "title": ""
    }
   },
   "outputs": [],
   "source": [
    "display(df_final.tail(10))"
   ]
  },
  {
   "cell_type": "code",
   "execution_count": 0,
   "metadata": {
    "application/vnd.databricks.v1+cell": {
     "cellMetadata": {
      "byteLimit": 2048000,
      "rowLimit": 10000
     },
     "inputWidgets": {},
     "nuid": "984fb3c8-bd76-4f9c-bfac-f26eb64d5db6",
     "showTitle": false,
     "tableResultSettingsMap": {},
     "title": ""
    }
   },
   "outputs": [],
   "source": [
    "df_final.count()"
   ]
  },
  {
   "cell_type": "markdown",
   "metadata": {
    "application/vnd.databricks.v1+cell": {
     "cellMetadata": {
      "byteLimit": 2048000,
      "rowLimit": 10000
     },
     "inputWidgets": {},
     "nuid": "0c703b27-5b1e-4c37-ad74-10fb19073a71",
     "showTitle": false,
     "tableResultSettingsMap": {},
     "title": ""
    }
   },
   "source": [
    "### 대표펀드 유무 컬럼의 널 값을 'N'으로 대체하는 또다른 방법\n",
    "##### 추가지식!\n",
    "#### 옵션 1: withColumn + when/otherwise -> 조건을 세밀하게 조정하고 싶을때 사용하자\n",
    "```python\n",
    "from pyspark.sql.functions import col, when, lit\n",
    "# ------------------------------------------------------------------\n",
    "# 옵션 : withColumn + when/otherwise\n",
    "# ------------------------------------------------------------------\n",
    "df = df.withColumn(\n",
    "    '대표펀드유무',\n",
    "    when(col('대표펀드유무').isNull(), lit('N'))\n",
    "      .otherwise(col('대표펀드유무'))\n",
    ")\n",
    "\n",
    "# (선택) 처리 결과 확인\n",
    "display(df.filter(col('대표펀드유무').isNull()).limit(5))\n",
    "```"
   ]
  },
  {
   "cell_type": "markdown",
   "metadata": {
    "application/vnd.databricks.v1+cell": {
     "cellMetadata": {
      "byteLimit": 2048000,
      "rowLimit": 10000
     },
     "inputWidgets": {},
     "nuid": "cbd8be25-5fb4-4ae3-bcc2-b0153ec3183b",
     "showTitle": false,
     "tableResultSettingsMap": {},
     "title": ""
    }
   },
   "source": [
    "### 피처에 대한 설명\n",
    "| 지표       | 의미       | 실제 활용       | 추천 알고리즘 활용       |\n",
    "| -------- | -------- | ----------- | ---------------- |\n",
    "| 유형평균유형성과 | 동종 평균 성과 | 비교/초과 성과 측정 | 초과수익 지표로 활용      |\n",
    "| 펀드표준편차   | 수익률 변동성  | 위험 등급 산정    | 리스크 기반 필터링       |\n",
    "| 수정샤프지수   | 위험대비 수익  | 성과 비교 핵심 지표 | 가중치 기반 종합점수      |\n",
    "| MDD      | 최대 하락폭   | 안정성 판단 기준   | 군집화/스코어링         |\n",
    "| 자금흐름     | 인기/유행 추정 | 트렌드 상품 구분   | 가중치 조정, 종료 위험 감지 |\n"
   ]
  },
  {
   "cell_type": "markdown",
   "metadata": {
    "application/vnd.databricks.v1+cell": {
     "cellMetadata": {
      "byteLimit": 2048000,
      "rowLimit": 10000
     },
     "inputWidgets": {},
     "nuid": "9928f06e-3a3e-41c8-bfce-026a74059e50",
     "showTitle": false,
     "tableResultSettingsMap": {},
     "title": ""
    }
   },
   "source": [
    "### 피처에 대한 자세한 명세 및 활용방안\n",
    "1. 유형평균유형성과_1년\n",
    "  * 정의: 동일 유형(예: 주식형, 채권형, 혼합형 등)에 속한 펀드들의 1년 평균 수익률\n",
    "\n",
    "    * 실제 활용 사례:\n",
    "\n",
    "      펀드 비교 기준: 삼성자산운용이나 신한자산운용에서는 펀드 수익률이 같은 유형 평균보다 높은지를 투자설명서에 명시하여 성과를 평가.\n",
    "\n",
    "      마케팅 전략: 유형 평균을 초과한 펀드는 ‘초과 수익 달성’ 펀드로 소개되어 마케팅 요소로 사용가능.\n",
    "\n",
    "    * 데이터 과학 활용:\n",
    "\n",
    "      파생 피처 생성: 펀드성과 - 유형평균 으로 만든 초과성과 지표는 랭킹, 클러스터링, 분류 모델의 입력 변수로 사용.\n",
    "\n",
    "      이상치 감지: 유형 대비 지나치게 낮은 성과는 비정상 펀드 탐지에 사용.\n",
    "\n",
    "2. 펀드표준편차(연환산)_1년\n",
    "* 정의: 1년간 수익률의 변동성을 나타내는 지표 (높을수록 리스크 큼)\n",
    "\n",
    "    * 실제 활용 사례:\n",
    "\n",
    "      금융투자협회의 펀드공시 기준에서 변동성 리스크 등급화에 활용됨\n",
    "\n",
    "      투자설명서에서 \"이 펀드는 고위험·고수익형\" 등으로 분류할 때 기준이 됩니다.\n",
    "\n",
    "    * 데이터 과학 활용:\n",
    "\n",
    "      리스크 기반 필터링: 투자 성향이 ‘보수형’인 고객에게는 표준편차가 낮은 펀드만 필터링\n",
    "\n",
    "      펀드 스코어 계산: 위험 대비 성과 평가 시, 표준편차는 분모로 들어갑니다. (예: 샤프지수)\n",
    "\n",
    "3. 펀드수정샤프(연환산)_1년\n",
    "* 정의: 위험 대비 수익률을 나타내는 지표 (Sharpe Ratio 보정 버전)\n",
    "\n",
    "    * 실제 활용 사례:\n",
    "\n",
    "      펀드평가사 에프앤가이드에서는 투자 성과 평가 시 절대수익률보다 중요하게 여겨짐\n",
    "\n",
    "      금융기관의 추천시스템에서 랭킹 필터 기준으로 사용됨 \n",
    "      (샤프지수(+)일시 -> 높을수록 투자성과 성공적)\n",
    "      (샤프지수(-)일시 -> 수정 샤프 지수가 음수라면 해당 펀드는 위험 조정 성과가 매우 좋지 않다)\n",
    "\n",
    "    * 데이터 과학 활용:\n",
    "\n",
    "      가중치 기반 랭킹: 펀드수정샤프 * 0.4 + MDD 점수 * 0.3 + 표준편차 점수 * 0.3 식으로 종합 점수 산출\n",
    "\n",
    "      비교 시각화: 동일 유형 펀드 내에서 샤프지수를 기준으로 상위 10%를 하이라이팅\n",
    "\n",
    "4. Maximum DrawDown_1년\n",
    "* 정의: 1년 중 최대 낙폭 (최고점 대비 최저점 하락률) → 펀드가 얼마나 큰 손실을 경험했는지를 보여줌\n",
    "\n",
    "    * 실제 활용 사례:\n",
    "\n",
    "      국민은행, 미래에셋 등에서는 MDD가 낮은 안정형 펀드를 장기투자용으로 권장\n",
    "\n",
    "      ETF 평가 시에도 매우 중요한 기준입니다 (예: 타이거 미국S&P500 ETF의 마케팅 포인트 중 하나)\n",
    "\n",
    "    * 데이터 과학 활용:\n",
    "\n",
    "      보수적 투자자 분류 기준: MDD < -10% 펀드는 보수형 고객 대상에서 제외\n",
    "\n",
    "      리스크 기반 군집화: 리스크 유사 펀드끼리 클러스터링 (KMeans, DBSCAN 등)\n",
    "\n",
    "5. NetCashFlow(펀드자금흐름)_1년\n",
    "* 정의: 최근 1년간 순자금 유입/유출 금액 (총 유입 - 총 유출)\n",
    "\n",
    "    * 실제 활용 사례:\n",
    "\n",
    "      고객 선호도나 트렌드 판단 지표로 활용됨. 최근 자금 유입이 많은 펀드는 ‘인기 펀드’로 간주\n",
    "\n",
    "      신규 가입 유도 마케팅에도 활용: \"자금 유입 1위 펀드\" 등\n",
    "    * 인기도 기반 추천 시스템:  `if NetCashFlow > 0:\n",
    "      추천가중치 += 0.2`\n",
    "      펀드 수명 주기 판단: 자금 유출이 지속되면 종료 예정 펀드로 분류 가능"
   ]
  },
  {
   "cell_type": "markdown",
   "metadata": {
    "application/vnd.databricks.v1+cell": {
     "cellMetadata": {
      "byteLimit": 2048000,
      "rowLimit": 10000
     },
     "inputWidgets": {},
     "nuid": "ca620b7c-86f0-42d6-a64a-5a0ba1c9924c",
     "showTitle": false,
     "tableResultSettingsMap": {},
     "title": ""
    }
   },
   "source": [
    "### 널 값을 해결한 테이블을 통해 이상치 제거 계획안\n",
    "  1. IQR 즉 사분위 방식으로 이상치 탐지\n",
    "  \n",
    "  2. Zscore를 이용해 이상치 탐지\n",
    "> 이후 1번과 2번을 비교하고 이상치 제거"
   ]
  },
  {
   "cell_type": "markdown",
   "metadata": {
    "application/vnd.databricks.v1+cell": {
     "cellMetadata": {
      "byteLimit": 2048000,
      "rowLimit": 10000
     },
     "inputWidgets": {},
     "nuid": "9352b66a-b139-43ee-81a3-9cd6d351df04",
     "showTitle": false,
     "tableResultSettingsMap": {},
     "title": ""
    }
   },
   "source": [
    "#### IQR방식으로 이상치 탐지"
   ]
  },
  {
   "cell_type": "markdown",
   "metadata": {
    "application/vnd.databricks.v1+cell": {
     "cellMetadata": {
      "byteLimit": 2048000,
      "rowLimit": 10000
     },
     "inputWidgets": {},
     "nuid": "ffb2cbfe-3433-49df-8d09-d4c80533db2d",
     "showTitle": false,
     "tableResultSettingsMap": {},
     "title": ""
    }
   },
   "source": [
    "#### Zscore 방식으로 이상치 탐지 "
   ]
  },
  {
   "cell_type": "markdown",
   "metadata": {
    "application/vnd.databricks.v1+cell": {
     "cellMetadata": {
      "byteLimit": 2048000,
      "rowLimit": 10000
     },
     "inputWidgets": {},
     "nuid": "3c62c790-6246-47ae-9cd6-deac88c42a2b",
     "showTitle": false,
     "tableResultSettingsMap": {},
     "title": ""
    }
   },
   "source": [
    "_가중치 조합에 대한 실제적 근거 -> 논문이나 음 국제 쵸준 뭐 이런거 긁어서 그럴듯하게 자료만들기_"
   ]
  },
  {
   "cell_type": "markdown",
   "metadata": {
    "application/vnd.databricks.v1+cell": {
     "cellMetadata": {
      "byteLimit": 2048000,
      "rowLimit": 10000
     },
     "inputWidgets": {},
     "nuid": "a177493a-04dc-43e0-af70-689d4ad2f549",
     "showTitle": false,
     "tableResultSettingsMap": {},
     "title": ""
    }
   },
   "source": [
    "### 실제 가중치 조합 예시\n",
    "#####● 실무적 가중치 배분\n",
    "  1. 변동성(연환산 표준편차): 70~80%\n",
    "  2. 최대낙폭(MDD): 10~20%\n",
    "  3. 샤프지수/IR 등 위험조정성과: 10~20%\n",
    "  * 예시 공식:\n",
    "  펀드위험점수=0.7×표준편차(연환산)+0.2×최대낙폭(MDD)+0.1×(1−샤프지수(연환산))펀드위험점수=0.7×표준편차(연환산)+0.2×최대낙폭(MDD)+0.1×(1−샤프지수(연환산)) -> '수정샤프지수'로 해석시에는 오류\n",
    "##### 표준편차가 위험의 절대적 척도이므로 가장 큰 비중을 차지\n",
    "##### **최대낙폭(MDD)**는 극단적 리스크(최악의 손실) 반영\n",
    "##### 샤프지수는 위험 대비 성과가 낮을수록(1-샤프) 위험점수에 가산 -> 오류 why? 수정샤프지수는 음수 해석까지 필요로 함\n",
    "\n",
    "##### ● 근거\n",
    "  1. 규제기관, 협회, 글로벌 운용사 모두 “변동성”을 공식 위험등급 산정의 핵심으로 사용\n",
    "  (EU KID, 국내 금융투자협회 표준, 글로벌 펀드설명서 등)\n",
    "  2. 샤프·MDD 등은 투자자 설명, 비교, 맞춤형 추천에서 보조적으로 활용\n",
    "  (실제 피델리티 등 글로벌 운용사 공식 펀드설명서 참고5)"
   ]
  },
  {
   "cell_type": "markdown",
   "metadata": {
    "application/vnd.databricks.v1+cell": {
     "cellMetadata": {
      "byteLimit": 2048000,
      "rowLimit": 10000
     },
     "inputWidgets": {},
     "nuid": "54f5253f-4d5c-4a41-99cc-43a41b438f78",
     "showTitle": false,
     "tableResultSettingsMap": {},
     "title": ""
    }
   },
   "source": [
    "이상치 하기 전에 랭킹을 만들어보자"
   ]
  },
  {
   "cell_type": "code",
   "execution_count": 0,
   "metadata": {
    "application/vnd.databricks.v1+cell": {
     "cellMetadata": {
      "byteLimit": 2048000,
      "rowLimit": 10000
     },
     "inputWidgets": {},
     "nuid": "5d932890-3c61-4af2-8af5-7f9e1e5bbc9a",
     "showTitle": false,
     "tableResultSettingsMap": {},
     "title": ""
    }
   },
   "outputs": [],
   "source": [
    "df_final.printSchema()"
   ]
  },
  {
   "cell_type": "code",
   "execution_count": 0,
   "metadata": {
    "application/vnd.databricks.v1+cell": {
     "cellMetadata": {
      "byteLimit": 2048000,
      "rowLimit": 10000
     },
     "inputWidgets": {},
     "nuid": "f8a1c1cc-4e4e-410e-85aa-180f4bebdeae",
     "showTitle": false,
     "tableResultSettingsMap": {},
     "title": ""
    }
   },
   "outputs": [],
   "source": [
    "import pandas as pd"
   ]
  },
  {
   "cell_type": "code",
   "execution_count": 0,
   "metadata": {
    "application/vnd.databricks.v1+cell": {
     "cellMetadata": {
      "byteLimit": 2048000,
      "rowLimit": 10000
     },
     "inputWidgets": {},
     "nuid": "9587036d-30cd-4cda-9039-d66a237c7c97",
     "showTitle": false,
     "tableResultSettingsMap": {},
     "title": ""
    }
   },
   "outputs": [],
   "source": [
    "from sklearn.preprocessing import MinMaxScaler"
   ]
  },
  {
   "cell_type": "code",
   "execution_count": 0,
   "metadata": {
    "application/vnd.databricks.v1+cell": {
     "cellMetadata": {
      "byteLimit": 2048000,
      "rowLimit": 10000
     },
     "inputWidgets": {},
     "nuid": "e244e31c-3dbf-4859-ad61-7720d52307cb",
     "showTitle": false,
     "tableResultSettingsMap": {},
     "title": ""
    }
   },
   "outputs": [],
   "source": [
    "from pyspark.sql.functions import col, expr \n",
    "# expr은 문자열 형태의 sql식을 그대로 사용하기 위해 사용 즉, expr(\"sql 표현식\")형태로 기술\n",
    "from pyspark.ml.feature import MinMaxScaler, VectorAssembler\n",
    "# VectorAssembler -> 여러개의 숫자형 컬럼을 벡터 컬럼으로 변환 why? > ML알고리즘은 input으로 feature라는 벡터컬럼을 사용 \n",
    "\n",
    "# MinMaxScaler -> 벡터 컬럼 내 각 값들을 0과 1사이의 값으로 정규화 \n",
    "# 즉, scaled_i = x_i - min(x) / max(x) - min(x) 단 상대적 위치만을 보고 스케일링 하므로 의도된 방향성을 설정하는 것이 중요\n",
    "from pyspark.ml import Pipeline\n",
    "# 코드의 유지 보수 및 재사용성을 위해 파이프라인 사용. 즉, 여러단계를 순차적 연결해 실행위함\n",
    "from pyspark.sql.window import Window\n",
    "# sql의 윈도우 함수 사용하기 위함 ex) partitioned by 등등 \n",
    "import pyspark.sql.functions as F\n",
    "\n",
    "\n",
    "# 1. 숫자형 변환\n",
    "for c in ['펀드성과정보_1년', '펀드수정샤프(연환산)_1년', 'NetCashFlow(펀드자금흐름)_1년', '순자산', '운용보수']:\n",
    "    df_final = df_final.withColumn(c, col(c).cast('double'))\n",
    "    # cast() -> 문자열로 읽힌 숫자 데이터를 spark sql 데이터 타입인 double로 변환\n"
   ]
  },
  {
   "cell_type": "markdown",
   "metadata": {
    "application/vnd.databricks.v1+cell": {
     "cellMetadata": {
      "byteLimit": 2048000,
      "rowLimit": 10000
     },
     "inputWidgets": {},
     "nuid": "eecfa707-2876-4717-9ebf-d7996df73b83",
     "showTitle": false,
     "tableResultSettingsMap": {},
     "title": ""
    }
   },
   "source": [
    "#### Question : 꼭 cast로 형변환이 필요한가요?\n",
    "1. CSV나 JSON 등 외부 데이터를 로드할 때, 숫자형 컬럼이 기본적으로 문자열(string) 타입으로 읽힐 수 있다.\n",
    "\n",
    "2. ML 파이프라인(VectorAssembler, MinMaxScaler 등)과 수치 계산(집계, 윈도우 함수 등)은 숫자형 컬럼에서만 정상 동작함.\n",
    "\n",
    "> 따라서 .cast('double')로 미리 타입을 통일해 주지 않으면 이후 스케일링, 합·평균 계산, 모델 학습 단계에서 에러가 발생합니다."
   ]
  },
  {
   "cell_type": "markdown",
   "metadata": {
    "application/vnd.databricks.v1+cell": {
     "cellMetadata": {
      "byteLimit": 2048000,
      "rowLimit": 10000
     },
     "inputWidgets": {},
     "nuid": "5aff8af3-8e3f-4523-9d61-083af83fee9f",
     "showTitle": false,
     "tableResultSettingsMap": {},
     "title": ""
    }
   },
   "source": [
    "_비율이랑 값이 다 스케일러 적용해도 되나 싸그리??_"
   ]
  },
  {
   "cell_type": "markdown",
   "metadata": {
    "application/vnd.databricks.v1+cell": {
     "cellMetadata": {
      "byteLimit": 2048000,
      "rowLimit": 10000
     },
     "inputWidgets": {},
     "nuid": "f32d1aff-d622-48a2-b1e7-ab49fde64900",
     "showTitle": false,
     "tableResultSettingsMap": {},
     "title": ""
    }
   },
   "source": [
    "#### MinMaxScaler 스케일링 사용시 주의사항\n",
    "| 질문                       | 답변                                                                                   |\n",
    "| ------------------------ | ------------------------------------------------------------------------------------ |\n",
    "| 음수값을 절댓값 또는 부호 반전해야 하나요? | **네, 반드시 필요합니다.**                                                                    |\n",
    "| 이유는 무엇인가요?               | **MinMaxScaler는 값이 클수록 점수가 커지므로**, 음수 그대로 쓰면 위험이 큰 데이터가 오히려 점수가 작게 나오는 역전 현상이 발생. |\n",
    "| 추천 방식은?                  | `-1 * MDD` 또는 `.abs()` 처리 후 `MinMaxScaler`로 점수화가 필요함.                                  |\n",
    "\n",
    "> [자세한 내용](https://scikit-learn.org/stable/modules/generated/sklearn.preprocessing.MinMaxScaler.html)\n"
   ]
  },
  {
   "cell_type": "markdown",
   "metadata": {
    "application/vnd.databricks.v1+cell": {
     "cellMetadata": {
      "byteLimit": 2048000,
      "rowLimit": 10000
     },
     "inputWidgets": {},
     "nuid": "2b7d6b2b-271a-4d9b-85d7-cdcba4f3d1f6",
     "showTitle": false,
     "tableResultSettingsMap": {},
     "title": ""
    }
   },
   "source": [
    "#### 아래코드의 전체 workflow\n",
    "1. 원본 데이터 로드\n",
    "\n",
    "2. 바로 직전 코드에서 숫자형 컬럼을 캐스팅\n",
    "\n",
    "3. (VectorAssembler -> MinMaxScaler) => Pipelien화 즉 자동화를 위한 하나의 묶음으로 만듬\n",
    "\n",
    "4. 즉, 하나의 파이프라인을 정의한 함수를 이용해 랭킹점수를 산정하기위한 \n",
    "  1. 정의단계: (assembler, scaler정의 => pipeline정의) \n",
    "  2. 학습단계 : (fit()으로 이전 단계에서 정의한 스케일러를 학습 즉, 내부적으로 저장)\n",
    "  3. 변환단계 : (transform()으로 스케일링된 값을 추출하는 과정)\n",
    "  > 이후 assemble과 scaler에서 지정한 컬럼에 값이 부과된 채로 생성됨."
   ]
  },
  {
   "cell_type": "markdown",
   "metadata": {
    "application/vnd.databricks.v1+cell": {
     "cellMetadata": {
      "byteLimit": 2048000,
      "rowLimit": 10000
     },
     "inputWidgets": {},
     "nuid": "4c5bb8ef-e242-4988-a5fa-da82a01fb24e",
     "showTitle": false,
     "tableResultSettingsMap": {},
     "title": ""
    }
   },
   "source": [
    "#### 사전 지식 : fit() 그리고 transform()\n",
    "1. fit() : 앞서 정의한 통계치 또는 모델 파라미터를 학습(필요한 정보 저장)후 출력으로 transformer객체 반환\n",
    "> ex. MinMaxScaler.fit(data) -> input col의 min, max계산후 내부적으로 저장\n",
    "\n",
    "2. transform() : fit()에서 학습된 정보를 이용해 transform수행 즉, 얻어진 새로운 데이터를 변환 후 dataframe을 반환\n",
    "> ex. scaler_model.transform(data)는 각 값을 (x - min) / (max - min) 즉, MinMaxScaler의 공식으로 정규화; 다시말해 실제 계산을 하여 'df' 형태로 반환."
   ]
  },
  {
   "cell_type": "code",
   "execution_count": 0,
   "metadata": {
    "application/vnd.databricks.v1+cell": {
     "cellMetadata": {
      "byteLimit": 2048000,
      "rowLimit": 10000
     },
     "inputWidgets": {},
     "nuid": "9e844122-072a-4f80-9293-e939c90dfb71",
     "showTitle": false,
     "tableResultSettingsMap": {},
     "title": ""
    }
   },
   "outputs": [],
   "source": [
    "# 2. MinMaxScaler를 위한 벡터화 및 정규화하는 함수 scale_column() 정의\n",
    "\n",
    "def scale_column(df, input_col, output_col, fill_value=0):\n",
    "    # df : 정규화 할 원본 데이터프레임\n",
    "    # input_col : 0~1사이로 스케일링할 원본 컬럼 이름(문자열타입)\n",
    "    # output_col : 스케일링된 값을 저장할 컬럼의 이름지정(문자열타입)\n",
    "    # fill_value : input_col 컬럼에 결측값이 있을 때 대체할 값(숫자타입) 기본값은 '0'\n",
    "\n",
    "    assembler = VectorAssembler(inputCols=[input_col], outputCol=f\"{output_col}_vec\")\n",
    "    # 벡터 컬럼 생성(ML알고리즘은 입력을 벡터형태로 받기에 벡터형태로 변환해야 함)\n",
    "    # 결과는 {output_col}_vec이라는 새 벡터 컬럼으로 나옴.\n",
    "    # 즉 학습없는 단순변환 정의\n",
    "\n",
    "    scaler = MinMaxScaler(inputCol=f\"{output_col}_vec\", outputCol=f\"{output_col}_scaled\")\n",
    "    # 벡터 컬럼을 0~1사이로 스케일링(압축)하고 이 값을 저장할 컬럼명 지정\n",
    "\n",
    "    pipeline = Pipeline(stages=[assembler, scaler])\n",
    "    # 위의 두 단계 assembler(객체)와 scaler(객체)를 한번에 두 단계를 연속실행하는 파이프라인객체를 만듦\n",
    "\n",
    "    df_filled = df.na.fill({input_col: fill_value})\n",
    "    # 결측값이 있는 경우 fill_value로 대체함 why? : 스케일러는 Null 값 존재시 에러 발생. 따라서 반드시 Null을 해결해야함.\n",
    "\n",
    "    model = pipeline.fit(df_filled)\n",
    "    df_scaled = model.transform(df_filled)\n",
    "    # 실제 스케일링된값들을 생성한 컬럼에 부여해서 반환\n",
    "\n",
    "    # 벡터화시킨 컬럼에서 스칼라 값 추출\n",
    "    from pyspark.sql.functions import udf # user defined function -> sql을 사용하기위함 알리아스를 udf로 정의\n",
    "    from pyspark.sql.types import DoubleType\n",
    "    \n",
    "    extract_first = udf(lambda v: float(v[0]) if v is not None else 0.0, DoubleType())\n",
    "    # extract_first라는 함수 정의 입력값 v는 보통 벡터 타입, 즉 DenseVector([value])\n",
    "    # 1. v가 None이 아닌 경우 → v[0]을 float형으로 추출\n",
    "    # 2. v가 None인 경우 → 0.0으로 대체\n",
    "    # 여기서 반환값은 DoubleType으로 명시.\n",
    "    # 이 함수를 왜 사용하는가? : PySpark의 MinMaxScaler, VectorAssembler 결과는 벡터 형식(DenseVector)으로 리턴. 하지만 모델링이나 데이터 분석 시에는 일반 숫자값으로 다시 바꾸는 경우가 많다. 따라서 위와 같이 벡터값을 일반 숫자값으로 변환하는 함수를 정의.\n",
    "\n",
    "    return df_scaled.withColumn(output_col, extract_first(col(f\"{output_col}_scaled\")))\n",
    "    # 새 컬럼 추가, 첫 파라미터는 추가할 컬럼명, 두번째 파라미터는 앞서 정의한 컬럼(첫번째 파라미터) 에 들어갈 값으로, 벡터값을 일반 숫자값으로 변환한 값을 추가하는 함수.\n",
    "\n",
    "    # 예를 들어, output_col_scaled 값이 DenseVector([0.25])라면 output_col에는 0.25가 저장.\n",
    "\n",
    "    # <총 흐름을 정리>\n",
    "    # 예로 input_col = \"MDD_1년\", output_col = \"MDD점수\"\n",
    "    #\n",
    "    # 1. \"MDD_1년\" 값을 정규화 → \"MDD점수_scaled\" (벡터형)\n",
    "    # 2. \"MDD점수_scaled\"의 첫 번째 값 추출 → \"MDD점수\" (실수형)\n",
    "    # 3. 결과적으로 모델 학습에 바로 사용할 수 있는 실수형 컬럼이 생성됨\n",
    "\n",
    "df_final = scale_column(df_final, '펀드성과정보_1년', '수익률점수')\n",
    "#df_final = scale_column(df_final, '펀드수정샤프(연환산)_1년', '샤프점수') \n",
    "#df_final = df_final.withColumn('샤프점수', expr('1 - `샤프점수`'))\n",
    "df_final = scale_column(df_final, 'NetCashFlow(펀드자금흐름)_1년', '자금유입점수')\n",
    "# max_fee = df_final.agg({'운용보수': 'max'}).collect()[0][0]\n",
    "df_final = scale_column(df_final, '운용보수', '수수료점수')\n",
    "# , fill_value=max_fee\n",
    "df_final = df_final.withColumn('수수료점수', expr('1 - `수수료점수`'))"
   ]
  },
  {
   "cell_type": "code",
   "execution_count": 0,
   "metadata": {
    "application/vnd.databricks.v1+cell": {
     "cellMetadata": {
      "byteLimit": 2048000,
      "rowLimit": 10000
     },
     "inputWidgets": {},
     "nuid": "4be18014-795c-41a7-bd38-af66053482e1",
     "showTitle": false,
     "tableResultSettingsMap": {},
     "title": ""
    }
   },
   "outputs": [],
   "source": [
    "# 3. 최종점수 계산\n",
    "w1, w2, w3= 0.5, 0.3, 0.2\n",
    "df_final = df_final.withColumn(\n",
    "    '최종점수',\n",
    "    w1 * col('수익률점수') +\n",
    "    w2 * col('자금유입점수') +\n",
    "    w3 * col('수수료점수')\n",
    ")"
   ]
  },
  {
   "cell_type": "code",
   "execution_count": 0,
   "metadata": {
    "application/vnd.databricks.v1+cell": {
     "cellMetadata": {
      "byteLimit": 2048000,
      "rowLimit": 10000
     },
     "inputWidgets": {},
     "nuid": "5528ba34-95e9-4110-8aee-38773c558351",
     "showTitle": false,
     "tableResultSettingsMap": {},
     "title": ""
    }
   },
   "outputs": [],
   "source": [
    "# 4. 랭킹 생성\n",
    "windowSpec = Window.orderBy(col('최종점수').desc())\n",
    "df_final = df_final.withColumn('추천랭킹', F.row_number().over(windowSpec))"
   ]
  },
  {
   "cell_type": "code",
   "execution_count": 0,
   "metadata": {
    "application/vnd.databricks.v1+cell": {
     "cellMetadata": {
      "byteLimit": 2048000,
      "rowLimit": 10000
     },
     "inputWidgets": {},
     "nuid": "8578bde1-496c-4428-a752-255c598a49b4",
     "showTitle": false,
     "tableResultSettingsMap": {},
     "title": ""
    }
   },
   "outputs": [],
   "source": [
    "display(df_final)"
   ]
  },
  {
   "cell_type": "code",
   "execution_count": 0,
   "metadata": {
    "application/vnd.databricks.v1+cell": {
     "cellMetadata": {
      "byteLimit": 2048000,
      "rowLimit": 10000
     },
     "inputWidgets": {},
     "nuid": "c92eca3d-c7dd-45f2-aaee-7ceb4ada7acc",
     "showTitle": false,
     "tableResultSettingsMap": {},
     "title": ""
    }
   },
   "outputs": [],
   "source": [
    "# 상위 20개 펀드만 보기\n",
    "display(df_final[['추천랭킹', '펀드코드', '펀드명', '운용사명', '최종점수', '펀드성과정보_1년', '펀드수정샤프(연환산)_1년', 'NetCashFlow(펀드자금흐름)_1년', '운용보수']].head(20))"
   ]
  },
  {
   "cell_type": "code",
   "execution_count": 0,
   "metadata": {
    "application/vnd.databricks.v1+cell": {
     "cellMetadata": {
      "byteLimit": 2048000,
      "rowLimit": 10000
     },
     "inputWidgets": {},
     "nuid": "e881e029-ee74-4cf5-b16c-615ce2813529",
     "showTitle": false,
     "tableResultSettingsMap": {},
     "title": ""
    }
   },
   "outputs": [],
   "source": [
    "# 5. 컬럼명 한글화 및 출력\n",
    "styled_df = df_final.select(\n",
    "    col('추천랭킹').alias('랭킹'),\n",
    "    col('펀드코드').alias('코드'),\n",
    "    col('펀드명').alias('펀드명'),\n",
    "    col('운용사명').alias('운용사'),\n",
    "    col('최종점수').alias('최종점수'),\n",
    "    col('펀드성과정보_1년').alias('1년 수익률(%)'),\n",
    "    col('펀드수정샤프(연환산)_1년').alias('1년 샤프지수(연환산)'),\n",
    "    col('NetCashFlow(펀드자금흐름)_1년').alias('1년 자금유입'),\n",
    "    col('운용보수').alias('운용보수(%)')\n",
    ")\n",
    "\n",
    "styled_df.display(20, truncate=False)"
   ]
  },
  {
   "cell_type": "markdown",
   "metadata": {
    "application/vnd.databricks.v1+cell": {
     "cellMetadata": {
      "byteLimit": 2048000,
      "rowLimit": 10000
     },
     "inputWidgets": {},
     "nuid": "2585146c-2a2c-4121-bf2d-f845c4be6aba",
     "showTitle": false,
     "tableResultSettingsMap": {},
     "title": ""
    }
   },
   "source": [
    "### 리스크 컬럼 생성 - 올바른 해석_수정본"
   ]
  },
  {
   "cell_type": "code",
   "execution_count": 0,
   "metadata": {
    "application/vnd.databricks.v1+cell": {
     "cellMetadata": {
      "byteLimit": 2048000,
      "rowLimit": 10000
     },
     "inputWidgets": {},
     "nuid": "10e82413-9736-4def-8efc-f2afe5f31f99",
     "showTitle": false,
     "tableResultSettingsMap": {},
     "title": ""
    }
   },
   "outputs": [],
   "source": [
    "# from pyspark.sql.functions import col, min, max\n",
    "\n",
    "# df_final.select(\n",
    "#     min('MaximumDrawDown_1년').alias('min_변동성'),\n",
    "#     max('MaximumDrawDown_1년').alias('max_변동성'),\n",
    "#     _sum((col('MaximumDrawDown_1년') < 0).cast('int')).alias('num_negative'),\n",
    "#     _sum((col('MaximumDrawDown_1년') == 0).cast('int')).alias('num_zero'),\n",
    "#     _sum((col('MaximumDrawDown_1년') > 0).cast('int')).alias('num_positive')\n",
    "# ).show()"
   ]
  },
  {
   "cell_type": "code",
   "execution_count": 0,
   "metadata": {
    "application/vnd.databricks.v1+cell": {
     "cellMetadata": {
      "byteLimit": 2048000,
      "rowLimit": 10000
     },
     "inputWidgets": {},
     "nuid": "9601533b-0f3d-4245-b4e7-c83e197d5e27",
     "showTitle": false,
     "tableResultSettingsMap": {},
     "title": ""
    }
   },
   "outputs": [],
   "source": [
    "# from pyspark.sql.functions import col, min, max\n",
    "\n",
    "# df_final.select(\n",
    "#     min('펀드표준편차(연환산)_1년').alias('min_표준편차'),\n",
    "#     max('펀드표준편차(연환산)_1년').alias('max_표준편차'),\n",
    "#     _sum((col('펀드표준편차(연환산)_1년') < 0).cast('int')).alias('num_negative'),\n",
    "#     _sum((col('펀드표준편차(연환산)_1년') == 0).cast('int')).alias('num_zero'),\n",
    "#     _sum((col('펀드표준편차(연환산)_1년') > 0).cast('int')).alias('num_positive')\n",
    "# ).show()"
   ]
  },
  {
   "cell_type": "code",
   "execution_count": 0,
   "metadata": {
    "application/vnd.databricks.v1+cell": {
     "cellMetadata": {
      "byteLimit": 2048000,
      "rowLimit": 10000
     },
     "inputWidgets": {},
     "nuid": "77ff82fd-4520-48e9-87f3-eed87944dc16",
     "showTitle": false,
     "tableResultSettingsMap": {},
     "title": ""
    }
   },
   "outputs": [],
   "source": [
    "# from pyspark.sql.functions import col, min, max\n",
    "\n",
    "# df_final.select(\n",
    "#     min('펀드수정샤프(연환산)_1년').alias('min_수정샤프'),\n",
    "#     max('펀드수정샤프(연환산)_1년').alias('max_수정샤프'),\n",
    "#     _sum((col('펀드수정샤프(연환산)_1년') < 0).cast('int')).alias('num_negative'),\n",
    "#     _sum((col('펀드수정샤프(연환산)_1년') == 0).cast('int')).alias('num_zero'),\n",
    "#     _sum((col('펀드수정샤프(연환산)_1년') > 0).cast('int')).alias('num_positive')\n",
    "# ).show()"
   ]
  },
  {
   "cell_type": "code",
   "execution_count": 0,
   "metadata": {
    "application/vnd.databricks.v1+cell": {
     "cellMetadata": {
      "byteLimit": 2048000,
      "rowLimit": 10000
     },
     "inputWidgets": {},
     "nuid": "d9d6d2e4-5ada-4241-947e-5e7f035ab2d4",
     "showTitle": false,
     "tableResultSettingsMap": {},
     "title": ""
    }
   },
   "outputs": [],
   "source": [
    "# from pyspark.ml import Pipeline\n",
    "# from pyspark.ml.feature import VectorAssembler, MinMaxScaler\n",
    "# from pyspark.sql.functions import col, abs\n",
    "# #리스크 피처들의 올바른 해석을 통한 리스크 점수 계산 - 수정본\n",
    "\n",
    "# # 1) 사전 변환: 위험도 방향 맞추기\n",
    "# #    - 변동성      : 값이 클수록 위험 ↑ (그대로)\n",
    "# #    - 최대손실폭  : 원본이 음수이므로 절댓값(abs) 또는 부호 반전(-1) → 양수로\n",
    "# #    - 샤프지수    : 값이 클수록 성과 우수 → “위험” 관점으로는 반전(-1)\n",
    "\n",
    "# df_risk = df_final \\\n",
    "#     .withColumn('변동성_리스크',        col('펀드표준편차(연환산)_1년')) \\\n",
    "#     .withColumn('MDD_리스크',         abs(col('MaximumDrawDown_1년'))) \\\n",
    "#     .withColumn('샤프_리스크',        -col('펀드수정샤프(연환산)_1년'))\n",
    "\n",
    "# # 2) 스케일링 함수 (벡터화 → MinMax → 단일 컬럼 추출)\n",
    "# def scale_column(df, input_col, output_col, fill_value=0):\n",
    "#     assembler = VectorAssembler(inputCols=[input_col], outputCol=f\"{output_col}_vec\")\n",
    "#     scaler    = MinMaxScaler(inputCol=f\"{output_col}_vec\",    outputCol=f\"{output_col}_scaled\")\n",
    "#     pipeline  = Pipeline(stages=[assembler, scaler])\n",
    "\n",
    "#     df_filled = df.na.fill({input_col: fill_value})\n",
    "#     model     = pipeline.fit(df_filled)\n",
    "#     df_scaled = model.transform(df_filled)\n",
    "\n",
    "#     # 스케일된 스칼라 값만 꺼내기\n",
    "#     from pyspark.sql.functions import udf\n",
    "#     from pyspark.sql.types import DoubleType\n",
    "#     extract_first = udf(lambda v: float(v[0]) if v is not None else 0.0, DoubleType())\n",
    "\n",
    "#     return df_scaled.withColumn(output_col, extract_first(col(f\"{output_col}_scaled\")))\n",
    "\n",
    "# # 3) 각 리스크 지표 스케일링\n",
    "# df_scaled = scale_column(df_risk, '변동성_리스크', '변동성점수')\n",
    "# df_scaled = scale_column(df_scaled, 'MDD_리스크',    '최대손실폭점수')\n",
    "# df_scaled = scale_column(df_scaled, '샤프_리스크',   '샤프위험점수')\n",
    "\n",
    "# # 4) 최종 리스크 점수 결합\n",
    "# w1, w2, w3 = 0.7, 0.2, 0.1\n",
    "# df_final = df_scaled.withColumn(\n",
    "#     '최종리스크점수',\n",
    "#     w1 * col('변동성점수') +\n",
    "#     w2 * col('최대손실폭점수') +\n",
    "#     w3 * col('샤프위험점수')\n",
    "# )"
   ]
  },
  {
   "cell_type": "code",
   "execution_count": 0,
   "metadata": {
    "application/vnd.databricks.v1+cell": {
     "cellMetadata": {
      "byteLimit": 2048000,
      "rowLimit": 10000
     },
     "inputWidgets": {},
     "nuid": "c877d52c-f2df-4cfe-9edb-1579e3e497fc",
     "showTitle": false,
     "tableResultSettingsMap": {},
     "title": ""
    }
   },
   "outputs": [],
   "source": [
    "# # 5. 컬럼명 한글화 및 출력\n",
    "# styled_df = df_final.select(\n",
    "#     col('추천랭킹').alias('랭킹'),\n",
    "#     col('최종리스크점수').alias('최종리스크점수'),\n",
    "#     col('펀드코드').alias('코드'),\n",
    "#     col('펀드명').alias('펀드명'),\n",
    "#     col('운용사명').alias('운용사'),\n",
    "#     col('최종점수').alias('최종점수'),\n",
    "#     col('펀드성과정보_1년').alias('1년 수익률(%)'),\n",
    "#     col('펀드수정샤프(연환산)_1년').alias('1년 샤프지수(연환산)'),\n",
    "#     col('NetCashFlow(펀드자금흐름)_1년').alias('1년 자금유입'),\n",
    "#     col('운용보수').alias('운용보수(%)')\n",
    "# )\n",
    "\n",
    "# styled_df.display(20, truncate=False)"
   ]
  },
  {
   "cell_type": "code",
   "execution_count": 0,
   "metadata": {
    "application/vnd.databricks.v1+cell": {
     "cellMetadata": {
      "byteLimit": 2048000,
      "rowLimit": 10000
     },
     "inputWidgets": {},
     "nuid": "cde40b41-165e-4387-951d-073f58c9b91b",
     "showTitle": false,
     "tableResultSettingsMap": {},
     "title": ""
    }
   },
   "outputs": [],
   "source": [
    "# display(df_final.tail(20))"
   ]
  },
  {
   "cell_type": "code",
   "execution_count": 0,
   "metadata": {
    "application/vnd.databricks.v1+cell": {
     "cellMetadata": {
      "byteLimit": 2048000,
      "rowLimit": 10000
     },
     "inputWidgets": {},
     "nuid": "ddb357ad-e7b6-4789-b046-144677acb191",
     "showTitle": false,
     "tableResultSettingsMap": {},
     "title": ""
    }
   },
   "outputs": [],
   "source": [
    "# # 1) 모든 컬럼 이름 리스트\n",
    "# all_cols = df_final.columns\n",
    "\n",
    "# # 2) 각 컬럼별 null 개수 집계식 생성\n",
    "# null_count_exprs = [\n",
    "#     _sum(when(col(c).isNull(), 1).otherwise(0)).alias(c)\n",
    "#     for c in all_cols\n",
    "# ]\n",
    "\n",
    "# # 3) 집계 실행: 한 행(Row)로 결과가 나옴\n",
    "# null_counts_row = df_final.select(*null_count_exprs).first().asDict()\n",
    "\n",
    "# # 4) 컬럼별 null 개수 출력\n",
    "# print(\"컬럼별 null 개수:\")\n",
    "# for c, cnt in null_counts_row.items():\n",
    "#     print(f\"  {c}: {cnt}\")\n",
    "\n",
    "# # 5) null을 하나라도 가진 컬럼 개수 계산\n",
    "# num_cols_with_null = builtins.sum(1 for cnt in null_counts_row.values() if cnt > 0)\n",
    "# print(f\"\\nnull을 하나라도 가진 컬럼 개수: {num_cols_with_null}개\")"
   ]
  },
  {
   "cell_type": "markdown",
   "metadata": {
    "application/vnd.databricks.v1+cell": {
     "cellMetadata": {
      "byteLimit": 2048000,
      "rowLimit": 10000
     },
     "inputWidgets": {},
     "nuid": "47ba69b8-d109-407e-ab5f-436a5937fa3f",
     "showTitle": false,
     "tableResultSettingsMap": {},
     "title": ""
    }
   },
   "source": [
    "_투자전략은 뭐 그냥 상품설명으로 걸어둔다 치고_"
   ]
  },
  {
   "cell_type": "code",
   "execution_count": 0,
   "metadata": {
    "application/vnd.databricks.v1+cell": {
     "cellMetadata": {
      "byteLimit": 2048000,
      "rowLimit": 10000
     },
     "inputWidgets": {},
     "nuid": "bafc7255-785b-47b2-8649-cf162aba005e",
     "showTitle": false,
     "tableResultSettingsMap": {},
     "title": ""
    }
   },
   "outputs": [],
   "source": [
    "display(df_final.groupBy('투자전략').count())"
   ]
  },
  {
   "cell_type": "markdown",
   "metadata": {
    "application/vnd.databricks.v1+cell": {
     "cellMetadata": {
      "byteLimit": 2048000,
      "rowLimit": 10000
     },
     "inputWidgets": {},
     "nuid": "cc458e05-9dc7-4117-8374-c77b299cca4d",
     "showTitle": false,
     "tableResultSettingsMap": {},
     "title": ""
    }
   },
   "source": [
    "_펀드키워드는 필터링 용으로 필요할 수 있겠다는 생각이 드네요_"
   ]
  },
  {
   "cell_type": "code",
   "execution_count": 0,
   "metadata": {
    "application/vnd.databricks.v1+cell": {
     "cellMetadata": {
      "byteLimit": 2048000,
      "rowLimit": 10000
     },
     "inputWidgets": {},
     "nuid": "57f7b8a6-ceac-44bb-a3cf-6a47b3932c29",
     "showTitle": false,
     "tableResultSettingsMap": {},
     "title": ""
    }
   },
   "outputs": [],
   "source": [
    "display(df_final.groupBy('펀드키워드').count())"
   ]
  },
  {
   "cell_type": "code",
   "execution_count": 0,
   "metadata": {
    "application/vnd.databricks.v1+cell": {
     "cellMetadata": {
      "byteLimit": 2048000,
      "rowLimit": 10000
     },
     "inputWidgets": {},
     "nuid": "f6ab44c7-29b6-4a05-bf6c-54a00ef57223",
     "showTitle": false,
     "tableResultSettingsMap": {},
     "title": ""
    }
   },
   "outputs": [],
   "source": [
    "from pyspark.sql.functions import split, explode, trim, col\n",
    "\n",
    "# 1) 쉼표로 분리 → explode로 행으로 펼침 → trim으로 공백 제거\n",
    "keywords_df = (\n",
    "    df_final.select(explode(split(col(\"펀드키워드\"), \",\")).alias(\"keyword\"))\n",
    "      .withColumn(\"keyword\", trim(col(\"keyword\")))\n",
    ")\n",
    "\n",
    "# 2) 키워드별 개수 집계\n",
    "keyword_counts = (\n",
    "    keywords_df.groupBy(\"keyword\")\n",
    "    .count()\n",
    "    .orderBy(col(\"count\").desc())\n",
    ")\n",
    "\n",
    "# 3) 결과 확인\n",
    "display(keyword_counts)"
   ]
  },
  {
   "cell_type": "code",
   "execution_count": 0,
   "metadata": {
    "application/vnd.databricks.v1+cell": {
     "cellMetadata": {
      "byteLimit": 2048000,
      "rowLimit": 10000
     },
     "inputWidgets": {},
     "nuid": "82b173c6-3b91-42bf-a2ef-34836cf3de9c",
     "showTitle": false,
     "tableResultSettingsMap": {},
     "title": ""
    }
   },
   "outputs": [],
   "source": [
    "keyword_with_bank = keyword_counts.filter(col(\"keyword\").contains(\"은행\"))\n",
    "keyword_with_bank.show(truncate=False)"
   ]
  },
  {
   "cell_type": "code",
   "execution_count": 0,
   "metadata": {
    "application/vnd.databricks.v1+cell": {
     "cellMetadata": {
      "byteLimit": 2048000,
      "rowLimit": 10000
     },
     "inputWidgets": {},
     "nuid": "fdeba2a2-0692-4724-b9b6-64c5113a5edd",
     "showTitle": false,
     "tableResultSettingsMap": {},
     "title": ""
    }
   },
   "outputs": [],
   "source": [
    "a = df_final.columns"
   ]
  },
  {
   "cell_type": "code",
   "execution_count": 0,
   "metadata": {
    "application/vnd.databricks.v1+cell": {
     "cellMetadata": {
      "byteLimit": 2048000,
      "rowLimit": 10000
     },
     "inputWidgets": {},
     "nuid": "120a7918-06f3-4dac-b681-e428bcfd514a",
     "showTitle": false,
     "tableResultSettingsMap": {},
     "title": ""
    }
   },
   "outputs": [],
   "source": [
    "a"
   ]
  },
  {
   "cell_type": "code",
   "execution_count": 0,
   "metadata": {
    "application/vnd.databricks.v1+cell": {
     "cellMetadata": {
      "byteLimit": 2048000,
      "rowLimit": 10000
     },
     "inputWidgets": {},
     "nuid": "b6456a74-7bed-4806-aad5-9a413c792fa1",
     "showTitle": false,
     "tableResultSettingsMap": {},
     "title": ""
    }
   },
   "outputs": [],
   "source": [
    "\n",
    "# condition = col(\"keyword\") == a[0]\n",
    "# for word in a[1:]:\n",
    "#     condition = condition | (col(\"keyword\") == word)\n",
    "# condition = ~condition\n",
    "\n",
    "# filtered_keywords = keyword_counts.filter(condition)\n",
    "# display(filtered_keywords)"
   ]
  },
  {
   "cell_type": "code",
   "execution_count": 0,
   "metadata": {
    "application/vnd.databricks.v1+cell": {
     "cellMetadata": {
      "byteLimit": 2048000,
      "rowLimit": 10000
     },
     "inputWidgets": {},
     "nuid": "f2aa0ed6-b0dd-4ed1-8802-cd199ed8157e",
     "showTitle": false,
     "tableResultSettingsMap": {},
     "title": ""
    }
   },
   "outputs": [],
   "source": [
    "# 이상치 탐지를 위한 수치형 컬럼들만 추출\n",
    "\n",
    "# from pyspark.sql.types import NumericType\n",
    "\n",
    "# # 1) 스키마에서 NumericType 인스턴스만 필터링\n",
    "# numeric_cols = [\n",
    "#     field.name\n",
    "#     for field in df_final.schema.fields\n",
    "#     if isinstance(field.dataType, NumericType)\n",
    "# ]\n",
    "\n",
    "# # 2) 숫자형 컬럼들만 선택\n",
    "# df_numeric = df_final.select(numeric_cols)\n",
    "\n",
    "# # 결과 확인\n",
    "# print(\"수치형 컬럼들:\", numeric_cols)\n",
    "# display(df_numeric)\n",
    "# len(df_numeric.columns)\n"
   ]
  },
  {
   "cell_type": "markdown",
   "metadata": {
    "application/vnd.databricks.v1+cell": {
     "cellMetadata": {
      "byteLimit": 2048000,
      "rowLimit": 10000
     },
     "inputWidgets": {},
     "nuid": "683157d2-a2cf-4be7-bdd6-b0fd92b6a1af",
     "showTitle": false,
     "tableResultSettingsMap": {},
     "title": ""
    }
   },
   "source": [
    "## 이런 저런 처리를 위해 형을 되도록 실수형 변환\n"
   ]
  },
  {
   "cell_type": "markdown",
   "metadata": {
    "application/vnd.databricks.v1+cell": {
     "cellMetadata": {
      "byteLimit": 2048000,
      "rowLimit": 10000
     },
     "inputWidgets": {},
     "nuid": "43974b17-6f56-420b-b98e-2c7e61f61ca2",
     "showTitle": false,
     "tableResultSettingsMap": {},
     "title": ""
    }
   },
   "source": [
    "일단 남은 결측치를 확인"
   ]
  },
  {
   "cell_type": "code",
   "execution_count": 0,
   "metadata": {
    "application/vnd.databricks.v1+cell": {
     "cellMetadata": {
      "byteLimit": 2048000,
      "rowLimit": 10000
     },
     "inputWidgets": {},
     "nuid": "80c2bc12-7da8-4a47-bf6b-f1485854fdd1",
     "showTitle": false,
     "tableResultSettingsMap": {},
     "title": ""
    }
   },
   "outputs": [],
   "source": [
    "df_final = df_final.filter(col(\"순자산\").isNotNull())\n",
    "#7개 행 삭제"
   ]
  },
  {
   "cell_type": "code",
   "execution_count": 0,
   "metadata": {
    "application/vnd.databricks.v1+cell": {
     "cellMetadata": {
      "byteLimit": 2048000,
      "rowLimit": 10000
     },
     "inputWidgets": {},
     "nuid": "1771eac7-5fd1-4787-b2b5-5dc164faa0fe",
     "showTitle": false,
     "tableResultSettingsMap": {},
     "title": ""
    }
   },
   "outputs": [],
   "source": [
    "from pyspark.sql.functions import col, sum, when\n",
    "\n",
    "null_counts = df_final.select([\n",
    "    sum(when(col(c).isNull(), 1).otherwise(0)).alias(c) for c in df_final.columns\n",
    "])\n",
    "\n",
    "display(null_counts)\n",
    "# 결측치가 있는 컬럼 :  투자전략, 펀드키워드, 유형평균성과_1년"
   ]
  },
  {
   "cell_type": "markdown",
   "metadata": {
    "application/vnd.databricks.v1+cell": {
     "cellMetadata": {
      "byteLimit": 2048000,
      "rowLimit": 10000
     },
     "inputWidgets": {},
     "nuid": "25c83742-7b23-403c-88b9-b95bdb4f041c",
     "showTitle": false,
     "tableResultSettingsMap": {},
     "title": ""
    }
   },
   "source": [
    "본격적으로 형 변환"
   ]
  },
  {
   "cell_type": "code",
   "execution_count": 0,
   "metadata": {
    "application/vnd.databricks.v1+cell": {
     "cellMetadata": {
      "byteLimit": 2048000,
      "rowLimit": 10000
     },
     "inputWidgets": {},
     "nuid": "74775f6b-5776-4ffa-970b-8e2bbc5d273d",
     "showTitle": false,
     "tableResultSettingsMap": {},
     "title": ""
    }
   },
   "outputs": [],
   "source": [
    "# cols = [['대유형',\n",
    "#  '펀드코드',\n",
    "#  '펀드명',\n",
    "#  '대표펀드유무',\n",
    "#  '운용사명',\n",
    "#  '설정일',\n",
    "#  '중유형',\n",
    "#  '소유형',\n",
    "#  '투자전략',\n",
    "#  '펀드키워드',\n",
    "#  '펀드성과정보_1년',\n",
    "#  '유형평균유형성과_1년',\n",
    "#  '펀드표준편차(연환산)_1년',\n",
    "#  '펀드수정샤프(연환산)_1년',\n",
    "#  'MaximumDrawDown_1년',\n",
    "#  'NetCashFlow(펀드자금흐름)_1년',\n",
    "#  '순자산',\n",
    "#  '운용보수',\n",
    "#  '판매보수',\n",
    "#  '선취수수료',\n",
    "#  '후취수수료',\n",
    "#  '가치주',\n",
    "#  '성장주',\n",
    "#  '중소형주',\n",
    "#  '글로벌',\n",
    "#  '자산배분',\n",
    "#  '4차산업',\n",
    "#  'ESG(사회책임투자형)',\n",
    "#  '배당주',\n",
    "#  'FoFs',\n",
    "#  '퇴직연금',\n",
    "#  '고난도금융상품',\n",
    "#  '절대수익추구',\n",
    "#  '레버리지',\n",
    "#  '퀀트']]\n",
    "\n",
    "# # 선택\n",
    "# df_final_selected = df.select(*cols)"
   ]
  },
  {
   "cell_type": "code",
   "execution_count": 0,
   "metadata": {
    "application/vnd.databricks.v1+cell": {
     "cellMetadata": {
      "byteLimit": 2048000,
      "rowLimit": 10000
     },
     "inputWidgets": {},
     "nuid": "2797e209-e6a8-43f6-ac93-0000afbdf064",
     "showTitle": false,
     "tableResultSettingsMap": {},
     "title": ""
    }
   },
   "outputs": [],
   "source": [
    "target_cols = [\n",
    "    '펀드성과정보_1년',\n",
    "    '펀드표준편차(연환산)_1년',\n",
    "    '펀드수정샤프(연환산)_1년',\n",
    "    'MaximumDrawDown_1년',\n",
    "    'NetCashFlow(펀드자금흐름)_1년',\n",
    "    '운용보수'\n",
    "]"
   ]
  },
  {
   "cell_type": "code",
   "execution_count": 0,
   "metadata": {
    "application/vnd.databricks.v1+cell": {
     "cellMetadata": {
      "byteLimit": 2048000,
      "rowLimit": 10000
     },
     "inputWidgets": {},
     "nuid": "c82074fd-1d1d-42d0-b3ca-8ed53547bca6",
     "showTitle": false,
     "tableResultSettingsMap": {},
     "title": ""
    }
   },
   "outputs": [],
   "source": [
    "df_final.printSchema()"
   ]
  },
  {
   "cell_type": "markdown",
   "metadata": {
    "application/vnd.databricks.v1+cell": {
     "cellMetadata": {
      "byteLimit": 2048000,
      "rowLimit": 10000
     },
     "inputWidgets": {},
     "nuid": "8441a720-fa04-4bd3-a586-b1a125796d51",
     "showTitle": false,
     "tableResultSettingsMap": {},
     "title": ""
    }
   },
   "source": [
    "순자산은 숫자형태의 string이라 cast만 실수형변환"
   ]
  },
  {
   "cell_type": "code",
   "execution_count": 0,
   "metadata": {
    "application/vnd.databricks.v1+cell": {
     "cellMetadata": {
      "byteLimit": 2048000,
      "rowLimit": 10000
     },
     "inputWidgets": {},
     "nuid": "3ac29d21-02fa-417c-a285-18c414459ccb",
     "showTitle": false,
     "tableResultSettingsMap": {},
     "title": ""
    }
   },
   "outputs": [],
   "source": [
    "from pyspark.sql.functions import when, col\n",
    "from pyspark.sql.types import FloatType\n",
    "\n",
    "mcols = ['순자산']\n",
    "for c in mcols:\n",
    "    df_final = df_final.withColumn(\n",
    "        c,\n",
    "        col(c).cast(FloatType())\n",
    "    )"
   ]
  },
  {
   "cell_type": "markdown",
   "metadata": {
    "application/vnd.databricks.v1+cell": {
     "cellMetadata": {
      "byteLimit": 2048000,
      "rowLimit": 10000
     },
     "inputWidgets": {},
     "nuid": "4c19c205-eafd-4e25-ad7c-b300d4cfd128",
     "showTitle": false,
     "tableResultSettingsMap": {},
     "title": ""
    }
   },
   "source": [
    "아래 항목들은 Y/N 형식으로 작성된 string 컬럼들이라 1,0으로 변경 "
   ]
  },
  {
   "cell_type": "code",
   "execution_count": 0,
   "metadata": {
    "application/vnd.databricks.v1+cell": {
     "cellMetadata": {
      "byteLimit": 2048000,
      "rowLimit": 10000
     },
     "inputWidgets": {},
     "nuid": "d65c9fd3-270a-4b8f-9445-2d8bb7b09392",
     "showTitle": false,
     "tableResultSettingsMap": {},
     "title": ""
    }
   },
   "outputs": [],
   "source": [
    "yn_cols = ['대표펀드유무','가치주', '성장주', '중소형주', '글로벌', '자산배분', '4차산업', 'ESG(사회책임투자형)', '배당주', 'FoFs', '퇴직연금', '고난도금융상품', '절대수익추구', '레버리지', '퀀트']\n",
    "for c in yn_cols:\n",
    "    df_final = df_final.withColumn(\n",
    "        c,\n",
    "        when(col(c) == 'Y', 1.0)\n",
    "        .when(col(c) == 'N', 0.0)\n",
    "        .otherwise(None)\n",
    "        .cast(FloatType())\n",
    "    )\n"
   ]
  },
  {
   "cell_type": "markdown",
   "metadata": {
    "application/vnd.databricks.v1+cell": {
     "cellMetadata": {
      "byteLimit": 2048000,
      "rowLimit": 10000
     },
     "inputWidgets": {},
     "nuid": "8b7fe82a-9e35-4163-879a-2c9ff5b9ccd5",
     "showTitle": false,
     "tableResultSettingsMap": {},
     "title": ""
    }
   },
   "source": [
    "아래컬럼의 경우, 이상치 탐지에 중요한 컬럼이라고 생각이 되나 string이라 범주화를 시켜주고 이 값에 대해 넘버를 붙여주는 형식으로 실수화 시켰습니다."
   ]
  },
  {
   "cell_type": "code",
   "execution_count": 0,
   "metadata": {
    "application/vnd.databricks.v1+cell": {
     "cellMetadata": {
      "byteLimit": 2048000,
      "rowLimit": 10000
     },
     "inputWidgets": {},
     "nuid": "c584c6f6-5df9-45de-9f3e-be7ef570d400",
     "showTitle": false,
     "tableResultSettingsMap": {},
     "title": ""
    }
   },
   "outputs": [],
   "source": [
    "from pyspark.ml.feature import StringIndexer\n",
    "\n",
    "cat_cols = ['운용사명', '대유형', '중유형', '소유형']\n",
    "indexed_cols = [c + '_idx' for c in cat_cols]\n",
    "\n",
    "for orig, idx in zip(cat_cols, indexed_cols):\n",
    "    indexer = StringIndexer(inputCol=orig, outputCol=idx, handleInvalid=\"keep\")\n",
    "    df_final = indexer.fit(df_final).transform(df_final)\n",
    "\n",
    "# 결과 확인\n",
    "df_final.select(cat_cols + indexed_cols).show(5)"
   ]
  },
  {
   "cell_type": "code",
   "execution_count": 0,
   "metadata": {
    "application/vnd.databricks.v1+cell": {
     "cellMetadata": {
      "byteLimit": 2048000,
      "rowLimit": 10000
     },
     "inputWidgets": {},
     "nuid": "7b9e6692-6a68-4425-b037-38361bb76f98",
     "showTitle": false,
     "tableResultSettingsMap": {},
     "title": ""
    }
   },
   "outputs": [],
   "source": [
    "display(df_final['운용사명', '대유형', '중유형', '소유형','운용사명_idx', '대유형_idx', '중유형_idx', '소유형_idx'])"
   ]
  },
  {
   "cell_type": "code",
   "execution_count": 0,
   "metadata": {
    "application/vnd.databricks.v1+cell": {
     "cellMetadata": {
      "byteLimit": 2048000,
      "rowLimit": 10000
     },
     "inputWidgets": {},
     "nuid": "0ca083a5-a397-4c35-89d3-0ddf9e37d401",
     "showTitle": false,
     "tableResultSettingsMap": {},
     "title": ""
    }
   },
   "outputs": [],
   "source": [
    "display(df_final)"
   ]
  },
  {
   "cell_type": "markdown",
   "metadata": {
    "application/vnd.databricks.v1+cell": {
     "cellMetadata": {
      "byteLimit": 2048000,
      "rowLimit": 10000
     },
     "inputWidgets": {},
     "nuid": "50cd7344-b79b-4994-853d-d8880387a4af",
     "showTitle": false,
     "tableResultSettingsMap": {},
     "title": ""
    }
   },
   "source": [
    "### 상관계수 구해보기"
   ]
  },
  {
   "cell_type": "code",
   "execution_count": 0,
   "metadata": {
    "application/vnd.databricks.v1+cell": {
     "cellMetadata": {
      "byteLimit": 2048000,
      "rowLimit": 10000
     },
     "inputWidgets": {},
     "nuid": "03f3558a-8456-42b5-b7c0-edc58ef9fff1",
     "showTitle": false,
     "tableResultSettingsMap": {},
     "title": ""
    }
   },
   "outputs": [],
   "source": [
    "all_cols = df_final.columns"
   ]
  },
  {
   "cell_type": "code",
   "execution_count": 0,
   "metadata": {
    "application/vnd.databricks.v1+cell": {
     "cellMetadata": {
      "byteLimit": 2048000,
      "rowLimit": 10000
     },
     "inputWidgets": {},
     "nuid": "7b62bd9f-2f02-4af0-85d7-63ca49954749",
     "showTitle": false,
     "tableResultSettingsMap": {},
     "title": ""
    }
   },
   "outputs": [],
   "source": [
    "all_cols"
   ]
  },
  {
   "cell_type": "code",
   "execution_count": 0,
   "metadata": {
    "application/vnd.databricks.v1+cell": {
     "cellMetadata": {
      "byteLimit": 2048000,
      "rowLimit": 10000
     },
     "inputWidgets": {},
     "nuid": "e8b7c733-dfe1-4a65-8121-9291eedfee7f",
     "showTitle": false,
     "tableResultSettingsMap": {},
     "title": ""
    }
   },
   "outputs": [],
   "source": [
    "numeric_types = ('IntegerType', 'DoubleType', 'FloatType', 'LongType', 'ShortType')\n",
    "numeric_cols = [f.name for f in df_final.schema.fields if f.dataType.typeName() in [t.replace('Type', '').lower() for t in numeric_types]]\n",
    "\n",
    "# 2. 분석 대상 컬럼만 남김\n",
    "target_cols = [c for c in target_cols if c in numeric_cols]\n",
    "all_cols = [c for c in all_cols if c in numeric_cols]\n",
    "print(target_cols)\n",
    "print(all_cols)"
   ]
  },
  {
   "cell_type": "code",
   "execution_count": 0,
   "metadata": {
    "application/vnd.databricks.v1+cell": {
     "cellMetadata": {
      "byteLimit": 2048000,
      "rowLimit": 10000
     },
     "inputWidgets": {},
     "nuid": "c426e940-2963-4a1f-ae26-bc3367a437d0",
     "showTitle": false,
     "tableResultSettingsMap": {},
     "title": ""
    }
   },
   "outputs": [],
   "source": [
    "# from pyspark.ml.stat import Correlation\n",
    "# from pyspark.ml.feature import VectorAssembler\n",
    "\n",
    "# # 1. 널 제거\n",
    "# df_clean = df_encoded.select(all_cols).dropna()\n",
    "\n",
    "# # 2. 벡터화\n",
    "# assembler = VectorAssembler(inputCols=all_cols, outputCol=\"features\")\n",
    "# df_vector = assembler.transform(df_clean)\n",
    "\n",
    "# # 3. 상관행렬 계산 (전체 컬럼에 대해)\n",
    "# corr_matrix = Correlation.corr(df_vector, \"features\", \"pearson\").head()[0].toArray()\n",
    "\n",
    "\n",
    "# for target in target_cols:\n",
    "#     i = all_cols.index(target)\n",
    "#     print(f\"\\n📌 [{target}] 기준 상관관계:\")\n",
    "#     for j, other in enumerate(all_cols):\n",
    "#         if i != j:\n",
    "#             print(f\"{other}: {corr_matrix[i][j]:.4f}\")\n"
   ]
  },
  {
   "cell_type": "markdown",
   "metadata": {
    "application/vnd.databricks.v1+cell": {
     "cellMetadata": {
      "byteLimit": 2048000,
      "rowLimit": 10000
     },
     "inputWidgets": {},
     "nuid": "044aea19-ac9e-48a4-93e9-675b02f1b5b3",
     "showTitle": false,
     "tableResultSettingsMap": {},
     "title": ""
    }
   },
   "source": [
    "## 이상치 처리 하기"
   ]
  },
  {
   "cell_type": "markdown",
   "metadata": {
    "application/vnd.databricks.v1+cell": {
     "cellMetadata": {
      "byteLimit": 2048000,
      "rowLimit": 10000
     },
     "inputWidgets": {},
     "nuid": "1b245142-462e-479c-b750-3102a5a0a59e",
     "showTitle": false,
     "tableResultSettingsMap": {},
     "title": ""
    }
   },
   "source": [
    "target cols에 대해 삭제/유지/대체로 나누기 위해 이상치를 시각화 해보겠습니다"
   ]
  },
  {
   "cell_type": "code",
   "execution_count": 0,
   "metadata": {
    "application/vnd.databricks.v1+cell": {
     "cellMetadata": {
      "byteLimit": 2048000,
      "rowLimit": 10000
     },
     "inputWidgets": {},
     "nuid": "3ae0c4eb-d9f0-4ef6-b25f-2082b4c8f795",
     "showTitle": false,
     "tableResultSettingsMap": {},
     "title": ""
    }
   },
   "outputs": [],
   "source": [
    "display(df_final)"
   ]
  },
  {
   "cell_type": "markdown",
   "metadata": {
    "application/vnd.databricks.v1+cell": {
     "cellMetadata": {},
     "inputWidgets": {},
     "nuid": "3e15e6f5-1b6e-4d40-8beb-817ce8b74c14",
     "showTitle": false,
     "tableResultSettingsMap": {},
     "title": ""
    }
   },
   "source": [
    "## 사분위수IQR에 대한 설명\n",
    "###사분위수(Quantile)란?\n",
    "* _사분위수는 데이터를 네 구간(quarters)으로 나누는 경계 값_.\n",
    "  1. Q1 (제1사분위수, 25%): 하위 25%의 값이 이 값보다 작음.\n",
    "\n",
    "  2. Q2 (제2사분위수, 50%, 즉 중앙값): 데이터의 중간값.\n",
    "  3. Q3 (제3사분위수, 75%): 하위 75%의 값이 이 값보다 작음.\n",
    "\n",
    "* IQR의 정의\n",
    "  1. IQR = Q3 - Q1 -> 데이터의 중간값인 '50% 범위'의미 => '일반적 분포'에서 벗어난 값의 식별 기준이 됨.\n",
    "  \n",
    "  2. 이 방식에서는 Low/Upper bound 범위 밖에 있는 값을 Outlier로 간주.\n",
    "      - 예로 대부분 값이 10(lower)~20(upper)사이인데 50이란 값이 나오면 이는 iqr범위 밖, 이상치로 인식.\n",
    "  3. 이때 1.5배를 기준으로 하는 이유는 범용적으로 잘 포착해주기 떄문.\n"
   ]
  },
  {
   "cell_type": "code",
   "execution_count": 0,
   "metadata": {
    "application/vnd.databricks.v1+cell": {
     "cellMetadata": {
      "byteLimit": 2048000,
      "rowLimit": 10000
     },
     "inputWidgets": {},
     "nuid": "e7737cc0-32a9-4a1c-a85c-034c199e3927",
     "showTitle": false,
     "tableResultSettingsMap": {},
     "title": ""
    }
   },
   "outputs": [],
   "source": [
    "from pyspark.sql.functions import col, count, when\n",
    "from pyspark.sql import functions as F\n",
    "from pyspark.sql.types import NumericType\n",
    "\n",
    "# 1. 수치형 컬럼만 필터링\n",
    "numeric_cols = [field.name for field in df_final.schema.fields if isinstance(field.dataType, NumericType)]\n",
    "# -> why? : IQR방식은 수치형 데이터에만 의미가 있음\n",
    "\n",
    "# 2. 각 수치형 컬럼에 대해 이상치 판단 기준 (IQR) 계산\n",
    "outlier_exprs = []\n",
    "total_rows = df_final.count()\n",
    "\n",
    "for col_name in numeric_cols:\n",
    "    # 각 컬럼마다 IQR 적용\n",
    "    # approxQuantile(col_name, [0.25, 0.75], 0.05)의 의미는 0.25, 0.75위치에서 q1과 q3의 값을 근사적으로 추출함 => 결과를 리스트 형식으로 반환, 0.05는 허용오차범위 의미.\n",
    "    quantiles = df_final.approxQuantile(col_name, [0.25, 0.75], 0.05)\n",
    "    if len(quantiles) < 2:\n",
    "        continue  # 사분위 계산 안 되면 스킵\n",
    "\n",
    "    q1, q3 = quantiles\n",
    "    iqr = q3 - q1\n",
    "    lower_bound = q1 - 1.5 * iqr\n",
    "    upper_bound = q3 + 1.5 * iqr\n",
    "\n",
    "    # 이상치 조건식 추가\n",
    "    outlier_exprs.append(\n",
    "        F.sum(when((col(col_name) < lower_bound) | (col(col_name) > upper_bound), 1).otherwise(0)).alias(col_name)\n",
    "    )\n",
    "# -> IQR 방법은 데이터 분포의 중앙 50%를 기준으로 크게 벗어난 값(극단값)을 찾는데 범용적으로 사용\n",
    "\n",
    "# 3. 이상치 개수 집계\n",
    "outlier_counts_row = df_final.agg(*outlier_exprs).collect()[0].asDict()\n",
    "# -> outlier_exprs 객체를 사용하여 각 컬럼별 이상치 개수를 집계하고, 이를 '컬럼 : 값'딕셔너리로 변환. => 모든 컬럼에 대해 한 번에 이상치 개수를 구해 비교가능.\n",
    "\n",
    "# 4. 이상치 비율 계산\n",
    "outlier_ratios = {\n",
    "    col: round((count / total_rows) * 100, 2) for col, count in outlier_counts_row.items()\n",
    "}\n",
    "\n",
    "# 5. Pandas로 정리\n",
    "import pandas as pd\n",
    "\n",
    "pd_outliers = pd.DataFrame(list(outlier_ratios.items()), columns=['컬럼명', 'IQR이상치비율(%)'])\n",
    "pd_outliers = pd_outliers.sort_values(by='IQR이상치비율(%)', ascending=False)\n",
    "# -> 내림차순으로 정렬\n",
    "\n",
    "display(pd_outliers)\n"
   ]
  },
  {
   "cell_type": "markdown",
   "metadata": {
    "application/vnd.databricks.v1+cell": {
     "cellMetadata": {},
     "inputWidgets": {},
     "nuid": "020c64fc-3a7a-411f-8f51-1ecf10bd307d",
     "showTitle": false,
     "tableResultSettingsMap": {},
     "title": ""
    }
   },
   "source": [
    "## IQR 방법의 특징\n",
    "  1. 비모수적 방법: 데이터 분포에 특정 가정이 필요없고, 극단값 영향에 덜 민감함.\n",
    "\n",
    "  2. 박스플롯(상자그림)에서 사용: 시각적으로도 많이 활용됨.\n",
    "\n",
    "  3. 실사용 : 대량의 로그, 금융, 센서 데이터 등 다양한 영역에서 통계적 기준으로 널리 쓰임.\n",
    "  > 즉, IQR 방식은 데이터의 전형적(중간) 분포를 기준으로, 너무 크거나 너무 작은 값(극단값)을 식별하는 데 최적화된 방법임."
   ]
  },
  {
   "cell_type": "code",
   "execution_count": 0,
   "metadata": {
    "application/vnd.databricks.v1+cell": {
     "cellMetadata": {
      "byteLimit": 2048000,
      "rowLimit": 10000
     },
     "inputWidgets": {},
     "nuid": "fc6247a4-dac0-409e-b3f8-3fdcc2eb9265",
     "showTitle": false,
     "tableResultSettingsMap": {},
     "title": ""
    }
   },
   "outputs": [],
   "source": [
    "from pyspark.sql.functions import col\n",
    "\n",
    "# 1. mdd가 -90보다 작은 행의 개수 세기\n",
    "count_mdd_less_than_90 = df_final.filter(col(\"MaximumDrawDown_1년\") < -90).count()\n",
    "\n",
    "# 2. mdd가 -90보다 작은 행 추출\n",
    "rows_mdd_less_than_90 = df_final.filter(col(\"MaximumDrawDown_1년\") < -90)\n",
    "\n",
    "# 결과 출력 (개수와 샘플 데이터)\n",
    "print(f\"Count of rows where MaximumDrawDown_1년 < -90: {count_mdd_less_than_90}\")\n",
    "df_final = df_final.filter(col(\"MaximumDrawDown_1년\") >= -90)\n"
   ]
  },
  {
   "cell_type": "markdown",
   "metadata": {
    "application/vnd.databricks.v1+cell": {
     "cellMetadata": {
      "byteLimit": 2048000,
      "rowLimit": 10000
     },
     "inputWidgets": {},
     "nuid": "86707ec5-48d3-4dd8-80ec-15483b811e6f",
     "showTitle": false,
     "tableResultSettingsMap": {},
     "title": ""
    }
   },
   "source": [
    "이상치가 있는 것들 중 처리가 필요한 것들을 살펴보기\n"
   ]
  },
  {
   "cell_type": "code",
   "execution_count": 0,
   "metadata": {
    "application/vnd.databricks.v1+cell": {
     "cellMetadata": {
      "byteLimit": 2048000,
      "rowLimit": 10000
     },
     "inputWidgets": {},
     "nuid": "fa862651-aaa6-4201-82ab-3da318149e90",
     "showTitle": false,
     "tableResultSettingsMap": {},
     "title": ""
    }
   },
   "outputs": [],
   "source": [
    "import numpy as np\n",
    "import matplotlib.pyplot as plt\n",
    "import seaborn as sns"
   ]
  },
  {
   "cell_type": "markdown",
   "metadata": {
    "application/vnd.databricks.v1+cell": {
     "cellMetadata": {
      "byteLimit": 2048000,
      "rowLimit": 10000
     },
     "inputWidgets": {},
     "nuid": "1301acfe-e5f8-4622-8101-6985775e3415",
     "showTitle": false,
     "tableResultSettingsMap": {},
     "title": ""
    }
   },
   "source": [
    "이진 변수에서 생기는 불균형에 의한 이상치\n",
    "| 소수 클래스 비율(%)\t| 불균형 정도\t|실무적 처리 필요성 |\n",
    "|-----------------------------|--------------|-----|\n",
    "20~40%|Mild(경미)|\t별도 처리 없이도 충분히 학습 가능|\n",
    "1~20%\t|Moderate(중간)\t|불균형 처리 권장 (샘플링, 가중치, 임계값 조정 등)|\n",
    "1% 미만\t|Extreme(극단적)|\t불균형 처리 필수 (SMOTE, 언더샘플링, 클래스 가중치 등)|\n",
    "https://developers.google.com/machine-learning/crash-course/overfitting/imbalanced-datasets?hl=ko\n",
    "\n",
    "| 컬럼명                      | 이상치비율(%) |  실무적 처리 필요성 |\n",
    "|-----------------------------|--------------|--------------|\n",
    "| FoFs                        | 28.57        | 그냥 유지 |\n",
    "| 글로벌                      | 28.34        | 그냥 유지 |\n",
    "| 대표펀드유무                | 19.55        | 그냥 유지 |\n",
    "| 퇴직연금                    | 14.84        | 불균형 처리 |\n",
    "| 자산배분                    | 8.37         | 불균형 처리 |\n",
    "| 배당주                      | 5.92         | 불균형 처리 |\n",
    "| 가치주                      | 4.94         | 불균형 처리 |\n",
    "| 중소형주                    | 4.51         | 불균형 처리 |\n",
    "| 고난도금융상품              | 3.76         | 불균형 처리 |\n",
    "| ESG(사회책임투자형)         | 3.38         | 불균형 처리 |\n",
    "| 성장주                      | 3.31         | 불균형 처리 |\n",
    "| 4차산업                     | 2.36         | 불균형 처리 |\n",
    "| 절대수익추구                | 1.14         | 불균형 처리 |\n",
    "| 레버리지                    | 1.07         | 불균형 처리 |\n",
    "| 퀀트                        | 0.7          | 삭제 |\n"
   ]
  },
  {
   "cell_type": "markdown",
   "metadata": {
    "application/vnd.databricks.v1+cell": {
     "cellMetadata": {
      "byteLimit": 2048000,
      "rowLimit": 10000
     },
     "inputWidgets": {},
     "nuid": "2dda9b4e-c5bc-4bb1-90e2-9671f3e30bb7",
     "showTitle": false,
     "tableResultSettingsMap": {},
     "title": ""
    }
   },
   "source": [
    "| 컬럼명                      | 이상치비율(%) |\n",
    "|---|---|\n",
    "| 중유형_idx                  | 5.67         |\n",
    "| 대유형_idx                  | 5.51         |\n",
    "| 소유형_idx                  | 4.44         |\n",
    "| 운용사명_idx                | 4.4          |"
   ]
  },
  {
   "cell_type": "markdown",
   "metadata": {
    "application/vnd.databricks.v1+cell": {
     "cellMetadata": {
      "byteLimit": 2048000,
      "rowLimit": 10000
     },
     "inputWidgets": {},
     "nuid": "ec5bbdb4-b61b-4977-900a-818ce1b58ddc",
     "showTitle": false,
     "tableResultSettingsMap": {},
     "title": ""
    }
   },
   "source": [
    "여러 점수를 뺀 컬럼들 \n",
    "| 컬럼명                      | 이상치비율(%) | 음양여부 |\n",
    "|-----------------------------|--------------|----|\n",
    "| NetCashFlow(펀드자금흐름)_1년 | 24.76       | 음양\n",
    "| 펀드수정샤프(연환산)_1년     | 19.67        | 음양\n",
    "| 순자산                      | 18.51        | 양\n",
    "| 선취수수료                  | 17.52        | 양\n",
    "| 펀드성과정보_1년            | 12.92        | 음양\n",
    "| 유형평균유형성과_1년        | 10.71        | 음양\n",
    "| 후취수수료                  | 5.56         | 양\n",
    "| MaximumDrawDown_1년         | 3.38         | 음\n",
    "| 펀드표준편차(연환산)_1년     | 2.9          | 양\n",
    "| 판매보수                    | 2.04         | 양\n",
    "| 운용보수                    | 0.04         | 양\n"
   ]
  },
  {
   "cell_type": "markdown",
   "metadata": {
    "application/vnd.databricks.v1+cell": {
     "cellMetadata": {
      "byteLimit": 2048000,
      "rowLimit": 10000
     },
     "inputWidgets": {},
     "nuid": "f607ddff-94a2-46d1-a3e1-55e8f5fa2004",
     "showTitle": false,
     "tableResultSettingsMap": {},
     "title": ""
    }
   },
   "source": [
    "음수 양수에 따라 다른 이상치를 적용 해보려고 한다. \n",
    "- -only양수 -> 로그변환\n",
    "- only음수 -> mdd밖에 없는데 이는 절댓값 씌워서 로그변환하는게 나을듯\n",
    "- 양/음수 -> Yeo-Johnson 변환"
   ]
  },
  {
   "cell_type": "code",
   "execution_count": 0,
   "metadata": {
    "application/vnd.databricks.v1+cell": {
     "cellMetadata": {
      "byteLimit": 2048000,
      "rowLimit": 10000
     },
     "inputWidgets": {},
     "nuid": "99877d77-76fa-4e25-bb0d-abed280e1bf9",
     "showTitle": false,
     "tableResultSettingsMap": {},
     "title": ""
    }
   },
   "outputs": [],
   "source": [
    "df_final.printSchema"
   ]
  },
  {
   "cell_type": "code",
   "execution_count": 0,
   "metadata": {
    "application/vnd.databricks.v1+cell": {
     "cellMetadata": {
      "byteLimit": 2048000,
      "rowLimit": 10000
     },
     "inputWidgets": {},
     "nuid": "a6eb4c21-d6e5-48a0-afa1-70720b02602a",
     "showTitle": false,
     "tableResultSettingsMap": {},
     "title": ""
    }
   },
   "outputs": [],
   "source": [
    "import pandas as pd\n",
    "\n",
    "target_cols = [\"NetCashFlow(펀드자금흐름)_1년\", \"순자산\", \"MaximumDrawDown_1년\"]\n",
    "\n",
    "def add_outlier_columns(df, target_cols, method='iqr', z_thresh=3.0):\n",
    "    df = df.copy()\n",
    "    for col in target_cols:\n",
    "        if method == 'iqr':\n",
    "            Q1 = df[col].quantile(0.25)\n",
    "            Q3 = df[col].quantile(0.75)\n",
    "            IQR = Q3 - Q1\n",
    "            lower = Q1 - 1.5 * IQR\n",
    "            upper = Q3 + 1.5 * IQR\n",
    "            df[f\"{col}_outlier\"] = ((df[col] < lower) | (df[col] > upper)).astype(int)\n",
    "        elif method == 'zscore':\n",
    "            mean = df[col].mean()\n",
    "            std = df[col].std()\n",
    "            df[f\"{col}_outlier\"] = (abs((df[col] - mean) / std) > z_thresh).astype(int)\n",
    "        else:\n",
    "            raise ValueError(\"지원하지 않는 method입니다: 'iqr' 또는 'zscore'만 허용\")\n",
    "    return df\n"
   ]
  },
  {
   "cell_type": "code",
   "execution_count": 0,
   "metadata": {
    "application/vnd.databricks.v1+cell": {
     "cellMetadata": {
      "byteLimit": 2048000,
      "rowLimit": 10000
     },
     "inputWidgets": {},
     "nuid": "96f6fdbb-9cb4-4a93-ad6a-ba6d9a0bd907",
     "showTitle": false,
     "tableResultSettingsMap": {},
     "title": ""
    }
   },
   "outputs": [],
   "source": [
    "pdf_sample = df_final.toPandas().copy()"
   ]
  },
  {
   "cell_type": "code",
   "execution_count": 0,
   "metadata": {
    "application/vnd.databricks.v1+cell": {
     "cellMetadata": {
      "byteLimit": 2048000,
      "rowLimit": 10000
     },
     "inputWidgets": {},
     "nuid": "ed2cedb8-2415-43e5-855d-69697bdc04e9",
     "showTitle": false,
     "tableResultSettingsMap": {},
     "title": ""
    }
   },
   "outputs": [],
   "source": [
    "target_cols = [\"NetCashFlow(펀드자금흐름)_1년\", \"순자산\", \"MaximumDrawDown_1년\"]\n",
    "pdf_sample = add_outlier_columns(pdf_sample, target_cols, method='iqr')\n"
   ]
  },
  {
   "cell_type": "code",
   "execution_count": 0,
   "metadata": {
    "application/vnd.databricks.v1+cell": {
     "cellMetadata": {
      "byteLimit": 2048000,
      "rowLimit": 10000
     },
     "inputWidgets": {},
     "nuid": "d2e07cc4-fddf-4188-b69a-986f76cc04f6",
     "showTitle": false,
     "tableResultSettingsMap": {},
     "title": ""
    }
   },
   "outputs": [],
   "source": [
    "import matplotlib.font_manager as fm\n",
    "\n",
    "for font in fm.findSystemFonts():\n",
    "    print(font)"
   ]
  },
  {
   "cell_type": "code",
   "execution_count": 0,
   "metadata": {
    "application/vnd.databricks.v1+cell": {
     "cellMetadata": {
      "byteLimit": 2048000,
      "rowLimit": 10000
     },
     "inputWidgets": {},
     "nuid": "8b67e671-3795-474f-bb69-9c5e9f6bdd5d",
     "showTitle": false,
     "tableResultSettingsMap": {},
     "title": ""
    }
   },
   "outputs": [],
   "source": [
    "font_path = \"/usr/share/fonts/truetype/dejavu/DejaVuSans-Bold.ttf\"\n",
    "\n",
    "# 2. FontProperties 객체 생성\n",
    "font_prop = fm.FontProperties(fname=font_path)"
   ]
  },
  {
   "cell_type": "code",
   "execution_count": 0,
   "metadata": {
    "application/vnd.databricks.v1+cell": {
     "cellMetadata": {
      "byteLimit": 2048000,
      "rowLimit": 10000
     },
     "inputWidgets": {},
     "nuid": "b3ee5c4c-49a7-4773-9c6a-46a5f06f6872",
     "showTitle": false,
     "tableResultSettingsMap": {},
     "title": ""
    }
   },
   "outputs": [],
   "source": [
    "sample_size = 10000\n",
    "# Spark DataFrame → pandas DataFrame 변환 및 샘플링\n",
    "pdf_sample = df_final.toPandas().sample(n=sample_size, random_state=42) if df_final.count() > sample_size else df_final.toPandas()\n",
    "\n",
    "# 이상치 컬럼 생성\n",
    "pdf_sample = add_outlier_columns(pdf_sample, target_cols, method='iqr')\n",
    "fig, axes = plt.subplots(3, len(target_cols), figsize=(5*len(target_cols), 15))\n",
    "\n",
    "\n",
    "\n",
    "for i, c in enumerate(target_cols):\n",
    "    # 산점도\n",
    "    sns.scatterplot(\n",
    "        x=pdf_sample.index,\n",
    "        y=pdf_sample[c].astype('float32'),\n",
    "        hue=pdf_sample[f\"{c}_outlier\"],\n",
    "        palette={0: 'blue', 1: 'red'},\n",
    "        legend=False,\n",
    "        ax=axes[0, i]\n",
    "    )\n",
    "    axes[0, i].set_title(f'산점도: {c}', fontproperties=font_prop)\n",
    "    axes[0, i].set_xlabel('인덱스', fontproperties=font_prop)\n",
    "    axes[0, i].set_ylabel(c, fontproperties=font_prop)\n",
    "\n",
    "    # 박스플롯\n",
    "    sns.boxplot(x=pdf_sample[c], color='lightgray', ax=axes[1, i])\n",
    "    axes[1, i].set_title(f'박스플롯: {c}', fontproperties=font_prop)\n",
    "    axes[1, i].set_xlabel(c, fontproperties=font_prop)\n",
    "\n",
    "    # 히스토그램 (bin 수 제한)\n",
    "    sns.histplot(pdf_sample[c], bins=50, kde=False, color='skyblue', ax=axes[2, i])\n",
    "    axes[2, i].set_title(f'히스토그램: {c}', fontproperties=font_prop)\n",
    "    axes[2, i].set_xlabel(c, fontproperties=font_prop)\n",
    "\n",
    "plt.tight_layout()\n",
    "plt.show()"
   ]
  },
  {
   "cell_type": "code",
   "execution_count": 0,
   "metadata": {
    "application/vnd.databricks.v1+cell": {
     "cellMetadata": {
      "byteLimit": 2048000,
      "rowLimit": 10000
     },
     "inputWidgets": {},
     "nuid": "f847102d-27bd-49d2-846d-5cbd3a2a141e",
     "showTitle": false,
     "tableResultSettingsMap": {},
     "title": ""
    }
   },
   "outputs": [],
   "source": [
    "import matplotlib.font_manager as fm\n",
    "\n",
    "for font in fm.findSystemFonts():\n",
    "    print(font)"
   ]
  },
  {
   "cell_type": "code",
   "execution_count": 0,
   "metadata": {
    "application/vnd.databricks.v1+cell": {
     "cellMetadata": {
      "byteLimit": 2048000,
      "rowLimit": 10000
     },
     "inputWidgets": {},
     "nuid": "5b75b5db-3b39-4819-860c-1ce5b84b2eb9",
     "showTitle": false,
     "tableResultSettingsMap": {},
     "title": ""
    }
   },
   "outputs": [],
   "source": [
    "from pyspark.sql.functions import col\n",
    "\n",
    "netcashflow_zero_count = df_final.filter(col(\"NetCashFlow(펀드자금흐름)_1년\") == 0).count()\n",
    "순자산_zero_count = df_final.filter(col(\"순자산\") == 0).count()\n",
    "maxdrawdown_zero_count = df_final.filter(col(\"MaximumDrawDown_1년\") == 0).count()\n",
    "\n",
    "print(netcashflow_zero_count)\n",
    "print(순자산_zero_count)\n",
    "print(maxdrawdown_zero_count)\n"
   ]
  },
  {
   "cell_type": "code",
   "execution_count": 0,
   "metadata": {
    "application/vnd.databricks.v1+cell": {
     "cellMetadata": {
      "byteLimit": 2048000,
      "rowLimit": 10000
     },
     "inputWidgets": {},
     "nuid": "9d652d5c-e1da-4066-8377-008fff74d880",
     "showTitle": false,
     "tableResultSettingsMap": {},
     "title": ""
    }
   },
   "outputs": [],
   "source": [
    "from pyspark.sql.functions import pandas_udf\n",
    "from pyspark.sql.types import DoubleType\n",
    "import scipy.stats as stats\n",
    "\n",
    "# Yeo-Johnson Pandas UDF -> netcash\n",
    "@pandas_udf(DoubleType())\n",
    "def improved_yeo_johnson_udf(s):\n",
    "    try:\n",
    "        transformed, _ = stats.yeojohnson(s)\n",
    "        return pd.Series(transformed)\n",
    "    except Exception:\n",
    "        return pd.Series([None] * len(s))\n",
    "\n",
    "# Signed log1p Pandas UDF -> mdd\n",
    "@pandas_udf(DoubleType())\n",
    "def improved_signed_log_udf(s):\n",
    "    try:\n",
    "        return np.sign(s) * np.log1p(np.abs(s))\n",
    "    except Exception:\n",
    "        return pd.Series([None] * len(s))\n",
    "\n",
    "# 순자산  \n",
    "@pandas_udf(DoubleType())\n",
    "def improved_log_udf(s: pd.Series) -> pd.Series:\n",
    "    result = np.where(s > 0, np.log(s), 0)\n",
    "    result = np.nan_to_num(result, nan=0.0, neginf=0.0, posinf=0.0)\n",
    "    return pd.Series(result)\n"
   ]
  },
  {
   "cell_type": "code",
   "execution_count": 0,
   "metadata": {
    "application/vnd.databricks.v1+cell": {
     "cellMetadata": {
      "byteLimit": 2048000,
      "rowLimit": 10000
     },
     "inputWidgets": {},
     "nuid": "2f075a5b-86b7-4b12-8164-70202a735069",
     "showTitle": false,
     "tableResultSettingsMap": {},
     "title": ""
    }
   },
   "outputs": [],
   "source": [
    "df_final = df_final.withColumn(\"NetCashFlow_YeoJohnson\", improved_yeo_johnson_udf(col(\"NetCashFlow(펀드자금흐름)_1년\")))\n",
    "df_final = df_final.withColumn(\"MaximumDrawDown_log_signed\", improved_signed_log_udf(col(\"MaximumDrawDown_1년\")))\n",
    "df_final = df_final.withColumn(\"순자산_log\", improved_log_udf(col(\"순자산\")))"
   ]
  },
  {
   "cell_type": "code",
   "execution_count": 0,
   "metadata": {
    "application/vnd.databricks.v1+cell": {
     "cellMetadata": {
      "byteLimit": 2048000,
      "rowLimit": 10000
     },
     "inputWidgets": {},
     "nuid": "df97ab49-6742-423c-9bb6-fce7220453b7",
     "showTitle": false,
     "tableResultSettingsMap": {},
     "title": ""
    }
   },
   "outputs": [],
   "source": [
    "display(df_final)"
   ]
  },
  {
   "cell_type": "code",
   "execution_count": 0,
   "metadata": {
    "application/vnd.databricks.v1+cell": {
     "cellMetadata": {
      "byteLimit": 2048000,
      "rowLimit": 10000
     },
     "inputWidgets": {},
     "nuid": "3b781cb8-d862-43c5-b83d-ae96883a57b4",
     "showTitle": false,
     "tableResultSettingsMap": {},
     "title": ""
    }
   },
   "outputs": [],
   "source": [
    "pdf_sample = df_final.toPandas().copy()"
   ]
  },
  {
   "cell_type": "code",
   "execution_count": 0,
   "metadata": {
    "application/vnd.databricks.v1+cell": {
     "cellMetadata": {
      "byteLimit": 2048000,
      "rowLimit": 10000
     },
     "inputWidgets": {},
     "nuid": "a223d792-fa57-4a41-8b1b-9ead4e12b9c8",
     "showTitle": false,
     "tableResultSettingsMap": {},
     "title": ""
    }
   },
   "outputs": [],
   "source": [
    "target_cols = [\"NetCashFlow_YeoJohnson\", \"순자산_log\", \"MaximumDrawDown_log_signed\"]\n",
    "pdf_sample = add_outlier_columns(pdf_sample, target_cols, method='iqr')"
   ]
  },
  {
   "cell_type": "code",
   "execution_count": 0,
   "metadata": {
    "application/vnd.databricks.v1+cell": {
     "cellMetadata": {
      "byteLimit": 2048000,
      "rowLimit": 10000
     },
     "inputWidgets": {},
     "nuid": "fbf27bf1-2fb5-4d33-a662-372937402b32",
     "showTitle": false,
     "tableResultSettingsMap": {},
     "title": ""
    }
   },
   "outputs": [],
   "source": [
    "sample_size = 10000\n",
    "# Spark DataFrame → pandas DataFrame 변환 및 샘플링\n",
    "pdf_sample = df_final.toPandas().sample(n=sample_size, random_state=42) if df_final.count() > sample_size else df_final.toPandas()\n",
    "\n",
    "# 이상치 컬럼 생성\n",
    "pdf_sample = add_outlier_columns(pdf_sample, target_cols, method='iqr')\n",
    "fig, axes = plt.subplots(3, len(target_cols), figsize=(5*len(target_cols), 15))\n",
    "\n",
    "\n",
    "\n",
    "for i, c in enumerate(target_cols):\n",
    "    # 산점도\n",
    "    sns.scatterplot(\n",
    "        x=pdf_sample.index,\n",
    "        y=pdf_sample[c].astype('float32'),\n",
    "        hue=pdf_sample[f\"{c}_outlier\"],\n",
    "        palette={0: 'blue', 1: 'red'},\n",
    "        legend=False,\n",
    "        ax=axes[0, i]\n",
    "    )\n",
    "    axes[0, i].set_title(f'산점도: {c}', fontproperties=font_prop)\n",
    "    axes[0, i].set_xlabel('인덱스', fontproperties=font_prop)\n",
    "    axes[0, i].set_ylabel(c, fontproperties=font_prop)\n",
    "\n",
    "    # 박스플롯\n",
    "    sns.boxplot(x=pdf_sample[c], color='lightgray', ax=axes[1, i])\n",
    "    axes[1, i].set_title(f'박스플롯: {c}', fontproperties=font_prop)\n",
    "    axes[1, i].set_xlabel(c, fontproperties=font_prop)\n",
    "\n",
    "    # 히스토그램 (bin 수 제한)\n",
    "    sns.histplot(pdf_sample[c], bins=50, kde=False, color='skyblue', ax=axes[2, i])\n",
    "    axes[2, i].set_title(f'히스토그램: {c}', fontproperties=font_prop)\n",
    "    axes[2, i].set_xlabel(c, fontproperties=font_prop)\n",
    "\n",
    "plt.tight_layout()\n",
    "plt.show()"
   ]
  },
  {
   "cell_type": "code",
   "execution_count": 0,
   "metadata": {
    "application/vnd.databricks.v1+cell": {
     "cellMetadata": {
      "byteLimit": 2048000,
      "rowLimit": 10000
     },
     "inputWidgets": {},
     "nuid": "f4bbea59-3693-48ae-88f2-d0e5207ba764",
     "showTitle": false,
     "tableResultSettingsMap": {},
     "title": ""
    }
   },
   "outputs": [],
   "source": [
    "from pyspark.sql.functions import col, count, when\n",
    "from pyspark.sql import functions as F\n",
    "from pyspark.sql.types import NumericType\n",
    "\n",
    "# 1. 수치형 컬럼만 필터링\n",
    "numeric_cols = [field.name for field in df_final.schema.fields if isinstance(field.dataType, NumericType)]\n",
    "\n",
    "# 2. 각 수치형 컬럼에 대해 이상치 판단 기준 (IQR) 계산\n",
    "outlier_exprs = []\n",
    "total_rows = df_final.count()\n",
    "\n",
    "for col_name in numeric_cols:\n",
    "    # IQR 구하기\n",
    "    quantiles = df_final.approxQuantile(col_name, [0.25, 0.75], 0.05)\n",
    "    if len(quantiles) < 2:\n",
    "        continue  # 사분위 계산 안 되면 스킵\n",
    "\n",
    "    q1, q3 = quantiles\n",
    "    iqr = q3 - q1\n",
    "    lower_bound = q1 - 1.5 * iqr\n",
    "    upper_bound = q3 + 1.5 * iqr\n",
    "\n",
    "    # 이상치 조건식 추가\n",
    "    outlier_exprs.append(\n",
    "        F.sum(when((col(col_name) < lower_bound) | (col(col_name) > upper_bound), 1).otherwise(0)).alias(col_name)\n",
    "    )\n",
    "\n",
    "# 3. 이상치 개수 집계\n",
    "outlier_counts_row = df_final.agg(*outlier_exprs).collect()[0].asDict()\n",
    "\n",
    "# 4. 이상치 비율 계산\n",
    "outlier_ratios = {\n",
    "    col: round((count / total_rows) * 100, 2) for col, count in outlier_counts_row.items()\n",
    "}\n",
    "\n",
    "# 5. Pandas로 정리\n",
    "import pandas as pd\n",
    "\n",
    "pd_outliers = pd.DataFrame(list(outlier_ratios.items()), columns=['컬럼명', '이상치비율(%)'])\n",
    "pd_outliers = pd_outliers.sort_values(by='이상치비율(%)', ascending=False)\n",
    "\n",
    "display(pd_outliers)\n"
   ]
  },
  {
   "cell_type": "markdown",
   "metadata": {
    "application/vnd.databricks.v1+cell": {
     "cellMetadata": {
      "byteLimit": 2048000,
      "rowLimit": 10000
     },
     "inputWidgets": {},
     "nuid": "0fbc2d20-8cb2-497d-9996-a8154b8cb01e",
     "showTitle": false,
     "tableResultSettingsMap": {},
     "title": ""
    }
   },
   "source": [
    "### 결론 : 결측치 해결이 필요한 컬럼"
   ]
  },
  {
   "cell_type": "code",
   "execution_count": 0,
   "metadata": {
    "application/vnd.databricks.v1+cell": {
     "cellMetadata": {
      "byteLimit": 2048000,
      "rowLimit": 10000
     },
     "inputWidgets": {},
     "nuid": "1044d789-8f45-4c9e-b54c-f61f6b7c38bb",
     "showTitle": false,
     "tableResultSettingsMap": {},
     "title": ""
    }
   },
   "outputs": [],
   "source": [
    "df_final = df_final.withColumn(\"펀드수정샤프(연환산)_1년_YeoJohnson\", improved_yeo_johnson_udf(col(\"펀드수정샤프(연환산)_1년\")))\n",
    "df_final = df_final.withColumn(\"펀드성과정보_1년_YeoJohnson\", improved_yeo_johnson_udf(col(\"펀드성과정보_1년\")))\n",
    "df_final = df_final.withColumn(\"펀드표준편차(연환산)_1년_YeoJohnson\", improved_yeo_johnson_udf(col(\"펀드표준편차(연환산)_1년\")))\n",
    "df_final = df_final.withColumn(\"판매보수_log\", improved_log_udf(col(\"판매보수\")))\n",
    "df_final = df_final.withColumn(\"운용보수_log\", improved_log_udf(col(\"운용보수\")))\n",
    "df_final = df_final.withColumn(\"선취수수료_log\", improved_log_udf(col(\"선취수수료\")))\n",
    "df_final = df_final.withColumn(\"후취수수료_log\", improved_log_udf(col(\"후취수수료\")))\n",
    "\n",
    "#널 없게 처리"
   ]
  },
  {
   "cell_type": "code",
   "execution_count": 0,
   "metadata": {
    "application/vnd.databricks.v1+cell": {
     "cellMetadata": {
      "byteLimit": 2048000,
      "rowLimit": 10000
     },
     "inputWidgets": {},
     "nuid": "9c73cfed-04ec-4497-9c9a-f3ce3c244443",
     "showTitle": false,
     "tableResultSettingsMap": {},
     "title": ""
    }
   },
   "outputs": [],
   "source": [
    "display(df_final)"
   ]
  },
  {
   "cell_type": "markdown",
   "metadata": {
    "application/vnd.databricks.v1+cell": {
     "cellMetadata": {
      "byteLimit": 2048000,
      "rowLimit": 10000
     },
     "inputWidgets": {},
     "nuid": "e9c0630a-ccef-405d-8eea-e77e0f663b7b",
     "showTitle": false,
     "tableResultSettingsMap": {},
     "title": ""
    }
   },
   "source": [
    "본격적으로 투자위험등급 0을 예측해서 채워보기"
   ]
  },
  {
   "cell_type": "code",
   "execution_count": 0,
   "metadata": {
    "application/vnd.databricks.v1+cell": {
     "cellMetadata": {
      "byteLimit": 2048000,
      "rowLimit": 10000
     },
     "inputWidgets": {},
     "nuid": "b6bb73be-c3c9-41ba-a914-f923f7cb91ab",
     "showTitle": false,
     "tableResultSettingsMap": {},
     "title": ""
    }
   },
   "outputs": [],
   "source": [
    "from pyspark.sql.functions import when, col\n",
    "\n",
    "# '투자위험등급'이 0이면 null로 변환\n",
    "df_final = df_final.withColumn(\n",
    "    \"투자위험등급\",\n",
    "    when(col(\"투자위험등급\") == 0, None).otherwise(col(\"투자위험등급\"))\n",
    ")\n"
   ]
  },
  {
   "cell_type": "code",
   "execution_count": 0,
   "metadata": {
    "application/vnd.databricks.v1+cell": {
     "cellMetadata": {
      "byteLimit": 2048000,
      "rowLimit": 10000
     },
     "inputWidgets": {},
     "nuid": "b8d31a31-95ad-4cba-b290-c2175f38d517",
     "showTitle": false,
     "tableResultSettingsMap": {
      "0": {
       "dataGridStateBlob": null,
       "filterBlob": "{\"version\":1,\"filterGroups\":[{\"enabled\":true,\"filterGroupId\":\"fg_2cc33e1\",\"op\":\"OR\",\"filters\":[{\"filterId\":\"f_82e2adc2\",\"enabled\":true,\"columnId\":\"대유형\",\"dataType\":\"string\",\"filterType\":\"oneof\",\"filterConfig\":{}}],\"local\":false,\"updatedAt\":1748843238466}],\"syncTimestamp\":1748843238526}",
       "queryPlanFiltersBlob": "[]",
       "tableResultIndex": 0
      }
     },
     "title": ""
    }
   },
   "outputs": [],
   "source": [
    "display(df_final)"
   ]
  },
  {
   "cell_type": "code",
   "execution_count": 0,
   "metadata": {
    "application/vnd.databricks.v1+cell": {
     "cellMetadata": {
      "byteLimit": 2048000,
      "rowLimit": 10000
     },
     "inputWidgets": {},
     "nuid": "fa9b068d-56e2-4052-a32a-e8762fe4c8da",
     "showTitle": false,
     "tableResultSettingsMap": {},
     "title": ""
    }
   },
   "outputs": [],
   "source": [
    "df_final.printSchema"
   ]
  },
  {
   "cell_type": "code",
   "execution_count": 0,
   "metadata": {
    "application/vnd.databricks.v1+cell": {
     "cellMetadata": {
      "byteLimit": 2048000,
      "rowLimit": 10000
     },
     "inputWidgets": {},
     "nuid": "c03acc0c-1e89-4dcc-9a36-44ab82fffb96",
     "showTitle": false,
     "tableResultSettingsMap": {},
     "title": ""
    }
   },
   "outputs": [],
   "source": [
    "#유형평균유형성과_1년 때문에 문제기 나는 것같아 일단 삭제\n",
    "df_final = df_final.drop(col(\"유형평균유형성과_1년\"))\n"
   ]
  },
  {
   "cell_type": "code",
   "execution_count": 0,
   "metadata": {
    "application/vnd.databricks.v1+cell": {
     "cellMetadata": {
      "byteLimit": 2048000,
      "rowLimit": 10000
     },
     "inputWidgets": {},
     "nuid": "b6c0f742-abac-47bc-aa6c-b74bfe8dd7ef",
     "showTitle": false,
     "tableResultSettingsMap": {},
     "title": ""
    }
   },
   "outputs": [],
   "source": [
    "feature_cols = [f.name for f in df_final.schema.fields if isinstance(f.dataType, NumericType)]"
   ]
  },
  {
   "cell_type": "code",
   "execution_count": 0,
   "metadata": {
    "application/vnd.databricks.v1+cell": {
     "cellMetadata": {
      "byteLimit": 2048000,
      "rowLimit": 10000
     },
     "inputWidgets": {},
     "nuid": "4f737521-cd30-40f3-ac5b-0f354f0e132e",
     "showTitle": false,
     "tableResultSettingsMap": {},
     "title": ""
    }
   },
   "outputs": [],
   "source": [
    "from pyspark.ml import Pipeline\n",
    "from pyspark.ml.feature import Imputer, VectorAssembler\n",
    "from pyspark.ml.classification import RandomForestClassifier\n",
    "\n",
    "# 결측치가 없는 데이터셋 분리\n",
    "train_df = df_final.filter(df_final[\"투자위험등급\"].isNotNull())\n",
    "# 학습/평가 데이터 분리 (예: 80% 학습, 20% 평가)\n",
    "train_data, val_data = train_df.randomSplit([0.8, 0.2], seed=42)\n",
    "\n",
    "test_df = df_final.filter(df_final[\"투자위험등급\"].isNull())\n",
    "\n",
    "# 숫자형 피처 결측치 대체 (평균값)\n",
    "numeric_cols = [col for col in feature_cols if col != \"투자위험등급\"]\n",
    "imputer = Imputer(inputCols=numeric_cols, outputCols=[f\"{c}_imputed\" for c in numeric_cols])\n",
    "\n",
    "# 특징 벡터화\n",
    "assembler = VectorAssembler(\n",
    "    inputCols=[f\"{c}_imputed\" for c in numeric_cols],\n",
    "    outputCol=\"features\"\n",
    ")"
   ]
  },
  {
   "cell_type": "code",
   "execution_count": 0,
   "metadata": {
    "application/vnd.databricks.v1+cell": {
     "cellMetadata": {
      "byteLimit": 2048000,
      "rowLimit": 10000
     },
     "inputWidgets": {},
     "nuid": "21f9d216-6174-4044-a128-845e056014f6",
     "showTitle": false,
     "tableResultSettingsMap": {},
     "title": ""
    }
   },
   "outputs": [],
   "source": [
    "# 모델 정의\n",
    "rf = RandomForestClassifier(\n",
    "    featuresCol=\"features\",\n",
    "    labelCol=\"투자위험등급\",\n",
    "    numTrees=50,\n",
    "    maxDepth=10,\n",
    "    seed=42\n",
    ")\n",
    "\n",
    "# 파이프라인 구성 및 학습\n",
    "pipeline = Pipeline(stages=[imputer, assembler, rf])\n",
    "model = pipeline.fit(train_data)\n",
    "\n",
    "# 결측치 예측 및 채우기\n",
    "rf_predicted = model.transform(val_data)"
   ]
  },
  {
   "cell_type": "code",
   "execution_count": 0,
   "metadata": {
    "application/vnd.databricks.v1+cell": {
     "cellMetadata": {
      "byteLimit": 2048000,
      "rowLimit": 10000
     },
     "inputWidgets": {},
     "nuid": "67ee4c85-78bf-4b28-85b0-e73c1d68ba62",
     "showTitle": false,
     "tableResultSettingsMap": {},
     "title": ""
    }
   },
   "outputs": [],
   "source": [
    "from pyspark.ml.evaluation import MulticlassClassificationEvaluator\n",
    "\n",
    "# 정확도\n",
    "accuracy_evaluator = MulticlassClassificationEvaluator(\n",
    "    labelCol=\"투자위험등급\",\n",
    "    predictionCol=\"prediction\",\n",
    "    metricName=\"accuracy\"\n",
    ")\n",
    "accuracy = accuracy_evaluator.evaluate(rf_predicted)\n",
    "print(f\"Accuracy: {accuracy:.4f}\")\n",
    "\n",
    "# F1-score\n",
    "f1_evaluator = MulticlassClassificationEvaluator(\n",
    "    labelCol=\"투자위험등급\",\n",
    "    predictionCol=\"prediction\",\n",
    "    metricName=\"f1\"\n",
    ")\n",
    "f1 = f1_evaluator.evaluate(rf_predicted)\n",
    "print(f\"F1 Score: {f1:.4f}\")\n"
   ]
  },
  {
   "cell_type": "code",
   "execution_count": 0,
   "metadata": {
    "application/vnd.databricks.v1+cell": {
     "cellMetadata": {
      "byteLimit": 2048000,
      "rowLimit": 10000
     },
     "inputWidgets": {},
     "nuid": "e2a1395f-fb76-4cf1-8923-84120316ede4",
     "showTitle": false,
     "tableResultSettingsMap": {},
     "title": ""
    }
   },
   "outputs": [],
   "source": [
    "from pyspark.ml.classification import LogisticRegression\n",
    "\n",
    "# 파이프라인 재사용 (동일 imputer/assembler)\n",
    "lr = LogisticRegression(\n",
    "    featuresCol=\"features\",\n",
    "    labelCol=\"투자위험등급\",\n",
    "    family=\"multinomial\"\n",
    ")\n",
    "\n",
    "pipeline = Pipeline(stages=[imputer, assembler, lr])\n",
    "model = pipeline.fit(train_data)\n",
    "\n",
    "predicted_lr = model.transform(val_data)\n"
   ]
  },
  {
   "cell_type": "code",
   "execution_count": 0,
   "metadata": {
    "application/vnd.databricks.v1+cell": {
     "cellMetadata": {
      "byteLimit": 2048000,
      "rowLimit": 10000
     },
     "inputWidgets": {},
     "nuid": "32dc35fa-47bb-435a-bf3f-9747a0583cdc",
     "showTitle": false,
     "tableResultSettingsMap": {},
     "title": ""
    }
   },
   "outputs": [],
   "source": [
    "# 정확도\n",
    "accuracy_evaluator = MulticlassClassificationEvaluator(\n",
    "    labelCol=\"투자위험등급\",\n",
    "    predictionCol=\"prediction\",\n",
    "    metricName=\"accuracy\"\n",
    ")\n",
    "accuracy = accuracy_evaluator.evaluate(predicted_lr)\n",
    "print(f\"Accuracy: {accuracy:.4f}\")\n",
    "\n",
    "# F1-score\n",
    "f1_evaluator = MulticlassClassificationEvaluator(\n",
    "    labelCol=\"투자위험등급\",\n",
    "    predictionCol=\"prediction\",\n",
    "    metricName=\"f1\"\n",
    ")\n",
    "f1 = f1_evaluator.evaluate(predicted_lr)\n",
    "print(f\"F1 Score: {f1:.4f}\")"
   ]
  },
  {
   "cell_type": "code",
   "execution_count": 0,
   "metadata": {
    "application/vnd.databricks.v1+cell": {
     "cellMetadata": {
      "byteLimit": 2048000,
      "rowLimit": 10000
     },
     "inputWidgets": {},
     "nuid": "88f739ee-58af-4e34-9a88-f805b13bb1a3",
     "showTitle": false,
     "tableResultSettingsMap": {},
     "title": ""
    }
   },
   "outputs": [],
   "source": [
    "%pip install xgboost\n"
   ]
  },
  {
   "cell_type": "code",
   "execution_count": 0,
   "metadata": {
    "application/vnd.databricks.v1+cell": {
     "cellMetadata": {
      "byteLimit": 2048000,
      "rowLimit": 10000
     },
     "inputWidgets": {},
     "nuid": "20c3f0e9-0e93-4f5a-bf35-b364f97b39e8",
     "showTitle": false,
     "tableResultSettingsMap": {},
     "title": ""
    }
   },
   "outputs": [],
   "source": [
    "# 1~6 → 0~5로 변환\n",
    "df_final = df_final.withColumn(\n",
    "    \"투자위험등급_xgb\",\n",
    "    (col(\"투자위험등급\") - 1).cast(\"int\")\n",
    ")"
   ]
  },
  {
   "cell_type": "code",
   "execution_count": 0,
   "metadata": {
    "application/vnd.databricks.v1+cell": {
     "cellMetadata": {
      "byteLimit": 2048000,
      "rowLimit": 10000
     },
     "inputWidgets": {},
     "nuid": "58a1b4df-29aa-4bb4-80bc-108eca56b188",
     "showTitle": false,
     "tableResultSettingsMap": {},
     "title": ""
    }
   },
   "outputs": [],
   "source": [
    "from pyspark.ml import Pipeline\n",
    "from pyspark.ml.feature import Imputer, VectorAssembler\n",
    "from pyspark.ml.classification import RandomForestClassifier\n",
    "\n",
    "# 결측치가 없는 데이터셋 분리\n",
    "train_df = df_final.filter(df_final[\"투자위험등급\"].isNotNull())\n",
    "# 학습/평가 데이터 분리 (예: 80% 학습, 20% 평가)\n",
    "train_data, val_data = train_df.randomSplit([0.8, 0.2], seed=42)\n",
    "# train_data, val_data = train_df.randomSplit([0.8, 0.2])\n",
    "\n",
    "test_df = df_final.filter(df_final[\"투자위험등급\"].isNull())\n",
    "\n",
    "# 숫자형 피처 결측치 대체 (평균값)\n",
    "numeric_cols = [col for col in feature_cols if col != \"투자위험등급\"]\n",
    "imputer = Imputer(inputCols=numeric_cols, outputCols=[f\"{c}_imputed\" for c in numeric_cols])\n",
    "\n",
    "# 특징 벡터화\n",
    "assembler = VectorAssembler(\n",
    "    inputCols=[f\"{c}_imputed\" for c in numeric_cols],\n",
    "    outputCol=\"features\"\n",
    ")"
   ]
  },
  {
   "cell_type": "code",
   "execution_count": 0,
   "metadata": {
    "application/vnd.databricks.v1+cell": {
     "cellMetadata": {
      "byteLimit": 2048000,
      "rowLimit": 10000
     },
     "inputWidgets": {},
     "nuid": "fc5cc83f-03ce-4c6d-89a2-8dd5ebdc7cb5",
     "showTitle": false,
     "tableResultSettingsMap": {},
     "title": ""
    }
   },
   "outputs": [],
   "source": [
    "from xgboost.spark import SparkXGBClassifier\n",
    "from pyspark.ml.feature import VectorAssembler\n",
    "\n",
    "# XGBoost 분류기\n",
    "# 기존 파이프라인에서 label_col만 \"투자위험등급_xgb\"로 변경\n",
    "xgb = SparkXGBClassifier(\n",
    "    max_depth=5,\n",
    "    features_col=\"features\",\n",
    "    label_col=\"투자위험등급_xgb\",\n",
    "    prediction_col=\"pred_투자위험등급\",\n",
    "    missing=float(\"nan\"),\n",
    "    num_workers=2,\n",
    "    num_class=6 #(0~5)\n",
    ")\n",
    "\n",
    "# 학습\n",
    "pipeline = Pipeline(stages=[imputer, assembler, xgb])\n",
    "xgb_model = pipeline.fit(train_data)\n",
    "\n",
    "# 예측\n",
    "predicted_xg = xgb_model.transform(val_data)\n"
   ]
  },
  {
   "cell_type": "code",
   "execution_count": 0,
   "metadata": {
    "application/vnd.databricks.v1+cell": {
     "cellMetadata": {
      "byteLimit": 2048000,
      "rowLimit": 10000
     },
     "inputWidgets": {},
     "nuid": "68c3adfe-4bff-4092-8900-178d29e009bd",
     "showTitle": false,
     "tableResultSettingsMap": {},
     "title": ""
    }
   },
   "outputs": [],
   "source": [
    "\n",
    "predicted_xg = predicted_xg.withColumn(\n",
    "    \"prediction\",\n",
    "    (col(\"pred_투자위험등급\") + 1).cast(\"double\")\n",
    ")"
   ]
  },
  {
   "cell_type": "code",
   "execution_count": 0,
   "metadata": {
    "application/vnd.databricks.v1+cell": {
     "cellMetadata": {
      "byteLimit": 2048000,
      "rowLimit": 10000
     },
     "inputWidgets": {},
     "nuid": "acf60c5d-9936-48b5-8588-f7b55d851c23",
     "showTitle": false,
     "tableResultSettingsMap": {},
     "title": ""
    }
   },
   "outputs": [],
   "source": [
    "# 정확도\n",
    "accuracy_evaluator = MulticlassClassificationEvaluator(\n",
    "    labelCol=\"투자위험등급\",\n",
    "    predictionCol=\"prediction\",\n",
    "    metricName=\"accuracy\"\n",
    ")\n",
    "accuracy = accuracy_evaluator.evaluate(predicted_xg)\n",
    "print(f\"Accuracy: {accuracy:.4f}\")\n",
    "\n",
    "# F1-score\n",
    "f1_evaluator = MulticlassClassificationEvaluator(\n",
    "    labelCol=\"투자위험등급\",\n",
    "    predictionCol=\"prediction\",\n",
    "    metricName=\"f1\"\n",
    ")\n",
    "f1 = f1_evaluator.evaluate(predicted_xg)\n",
    "print(f\"F1 Score: {f1:.4f}\")"
   ]
  },
  {
   "cell_type": "code",
   "execution_count": 0,
   "metadata": {
    "application/vnd.databricks.v1+cell": {
     "cellMetadata": {
      "byteLimit": 2048000,
      "rowLimit": 10000
     },
     "inputWidgets": {},
     "nuid": "f16f679a-fece-4b25-9880-9bbf6f2d0e6a",
     "showTitle": false,
     "tableResultSettingsMap": {},
     "title": ""
    }
   },
   "outputs": [],
   "source": [
    "val_data.groupBy(\"투자위험등급_xgb\").count().orderBy(\"count\", ascending=False).show()"
   ]
  },
  {
   "cell_type": "code",
   "execution_count": 0,
   "metadata": {
    "application/vnd.databricks.v1+cell": {
     "cellMetadata": {
      "byteLimit": 2048000,
      "rowLimit": 10000
     },
     "inputWidgets": {},
     "nuid": "6caae526-4f18-4461-a5cb-cca8e7ec6802",
     "showTitle": false,
     "tableResultSettingsMap": {},
     "title": ""
    }
   },
   "outputs": [],
   "source": [
    "train_data.groupBy(\"투자위험등급_xgb\").count().orderBy(\"count\", ascending=False).show()"
   ]
  },
  {
   "cell_type": "code",
   "execution_count": 0,
   "metadata": {
    "application/vnd.databricks.v1+cell": {
     "cellMetadata": {
      "byteLimit": 2048000,
      "rowLimit": 10000
     },
     "inputWidgets": {},
     "nuid": "1a427fa7-8a12-4229-b8ee-f97e447b123c",
     "showTitle": false,
     "tableResultSettingsMap": {},
     "title": ""
    }
   },
   "outputs": [],
   "source": [
    "# 학습 완료 후\n",
    "booster = xgb_model.stages[-1].get_booster()  # 파이프라인 마지막 스테이지가 XGBoost라면\n",
    "\n",
    "# 중요도 딕셔너리 반환\n",
    "importances = booster.get_score(importance_type='weight')  # 'gain', 'cover' 등도 가능\n",
    "\n",
    "# 중요도 순으로 정렬\n",
    "sorted_importances = sorted(importances.items(), key=lambda x: x[1], reverse=True)\n",
    "for feat, score in sorted_importances:\n",
    "    print(f\"{feat}: {score}\")"
   ]
  },
  {
   "cell_type": "code",
   "execution_count": 0,
   "metadata": {
    "application/vnd.databricks.v1+cell": {
     "cellMetadata": {
      "byteLimit": 2048000,
      "rowLimit": 10000
     },
     "inputWidgets": {},
     "nuid": "d893cf3c-32d5-4ba6-852c-8bf38055442a",
     "showTitle": false,
     "tableResultSettingsMap": {},
     "title": ""
    }
   },
   "outputs": [],
   "source": [
    "for i, col in enumerate(feature_cols):\n",
    "    print(f\"f{i}: {col}\")"
   ]
  },
  {
   "cell_type": "code",
   "execution_count": 0,
   "metadata": {
    "application/vnd.databricks.v1+cell": {
     "cellMetadata": {
      "byteLimit": 2048000,
      "rowLimit": 10000
     },
     "inputWidgets": {},
     "nuid": "cc2012ff-93e4-4d86-9796-139ddfde15ec",
     "showTitle": false,
     "tableResultSettingsMap": {},
     "title": ""
    }
   },
   "outputs": [],
   "source": [
    "predicted_xg = xgb_model.transform(test_df)"
   ]
  },
  {
   "cell_type": "code",
   "execution_count": 0,
   "metadata": {
    "application/vnd.databricks.v1+cell": {
     "cellMetadata": {
      "byteLimit": 2048000,
      "rowLimit": 10000
     },
     "inputWidgets": {},
     "nuid": "82d19b3b-1515-47f1-b3f2-a35d7b1fbdec",
     "showTitle": false,
     "tableResultSettingsMap": {},
     "title": ""
    }
   },
   "outputs": [],
   "source": [
    "predicted_xg = predicted_xg.drop(\"투자위험등급\") "
   ]
  },
  {
   "cell_type": "code",
   "execution_count": 0,
   "metadata": {
    "application/vnd.databricks.v1+cell": {
     "cellMetadata": {
      "byteLimit": 2048000,
      "rowLimit": 10000
     },
     "inputWidgets": {},
     "nuid": "768f49f9-d2b4-432b-b467-267775f3acf3",
     "showTitle": false,
     "tableResultSettingsMap": {},
     "title": ""
    }
   },
   "outputs": [],
   "source": [
    "display(predicted_xg)"
   ]
  },
  {
   "cell_type": "code",
   "execution_count": 0,
   "metadata": {
    "application/vnd.databricks.v1+cell": {
     "cellMetadata": {
      "byteLimit": 2048000,
      "rowLimit": 10000
     },
     "inputWidgets": {},
     "nuid": "12171bdb-0744-4945-ae33-03da5e8676ae",
     "showTitle": false,
     "tableResultSettingsMap": {},
     "title": ""
    }
   },
   "outputs": [],
   "source": [
    "from pyspark.sql.functions import col\n",
    "\n",
    "predicted_xg = predicted_xg.withColumn(\n",
    "    \"투자위험등급\",\n",
    "    (col(\"pred_투자위험등급\") + 1).cast(\"double\")\n",
    ")"
   ]
  },
  {
   "cell_type": "code",
   "execution_count": 0,
   "metadata": {
    "application/vnd.databricks.v1+cell": {
     "cellMetadata": {
      "byteLimit": 2048000,
      "rowLimit": 10000
     },
     "inputWidgets": {},
     "nuid": "dd1dc33b-e24e-41f9-a443-9236fc1780d4",
     "showTitle": false,
     "tableResultSettingsMap": {},
     "title": ""
    }
   },
   "outputs": [],
   "source": [
    "predicted_xg = predicted_xg.select(train_df.columns)"
   ]
  },
  {
   "cell_type": "code",
   "execution_count": 0,
   "metadata": {
    "application/vnd.databricks.v1+cell": {
     "cellMetadata": {
      "byteLimit": 2048000,
      "rowLimit": 10000
     },
     "inputWidgets": {},
     "nuid": "c63ca098-b23a-478a-8f95-5b7c8f047b22",
     "showTitle": false,
     "tableResultSettingsMap": {},
     "title": ""
    }
   },
   "outputs": [],
   "source": [
    "filled_df = train_df.union(predicted_xg) "
   ]
  },
  {
   "cell_type": "code",
   "execution_count": 0,
   "metadata": {
    "application/vnd.databricks.v1+cell": {
     "cellMetadata": {
      "byteLimit": 2048000,
      "rowLimit": 10000
     },
     "inputWidgets": {},
     "nuid": "f5631235-5cf6-4304-9bda-204f8422980b",
     "showTitle": false,
     "tableResultSettingsMap": {},
     "title": ""
    }
   },
   "outputs": [],
   "source": [
    "df_final.count()"
   ]
  },
  {
   "cell_type": "code",
   "execution_count": 0,
   "metadata": {
    "application/vnd.databricks.v1+cell": {
     "cellMetadata": {
      "byteLimit": 2048000,
      "rowLimit": 10000
     },
     "inputWidgets": {},
     "nuid": "f346df06-9035-4725-9f5e-b659b1e41d74",
     "showTitle": false,
     "tableResultSettingsMap": {},
     "title": ""
    }
   },
   "outputs": [],
   "source": [
    "filled_df.count()"
   ]
  },
  {
   "cell_type": "code",
   "execution_count": 0,
   "metadata": {
    "application/vnd.databricks.v1+cell": {
     "cellMetadata": {
      "byteLimit": 2048000,
      "rowLimit": 10000
     },
     "inputWidgets": {},
     "nuid": "aeaf6e93-afa3-46ca-91bf-006c42d4f466",
     "showTitle": false,
     "tableResultSettingsMap": {},
     "title": ""
    }
   },
   "outputs": [],
   "source": [
    "filled_df.groupBy(\"투자위험등급\").count().orderBy(\"count\", ascending=False).show()"
   ]
  },
  {
   "cell_type": "code",
   "execution_count": 0,
   "metadata": {
    "application/vnd.databricks.v1+cell": {
     "cellMetadata": {
      "byteLimit": 2048000,
      "rowLimit": 10000
     },
     "inputWidgets": {},
     "nuid": "6291f6e5-7575-40db-b916-d1442fe765d4",
     "showTitle": false,
     "tableResultSettingsMap": {},
     "title": ""
    }
   },
   "outputs": [],
   "source": [
    "filled_df.columns"
   ]
  },
  {
   "cell_type": "markdown",
   "metadata": {
    "application/vnd.databricks.v1+cell": {
     "cellMetadata": {
      "byteLimit": 2048000,
      "rowLimit": 10000
     },
     "inputWidgets": {},
     "nuid": "e13020af-06dd-48f3-80c0-23f77a98022a",
     "showTitle": false,
     "tableResultSettingsMap": {},
     "title": ""
    }
   },
   "source": [
    "### 문득 raw에 대해 의문이 들어 보다가 종합등급, 위험등급이라는 컬럼이 있다는 것을 '깨'달았다...."
   ]
  },
  {
   "cell_type": "markdown",
   "metadata": {
    "application/vnd.databricks.v1+cell": {
     "cellMetadata": {
      "byteLimit": 2048000,
      "rowLimit": 10000
     },
     "inputWidgets": {},
     "nuid": "170fcf86-c674-4d79-bbdd-ce09ce4d7059",
     "showTitle": false,
     "tableResultSettingsMap": {},
     "title": ""
    }
   },
   "source": [
    "해봤는데 판매위험등급이 0(이상치 혹은 결측치)일때 [\"MaximumDrawDown_1년\"\"펀드수정샤프(연환산)_1년\",\"펀드표준편차(연환산)_1년\"]에서 이상치가 있는 행은 1500개,\n",
    "\n",
    "투자위험등급이 0(이상치 혹은 결측치)일때 [\"MaximumDrawDown_1년\"\"펀드수정샤프(연환산)_1년\",\"펀드표준편차(연환산)_1년\"]에서 이상치가 있는 행은 212개였다.\n"
   ]
  },
  {
   "cell_type": "markdown",
   "metadata": {
    "application/vnd.databricks.v1+cell": {
     "cellMetadata": {
      "byteLimit": 2048000,
      "rowLimit": 10000
     },
     "inputWidgets": {},
     "nuid": "3514f2fe-9071-4bea-b8a8-c2969a8a3974",
     "showTitle": false,
     "tableResultSettingsMap": {},
     "title": ""
    }
   },
   "source": [
    "둘의 개념적인 차이점은 투자위험등급은 \"상품 자체의 위험\", 판매위험등급은 \"판매사가 투자자 보호 관점에서 산정한 위험\"이기에 어느것을 사용해도 큰 위험은 없다고 느꼈다."
   ]
  },
  {
   "cell_type": "markdown",
   "metadata": {
    "application/vnd.databricks.v1+cell": {
     "cellMetadata": {
      "byteLimit": 2048000,
      "rowLimit": 10000
     },
     "inputWidgets": {},
     "nuid": "0b903695-c5b6-4369-b3bd-cbb299d5d6f9",
     "showTitle": false,
     "tableResultSettingsMap": {},
     "title": ""
    }
   },
   "source": [
    "그래서 아예 위험도컬럼을 "
   ]
  },
  {
   "cell_type": "code",
   "execution_count": 0,
   "metadata": {
    "application/vnd.databricks.v1+cell": {
     "cellMetadata": {
      "byteLimit": 2048000,
      "rowLimit": 10000
     },
     "inputWidgets": {},
     "nuid": "c4cfe584-8e79-471b-8547-a9aa890ab17c",
     "showTitle": false,
     "tableResultSettingsMap": {},
     "title": ""
    }
   },
   "outputs": [],
   "source": [
    "from pyspark.sql.functions import col\n",
    "\n",
    "# 유니크 값과 개수 집계\n",
    "unique_counts = (\n",
    "    df_selected.groupBy(\"투자위험등급\")\n",
    "    .count()\n",
    "    .orderBy(\"투자위험등급\")\n",
    ")\n",
    "\n",
    "unique_counts.show()"
   ]
  },
  {
   "cell_type": "markdown",
   "metadata": {
    "application/vnd.databricks.v1+cell": {
     "cellMetadata": {
      "byteLimit": 2048000,
      "rowLimit": 10000
     },
     "inputWidgets": {},
     "nuid": "7a9d2954-e8a9-4c18-badf-7aae3a69eb1d",
     "showTitle": false,
     "tableResultSettingsMap": {},
     "title": ""
    }
   },
   "source": [
    "## 짠 데이터 구조대로 데이터프레임 정규화하기"
   ]
  },
  {
   "cell_type": "markdown",
   "metadata": {
    "application/vnd.databricks.v1+cell": {
     "cellMetadata": {
      "byteLimit": 2048000,
      "rowLimit": 10000
     },
     "inputWidgets": {},
     "nuid": "83b78bf1-737f-4b21-b476-cc806e21b39c",
     "showTitle": false,
     "tableResultSettingsMap": {},
     "title": ""
    }
   },
   "source": [
    "## 1. 펀드 기본 정보 테이블 (`funds_info`)\n",
    "\n",
    "| 제목 | 1열 | 2열 |\n",
    "| --- | --- | --- |\n",
    "| 컬럼명 | 타입 | 설명 |\n",
    "| `펀드코드` | STRING (PK) | 펀드 고유 식별자 |\n",
    "| `펀드명` | STRING | 펀드 이름 |\n",
    "| `대표펀드유무` | BOOLEAN | 대표 펀드 여부 |\n",
    "| `설정일` | DATE | 펀드 설정일 |\n",
    "| `운용사명` | STRING (FK) | 운용사 테이블 참조 |\n",
    "| `투자전략` | STRING | 텍스트 설명 |\n",
    "| `펀드키워드` | STRING | 태그, 키워드 등 |\n",
    "\n",
    "---\n",
    "\n",
    "## 2. 유형 분류 테이블 (`fund_types`)\n",
    "\n",
    "| 제목 | 1열 | 2열 |\n",
    "| --- | --- | --- |\n",
    "| 컬럼명 | 타입 | 설명 |\n",
    "| 펀드코드 | STRING(FK) |  |\n",
    "| `대유형` | STRING  |  |\n",
    "| `중유형` | STRING  |  |\n",
    "| `소유형` | STRING  |  |\n",
    "\n",
    "> 중유형, 소유형은 각각 대유형, 중유형에 종속되므로 정규화 시 상위키를 FK로 포함시켜도 됨\n",
    "> \n",
    "\n",
    "---\n",
    "\n",
    "## 3. 성과 지표 테이블 (`fund_performance`)\n",
    "\n",
    "| 제목 | 1열 | 2열 |\n",
    "| --- | --- | --- |\n",
    "| 컬럼명 | 타입 | 설명 |\n",
    "| `펀드코드` | STRING (FK) |  |\n",
    "| `펀드성과정보_1년` | DOUBLE |  |\n",
    "| `펀드표준편차(연환산)_1년` | DOUBLE |  |\n",
    "| `펀드수정샤프(연환산)_1년` | DOUBLE |  |\n",
    "| `MaximumDrawDown_1년` | DOUBLE |  |\n",
    "| `NetCashFlow(펀드자금흐름)_1년` | DOUBLE |  |\n",
    "| `순자산` | FLOAT |  |\n",
    "\n",
    "---\n",
    "\n",
    "## 4. 랭킹 테이블 (`fund_rank`)\n",
    "\n",
    "| 제목 | 1열 | 2열 |\n",
    "| --- | --- | --- |\n",
    "| 컬럼명 | 타입 | 설명 |\n",
    "| `펀드코드` | STRING (FK) |  |\n",
    "| `수익률점수` | DOUBLE |  |\n",
    "| `자금유입점수` | DOUBLE |  |\n",
    "| `수수료점수` | DOUBLE |  |\n",
    "| `최종점수` | DOUBLE |  |\n",
    "| `추천랭킹` | INT |  |\n",
    "\n",
    "## 5. 수수료/비용 테이블 (`fund_fees`)\n",
    "\n",
    "| 컬럼명 | 타입 |\n",
    "| --- | --- |\n",
    "| `펀드코드` | STRING (FK) |\n",
    "| `운용보수` | DOUBLE |\n",
    "| `판매보수` | DOUBLE |\n",
    "| `선취수수료` | DOUBLE |\n",
    "| `후취수수료` | DOUBLE |\n",
    "\n",
    "---\n",
    "\n",
    "## 6. 테마/성격 테이블 (`fund_tags`)\n",
    "\n",
    "| 컬럼명 | 타입 | 설명 |\n",
    "| --- | --- | --- |\n",
    "| `펀드코드` | STRING (FK) |  |\n",
    "| `가치주` | FLOAT |  |\n",
    "| `성장주` | FLOAT |  |\n",
    "| `중소형주` | FLOAT |  |\n",
    "| `글로벌` | FLOAT |  |\n",
    "| `자산배분` | FLOAT |  |\n",
    "| `4차산업` | FLOAT |  |\n",
    "| `ESG(사회책임투자형)` | FLOAT |  |\n",
    "| `배당주` | FLOAT |  |\n",
    "| `FoFs` | FLOAT |  |\n",
    "| `퇴직연금` | FLOAT |  |\n",
    "| `고난도금융상품` | FLOAT |  |\n",
    "| `절대수익추구` | FLOAT |  |\n",
    "| `레버리지` | FLOAT |  |\n",
    "| `퀀트` | FLOAT |  |\n",
    "\n",
    "---\n",
    "\n",
    "## 7. 위험등급 테이블 (`fund_risk_grades`)\n",
    "\n",
    "| 컬럼명 | 타입 |\n",
    "| --- | --- |\n",
    "| `펀드코드` | STRING (FK) |\n",
    "| `투자위험등급` | DOUBLE |\n",
    "| `판매위험등급` | DOUBLE |"
   ]
  },
  {
   "cell_type": "code",
   "execution_count": 0,
   "metadata": {
    "application/vnd.databricks.v1+cell": {
     "cellMetadata": {
      "byteLimit": 2048000,
      "rowLimit": 10000
     },
     "inputWidgets": {},
     "nuid": "15be656b-e245-4b25-b5ea-d99aa797cf19",
     "showTitle": false,
     "tableResultSettingsMap": {},
     "title": ""
    }
   },
   "outputs": [],
   "source": [
    "# 컬럼명 매핑 정의\n",
    "perf_column_map = {\n",
    "    \"펀드표준편차(연환산)_1년\": \"펀드표준편차연환산_1년\",\n",
    "    \"펀드수정샤프(연환산)_1년\": \"펀드수정샤프연환산_1년\",\n",
    "    \"NetCashFlow(펀드자금흐름)_1년\": \"NetCashFlow펀드자금흐름_1년\",\n",
    "    \"ESG(사회책임투자형)\":\"ESG\"\n",
    "}\n",
    "\n",
    "# 컬럼명 변경\n",
    "for old_col, new_col in perf_column_map.items():\n",
    "    filled_df = filled_df.withColumnRenamed(old_col, new_col)\n"
   ]
  },
  {
   "cell_type": "code",
   "execution_count": 0,
   "metadata": {
    "application/vnd.databricks.v1+cell": {
     "cellMetadata": {
      "byteLimit": 2048000,
      "rowLimit": 10000
     },
     "inputWidgets": {},
     "nuid": "4b8979e3-ddad-49b0-92fb-7f4e2e7c7b24",
     "showTitle": false,
     "tableResultSettingsMap": {},
     "title": ""
    }
   },
   "outputs": [],
   "source": [
    "spark.sql(\"CREATE DATABASE IF NOT EXISTS funds_data\")\n"
   ]
  },
  {
   "cell_type": "code",
   "execution_count": 0,
   "metadata": {
    "application/vnd.databricks.v1+cell": {
     "cellMetadata": {
      "byteLimit": 2048000,
      "rowLimit": 10000
     },
     "inputWidgets": {},
     "nuid": "a44555ab-9f2e-49a4-8025-58aa1a27403c",
     "showTitle": false,
     "tableResultSettingsMap": {},
     "title": ""
    }
   },
   "outputs": [],
   "source": [
    "def save_table(df, table_name):\n",
    "    full_table_name = f\"funds_data.{table_name}\"\n",
    "    df.write.mode(\"overwrite\").saveAsTable(full_table_name)\n",
    "    print(f\"Saved: {full_table_name}\")\n"
   ]
  },
  {
   "cell_type": "code",
   "execution_count": 0,
   "metadata": {
    "application/vnd.databricks.v1+cell": {
     "cellMetadata": {
      "byteLimit": 2048000,
      "rowLimit": 10000
     },
     "inputWidgets": {},
     "nuid": "a78f8810-ae65-4d70-829a-28ec31a73eb5",
     "showTitle": false,
     "tableResultSettingsMap": {},
     "title": ""
    }
   },
   "outputs": [],
   "source": [
    "funds_df = filled_df.select(\n",
    "    \"펀드코드\", \"펀드명\", \"대표펀드유무\", \"설정일\", \"운용사명\", \"투자전략\", \"펀드키워드\"\n",
    ")\n",
    "\n",
    "save_table(funds_df, \"funds_info\")\n"
   ]
  },
  {
   "cell_type": "code",
   "execution_count": 0,
   "metadata": {
    "application/vnd.databricks.v1+cell": {
     "cellMetadata": {
      "byteLimit": 2048000,
      "rowLimit": 10000
     },
     "inputWidgets": {},
     "nuid": "4a11d3f2-8410-408d-bc0a-b785a2770413",
     "showTitle": false,
     "tableResultSettingsMap": {},
     "title": ""
    }
   },
   "outputs": [],
   "source": [
    "fund_types_df = filled_df.select(\n",
    "    \"펀드코드\", \"대유형\", \"중유형\", \"소유형\"\n",
    ")\n",
    "\n",
    "save_table(fund_types_df, \"fund_types\")\n"
   ]
  },
  {
   "cell_type": "code",
   "execution_count": 0,
   "metadata": {
    "application/vnd.databricks.v1+cell": {
     "cellMetadata": {
      "byteLimit": 2048000,
      "rowLimit": 10000
     },
     "inputWidgets": {},
     "nuid": "f090590c-3ddb-4ade-890f-6b84a36ad56d",
     "showTitle": false,
     "tableResultSettingsMap": {},
     "title": ""
    }
   },
   "outputs": [],
   "source": [
    "fund_perf_df = filled_df.select(\n",
    "    \"펀드코드\", \n",
    "    \"펀드성과정보_1년\", \n",
    "    \"펀드표준편차연환산_1년\", \n",
    "    \"펀드수정샤프연환산_1년\", \n",
    "    \"MaximumDrawDown_1년\", \n",
    "    \"NetCashFlow펀드자금흐름_1년\", \n",
    "    \"순자산\"\n",
    ")\n",
    "\n",
    "save_table(fund_perf_df, \"fund_performance\")\n"
   ]
  },
  {
   "cell_type": "code",
   "execution_count": 0,
   "metadata": {
    "application/vnd.databricks.v1+cell": {
     "cellMetadata": {
      "byteLimit": 2048000,
      "rowLimit": 10000
     },
     "inputWidgets": {},
     "nuid": "5da2dbab-bbe6-4c4d-8abe-6c3021ccec3c",
     "showTitle": false,
     "tableResultSettingsMap": {},
     "title": ""
    }
   },
   "outputs": [],
   "source": [
    "fund_rank_df = filled_df.select(\n",
    "    \"펀드코드\", \"수익률점수\", \"자금유입점수\", \"수수료점수\", \"최종점수\", \"추천랭킹\"\n",
    ")\n",
    "\n",
    "save_table(fund_rank_df, \"fund_rank\")\n"
   ]
  },
  {
   "cell_type": "code",
   "execution_count": 0,
   "metadata": {
    "application/vnd.databricks.v1+cell": {
     "cellMetadata": {
      "byteLimit": 2048000,
      "rowLimit": 10000
     },
     "inputWidgets": {},
     "nuid": "cff7ff96-86bc-483c-8fa8-a5ecb5c76990",
     "showTitle": false,
     "tableResultSettingsMap": {},
     "title": ""
    }
   },
   "outputs": [],
   "source": [
    "fund_fees_df = filled_df.select(\n",
    "    \"펀드코드\", \"운용보수\", \"판매보수\", \"선취수수료\", \"후취수수료\"\n",
    ")\n",
    "\n",
    "save_table(fund_fees_df, \"fund_fees\")\n"
   ]
  },
  {
   "cell_type": "code",
   "execution_count": 0,
   "metadata": {
    "application/vnd.databricks.v1+cell": {
     "cellMetadata": {
      "byteLimit": 2048000,
      "rowLimit": 10000
     },
     "inputWidgets": {},
     "nuid": "756f0092-d541-41e7-bad0-8a8255db5a9a",
     "showTitle": false,
     "tableResultSettingsMap": {},
     "title": ""
    }
   },
   "outputs": [],
   "source": [
    "fund_tags_df = filled_df.select(\n",
    "    \"펀드코드\", \"가치주\", \"성장주\", \"중소형주\", \"글로벌\", \"자산배분\", \n",
    "    \"4차산업\", \"ESG\", \"배당주\", \"FoFs\", \"퇴직연금\", \n",
    "    \"고난도금융상품\", \"절대수익추구\", \"레버리지\", \"퀀트\"\n",
    ")\n",
    "\n",
    "save_table(fund_tags_df, \"fund_tags\")\n"
   ]
  },
  {
   "cell_type": "code",
   "execution_count": 0,
   "metadata": {
    "application/vnd.databricks.v1+cell": {
     "cellMetadata": {
      "byteLimit": 2048000,
      "rowLimit": 10000
     },
     "inputWidgets": {},
     "nuid": "0ed995da-876c-471f-8f51-e1cba45375cf",
     "showTitle": false,
     "tableResultSettingsMap": {},
     "title": ""
    }
   },
   "outputs": [],
   "source": [
    "fund_risk_df = filled_df.select(\n",
    "    \"펀드코드\", \"투자위험등급\", \"판매위험등급\"\n",
    ")\n",
    "\n",
    "save_table(fund_risk_df, \"fund_risk_grades\")\n"
   ]
  },
  {
   "cell_type": "markdown",
   "metadata": {
    "application/vnd.databricks.v1+cell": {
     "cellMetadata": {
      "byteLimit": 2048000,
      "rowLimit": 10000
     },
     "inputWidgets": {},
     "nuid": "ba7b835e-c87e-4dcc-9f66-58717b81cad7",
     "showTitle": false,
     "tableResultSettingsMap": {},
     "title": ""
    }
   },
   "source": []
  }
 ],
 "metadata": {
  "application/vnd.databricks.v1+notebook": {
   "computePreferences": null,
   "dashboards": [],
   "environmentMetadata": {
    "base_environment": "",
    "environment_version": "2"
   },
   "inputWidgetPreferences": null,
   "language": "python",
   "notebookMetadata": {
    "mostRecentlyExecutedCommandWithImplicitDF": {
     "commandId": 6669881904968972,
     "dataframes": [
      "_sqldf"
     ]
    },
    "pythonIndentUnit": 4
   },
   "notebookName": "Analyzing_Fund_Test_ver1",
   "widgets": {}
  },
  "language_info": {
   "name": "python"
  }
 },
 "nbformat": 4,
 "nbformat_minor": 0
}
